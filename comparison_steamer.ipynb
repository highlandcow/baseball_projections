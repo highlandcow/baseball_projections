{
 "cells": [
  {
   "cell_type": "code",
   "execution_count": 44,
   "id": "3c873d93",
   "metadata": {},
   "outputs": [],
   "source": [
    "import pandas as pd\n",
    "import numpy as np\n",
    "import matplotlib.pyplot as plt\n",
    "%matplotlib inline"
   ]
  },
  {
   "cell_type": "code",
   "execution_count": 45,
   "id": "1a798ec5",
   "metadata": {},
   "outputs": [
    {
     "data": {
      "text/html": [
       "<div>\n",
       "<style scoped>\n",
       "    .dataframe tbody tr th:only-of-type {\n",
       "        vertical-align: middle;\n",
       "    }\n",
       "\n",
       "    .dataframe tbody tr th {\n",
       "        vertical-align: top;\n",
       "    }\n",
       "\n",
       "    .dataframe thead th {\n",
       "        text-align: right;\n",
       "    }\n",
       "</style>\n",
       "<table border=\"1\" class=\"dataframe\">\n",
       "  <thead>\n",
       "    <tr style=\"text-align: right;\">\n",
       "      <th></th>\n",
       "      <th>Season</th>\n",
       "      <th>pred_IP</th>\n",
       "      <th>pred_SOperIP</th>\n",
       "      <th>pred_BBperIP</th>\n",
       "      <th>pred_HperIP</th>\n",
       "      <th>pred_HBPperIP</th>\n",
       "      <th>pred_HRperIP</th>\n",
       "    </tr>\n",
       "    <tr>\n",
       "      <th>PlayerId</th>\n",
       "      <th></th>\n",
       "      <th></th>\n",
       "      <th></th>\n",
       "      <th></th>\n",
       "      <th></th>\n",
       "      <th></th>\n",
       "      <th></th>\n",
       "    </tr>\n",
       "  </thead>\n",
       "  <tbody>\n",
       "    <tr>\n",
       "      <th>2036</th>\n",
       "      <td>2024</td>\n",
       "      <td>100.403604</td>\n",
       "      <td>1.025530</td>\n",
       "      <td>0.235958</td>\n",
       "      <td>0.926092</td>\n",
       "      <td>0.026482</td>\n",
       "      <td>0.136111</td>\n",
       "    </tr>\n",
       "    <tr>\n",
       "      <th>2520</th>\n",
       "      <td>2024</td>\n",
       "      <td>141.213605</td>\n",
       "      <td>1.053602</td>\n",
       "      <td>0.338776</td>\n",
       "      <td>0.957939</td>\n",
       "      <td>0.048318</td>\n",
       "      <td>0.153695</td>\n",
       "    </tr>\n",
       "    <tr>\n",
       "      <th>3137</th>\n",
       "      <td>2024</td>\n",
       "      <td>149.041893</td>\n",
       "      <td>1.223670</td>\n",
       "      <td>0.244545</td>\n",
       "      <td>0.823117</td>\n",
       "      <td>0.046566</td>\n",
       "      <td>0.144209</td>\n",
       "    </tr>\n",
       "    <tr>\n",
       "      <th>4676</th>\n",
       "      <td>2024</td>\n",
       "      <td>119.193440</td>\n",
       "      <td>1.158940</td>\n",
       "      <td>0.405150</td>\n",
       "      <td>0.878174</td>\n",
       "      <td>0.080593</td>\n",
       "      <td>0.142263</td>\n",
       "    </tr>\n",
       "    <tr>\n",
       "      <th>6632</th>\n",
       "      <td>2024</td>\n",
       "      <td>70.565817</td>\n",
       "      <td>0.914658</td>\n",
       "      <td>0.388232</td>\n",
       "      <td>1.027637</td>\n",
       "      <td>0.047938</td>\n",
       "      <td>0.145456</td>\n",
       "    </tr>\n",
       "  </tbody>\n",
       "</table>\n",
       "</div>"
      ],
      "text/plain": [
       "          Season     pred_IP  pred_SOperIP  pred_BBperIP  pred_HperIP  \\\n",
       "PlayerId                                                                \n",
       "2036        2024  100.403604      1.025530      0.235958     0.926092   \n",
       "2520        2024  141.213605      1.053602      0.338776     0.957939   \n",
       "3137        2024  149.041893      1.223670      0.244545     0.823117   \n",
       "4676        2024  119.193440      1.158940      0.405150     0.878174   \n",
       "6632        2024   70.565817      0.914658      0.388232     1.027637   \n",
       "\n",
       "          pred_HBPperIP  pred_HRperIP  \n",
       "PlayerId                               \n",
       "2036           0.026482      0.136111  \n",
       "2520           0.048318      0.153695  \n",
       "3137           0.046566      0.144209  \n",
       "4676           0.080593      0.142263  \n",
       "6632           0.047938      0.145456  "
      ]
     },
     "execution_count": 45,
     "metadata": {},
     "output_type": "execute_result"
    }
   ],
   "source": [
    "# Read in my projections for 2024\n",
    "projections2024 = pd.read_csv(\"../pitching/projections2024.csv\", index_col=[\"PlayerId\"])\n",
    "projections2024.head() "
   ]
  },
  {
   "cell_type": "code",
   "execution_count": 46,
   "id": "b33e82a5",
   "metadata": {},
   "outputs": [
    {
     "data": {
      "text/html": [
       "<div>\n",
       "<style scoped>\n",
       "    .dataframe tbody tr th:only-of-type {\n",
       "        vertical-align: middle;\n",
       "    }\n",
       "\n",
       "    .dataframe tbody tr th {\n",
       "        vertical-align: top;\n",
       "    }\n",
       "\n",
       "    .dataframe thead th {\n",
       "        text-align: right;\n",
       "    }\n",
       "</style>\n",
       "<table border=\"1\" class=\"dataframe\">\n",
       "  <thead>\n",
       "    <tr style=\"text-align: right;\">\n",
       "      <th></th>\n",
       "      <th>IP</th>\n",
       "      <th>SO</th>\n",
       "      <th>BB</th>\n",
       "      <th>H</th>\n",
       "      <th>HBP</th>\n",
       "      <th>HR</th>\n",
       "    </tr>\n",
       "    <tr>\n",
       "      <th>PlayerId</th>\n",
       "      <th></th>\n",
       "      <th></th>\n",
       "      <th></th>\n",
       "      <th></th>\n",
       "      <th></th>\n",
       "      <th></th>\n",
       "    </tr>\n",
       "  </thead>\n",
       "  <tbody>\n",
       "    <tr>\n",
       "      <th>27498</th>\n",
       "      <td>184.801605</td>\n",
       "      <td>257.093903</td>\n",
       "      <td>62.133801</td>\n",
       "      <td>138.491394</td>\n",
       "      <td>7.8742</td>\n",
       "      <td>21.170050</td>\n",
       "    </tr>\n",
       "    <tr>\n",
       "      <th>10310</th>\n",
       "      <td>197.442093</td>\n",
       "      <td>198.574799</td>\n",
       "      <td>47.654400</td>\n",
       "      <td>179.694107</td>\n",
       "      <td>9.3533</td>\n",
       "      <td>23.934370</td>\n",
       "    </tr>\n",
       "    <tr>\n",
       "      <th>14107</th>\n",
       "      <td>193.297607</td>\n",
       "      <td>220.935104</td>\n",
       "      <td>51.723099</td>\n",
       "      <td>167.194397</td>\n",
       "      <td>5.1195</td>\n",
       "      <td>23.732649</td>\n",
       "    </tr>\n",
       "    <tr>\n",
       "      <th>16149</th>\n",
       "      <td>195.106705</td>\n",
       "      <td>200.482803</td>\n",
       "      <td>44.563202</td>\n",
       "      <td>182.909607</td>\n",
       "      <td>6.8162</td>\n",
       "      <td>27.748508</td>\n",
       "    </tr>\n",
       "    <tr>\n",
       "      <th>17085</th>\n",
       "      <td>193.265900</td>\n",
       "      <td>213.517899</td>\n",
       "      <td>53.560001</td>\n",
       "      <td>171.682404</td>\n",
       "      <td>8.8140</td>\n",
       "      <td>22.118208</td>\n",
       "    </tr>\n",
       "  </tbody>\n",
       "</table>\n",
       "</div>"
      ],
      "text/plain": [
       "                  IP          SO         BB           H     HBP         HR\n",
       "PlayerId                                                                  \n",
       "27498     184.801605  257.093903  62.133801  138.491394  7.8742  21.170050\n",
       "10310     197.442093  198.574799  47.654400  179.694107  9.3533  23.934370\n",
       "14107     193.297607  220.935104  51.723099  167.194397  5.1195  23.732649\n",
       "16149     195.106705  200.482803  44.563202  182.909607  6.8162  27.748508\n",
       "17085     193.265900  213.517899  53.560001  171.682404  8.8140  22.118208"
      ]
     },
     "execution_count": 46,
     "metadata": {},
     "output_type": "execute_result"
    }
   ],
   "source": [
    "# Read in Steamer projections for 2024\n",
    "steamer = pd.read_csv(\"../data/pitching/fg-steamer600-pitching.csv\", index_col=[\"PlayerId\"])\n",
    "steamer[[\"IP\", \"SO\", \"BB\", \"H\", \"HBP\", \"HR\"]].head()"
   ]
  },
  {
   "cell_type": "code",
   "execution_count": 47,
   "id": "fbf31005",
   "metadata": {},
   "outputs": [
    {
     "data": {
      "text/html": [
       "<div>\n",
       "<style scoped>\n",
       "    .dataframe tbody tr th:only-of-type {\n",
       "        vertical-align: middle;\n",
       "    }\n",
       "\n",
       "    .dataframe tbody tr th {\n",
       "        vertical-align: top;\n",
       "    }\n",
       "\n",
       "    .dataframe thead th {\n",
       "        text-align: right;\n",
       "    }\n",
       "</style>\n",
       "<table border=\"1\" class=\"dataframe\">\n",
       "  <thead>\n",
       "    <tr style=\"text-align: right;\">\n",
       "      <th></th>\n",
       "      <th>IP</th>\n",
       "      <th>SOperIP</th>\n",
       "      <th>BBperIP</th>\n",
       "      <th>HperIP</th>\n",
       "      <th>HBPperIP</th>\n",
       "      <th>HRperIP</th>\n",
       "    </tr>\n",
       "    <tr>\n",
       "      <th>PlayerId</th>\n",
       "      <th></th>\n",
       "      <th></th>\n",
       "      <th></th>\n",
       "      <th></th>\n",
       "      <th></th>\n",
       "      <th></th>\n",
       "    </tr>\n",
       "  </thead>\n",
       "  <tbody>\n",
       "    <tr>\n",
       "      <th>27498</th>\n",
       "      <td>184.801605</td>\n",
       "      <td>1.391189</td>\n",
       "      <td>0.336219</td>\n",
       "      <td>0.749406</td>\n",
       "      <td>0.042609</td>\n",
       "      <td>0.114556</td>\n",
       "    </tr>\n",
       "    <tr>\n",
       "      <th>10310</th>\n",
       "      <td>197.442093</td>\n",
       "      <td>1.005737</td>\n",
       "      <td>0.241359</td>\n",
       "      <td>0.910110</td>\n",
       "      <td>0.047372</td>\n",
       "      <td>0.121222</td>\n",
       "    </tr>\n",
       "    <tr>\n",
       "      <th>14107</th>\n",
       "      <td>193.297607</td>\n",
       "      <td>1.142979</td>\n",
       "      <td>0.267583</td>\n",
       "      <td>0.864958</td>\n",
       "      <td>0.026485</td>\n",
       "      <td>0.122778</td>\n",
       "    </tr>\n",
       "    <tr>\n",
       "      <th>16149</th>\n",
       "      <td>195.106705</td>\n",
       "      <td>1.027555</td>\n",
       "      <td>0.228404</td>\n",
       "      <td>0.937485</td>\n",
       "      <td>0.034936</td>\n",
       "      <td>0.142222</td>\n",
       "    </tr>\n",
       "    <tr>\n",
       "      <th>17085</th>\n",
       "      <td>193.265900</td>\n",
       "      <td>1.104788</td>\n",
       "      <td>0.277131</td>\n",
       "      <td>0.888322</td>\n",
       "      <td>0.045606</td>\n",
       "      <td>0.114444</td>\n",
       "    </tr>\n",
       "    <tr>\n",
       "      <th>...</th>\n",
       "      <td>...</td>\n",
       "      <td>...</td>\n",
       "      <td>...</td>\n",
       "      <td>...</td>\n",
       "      <td>...</td>\n",
       "      <td>...</td>\n",
       "    </tr>\n",
       "    <tr>\n",
       "      <th>sa3016025</th>\n",
       "      <td>1.000000</td>\n",
       "      <td>0.498400</td>\n",
       "      <td>0.975400</td>\n",
       "      <td>1.192400</td>\n",
       "      <td>0.054500</td>\n",
       "      <td>0.193444</td>\n",
       "    </tr>\n",
       "    <tr>\n",
       "      <th>sa3015462</th>\n",
       "      <td>1.000000</td>\n",
       "      <td>0.474900</td>\n",
       "      <td>0.935900</td>\n",
       "      <td>1.204900</td>\n",
       "      <td>0.057100</td>\n",
       "      <td>0.196444</td>\n",
       "    </tr>\n",
       "    <tr>\n",
       "      <th>sa3011441</th>\n",
       "      <td>1.000000</td>\n",
       "      <td>0.474100</td>\n",
       "      <td>0.918000</td>\n",
       "      <td>1.210800</td>\n",
       "      <td>0.055800</td>\n",
       "      <td>0.200444</td>\n",
       "    </tr>\n",
       "    <tr>\n",
       "      <th>19268</th>\n",
       "      <td>26.909300</td>\n",
       "      <td>0.766675</td>\n",
       "      <td>0.480908</td>\n",
       "      <td>1.075970</td>\n",
       "      <td>0.056869</td>\n",
       "      <td>0.188222</td>\n",
       "    </tr>\n",
       "    <tr>\n",
       "      <th>6895</th>\n",
       "      <td>77.543198</td>\n",
       "      <td>0.804036</td>\n",
       "      <td>0.389937</td>\n",
       "      <td>1.061464</td>\n",
       "      <td>0.050375</td>\n",
       "      <td>0.174222</td>\n",
       "    </tr>\n",
       "  </tbody>\n",
       "</table>\n",
       "<p>1772 rows × 6 columns</p>\n",
       "</div>"
      ],
      "text/plain": [
       "                   IP   SOperIP   BBperIP    HperIP  HBPperIP   HRperIP\n",
       "PlayerId                                                               \n",
       "27498      184.801605  1.391189  0.336219  0.749406  0.042609  0.114556\n",
       "10310      197.442093  1.005737  0.241359  0.910110  0.047372  0.121222\n",
       "14107      193.297607  1.142979  0.267583  0.864958  0.026485  0.122778\n",
       "16149      195.106705  1.027555  0.228404  0.937485  0.034936  0.142222\n",
       "17085      193.265900  1.104788  0.277131  0.888322  0.045606  0.114444\n",
       "...               ...       ...       ...       ...       ...       ...\n",
       "sa3016025    1.000000  0.498400  0.975400  1.192400  0.054500  0.193444\n",
       "sa3015462    1.000000  0.474900  0.935900  1.204900  0.057100  0.196444\n",
       "sa3011441    1.000000  0.474100  0.918000  1.210800  0.055800  0.200444\n",
       "19268       26.909300  0.766675  0.480908  1.075970  0.056869  0.188222\n",
       "6895        77.543198  0.804036  0.389937  1.061464  0.050375  0.174222\n",
       "\n",
       "[1772 rows x 6 columns]"
      ]
     },
     "execution_count": 47,
     "metadata": {},
     "output_type": "execute_result"
    }
   ],
   "source": [
    "steamer[\"SOperIP\"] = steamer[\"SO\"] / steamer[\"IP\"]\n",
    "steamer[\"BBperIP\"] = steamer[\"BB\"] / steamer[\"IP\"]\n",
    "steamer[\"HperIP\"] = steamer[\"H\"] / steamer[\"IP\"]\n",
    "steamer[\"HBPperIP\"] = steamer[\"HBP\"] / steamer[\"IP\"]\n",
    "steamer[\"HRperIP\"] = steamer[\"HR\"] / steamer[\"IP\"]\n",
    "\n",
    "steamer[[\"IP\", \"SOperIP\", \"BBperIP\", \"HperIP\", \"HBPperIP\", \"HRperIP\"]]"
   ]
  },
  {
   "cell_type": "code",
   "execution_count": 48,
   "id": "75071b98",
   "metadata": {},
   "outputs": [],
   "source": [
    "# Get actual data for comparison\n",
    "actuals = pd.read_csv(\"../data/pitching/fg-pitching-standard+age.csv\", index_col=[\"PlayerId\", \"Season\"])\n",
    "actuals[\"SOperIP\"] = actuals[\"SO\"] / actuals[\"IP\"]\n",
    "actuals[\"HperIP\"] = actuals[\"H\"] / actuals[\"IP\"]\n",
    "actuals[\"BBperIP\"] = actuals[\"BB\"] / actuals[\"IP\"]\n",
    "actuals[\"HBPperIP\"] = actuals[\"HBP\"] / actuals[\"IP\"]\n",
    "actuals[\"HRperIP\"] = actuals[\"HR\"] / actuals[\"IP\"]"
   ]
  },
  {
   "cell_type": "code",
   "execution_count": 49,
   "id": "8361c903",
   "metadata": {},
   "outputs": [],
   "source": [
    "# Drop instances where the PlayerId is not an integer\n",
    "steamer = steamer[~steamer.index.str.startswith(('sa'))]\n",
    "\n",
    "# Set index type to integer\n",
    "steamer.index = steamer.index.astype(int)"
   ]
  },
  {
   "cell_type": "code",
   "execution_count": 50,
   "id": "070d8995",
   "metadata": {},
   "outputs": [
    {
     "data": {
      "text/html": [
       "<div>\n",
       "<style scoped>\n",
       "    .dataframe tbody tr th:only-of-type {\n",
       "        vertical-align: middle;\n",
       "    }\n",
       "\n",
       "    .dataframe tbody tr th {\n",
       "        vertical-align: top;\n",
       "    }\n",
       "\n",
       "    .dataframe thead th {\n",
       "        text-align: right;\n",
       "    }\n",
       "</style>\n",
       "<table border=\"1\" class=\"dataframe\">\n",
       "  <thead>\n",
       "    <tr style=\"text-align: right;\">\n",
       "      <th></th>\n",
       "      <th>steamer_IP</th>\n",
       "      <th>steamer_SOperIP</th>\n",
       "      <th>steamer_BBperIP</th>\n",
       "      <th>steamer_HperIP</th>\n",
       "      <th>steamer_HBPperIP</th>\n",
       "      <th>steamer_HRperIP</th>\n",
       "      <th>Name</th>\n",
       "    </tr>\n",
       "    <tr>\n",
       "      <th>PlayerId</th>\n",
       "      <th></th>\n",
       "      <th></th>\n",
       "      <th></th>\n",
       "      <th></th>\n",
       "      <th></th>\n",
       "      <th></th>\n",
       "      <th></th>\n",
       "    </tr>\n",
       "  </thead>\n",
       "  <tbody>\n",
       "    <tr>\n",
       "      <th>27498</th>\n",
       "      <td>184.801605</td>\n",
       "      <td>1.391189</td>\n",
       "      <td>0.336219</td>\n",
       "      <td>0.749406</td>\n",
       "      <td>0.042609</td>\n",
       "      <td>0.114556</td>\n",
       "      <td>Spencer Strider</td>\n",
       "    </tr>\n",
       "    <tr>\n",
       "      <th>10310</th>\n",
       "      <td>197.442093</td>\n",
       "      <td>1.005737</td>\n",
       "      <td>0.241359</td>\n",
       "      <td>0.910110</td>\n",
       "      <td>0.047372</td>\n",
       "      <td>0.121222</td>\n",
       "      <td>Zack Wheeler</td>\n",
       "    </tr>\n",
       "    <tr>\n",
       "      <th>14107</th>\n",
       "      <td>193.297607</td>\n",
       "      <td>1.142979</td>\n",
       "      <td>0.267583</td>\n",
       "      <td>0.864958</td>\n",
       "      <td>0.026485</td>\n",
       "      <td>0.122778</td>\n",
       "      <td>Kevin Gausman</td>\n",
       "    </tr>\n",
       "    <tr>\n",
       "      <th>16149</th>\n",
       "      <td>195.106705</td>\n",
       "      <td>1.027555</td>\n",
       "      <td>0.228404</td>\n",
       "      <td>0.937485</td>\n",
       "      <td>0.034936</td>\n",
       "      <td>0.142222</td>\n",
       "      <td>Aaron Nola</td>\n",
       "    </tr>\n",
       "    <tr>\n",
       "      <th>17085</th>\n",
       "      <td>193.265900</td>\n",
       "      <td>1.104788</td>\n",
       "      <td>0.277131</td>\n",
       "      <td>0.888322</td>\n",
       "      <td>0.045606</td>\n",
       "      <td>0.114444</td>\n",
       "      <td>Pablo López</td>\n",
       "    </tr>\n",
       "    <tr>\n",
       "      <th>...</th>\n",
       "      <td>...</td>\n",
       "      <td>...</td>\n",
       "      <td>...</td>\n",
       "      <td>...</td>\n",
       "      <td>...</td>\n",
       "      <td>...</td>\n",
       "      <td>...</td>\n",
       "    </tr>\n",
       "    <tr>\n",
       "      <th>24203</th>\n",
       "      <td>1.000000</td>\n",
       "      <td>0.690100</td>\n",
       "      <td>0.728000</td>\n",
       "      <td>1.072200</td>\n",
       "      <td>0.059600</td>\n",
       "      <td>0.139778</td>\n",
       "      <td>Luis Peralta</td>\n",
       "    </tr>\n",
       "    <tr>\n",
       "      <th>26944</th>\n",
       "      <td>1.000000</td>\n",
       "      <td>0.636700</td>\n",
       "      <td>0.599800</td>\n",
       "      <td>1.158100</td>\n",
       "      <td>0.050600</td>\n",
       "      <td>0.197444</td>\n",
       "      <td>Edgardo Henriquez</td>\n",
       "    </tr>\n",
       "    <tr>\n",
       "      <th>20277</th>\n",
       "      <td>9.005000</td>\n",
       "      <td>0.902565</td>\n",
       "      <td>0.471027</td>\n",
       "      <td>0.986752</td>\n",
       "      <td>0.049317</td>\n",
       "      <td>0.180000</td>\n",
       "      <td>Cory Abbott</td>\n",
       "    </tr>\n",
       "    <tr>\n",
       "      <th>19268</th>\n",
       "      <td>26.909300</td>\n",
       "      <td>0.766675</td>\n",
       "      <td>0.480908</td>\n",
       "      <td>1.075970</td>\n",
       "      <td>0.056869</td>\n",
       "      <td>0.188222</td>\n",
       "      <td>Justin Dunn</td>\n",
       "    </tr>\n",
       "    <tr>\n",
       "      <th>6895</th>\n",
       "      <td>77.543198</td>\n",
       "      <td>0.804036</td>\n",
       "      <td>0.389937</td>\n",
       "      <td>1.061464</td>\n",
       "      <td>0.050375</td>\n",
       "      <td>0.174222</td>\n",
       "      <td>Chase Anderson</td>\n",
       "    </tr>\n",
       "  </tbody>\n",
       "</table>\n",
       "<p>435 rows × 7 columns</p>\n",
       "</div>"
      ],
      "text/plain": [
       "          steamer_IP  steamer_SOperIP  steamer_BBperIP  steamer_HperIP  \\\n",
       "PlayerId                                                                 \n",
       "27498     184.801605         1.391189         0.336219        0.749406   \n",
       "10310     197.442093         1.005737         0.241359        0.910110   \n",
       "14107     193.297607         1.142979         0.267583        0.864958   \n",
       "16149     195.106705         1.027555         0.228404        0.937485   \n",
       "17085     193.265900         1.104788         0.277131        0.888322   \n",
       "...              ...              ...              ...             ...   \n",
       "24203       1.000000         0.690100         0.728000        1.072200   \n",
       "26944       1.000000         0.636700         0.599800        1.158100   \n",
       "20277       9.005000         0.902565         0.471027        0.986752   \n",
       "19268      26.909300         0.766675         0.480908        1.075970   \n",
       "6895       77.543198         0.804036         0.389937        1.061464   \n",
       "\n",
       "          steamer_HBPperIP  steamer_HRperIP               Name  \n",
       "PlayerId                                                        \n",
       "27498             0.042609         0.114556    Spencer Strider  \n",
       "10310             0.047372         0.121222       Zack Wheeler  \n",
       "14107             0.026485         0.122778      Kevin Gausman  \n",
       "16149             0.034936         0.142222         Aaron Nola  \n",
       "17085             0.045606         0.114444        Pablo López  \n",
       "...                    ...              ...                ...  \n",
       "24203             0.059600         0.139778       Luis Peralta  \n",
       "26944             0.050600         0.197444  Edgardo Henriquez  \n",
       "20277             0.049317         0.180000        Cory Abbott  \n",
       "19268             0.056869         0.188222        Justin Dunn  \n",
       "6895              0.050375         0.174222     Chase Anderson  \n",
       "\n",
       "[435 rows x 7 columns]"
      ]
     },
     "execution_count": 50,
     "metadata": {},
     "output_type": "execute_result"
    }
   ],
   "source": [
    "steamer = steamer[[\"IP\", \"SOperIP\", \"BBperIP\", \"HperIP\", \"HBPperIP\", \"HRperIP\", \"Name\"]]\n",
    "\n",
    "steamer.rename(columns={\"IP\":\"steamer_IP\", \"SOperIP\":\"steamer_SOperIP\", \"BBperIP\":\"steamer_BBperIP\", \"HperIP\":\"steamer_HperIP\", \"HBPperIP\":\"steamer_HBPperIP\", \"HRperIP\":\"steamer_HRperIP\"}, inplace=True)\n",
    "\n",
    "steamer"
   ]
  },
  {
   "cell_type": "code",
   "execution_count": 51,
   "id": "b760b39c",
   "metadata": {},
   "outputs": [
    {
     "data": {
      "text/html": [
       "<div>\n",
       "<style scoped>\n",
       "    .dataframe tbody tr th:only-of-type {\n",
       "        vertical-align: middle;\n",
       "    }\n",
       "\n",
       "    .dataframe tbody tr th {\n",
       "        vertical-align: top;\n",
       "    }\n",
       "\n",
       "    .dataframe thead th {\n",
       "        text-align: right;\n",
       "    }\n",
       "</style>\n",
       "<table border=\"1\" class=\"dataframe\">\n",
       "  <thead>\n",
       "    <tr style=\"text-align: right;\">\n",
       "      <th></th>\n",
       "      <th></th>\n",
       "      <th>actual_IP</th>\n",
       "      <th>actual_SOperIP</th>\n",
       "      <th>actual_BBperIP</th>\n",
       "      <th>actual_HperIP</th>\n",
       "      <th>actual_HBPperIP</th>\n",
       "      <th>actual_HRperIP</th>\n",
       "    </tr>\n",
       "    <tr>\n",
       "      <th>PlayerId</th>\n",
       "      <th>Season</th>\n",
       "      <th></th>\n",
       "      <th></th>\n",
       "      <th></th>\n",
       "      <th></th>\n",
       "      <th></th>\n",
       "      <th></th>\n",
       "    </tr>\n",
       "  </thead>\n",
       "  <tbody>\n",
       "    <tr>\n",
       "      <th>22267</th>\n",
       "      <th>2024</th>\n",
       "      <td>192.0</td>\n",
       "      <td>1.187500</td>\n",
       "      <td>0.182292</td>\n",
       "      <td>0.739583</td>\n",
       "      <td>0.046875</td>\n",
       "      <td>0.078125</td>\n",
       "    </tr>\n",
       "    <tr>\n",
       "      <th>10603</th>\n",
       "      <th>2024</th>\n",
       "      <td>177.2</td>\n",
       "      <td>1.269752</td>\n",
       "      <td>0.220090</td>\n",
       "      <td>0.795711</td>\n",
       "      <td>0.045147</td>\n",
       "      <td>0.050790</td>\n",
       "    </tr>\n",
       "    <tr>\n",
       "      <th>10310</th>\n",
       "      <th>2024</th>\n",
       "      <td>200.0</td>\n",
       "      <td>1.120000</td>\n",
       "      <td>0.260000</td>\n",
       "      <td>0.695000</td>\n",
       "      <td>0.040000</td>\n",
       "      <td>0.100000</td>\n",
       "    </tr>\n",
       "    <tr>\n",
       "      <th>18525</th>\n",
       "      <th>2024</th>\n",
       "      <td>189.1</td>\n",
       "      <td>1.184558</td>\n",
       "      <td>0.343733</td>\n",
       "      <td>0.724484</td>\n",
       "      <td>0.010576</td>\n",
       "      <td>0.095188</td>\n",
       "    </tr>\n",
       "    <tr>\n",
       "      <th>21846</th>\n",
       "      <th>2024</th>\n",
       "      <td>186.1</td>\n",
       "      <td>1.198280</td>\n",
       "      <td>0.360021</td>\n",
       "      <td>0.784524</td>\n",
       "      <td>0.032241</td>\n",
       "      <td>0.080602</td>\n",
       "    </tr>\n",
       "    <tr>\n",
       "      <th>...</th>\n",
       "      <th>...</th>\n",
       "      <td>...</td>\n",
       "      <td>...</td>\n",
       "      <td>...</td>\n",
       "      <td>...</td>\n",
       "      <td>...</td>\n",
       "      <td>...</td>\n",
       "    </tr>\n",
       "    <tr>\n",
       "      <th>19225</th>\n",
       "      <th>2024</th>\n",
       "      <td>23.2</td>\n",
       "      <td>0.560345</td>\n",
       "      <td>0.560345</td>\n",
       "      <td>1.120690</td>\n",
       "      <td>0.043103</td>\n",
       "      <td>0.172414</td>\n",
       "    </tr>\n",
       "    <tr>\n",
       "      <th>12272</th>\n",
       "      <th>2024</th>\n",
       "      <td>26.2</td>\n",
       "      <td>0.458015</td>\n",
       "      <td>0.305344</td>\n",
       "      <td>1.259542</td>\n",
       "      <td>0.038168</td>\n",
       "      <td>0.152672</td>\n",
       "    </tr>\n",
       "    <tr>\n",
       "      <th>20045</th>\n",
       "      <th>2024</th>\n",
       "      <td>21.0</td>\n",
       "      <td>0.571429</td>\n",
       "      <td>0.095238</td>\n",
       "      <td>0.428571</td>\n",
       "      <td>0.095238</td>\n",
       "      <td>0.000000</td>\n",
       "    </tr>\n",
       "    <tr>\n",
       "      <th>16408</th>\n",
       "      <th>2024</th>\n",
       "      <td>23.1</td>\n",
       "      <td>0.476190</td>\n",
       "      <td>0.562771</td>\n",
       "      <td>0.562771</td>\n",
       "      <td>0.129870</td>\n",
       "      <td>0.129870</td>\n",
       "    </tr>\n",
       "    <tr>\n",
       "      <th>30160</th>\n",
       "      <th>2024</th>\n",
       "      <td>20.2</td>\n",
       "      <td>0.445545</td>\n",
       "      <td>0.346535</td>\n",
       "      <td>0.940594</td>\n",
       "      <td>0.000000</td>\n",
       "      <td>0.000000</td>\n",
       "    </tr>\n",
       "  </tbody>\n",
       "</table>\n",
       "<p>541 rows × 6 columns</p>\n",
       "</div>"
      ],
      "text/plain": [
       "                 actual_IP  actual_SOperIP  actual_BBperIP  actual_HperIP  \\\n",
       "PlayerId Season                                                             \n",
       "22267    2024        192.0        1.187500        0.182292       0.739583   \n",
       "10603    2024        177.2        1.269752        0.220090       0.795711   \n",
       "10310    2024        200.0        1.120000        0.260000       0.695000   \n",
       "18525    2024        189.1        1.184558        0.343733       0.724484   \n",
       "21846    2024        186.1        1.198280        0.360021       0.784524   \n",
       "...                    ...             ...             ...            ...   \n",
       "19225    2024         23.2        0.560345        0.560345       1.120690   \n",
       "12272    2024         26.2        0.458015        0.305344       1.259542   \n",
       "20045    2024         21.0        0.571429        0.095238       0.428571   \n",
       "16408    2024         23.1        0.476190        0.562771       0.562771   \n",
       "30160    2024         20.2        0.445545        0.346535       0.940594   \n",
       "\n",
       "                 actual_HBPperIP  actual_HRperIP  \n",
       "PlayerId Season                                   \n",
       "22267    2024           0.046875        0.078125  \n",
       "10603    2024           0.045147        0.050790  \n",
       "10310    2024           0.040000        0.100000  \n",
       "18525    2024           0.010576        0.095188  \n",
       "21846    2024           0.032241        0.080602  \n",
       "...                          ...             ...  \n",
       "19225    2024           0.043103        0.172414  \n",
       "12272    2024           0.038168        0.152672  \n",
       "20045    2024           0.095238        0.000000  \n",
       "16408    2024           0.129870        0.129870  \n",
       "30160    2024           0.000000        0.000000  \n",
       "\n",
       "[541 rows x 6 columns]"
      ]
     },
     "execution_count": 51,
     "metadata": {},
     "output_type": "execute_result"
    }
   ],
   "source": [
    "actuals2024 = actuals[actuals.index.get_level_values(1) == 2024]\n",
    "actuals2024 = actuals2024[[\"IP\", \"SOperIP\", \"BBperIP\", \"HperIP\", \"HBPperIP\", \"HRperIP\"]]\n",
    "\n",
    "actuals2024.rename(columns={\"IP\":\"actual_IP\", \"SOperIP\":\"actual_SOperIP\", \"BBperIP\":\"actual_BBperIP\", \"HperIP\":\"actual_HperIP\", \"HBPperIP\":\"actual_HBPperIP\", \"HRperIP\":\"actual_HRperIP\" }, inplace=True)\n",
    "\n",
    "actuals2024"
   ]
  },
  {
   "cell_type": "code",
   "execution_count": 52,
   "id": "442969bf",
   "metadata": {},
   "outputs": [],
   "source": [
    "steamer_projections2024 = steamer.merge(projections2024, left_index=True, right_index=True).merge(actuals2024, left_index=True, right_index=True)"
   ]
  },
  {
   "cell_type": "code",
   "execution_count": 53,
   "id": "cccb4d36",
   "metadata": {},
   "outputs": [],
   "source": [
    "data = steamer_projections2024"
   ]
  },
  {
   "cell_type": "markdown",
   "id": "45c820ed",
   "metadata": {},
   "source": [
    "# IP"
   ]
  },
  {
   "cell_type": "code",
   "execution_count": 54,
   "id": "99381e8c",
   "metadata": {},
   "outputs": [
    {
     "data": {
      "text/plain": [
       "diff_pred2       40.930095\n",
       "diff_steamer2    37.701687\n",
       "dtype: object"
      ]
     },
     "execution_count": 54,
     "metadata": {},
     "output_type": "execute_result"
    }
   ],
   "source": [
    "innings_pitched = data[[\"actual_IP\", \"pred_IP\", \"steamer_IP\", \"Name\"]].copy()\n",
    "\n",
    "# Calc RMSE for players projected by both systems\n",
    "innings_pitched[\"diff_pred\"] = innings_pitched[\"pred_IP\"] - innings_pitched[\"actual_IP\"]\n",
    "innings_pitched[\"diff_steamer\"] = innings_pitched[\"steamer_IP\"] - innings_pitched[\"actual_IP\"]\n",
    "innings_pitched[\"diff_pred2\"] = np.sqrt(np.square(innings_pitched[\"diff_pred\"]))\n",
    "innings_pitched[\"diff_steamer2\"] = np.sqrt(np.square(innings_pitched[\"diff_steamer\"]))\n",
    "innings_pitched.sum()[[\"diff_pred2\",\"diff_steamer2\"]] / innings_pitched.shape[0]"
   ]
  },
  {
   "cell_type": "code",
   "execution_count": 55,
   "id": "b613815b",
   "metadata": {},
   "outputs": [
    {
     "data": {
      "text/plain": [
       "<Axes: >"
      ]
     },
     "execution_count": 55,
     "metadata": {},
     "output_type": "execute_result"
    },
    {
     "data": {
      "image/png": "[encoded data removed]",
      "text/plain": [
       "<Figure size 640x480 with 1 Axes>"
      ]
     },
     "metadata": {},
     "output_type": "display_data"
    }
   ],
   "source": [
    "innings_pitched[[\"actual_IP\", \"pred_IP\", \"steamer_IP\"]].boxplot()"
   ]
  },
  {
   "cell_type": "markdown",
   "id": "d0ebd768",
   "metadata": {},
   "source": [
    "# SO/IP"
   ]
  },
  {
   "cell_type": "code",
   "execution_count": 56,
   "id": "e949d5d1",
   "metadata": {},
   "outputs": [
    {
     "data": {
      "text/plain": [
       "<Axes: >"
      ]
     },
     "execution_count": 56,
     "metadata": {},
     "output_type": "execute_result"
    },
    {
     "data": {
      "image/png": "[encoded data removed]",
      "text/plain": [
       "<Figure size 640x480 with 1 Axes>"
      ]
     },
     "metadata": {},
     "output_type": "display_data"
    }
   ],
   "source": [
    "strikeouts = data[[\"actual_SOperIP\", \"pred_SOperIP\", \"steamer_SOperIP\", \"Name\"]].copy()\n",
    "strikeouts[[\"actual_SOperIP\", \"pred_SOperIP\", \"steamer_SOperIP\"]].boxplot()"
   ]
  },
  {
   "cell_type": "code",
   "execution_count": 57,
   "id": "6b610ea6",
   "metadata": {},
   "outputs": [
    {
     "data": {
      "text/plain": [
       "diff_pred2       0.098682\n",
       "diff_steamer2    0.096133\n",
       "dtype: object"
      ]
     },
     "execution_count": 57,
     "metadata": {},
     "output_type": "execute_result"
    }
   ],
   "source": [
    "# Calc RMSE for players projected by both systems\n",
    "strikeouts[\"diff_pred\"] = strikeouts[\"pred_SOperIP\"] - strikeouts[\"actual_SOperIP\"]\n",
    "strikeouts[\"diff_steamer\"] = strikeouts[\"steamer_SOperIP\"] - strikeouts[\"actual_SOperIP\"]\n",
    "strikeouts[\"diff_pred2\"] = np.sqrt(np.square(strikeouts[\"diff_pred\"]))\n",
    "strikeouts[\"diff_steamer2\"] = np.sqrt(np.square(strikeouts[\"diff_steamer\"]))\n",
    "strikeouts.sum()[[\"diff_pred2\",\"diff_steamer2\"]] / strikeouts.shape[0] "
   ]
  },
  {
   "cell_type": "markdown",
   "id": "940d5abe",
   "metadata": {},
   "source": [
    "# BB per IP"
   ]
  },
  {
   "cell_type": "code",
   "execution_count": 58,
   "id": "ff494896",
   "metadata": {},
   "outputs": [
    {
     "data": {
      "text/plain": [
       "<Axes: >"
      ]
     },
     "execution_count": 58,
     "metadata": {},
     "output_type": "execute_result"
    },
    {
     "data": {
      "image/png": "[encoded data removed]",
      "text/plain": [
       "<Figure size 640x480 with 1 Axes>"
      ]
     },
     "metadata": {},
     "output_type": "display_data"
    }
   ],
   "source": [
    "walks = data[[\"actual_BBperIP\", \"pred_BBperIP\", \"steamer_BBperIP\", \"Name\"]].copy()\n",
    "walks[[\"actual_BBperIP\", \"pred_BBperIP\", \"steamer_BBperIP\"]].boxplot()"
   ]
  },
  {
   "cell_type": "code",
   "execution_count": 59,
   "id": "65b0e5c1",
   "metadata": {},
   "outputs": [
    {
     "data": {
      "text/plain": [
       "diff_pred2       0.062073\n",
       "diff_steamer2     0.06711\n",
       "dtype: object"
      ]
     },
     "execution_count": 59,
     "metadata": {},
     "output_type": "execute_result"
    }
   ],
   "source": [
    "# Calc RMSE for players projected by both systems\n",
    "walks[\"diff_pred\"] = walks[\"pred_BBperIP\"] - walks[\"actual_BBperIP\"]\n",
    "walks[\"diff_steamer\"] = walks[\"steamer_BBperIP\"] - walks[\"actual_BBperIP\"]\n",
    "walks[\"diff_pred2\"] = np.sqrt(np.square(walks[\"diff_pred\"]))\n",
    "walks[\"diff_steamer2\"] = np.sqrt(np.square(walks[\"diff_steamer\"]))\n",
    "walks.sum()[[\"diff_pred2\",\"diff_steamer2\"]] / walks.shape[0] "
   ]
  },
  {
   "cell_type": "markdown",
   "id": "bc5a8ccd",
   "metadata": {},
   "source": [
    "# H/IP"
   ]
  },
  {
   "cell_type": "code",
   "execution_count": 60,
   "id": "a8c356e9",
   "metadata": {},
   "outputs": [
    {
     "data": {
      "text/plain": [
       "<Axes: >"
      ]
     },
     "execution_count": 60,
     "metadata": {},
     "output_type": "execute_result"
    },
    {
     "data": {
      "image/png": "[encoded data removed]",
      "text/plain": [
       "<Figure size 640x480 with 1 Axes>"
      ]
     },
     "metadata": {},
     "output_type": "display_data"
    }
   ],
   "source": [
    "hits = data[[\"actual_HperIP\", \"pred_HperIP\", \"steamer_HperIP\", \"Name\"]].copy()\n",
    "hits[[\"actual_HperIP\", \"pred_HperIP\", \"steamer_HperIP\"]].boxplot()"
   ]
  },
  {
   "cell_type": "code",
   "execution_count": 61,
   "id": "23f0c2b8",
   "metadata": {},
   "outputs": [
    {
     "data": {
      "text/plain": [
       "diff_pred2       0.097942\n",
       "diff_steamer2    0.114533\n",
       "dtype: object"
      ]
     },
     "execution_count": 61,
     "metadata": {},
     "output_type": "execute_result"
    }
   ],
   "source": [
    "# Calc RMSE for players projected by both systems\n",
    "hits[\"diff_pred\"] = hits[\"pred_HperIP\"] - hits[\"actual_HperIP\"]\n",
    "hits[\"diff_steamer\"] = hits[\"steamer_HperIP\"] - hits[\"actual_HperIP\"]\n",
    "hits[\"diff_pred2\"] = np.sqrt(np.square(hits[\"diff_pred\"]))\n",
    "hits[\"diff_steamer2\"] = np.sqrt(np.square(hits[\"diff_steamer\"]))\n",
    "hits.sum()[[\"diff_pred2\",\"diff_steamer2\"]] / hits.shape[0] "
   ]
  },
  {
   "cell_type": "markdown",
   "id": "cade4929",
   "metadata": {},
   "source": [
    "# HBP/IP"
   ]
  },
  {
   "cell_type": "code",
   "execution_count": 63,
   "id": "db599913",
   "metadata": {},
   "outputs": [
    {
     "data": {
      "text/plain": [
       "<Axes: >"
      ]
     },
     "execution_count": 63,
     "metadata": {},
     "output_type": "execute_result"
    },
    {
     "data": {
      "image/png": "[encoded data removed]",
      "text/plain": [
       "<Figure size 640x480 with 1 Axes>"
      ]
     },
     "metadata": {},
     "output_type": "display_data"
    }
   ],
   "source": [
    "hbp = data[[\"actual_HBPperIP\", \"pred_HBPperIP\", \"steamer_HBPperIP\", \"Name\"]].copy()\n",
    "hbp[[\"actual_HBPperIP\", \"pred_HBPperIP\", \"steamer_HBPperIP\"]].boxplot()"
   ]
  },
  {
   "cell_type": "code",
   "execution_count": 73,
   "id": "3dfe2cb0",
   "metadata": {},
   "outputs": [
    {
     "data": {
      "text/html": [
       "<div>\n",
       "<style scoped>\n",
       "    .dataframe tbody tr th:only-of-type {\n",
       "        vertical-align: middle;\n",
       "    }\n",
       "\n",
       "    .dataframe tbody tr th {\n",
       "        vertical-align: top;\n",
       "    }\n",
       "\n",
       "    .dataframe thead th {\n",
       "        text-align: right;\n",
       "    }\n",
       "</style>\n",
       "<table border=\"1\" class=\"dataframe\">\n",
       "  <thead>\n",
       "    <tr style=\"text-align: right;\">\n",
       "      <th></th>\n",
       "      <th></th>\n",
       "      <th>Name</th>\n",
       "      <th>actual_HBPperIP</th>\n",
       "    </tr>\n",
       "    <tr>\n",
       "      <th>PlayerId</th>\n",
       "      <th>Season</th>\n",
       "      <th></th>\n",
       "      <th></th>\n",
       "    </tr>\n",
       "  </thead>\n",
       "  <tbody>\n",
       "    <tr>\n",
       "      <th>26410</th>\n",
       "      <th>2024</th>\n",
       "      <td>Alek Manoah</td>\n",
       "      <td>0.165975</td>\n",
       "    </tr>\n",
       "    <tr>\n",
       "      <th>26378</th>\n",
       "      <th>2024</th>\n",
       "      <td>Nick Lodolo</td>\n",
       "      <td>0.156386</td>\n",
       "    </tr>\n",
       "    <tr>\n",
       "      <th>21844</th>\n",
       "      <th>2024</th>\n",
       "      <td>Braxton Garrett</td>\n",
       "      <td>0.135135</td>\n",
       "    </tr>\n",
       "    <tr>\n",
       "      <th>13781</th>\n",
       "      <th>2024</th>\n",
       "      <td>Alex Wood</td>\n",
       "      <td>0.127877</td>\n",
       "    </tr>\n",
       "    <tr>\n",
       "      <th>22182</th>\n",
       "      <th>2024</th>\n",
       "      <td>Hunter Greene</td>\n",
       "      <td>0.126582</td>\n",
       "    </tr>\n",
       "    <tr>\n",
       "      <th>...</th>\n",
       "      <th>...</th>\n",
       "      <td>...</td>\n",
       "      <td>...</td>\n",
       "    </tr>\n",
       "    <tr>\n",
       "      <th>20369</th>\n",
       "      <th>2024</th>\n",
       "      <td>Matt Manning</td>\n",
       "      <td>0.000000</td>\n",
       "    </tr>\n",
       "    <tr>\n",
       "      <th>27472</th>\n",
       "      <th>2024</th>\n",
       "      <td>Jared Shuster</td>\n",
       "      <td>0.000000</td>\n",
       "    </tr>\n",
       "    <tr>\n",
       "      <th>20778</th>\n",
       "      <th>2024</th>\n",
       "      <td>Cristopher Sánchez</td>\n",
       "      <td>0.000000</td>\n",
       "    </tr>\n",
       "    <tr>\n",
       "      <th>20009</th>\n",
       "      <th>2024</th>\n",
       "      <td>Kenny Rosenberg</td>\n",
       "      <td>0.000000</td>\n",
       "    </tr>\n",
       "    <tr>\n",
       "      <th>14374</th>\n",
       "      <th>2024</th>\n",
       "      <td>Tyler Glasnow</td>\n",
       "      <td>0.000000</td>\n",
       "    </tr>\n",
       "  </tbody>\n",
       "</table>\n",
       "<p>152 rows × 2 columns</p>\n",
       "</div>"
      ],
      "text/plain": [
       "                               Name  actual_HBPperIP\n",
       "PlayerId Season                                     \n",
       "26410    2024           Alek Manoah         0.165975\n",
       "26378    2024           Nick Lodolo         0.156386\n",
       "21844    2024       Braxton Garrett         0.135135\n",
       "13781    2024             Alex Wood         0.127877\n",
       "22182    2024         Hunter Greene         0.126582\n",
       "...                             ...              ...\n",
       "20369    2024          Matt Manning         0.000000\n",
       "27472    2024         Jared Shuster         0.000000\n",
       "20778    2024    Cristopher Sánchez         0.000000\n",
       "20009    2024       Kenny Rosenberg         0.000000\n",
       "14374    2024         Tyler Glasnow         0.000000\n",
       "\n",
       "[152 rows x 2 columns]"
      ]
     },
     "execution_count": 73,
     "metadata": {},
     "output_type": "execute_result"
    }
   ],
   "source": [
    "hbp[[\"Name\", \"actual_HBPperIP\"]].sort_values(by=\"actual_HBPperIP\", ascending=False)"
   ]
  },
  {
   "cell_type": "code",
   "execution_count": 75,
   "id": "8fb2ab10",
   "metadata": {},
   "outputs": [
    {
     "data": {
      "text/html": [
       "<div>\n",
       "<style scoped>\n",
       "    .dataframe tbody tr th:only-of-type {\n",
       "        vertical-align: middle;\n",
       "    }\n",
       "\n",
       "    .dataframe tbody tr th {\n",
       "        vertical-align: top;\n",
       "    }\n",
       "\n",
       "    .dataframe thead th {\n",
       "        text-align: right;\n",
       "    }\n",
       "</style>\n",
       "<table border=\"1\" class=\"dataframe\">\n",
       "  <thead>\n",
       "    <tr style=\"text-align: right;\">\n",
       "      <th></th>\n",
       "      <th></th>\n",
       "      <th>Name</th>\n",
       "      <th>pred_HBPperIP</th>\n",
       "    </tr>\n",
       "    <tr>\n",
       "      <th>PlayerId</th>\n",
       "      <th>Season</th>\n",
       "      <th></th>\n",
       "      <th></th>\n",
       "    </tr>\n",
       "  </thead>\n",
       "  <tbody>\n",
       "    <tr>\n",
       "      <th>26378</th>\n",
       "      <th>2024</th>\n",
       "      <td>Nick Lodolo</td>\n",
       "      <td>0.126331</td>\n",
       "    </tr>\n",
       "    <tr>\n",
       "      <th>26410</th>\n",
       "      <th>2024</th>\n",
       "      <td>Alek Manoah</td>\n",
       "      <td>0.086684</td>\n",
       "    </tr>\n",
       "    <tr>\n",
       "      <th>4676</th>\n",
       "      <th>2024</th>\n",
       "      <td>Charlie Morton</td>\n",
       "      <td>0.080593</td>\n",
       "    </tr>\n",
       "    <tr>\n",
       "      <th>22182</th>\n",
       "      <th>2024</th>\n",
       "      <td>Hunter Greene</td>\n",
       "      <td>0.079649</td>\n",
       "    </tr>\n",
       "    <tr>\n",
       "      <th>27451</th>\n",
       "      <th>2024</th>\n",
       "      <td>Alec Marsh</td>\n",
       "      <td>0.079242</td>\n",
       "    </tr>\n",
       "    <tr>\n",
       "      <th>...</th>\n",
       "      <th>...</th>\n",
       "      <td>...</td>\n",
       "      <td>...</td>\n",
       "    </tr>\n",
       "    <tr>\n",
       "      <th>29911</th>\n",
       "      <th>2024</th>\n",
       "      <td>Andrew Abbott</td>\n",
       "      <td>0.025925</td>\n",
       "    </tr>\n",
       "    <tr>\n",
       "      <th>14843</th>\n",
       "      <th>2024</th>\n",
       "      <td>Michael Lorenzen</td>\n",
       "      <td>0.025296</td>\n",
       "    </tr>\n",
       "    <tr>\n",
       "      <th>24968</th>\n",
       "      <th>2024</th>\n",
       "      <td>Reese Olson</td>\n",
       "      <td>0.023199</td>\n",
       "    </tr>\n",
       "    <tr>\n",
       "      <th>13273</th>\n",
       "      <th>2024</th>\n",
       "      <td>Ross Stripling</td>\n",
       "      <td>0.021010</td>\n",
       "    </tr>\n",
       "    <tr>\n",
       "      <th>14374</th>\n",
       "      <th>2024</th>\n",
       "      <td>Tyler Glasnow</td>\n",
       "      <td>0.019496</td>\n",
       "    </tr>\n",
       "  </tbody>\n",
       "</table>\n",
       "<p>152 rows × 2 columns</p>\n",
       "</div>"
      ],
      "text/plain": [
       "                             Name  pred_HBPperIP\n",
       "PlayerId Season                                 \n",
       "26378    2024         Nick Lodolo       0.126331\n",
       "26410    2024         Alek Manoah       0.086684\n",
       "4676     2024      Charlie Morton       0.080593\n",
       "22182    2024       Hunter Greene       0.079649\n",
       "27451    2024          Alec Marsh       0.079242\n",
       "...                           ...            ...\n",
       "29911    2024       Andrew Abbott       0.025925\n",
       "14843    2024    Michael Lorenzen       0.025296\n",
       "24968    2024         Reese Olson       0.023199\n",
       "13273    2024      Ross Stripling       0.021010\n",
       "14374    2024       Tyler Glasnow       0.019496\n",
       "\n",
       "[152 rows x 2 columns]"
      ]
     },
     "execution_count": 75,
     "metadata": {},
     "output_type": "execute_result"
    }
   ],
   "source": [
    "hbp[[\"Name\", \"pred_HBPperIP\"]].sort_values(by=\"pred_HBPperIP\", ascending=False)"
   ]
  },
  {
   "cell_type": "code",
   "execution_count": 65,
   "id": "438504d2",
   "metadata": {},
   "outputs": [
    {
     "data": {
      "text/plain": [
       "diff_pred2       0.018038\n",
       "diff_steamer2    0.020631\n",
       "dtype: object"
      ]
     },
     "execution_count": 65,
     "metadata": {},
     "output_type": "execute_result"
    }
   ],
   "source": [
    "# Calc RMSE for players projected by both systems\n",
    "hbp[\"diff_pred\"] = hbp[\"pred_HBPperIP\"] - hbp[\"actual_HBPperIP\"]\n",
    "hbp[\"diff_steamer\"] = hbp[\"steamer_HBPperIP\"] - hbp[\"actual_HBPperIP\"]\n",
    "hbp[\"diff_pred2\"] = np.sqrt(np.square(hbp[\"diff_pred\"]))\n",
    "hbp[\"diff_steamer2\"] = np.sqrt(np.square(hbp[\"diff_steamer\"]))\n",
    "hbp.sum()[[\"diff_pred2\",\"diff_steamer2\"]] / hbp.shape[0] "
   ]
  },
  {
   "cell_type": "markdown",
   "id": "329837f2",
   "metadata": {},
   "source": [
    "# HR/IP"
   ]
  },
  {
   "cell_type": "code",
   "execution_count": 76,
   "id": "c5795ffa",
   "metadata": {},
   "outputs": [
    {
     "data": {
      "text/plain": [
       "<Axes: >"
      ]
     },
     "execution_count": 76,
     "metadata": {},
     "output_type": "execute_result"
    },
    {
     "data": {
      "image/png": "[encoded data removed]",
      "text/plain": [
       "<Figure size 640x480 with 1 Axes>"
      ]
     },
     "metadata": {},
     "output_type": "display_data"
    }
   ],
   "source": [
    "hr = data[[\"actual_HRperIP\", \"pred_HRperIP\", \"steamer_HRperIP\", \"Name\"]].copy()\n",
    "hr[[\"actual_HRperIP\", \"pred_HRperIP\", \"steamer_HRperIP\"]].boxplot()"
   ]
  },
  {
   "cell_type": "code",
   "execution_count": 77,
   "id": "d8602e6b",
   "metadata": {},
   "outputs": [
    {
     "data": {
      "text/plain": [
       "diff_pred2        0.03053\n",
       "diff_steamer2    0.032438\n",
       "dtype: object"
      ]
     },
     "execution_count": 77,
     "metadata": {},
     "output_type": "execute_result"
    }
   ],
   "source": [
    "# Calc RMSE for players projected by both systems\n",
    "hr[\"diff_pred\"] = hr[\"pred_HRperIP\"] - hr[\"actual_HRperIP\"]\n",
    "hr[\"diff_steamer\"] = hr[\"steamer_HRperIP\"] - hr[\"actual_HRperIP\"]\n",
    "hr[\"diff_pred2\"] = np.sqrt(np.square(hr[\"diff_pred\"]))\n",
    "hr[\"diff_steamer2\"] = np.sqrt(np.square(hr[\"diff_steamer\"]))\n",
    "hr.sum()[[\"diff_pred2\",\"diff_steamer2\"]] / hr.shape[0] "
   ]
  }
 ],
 "metadata": {
  "kernelspec": {
   "display_name": "base",
   "language": "python",
   "name": "python3"
  },
  "language_info": {
   "codemirror_mode": {
    "name": "ipython",
    "version": 3
   },
   "file_extension": ".py",
   "mimetype": "text/x-python",
   "name": "python",
   "nbconvert_exporter": "python",
   "pygments_lexer": "ipython3",
   "version": "3.11.5"
  }
 },
 "nbformat": 4,
 "nbformat_minor": 5
}
