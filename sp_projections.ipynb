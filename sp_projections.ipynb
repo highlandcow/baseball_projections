{
 "cells": [
  {
   "cell_type": "code",
   "execution_count": 2,
   "metadata": {},
   "outputs": [],
   "source": [
    "import pandas as pd\n",
    "import numpy as np\n",
    "import matplotlib.pyplot as plt\n",
    "%matplotlib inline"
   ]
  },
  {
   "cell_type": "markdown",
   "metadata": {},
   "source": [
    "# Objective"
   ]
  },
  {
   "cell_type": "markdown",
   "metadata": {},
   "source": [
    "In this project, I aim to create a set of models to project next season performance for MLB pitchers. I will project innings pitched (IP) as well as strikeouts (SO), hits allowed (H), walks (BB), batters hit by pitch (HBP), and home runs allowed (HR) per innings pitched. "
   ]
  },
  {
   "cell_type": "markdown",
   "metadata": {},
   "source": [
    "# Data Preparation pt. 1"
   ]
  },
  {
   "cell_type": "markdown",
   "metadata": {},
   "source": [
    "Models will use prior MLB pitching season data. I obtained data from 2014 through 2024 from Fangraphs.com, omitting seasons with fewer than 20 innings pitched. This gave 5631 instances. "
   ]
  },
  {
   "cell_type": "markdown",
   "metadata": {},
   "source": [
    "## Read in data"
   ]
  },
  {
   "cell_type": "code",
   "execution_count": null,
   "metadata": {},
   "outputs": [],
   "source": [
    "# Fangraphs pitching data\n",
    "fg_standard = pd.read_csv(\"../data/pitching/fg-pitching-standard+age.csv\", index_col=[\"PlayerId\", \"Season\"])\n",
    "fg_advanced = pd.read_csv(\"../data/pitching/fg-pitching-advanced.csv\", index_col=[\"PlayerId\", \"Season\"]).drop([\"Name\", \"Team\", \"NameASCII\", \"MLBAMID\", \"ERA\"], axis=1)\n",
    "fg_batted_ball = pd.read_csv(\"../data/pitching/fg-pitching-batted_ball.csv\", index_col=[\"PlayerId\", \"Season\"]).drop([\"Name\", \"Team\", \"NameASCII\", \"MLBAMID\", \"BABIP\"], axis=1)\n",
    "\n",
    "# Statcast pitch-Level Data\n",
    "fg_pitch_type = pd.read_csv(\"../data/pitching/fg-pitching-statcast-pitch_type.csv\", index_col=[\"PlayerId\", \"Season\"]).drop([\"Name\", \"Team\", \"NameASCII\", \"MLBAMID\", \"IP\"], axis=1)\n",
    "fg_velocity = pd.read_csv(\"../data/pitching/fg-pitching-statcast-velocity.csv\", index_col=[\"PlayerId\", \"Season\"]).drop([\"Name\", \"Team\", \"NameASCII\", \"MLBAMID\", \"IP\"], axis=1)\n",
    "fg_h_movement = pd.read_csv(\"../data/pitching/fg-pitching-statcast-h_movement.csv\", index_col=[\"PlayerId\", \"Season\"]).drop([\"Name\", \"Team\", \"NameASCII\", \"MLBAMID\", \"IP\"], axis=1)\n",
    "fg_v_movement = pd.read_csv(\"../data/pitching/fg-pitching-statcast-v_movement.csv\", index_col=[\"PlayerId\", \"Season\"]).drop([\"Name\", \"Team\", \"NameASCII\", \"MLBAMID\", \"IP\"], axis=1)\n",
    "fg_pitch_type_value = pd.read_csv(\"../data/pitching/fg-pitching-statcast-pitch_type_value.csv\", index_col=[\"PlayerId\", \"Season\"]).drop([\"Name\", \"Team\", \"NameASCII\", \"MLBAMID\", \"IP\"], axis=1)\n",
    "fg_pitch_plate_discipline = pd.read_csv(\"../data/pitching/fg-pitching-statcast-plate_discipline.csv\", index_col=[\"PlayerId\", \"Season\"]).drop([\"Name\", \"Team\", \"NameASCII\", \"MLBAMID\", \"IP\"], axis=1)"
   ]
  },
  {
   "cell_type": "markdown",
   "metadata": {},
   "source": [
    "## Understand and explore data"
   ]
  },
  {
   "cell_type": "markdown",
   "metadata": {},
   "source": [
    "### 2020 season"
   ]
  },
  {
   "cell_type": "markdown",
   "metadata": {},
   "source": [
    "The 2020 season was delayed due to the COVID-19 pandemic. Consequently...\n",
    "- Only 60 games were played instead of the normal 162\n",
    "- Opening day was July 23rd (avoiding the colder months that usally open the season)\n",
    "- The schedule limited travel by reducing the number of opponents each team played to 9 instead of the usual ~20\n",
    "- The Toronto Blue Jays played in a minor league stadium\n",
    "- Doubleheaders were played as two 7 inning games"
   ]
  },
  {
   "cell_type": "markdown",
   "metadata": {},
   "source": [
    "We can see the impact this has on \"counting\" statistics that depend on games played, such as innings pitched:"
   ]
  },
  {
   "cell_type": "code",
   "execution_count": 4,
   "metadata": {},
   "outputs": [
    {
     "data": {
      "text/plain": [
       "Season\n",
       "2014    248.1\n",
       "2015    232.2\n",
       "2016    230.0\n",
       "2017    214.1\n",
       "2018    220.2\n",
       "2019    223.0\n",
       "2020     84.0\n",
       "2021    213.1\n",
       "2022    228.2\n",
       "2023    216.0\n",
       "2024    208.2\n",
       "Name: IP, dtype: float64"
      ]
     },
     "execution_count": 4,
     "metadata": {},
     "output_type": "execute_result"
    }
   ],
   "source": [
    "fg_standard.reset_index('Season').groupby('Season')['IP'].max()"
   ]
  },
  {
   "cell_type": "markdown",
   "metadata": {},
   "source": [
    "\"Rate statistics\" with playing time as the denominator were less impacted, though some metrics (e.g., K/9), peaked during this season. "
   ]
  },
  {
   "cell_type": "code",
   "execution_count": 5,
   "metadata": {},
   "outputs": [
    {
     "data": {
      "text/html": [
       "<div>\n",
       "<style scoped>\n",
       "    .dataframe tbody tr th:only-of-type {\n",
       "        vertical-align: middle;\n",
       "    }\n",
       "\n",
       "    .dataframe tbody tr th {\n",
       "        vertical-align: top;\n",
       "    }\n",
       "\n",
       "    .dataframe thead th {\n",
       "        text-align: right;\n",
       "    }\n",
       "</style>\n",
       "<table border=\"1\" class=\"dataframe\">\n",
       "  <thead>\n",
       "    <tr style=\"text-align: right;\">\n",
       "      <th></th>\n",
       "      <th>K/9</th>\n",
       "      <th>BB/9</th>\n",
       "      <th>HR/9</th>\n",
       "    </tr>\n",
       "    <tr>\n",
       "      <th>Season</th>\n",
       "      <th></th>\n",
       "      <th></th>\n",
       "      <th></th>\n",
       "    </tr>\n",
       "  </thead>\n",
       "  <tbody>\n",
       "    <tr>\n",
       "      <th>2014</th>\n",
       "      <td>7.841430</td>\n",
       "      <td>3.080955</td>\n",
       "      <td>0.861652</td>\n",
       "    </tr>\n",
       "    <tr>\n",
       "      <th>2015</th>\n",
       "      <td>7.857041</td>\n",
       "      <td>3.134064</td>\n",
       "      <td>1.021717</td>\n",
       "    </tr>\n",
       "    <tr>\n",
       "      <th>2016</th>\n",
       "      <td>8.209846</td>\n",
       "      <td>3.351837</td>\n",
       "      <td>1.197058</td>\n",
       "    </tr>\n",
       "    <tr>\n",
       "      <th>2017</th>\n",
       "      <td>8.387751</td>\n",
       "      <td>3.433703</td>\n",
       "      <td>1.277606</td>\n",
       "    </tr>\n",
       "    <tr>\n",
       "      <th>2018</th>\n",
       "      <td>8.573067</td>\n",
       "      <td>3.387305</td>\n",
       "      <td>1.163443</td>\n",
       "    </tr>\n",
       "    <tr>\n",
       "      <th>2019</th>\n",
       "      <td>8.936230</td>\n",
       "      <td>3.566390</td>\n",
       "      <td>1.424991</td>\n",
       "    </tr>\n",
       "    <tr>\n",
       "      <th>2020</th>\n",
       "      <td>9.210640</td>\n",
       "      <td>3.391966</td>\n",
       "      <td>1.245223</td>\n",
       "    </tr>\n",
       "    <tr>\n",
       "      <th>2021</th>\n",
       "      <td>8.991069</td>\n",
       "      <td>3.598199</td>\n",
       "      <td>1.229298</td>\n",
       "    </tr>\n",
       "    <tr>\n",
       "      <th>2022</th>\n",
       "      <td>8.620298</td>\n",
       "      <td>3.297522</td>\n",
       "      <td>1.084189</td>\n",
       "    </tr>\n",
       "    <tr>\n",
       "      <th>2023</th>\n",
       "      <td>8.757407</td>\n",
       "      <td>3.438841</td>\n",
       "      <td>1.206115</td>\n",
       "    </tr>\n",
       "    <tr>\n",
       "      <th>2024</th>\n",
       "      <td>8.656473</td>\n",
       "      <td>3.277183</td>\n",
       "      <td>1.124210</td>\n",
       "    </tr>\n",
       "  </tbody>\n",
       "</table>\n",
       "</div>"
      ],
      "text/plain": [
       "             K/9      BB/9      HR/9\n",
       "Season                              \n",
       "2014    7.841430  3.080955  0.861652\n",
       "2015    7.857041  3.134064  1.021717\n",
       "2016    8.209846  3.351837  1.197058\n",
       "2017    8.387751  3.433703  1.277606\n",
       "2018    8.573067  3.387305  1.163443\n",
       "2019    8.936230  3.566390  1.424991\n",
       "2020    9.210640  3.391966  1.245223\n",
       "2021    8.991069  3.598199  1.229298\n",
       "2022    8.620298  3.297522  1.084189\n",
       "2023    8.757407  3.438841  1.206115\n",
       "2024    8.656473  3.277183  1.124210"
      ]
     },
     "execution_count": 5,
     "metadata": {},
     "output_type": "execute_result"
    }
   ],
   "source": [
    "fg_advanced.reset_index('Season').groupby('Season')[['K/9', 'BB/9', 'HR/9']].mean()"
   ]
  },
  {
   "cell_type": "markdown",
   "metadata": {},
   "source": [
    "Also noteworthy: there were significantly fewer pitchers who surpassed the 20 inning mark in 2020..."
   ]
  },
  {
   "cell_type": "code",
   "execution_count": 6,
   "metadata": {},
   "outputs": [
    {
     "data": {
      "text/plain": [
       "Season\n",
       "2014    477\n",
       "2015    513\n",
       "2016    512\n",
       "2017    527\n",
       "2018    530\n",
       "2019    545\n",
       "2020    323\n",
       "2021    567\n",
       "2022    546\n",
       "2023    550\n",
       "2024    541\n",
       "Name: PlayerId, dtype: int64"
      ]
     },
     "execution_count": 6,
     "metadata": {},
     "output_type": "execute_result"
    }
   ],
   "source": [
    "fg_standard.reset_index().groupby('Season').count()['PlayerId']"
   ]
  },
  {
   "cell_type": "markdown",
   "metadata": {},
   "source": [
    "Since my primary goal for this project is to predict rate statistics, I'm going to include instances from the 2020 season."
   ]
  },
  {
   "cell_type": "code",
   "execution_count": 7,
   "metadata": {},
   "outputs": [],
   "source": [
    "# # NOTE: This cell removes the COVID-19-shortened 2020 season from the data sets. \n",
    "# fg_standard = fg_standard[fg_standard.index.get_level_values(1) != 2020]\n",
    "# fg_advanced = fg_advanced[fg_advanced.index.get_level_values(1) != 2020]\n",
    "# fg_batted_ball = fg_batted_ball[fg_batted_ball.index.get_level_values(1) != 2020]\n",
    "# fg_pitch_type = fg_pitch_type[fg_pitch_type.index.get_level_values(1) != 2020]\n",
    "# fg_velocity = fg_velocity[fg_velocity.index.get_level_values(1) != 2020]\n",
    "# fg_h_movement = fg_h_movement[fg_h_movement.index.get_level_values(1) != 2020]\n",
    "# fg_v_movement = fg_v_movement[fg_v_movement.index.get_level_values(1) != 2020]\n",
    "# fg_pitch_type_value = fg_pitch_type_value[fg_pitch_type_value.index.get_level_values(1) != 2020]\n",
    "# fg_pitch_plate_discipline = fg_pitch_plate_discipline[fg_pitch_plate_discipline.index.get_level_values(1) != 2020]"
   ]
  },
  {
   "cell_type": "markdown",
   "metadata": {},
   "source": [
    "### Fangraphs \"Standard\" data"
   ]
  },
  {
   "cell_type": "markdown",
   "metadata": {},
   "source": [
    "These features are generally the sort you'd find on the back of a player's baseball card. They are all counting statistics with the exception of Team, Age, and ERA (Earned Run Average). "
   ]
  },
  {
   "cell_type": "code",
   "execution_count": 8,
   "metadata": {},
   "outputs": [
    {
     "name": "stdout",
     "output_type": "stream",
     "text": [
      "<class 'pandas.core.frame.DataFrame'>\n",
      "MultiIndex: 5631 entries, (13125, 2019) to (16155, 2019)\n",
      "Data columns (total 28 columns):\n",
      " #   Column     Non-Null Count  Dtype  \n",
      "---  ------     --------------  -----  \n",
      " 0   Name       5631 non-null   object \n",
      " 1   Team       5631 non-null   object \n",
      " 2   Age        5631 non-null   int64  \n",
      " 3   W          5631 non-null   int64  \n",
      " 4   L          5631 non-null   int64  \n",
      " 5   ERA        5631 non-null   float64\n",
      " 6   G          5631 non-null   int64  \n",
      " 7   GS         5631 non-null   int64  \n",
      " 8   QS         5631 non-null   int64  \n",
      " 9   CG         5631 non-null   int64  \n",
      " 10  ShO        5631 non-null   int64  \n",
      " 11  SV         5631 non-null   int64  \n",
      " 12  HLD        5631 non-null   int64  \n",
      " 13  BS         5631 non-null   int64  \n",
      " 14  IP         5631 non-null   float64\n",
      " 15  TBF        5631 non-null   int64  \n",
      " 16  H          5631 non-null   int64  \n",
      " 17  R          5631 non-null   int64  \n",
      " 18  ER         5631 non-null   int64  \n",
      " 19  HR         5631 non-null   int64  \n",
      " 20  BB         5631 non-null   int64  \n",
      " 21  IBB        5631 non-null   int64  \n",
      " 22  HBP        5631 non-null   int64  \n",
      " 23  WP         5631 non-null   int64  \n",
      " 24  BK         5631 non-null   int64  \n",
      " 25  SO         5631 non-null   int64  \n",
      " 26  NameASCII  5631 non-null   object \n",
      " 27  MLBAMID    5631 non-null   int64  \n",
      "dtypes: float64(2), int64(23), object(3)\n",
      "memory usage: 1.3+ MB\n"
     ]
    }
   ],
   "source": [
    "fg_standard.info()"
   ]
  },
  {
   "cell_type": "code",
   "execution_count": 9,
   "metadata": {},
   "outputs": [
    {
     "data": {
      "text/html": [
       "<div>\n",
       "<style scoped>\n",
       "    .dataframe tbody tr th:only-of-type {\n",
       "        vertical-align: middle;\n",
       "    }\n",
       "\n",
       "    .dataframe tbody tr th {\n",
       "        vertical-align: top;\n",
       "    }\n",
       "\n",
       "    .dataframe thead th {\n",
       "        text-align: right;\n",
       "    }\n",
       "</style>\n",
       "<table border=\"1\" class=\"dataframe\">\n",
       "  <thead>\n",
       "    <tr style=\"text-align: right;\">\n",
       "      <th></th>\n",
       "      <th>Name</th>\n",
       "      <th>Team</th>\n",
       "      <th>Age</th>\n",
       "      <th>W</th>\n",
       "      <th>L</th>\n",
       "      <th>ERA</th>\n",
       "      <th>G</th>\n",
       "      <th>GS</th>\n",
       "      <th>QS</th>\n",
       "      <th>CG</th>\n",
       "      <th>...</th>\n",
       "      <th>ER</th>\n",
       "      <th>HR</th>\n",
       "      <th>BB</th>\n",
       "      <th>IBB</th>\n",
       "      <th>HBP</th>\n",
       "      <th>WP</th>\n",
       "      <th>BK</th>\n",
       "      <th>SO</th>\n",
       "      <th>NameASCII</th>\n",
       "      <th>MLBAMID</th>\n",
       "    </tr>\n",
       "    <tr>\n",
       "      <th>Season</th>\n",
       "      <th></th>\n",
       "      <th></th>\n",
       "      <th></th>\n",
       "      <th></th>\n",
       "      <th></th>\n",
       "      <th></th>\n",
       "      <th></th>\n",
       "      <th></th>\n",
       "      <th></th>\n",
       "      <th></th>\n",
       "      <th></th>\n",
       "      <th></th>\n",
       "      <th></th>\n",
       "      <th></th>\n",
       "      <th></th>\n",
       "      <th></th>\n",
       "      <th></th>\n",
       "      <th></th>\n",
       "      <th></th>\n",
       "      <th></th>\n",
       "      <th></th>\n",
       "    </tr>\n",
       "  </thead>\n",
       "  <tbody>\n",
       "    <tr>\n",
       "      <th>2019</th>\n",
       "      <td>Gerrit Cole</td>\n",
       "      <td>HOU</td>\n",
       "      <td>28</td>\n",
       "      <td>20</td>\n",
       "      <td>5</td>\n",
       "      <td>2.500785</td>\n",
       "      <td>33</td>\n",
       "      <td>33</td>\n",
       "      <td>26</td>\n",
       "      <td>0</td>\n",
       "      <td>...</td>\n",
       "      <td>59</td>\n",
       "      <td>29</td>\n",
       "      <td>48</td>\n",
       "      <td>0</td>\n",
       "      <td>3</td>\n",
       "      <td>4</td>\n",
       "      <td>3</td>\n",
       "      <td>326</td>\n",
       "      <td>Gerrit Cole</td>\n",
       "      <td>543037</td>\n",
       "    </tr>\n",
       "    <tr>\n",
       "      <th>2018</th>\n",
       "      <td>Gerrit Cole</td>\n",
       "      <td>HOU</td>\n",
       "      <td>27</td>\n",
       "      <td>15</td>\n",
       "      <td>5</td>\n",
       "      <td>2.875208</td>\n",
       "      <td>32</td>\n",
       "      <td>32</td>\n",
       "      <td>20</td>\n",
       "      <td>1</td>\n",
       "      <td>...</td>\n",
       "      <td>64</td>\n",
       "      <td>19</td>\n",
       "      <td>64</td>\n",
       "      <td>0</td>\n",
       "      <td>7</td>\n",
       "      <td>9</td>\n",
       "      <td>0</td>\n",
       "      <td>276</td>\n",
       "      <td>Gerrit Cole</td>\n",
       "      <td>543037</td>\n",
       "    </tr>\n",
       "    <tr>\n",
       "      <th>2022</th>\n",
       "      <td>Gerrit Cole</td>\n",
       "      <td>NYY</td>\n",
       "      <td>31</td>\n",
       "      <td>13</td>\n",
       "      <td>8</td>\n",
       "      <td>3.498339</td>\n",
       "      <td>33</td>\n",
       "      <td>33</td>\n",
       "      <td>21</td>\n",
       "      <td>0</td>\n",
       "      <td>...</td>\n",
       "      <td>78</td>\n",
       "      <td>33</td>\n",
       "      <td>50</td>\n",
       "      <td>0</td>\n",
       "      <td>2</td>\n",
       "      <td>2</td>\n",
       "      <td>2</td>\n",
       "      <td>257</td>\n",
       "      <td>Gerrit Cole</td>\n",
       "      <td>543037</td>\n",
       "    </tr>\n",
       "    <tr>\n",
       "      <th>2021</th>\n",
       "      <td>Gerrit Cole</td>\n",
       "      <td>NYY</td>\n",
       "      <td>30</td>\n",
       "      <td>16</td>\n",
       "      <td>8</td>\n",
       "      <td>3.226103</td>\n",
       "      <td>30</td>\n",
       "      <td>30</td>\n",
       "      <td>18</td>\n",
       "      <td>2</td>\n",
       "      <td>...</td>\n",
       "      <td>65</td>\n",
       "      <td>24</td>\n",
       "      <td>41</td>\n",
       "      <td>0</td>\n",
       "      <td>2</td>\n",
       "      <td>5</td>\n",
       "      <td>1</td>\n",
       "      <td>243</td>\n",
       "      <td>Gerrit Cole</td>\n",
       "      <td>543037</td>\n",
       "    </tr>\n",
       "    <tr>\n",
       "      <th>2023</th>\n",
       "      <td>Gerrit Cole</td>\n",
       "      <td>NYY</td>\n",
       "      <td>32</td>\n",
       "      <td>15</td>\n",
       "      <td>4</td>\n",
       "      <td>2.626794</td>\n",
       "      <td>33</td>\n",
       "      <td>33</td>\n",
       "      <td>24</td>\n",
       "      <td>2</td>\n",
       "      <td>...</td>\n",
       "      <td>61</td>\n",
       "      <td>20</td>\n",
       "      <td>48</td>\n",
       "      <td>0</td>\n",
       "      <td>7</td>\n",
       "      <td>4</td>\n",
       "      <td>1</td>\n",
       "      <td>222</td>\n",
       "      <td>Gerrit Cole</td>\n",
       "      <td>543037</td>\n",
       "    </tr>\n",
       "    <tr>\n",
       "      <th>2015</th>\n",
       "      <td>Gerrit Cole</td>\n",
       "      <td>PIT</td>\n",
       "      <td>24</td>\n",
       "      <td>19</td>\n",
       "      <td>8</td>\n",
       "      <td>2.596154</td>\n",
       "      <td>32</td>\n",
       "      <td>32</td>\n",
       "      <td>25</td>\n",
       "      <td>0</td>\n",
       "      <td>...</td>\n",
       "      <td>60</td>\n",
       "      <td>11</td>\n",
       "      <td>44</td>\n",
       "      <td>1</td>\n",
       "      <td>10</td>\n",
       "      <td>7</td>\n",
       "      <td>0</td>\n",
       "      <td>202</td>\n",
       "      <td>Gerrit Cole</td>\n",
       "      <td>543037</td>\n",
       "    </tr>\n",
       "    <tr>\n",
       "      <th>2017</th>\n",
       "      <td>Gerrit Cole</td>\n",
       "      <td>PIT</td>\n",
       "      <td>26</td>\n",
       "      <td>12</td>\n",
       "      <td>12</td>\n",
       "      <td>4.256158</td>\n",
       "      <td>33</td>\n",
       "      <td>33</td>\n",
       "      <td>20</td>\n",
       "      <td>0</td>\n",
       "      <td>...</td>\n",
       "      <td>96</td>\n",
       "      <td>31</td>\n",
       "      <td>55</td>\n",
       "      <td>1</td>\n",
       "      <td>4</td>\n",
       "      <td>7</td>\n",
       "      <td>0</td>\n",
       "      <td>196</td>\n",
       "      <td>Gerrit Cole</td>\n",
       "      <td>543037</td>\n",
       "    </tr>\n",
       "    <tr>\n",
       "      <th>2014</th>\n",
       "      <td>Gerrit Cole</td>\n",
       "      <td>PIT</td>\n",
       "      <td>23</td>\n",
       "      <td>11</td>\n",
       "      <td>5</td>\n",
       "      <td>3.652174</td>\n",
       "      <td>22</td>\n",
       "      <td>22</td>\n",
       "      <td>15</td>\n",
       "      <td>0</td>\n",
       "      <td>...</td>\n",
       "      <td>56</td>\n",
       "      <td>11</td>\n",
       "      <td>40</td>\n",
       "      <td>1</td>\n",
       "      <td>9</td>\n",
       "      <td>9</td>\n",
       "      <td>1</td>\n",
       "      <td>138</td>\n",
       "      <td>Gerrit Cole</td>\n",
       "      <td>543037</td>\n",
       "    </tr>\n",
       "    <tr>\n",
       "      <th>2024</th>\n",
       "      <td>Gerrit Cole</td>\n",
       "      <td>NYY</td>\n",
       "      <td>33</td>\n",
       "      <td>8</td>\n",
       "      <td>5</td>\n",
       "      <td>3.410526</td>\n",
       "      <td>17</td>\n",
       "      <td>17</td>\n",
       "      <td>8</td>\n",
       "      <td>0</td>\n",
       "      <td>...</td>\n",
       "      <td>36</td>\n",
       "      <td>11</td>\n",
       "      <td>29</td>\n",
       "      <td>1</td>\n",
       "      <td>6</td>\n",
       "      <td>0</td>\n",
       "      <td>0</td>\n",
       "      <td>99</td>\n",
       "      <td>Gerrit Cole</td>\n",
       "      <td>543037</td>\n",
       "    </tr>\n",
       "    <tr>\n",
       "      <th>2016</th>\n",
       "      <td>Gerrit Cole</td>\n",
       "      <td>PIT</td>\n",
       "      <td>25</td>\n",
       "      <td>7</td>\n",
       "      <td>10</td>\n",
       "      <td>3.879310</td>\n",
       "      <td>21</td>\n",
       "      <td>21</td>\n",
       "      <td>11</td>\n",
       "      <td>1</td>\n",
       "      <td>...</td>\n",
       "      <td>50</td>\n",
       "      <td>7</td>\n",
       "      <td>36</td>\n",
       "      <td>3</td>\n",
       "      <td>6</td>\n",
       "      <td>5</td>\n",
       "      <td>1</td>\n",
       "      <td>98</td>\n",
       "      <td>Gerrit Cole</td>\n",
       "      <td>543037</td>\n",
       "    </tr>\n",
       "    <tr>\n",
       "      <th>2020</th>\n",
       "      <td>Gerrit Cole</td>\n",
       "      <td>NYY</td>\n",
       "      <td>29</td>\n",
       "      <td>7</td>\n",
       "      <td>3</td>\n",
       "      <td>2.835616</td>\n",
       "      <td>12</td>\n",
       "      <td>12</td>\n",
       "      <td>8</td>\n",
       "      <td>2</td>\n",
       "      <td>...</td>\n",
       "      <td>23</td>\n",
       "      <td>14</td>\n",
       "      <td>17</td>\n",
       "      <td>0</td>\n",
       "      <td>2</td>\n",
       "      <td>2</td>\n",
       "      <td>0</td>\n",
       "      <td>94</td>\n",
       "      <td>Gerrit Cole</td>\n",
       "      <td>543037</td>\n",
       "    </tr>\n",
       "  </tbody>\n",
       "</table>\n",
       "<p>11 rows × 28 columns</p>\n",
       "</div>"
      ],
      "text/plain": [
       "               Name Team  Age   W   L       ERA   G  GS  QS  CG  ...  ER  HR  \\\n",
       "Season                                                           ...           \n",
       "2019    Gerrit Cole  HOU   28  20   5  2.500785  33  33  26   0  ...  59  29   \n",
       "2018    Gerrit Cole  HOU   27  15   5  2.875208  32  32  20   1  ...  64  19   \n",
       "2022    Gerrit Cole  NYY   31  13   8  3.498339  33  33  21   0  ...  78  33   \n",
       "2021    Gerrit Cole  NYY   30  16   8  3.226103  30  30  18   2  ...  65  24   \n",
       "2023    Gerrit Cole  NYY   32  15   4  2.626794  33  33  24   2  ...  61  20   \n",
       "2015    Gerrit Cole  PIT   24  19   8  2.596154  32  32  25   0  ...  60  11   \n",
       "2017    Gerrit Cole  PIT   26  12  12  4.256158  33  33  20   0  ...  96  31   \n",
       "2014    Gerrit Cole  PIT   23  11   5  3.652174  22  22  15   0  ...  56  11   \n",
       "2024    Gerrit Cole  NYY   33   8   5  3.410526  17  17   8   0  ...  36  11   \n",
       "2016    Gerrit Cole  PIT   25   7  10  3.879310  21  21  11   1  ...  50   7   \n",
       "2020    Gerrit Cole  NYY   29   7   3  2.835616  12  12   8   2  ...  23  14   \n",
       "\n",
       "        BB  IBB  HBP  WP  BK   SO    NameASCII  MLBAMID  \n",
       "Season                                                   \n",
       "2019    48    0    3   4   3  326  Gerrit Cole   543037  \n",
       "2018    64    0    7   9   0  276  Gerrit Cole   543037  \n",
       "2022    50    0    2   2   2  257  Gerrit Cole   543037  \n",
       "2021    41    0    2   5   1  243  Gerrit Cole   543037  \n",
       "2023    48    0    7   4   1  222  Gerrit Cole   543037  \n",
       "2015    44    1   10   7   0  202  Gerrit Cole   543037  \n",
       "2017    55    1    4   7   0  196  Gerrit Cole   543037  \n",
       "2014    40    1    9   9   1  138  Gerrit Cole   543037  \n",
       "2024    29    1    6   0   0   99  Gerrit Cole   543037  \n",
       "2016    36    3    6   5   1   98  Gerrit Cole   543037  \n",
       "2020    17    0    2   2   0   94  Gerrit Cole   543037  \n",
       "\n",
       "[11 rows x 28 columns]"
      ]
     },
     "execution_count": 9,
     "metadata": {},
     "output_type": "execute_result"
    }
   ],
   "source": [
    "# Standard statistics for a single player (Gerrit Cole)\n",
    "fg_standard.loc[13125]"
   ]
  },
  {
   "cell_type": "code",
   "execution_count": 10,
   "metadata": {},
   "outputs": [
    {
     "data": {
      "image/png": "[encoded data removed]",
      "text/plain": [
       "<Figure size 1500x1000 with 25 Axes>"
      ]
     },
     "metadata": {},
     "output_type": "display_data"
    }
   ],
   "source": [
    "fg_standard.hist(bins=10, figsize=(15,10))\n",
    "plt.show()"
   ]
  },
  {
   "cell_type": "markdown",
   "metadata": {},
   "source": [
    "### Fangraphs \"Advanced\" data\n",
    "\n",
    "- **K/9** = Strikeouts per 9 innings pitched (a regulation baseball game lasts 9 innings, so these \"per 9\" stats give a sense of how the pitcher would perform if he were to pitch a complete game)\n",
    "- **BB/9** = Walks per 9 innings \n",
    "- **K/BB** = Strikeout to walk ratio\n",
    "- **HR/9** == Home runs per 9 innings\n",
    "- **K%** = Strikeout percentage (K/TBF)\n",
    "- **BB%** = Walk percentage (BB/TBF)\n",
    "- **K-BB%** = Strikeout percentage minus walk percentage \n",
    "- **AVG** = Batting average against \n",
    "- **WHIP** = *W*alks plus *H*its divided by *I*nnings *P*itched (W+H/IP) \n",
    "- **BABIP** = Batting average on balls in play \n",
    "- **LOB%** = Left on base percentage \n",
    "- **ERA-** = ERA adjusted for park and league (100 is average, lower is better)\n",
    "- **FIP-** = FIP adjusted for park and league (100 is average, lower is better)\n",
    "- **xFIP-** = xFIP adjusted by league (100 is average, lower is better)\n",
    "- **FIP** = [Fielder Independent Pitching](https://library.fangraphs.com/pitching/fip/) (on ERA scale)\n",
    "- **E-F** = ERA - FIP\n",
    "- **xFIP** = [Expected Fielder Independent Pitching](https://library.fangraphs.com/pitching/xfip/)\n",
    "- **SIERA** = [Skill Interactive ERA](https://library.fangraphs.com/pitching/siera/)"
   ]
  },
  {
   "cell_type": "code",
   "execution_count": 11,
   "metadata": {},
   "outputs": [
    {
     "name": "stdout",
     "output_type": "stream",
     "text": [
      "<class 'pandas.core.frame.DataFrame'>\n",
      "MultiIndex: 5631 entries, (1118, 2019) to (12803, 2015)\n",
      "Data columns (total 18 columns):\n",
      " #   Column  Non-Null Count  Dtype  \n",
      "---  ------  --------------  -----  \n",
      " 0   K/9     5631 non-null   float64\n",
      " 1   BB/9    5631 non-null   float64\n",
      " 2   K/BB    5631 non-null   float64\n",
      " 3   HR/9    5631 non-null   float64\n",
      " 4   K%      5631 non-null   float64\n",
      " 5   BB%     5631 non-null   float64\n",
      " 6   K-BB%   5631 non-null   float64\n",
      " 7   AVG     5631 non-null   float64\n",
      " 8   WHIP    5631 non-null   float64\n",
      " 9   BABIP   5631 non-null   float64\n",
      " 10  LOB%    5631 non-null   float64\n",
      " 11  ERA-    5631 non-null   float64\n",
      " 12  FIP-    5631 non-null   float64\n",
      " 13  xFIP-   5631 non-null   float64\n",
      " 14  FIP     5631 non-null   float64\n",
      " 15  E-F     5631 non-null   float64\n",
      " 16  xFIP    5631 non-null   float64\n",
      " 17  SIERA   5631 non-null   float64\n",
      "dtypes: float64(18)\n",
      "memory usage: 886.4 KB\n"
     ]
    }
   ],
   "source": [
    "fg_advanced.info()"
   ]
  },
  {
   "cell_type": "code",
   "execution_count": 12,
   "metadata": {},
   "outputs": [
    {
     "data": {
      "text/html": [
       "<div>\n",
       "<style scoped>\n",
       "    .dataframe tbody tr th:only-of-type {\n",
       "        vertical-align: middle;\n",
       "    }\n",
       "\n",
       "    .dataframe tbody tr th {\n",
       "        vertical-align: top;\n",
       "    }\n",
       "\n",
       "    .dataframe thead th {\n",
       "        text-align: right;\n",
       "    }\n",
       "</style>\n",
       "<table border=\"1\" class=\"dataframe\">\n",
       "  <thead>\n",
       "    <tr style=\"text-align: right;\">\n",
       "      <th></th>\n",
       "      <th>K/9</th>\n",
       "      <th>BB/9</th>\n",
       "      <th>K/BB</th>\n",
       "      <th>HR/9</th>\n",
       "      <th>K%</th>\n",
       "      <th>BB%</th>\n",
       "      <th>K-BB%</th>\n",
       "      <th>AVG</th>\n",
       "      <th>WHIP</th>\n",
       "      <th>BABIP</th>\n",
       "      <th>LOB%</th>\n",
       "      <th>ERA-</th>\n",
       "      <th>FIP-</th>\n",
       "      <th>xFIP-</th>\n",
       "      <th>FIP</th>\n",
       "      <th>E-F</th>\n",
       "      <th>xFIP</th>\n",
       "      <th>SIERA</th>\n",
       "    </tr>\n",
       "  </thead>\n",
       "  <tbody>\n",
       "    <tr>\n",
       "      <th>count</th>\n",
       "      <td>5631.000000</td>\n",
       "      <td>5631.000000</td>\n",
       "      <td>5631.000000</td>\n",
       "      <td>5631.000000</td>\n",
       "      <td>5631.000000</td>\n",
       "      <td>5631.000000</td>\n",
       "      <td>5631.000000</td>\n",
       "      <td>5631.000000</td>\n",
       "      <td>5631.000000</td>\n",
       "      <td>5631.000000</td>\n",
       "      <td>5631.000000</td>\n",
       "      <td>5631.000000</td>\n",
       "      <td>5631.000000</td>\n",
       "      <td>5631.000000</td>\n",
       "      <td>5631.000000</td>\n",
       "      <td>5631.000000</td>\n",
       "      <td>5631.000000</td>\n",
       "      <td>5631.000000</td>\n",
       "    </tr>\n",
       "    <tr>\n",
       "      <th>mean</th>\n",
       "      <td>8.539897</td>\n",
       "      <td>3.363984</td>\n",
       "      <td>2.913498</td>\n",
       "      <td>1.168058</td>\n",
       "      <td>0.223299</td>\n",
       "      <td>0.086617</td>\n",
       "      <td>0.136682</td>\n",
       "      <td>0.243522</td>\n",
       "      <td>1.320223</td>\n",
       "      <td>0.291874</td>\n",
       "      <td>0.729382</td>\n",
       "      <td>100.927469</td>\n",
       "      <td>100.928375</td>\n",
       "      <td>101.169162</td>\n",
       "      <td>4.217464</td>\n",
       "      <td>0.003009</td>\n",
       "      <td>4.226955</td>\n",
       "      <td>4.057625</td>\n",
       "    </tr>\n",
       "    <tr>\n",
       "      <th>std</th>\n",
       "      <td>2.107654</td>\n",
       "      <td>1.230491</td>\n",
       "      <td>1.505094</td>\n",
       "      <td>0.582648</td>\n",
       "      <td>0.059757</td>\n",
       "      <td>0.028917</td>\n",
       "      <td>0.065065</td>\n",
       "      <td>0.039689</td>\n",
       "      <td>0.245037</td>\n",
       "      <td>0.041700</td>\n",
       "      <td>0.078378</td>\n",
       "      <td>34.775832</td>\n",
       "      <td>25.876670</td>\n",
       "      <td>19.100362</td>\n",
       "      <td>1.113181</td>\n",
       "      <td>1.007110</td>\n",
       "      <td>0.829936</td>\n",
       "      <td>0.815448</td>\n",
       "    </tr>\n",
       "    <tr>\n",
       "      <th>min</th>\n",
       "      <td>1.714286</td>\n",
       "      <td>0.321429</td>\n",
       "      <td>0.444444</td>\n",
       "      <td>0.000000</td>\n",
       "      <td>0.039604</td>\n",
       "      <td>0.008475</td>\n",
       "      <td>-0.067227</td>\n",
       "      <td>0.086420</td>\n",
       "      <td>0.493151</td>\n",
       "      <td>0.104167</td>\n",
       "      <td>0.340909</td>\n",
       "      <td>0.000000</td>\n",
       "      <td>19.680518</td>\n",
       "      <td>24.916582</td>\n",
       "      <td>0.858086</td>\n",
       "      <td>-3.837573</td>\n",
       "      <td>1.037783</td>\n",
       "      <td>0.865243</td>\n",
       "    </tr>\n",
       "    <tr>\n",
       "      <th>25%</th>\n",
       "      <td>7.090909</td>\n",
       "      <td>2.481920</td>\n",
       "      <td>2.000000</td>\n",
       "      <td>0.771429</td>\n",
       "      <td>0.181818</td>\n",
       "      <td>0.066327</td>\n",
       "      <td>0.091609</td>\n",
       "      <td>0.217822</td>\n",
       "      <td>1.158062</td>\n",
       "      <td>0.266667</td>\n",
       "      <td>0.680690</td>\n",
       "      <td>77.269945</td>\n",
       "      <td>84.030831</td>\n",
       "      <td>88.870601</td>\n",
       "      <td>3.485958</td>\n",
       "      <td>-0.615973</td>\n",
       "      <td>3.679527</td>\n",
       "      <td>3.530735</td>\n",
       "    </tr>\n",
       "    <tr>\n",
       "      <th>50%</th>\n",
       "      <td>8.386365</td>\n",
       "      <td>3.214286</td>\n",
       "      <td>2.590909</td>\n",
       "      <td>1.102041</td>\n",
       "      <td>0.217514</td>\n",
       "      <td>0.083721</td>\n",
       "      <td>0.132231</td>\n",
       "      <td>0.243697</td>\n",
       "      <td>1.304038</td>\n",
       "      <td>0.291866</td>\n",
       "      <td>0.731132</td>\n",
       "      <td>97.246056</td>\n",
       "      <td>99.096492</td>\n",
       "      <td>101.043635</td>\n",
       "      <td>4.129068</td>\n",
       "      <td>-0.070614</td>\n",
       "      <td>4.197746</td>\n",
       "      <td>4.063046</td>\n",
       "    </tr>\n",
       "    <tr>\n",
       "      <th>75%</th>\n",
       "      <td>9.865386</td>\n",
       "      <td>4.085317</td>\n",
       "      <td>3.444444</td>\n",
       "      <td>1.467391</td>\n",
       "      <td>0.259632</td>\n",
       "      <td>0.103896</td>\n",
       "      <td>0.176770</td>\n",
       "      <td>0.269663</td>\n",
       "      <td>1.466479</td>\n",
       "      <td>0.317365</td>\n",
       "      <td>0.779628</td>\n",
       "      <td>120.527457</td>\n",
       "      <td>115.917014</td>\n",
       "      <td>113.287987</td>\n",
       "      <td>4.835232</td>\n",
       "      <td>0.553299</td>\n",
       "      <td>4.760018</td>\n",
       "      <td>4.594452</td>\n",
       "    </tr>\n",
       "    <tr>\n",
       "      <th>max</th>\n",
       "      <td>17.666670</td>\n",
       "      <td>9.084113</td>\n",
       "      <td>25.000000</td>\n",
       "      <td>4.984617</td>\n",
       "      <td>0.530000</td>\n",
       "      <td>0.213270</td>\n",
       "      <td>0.440945</td>\n",
       "      <td>0.400000</td>\n",
       "      <td>2.373913</td>\n",
       "      <td>0.474820</td>\n",
       "      <td>1.000000</td>\n",
       "      <td>279.164374</td>\n",
       "      <td>232.655260</td>\n",
       "      <td>181.359201</td>\n",
       "      <td>9.849683</td>\n",
       "      <td>6.087109</td>\n",
       "      <td>8.301602</td>\n",
       "      <td>7.286938</td>\n",
       "    </tr>\n",
       "  </tbody>\n",
       "</table>\n",
       "</div>"
      ],
      "text/plain": [
       "               K/9         BB/9         K/BB         HR/9           K%  \\\n",
       "count  5631.000000  5631.000000  5631.000000  5631.000000  5631.000000   \n",
       "mean      8.539897     3.363984     2.913498     1.168058     0.223299   \n",
       "std       2.107654     1.230491     1.505094     0.582648     0.059757   \n",
       "min       1.714286     0.321429     0.444444     0.000000     0.039604   \n",
       "25%       7.090909     2.481920     2.000000     0.771429     0.181818   \n",
       "50%       8.386365     3.214286     2.590909     1.102041     0.217514   \n",
       "75%       9.865386     4.085317     3.444444     1.467391     0.259632   \n",
       "max      17.666670     9.084113    25.000000     4.984617     0.530000   \n",
       "\n",
       "               BB%        K-BB%          AVG         WHIP        BABIP  \\\n",
       "count  5631.000000  5631.000000  5631.000000  5631.000000  5631.000000   \n",
       "mean      0.086617     0.136682     0.243522     1.320223     0.291874   \n",
       "std       0.028917     0.065065     0.039689     0.245037     0.041700   \n",
       "min       0.008475    -0.067227     0.086420     0.493151     0.104167   \n",
       "25%       0.066327     0.091609     0.217822     1.158062     0.266667   \n",
       "50%       0.083721     0.132231     0.243697     1.304038     0.291866   \n",
       "75%       0.103896     0.176770     0.269663     1.466479     0.317365   \n",
       "max       0.213270     0.440945     0.400000     2.373913     0.474820   \n",
       "\n",
       "              LOB%         ERA-         FIP-        xFIP-          FIP  \\\n",
       "count  5631.000000  5631.000000  5631.000000  5631.000000  5631.000000   \n",
       "mean      0.729382   100.927469   100.928375   101.169162     4.217464   \n",
       "std       0.078378    34.775832    25.876670    19.100362     1.113181   \n",
       "min       0.340909     0.000000    19.680518    24.916582     0.858086   \n",
       "25%       0.680690    77.269945    84.030831    88.870601     3.485958   \n",
       "50%       0.731132    97.246056    99.096492   101.043635     4.129068   \n",
       "75%       0.779628   120.527457   115.917014   113.287987     4.835232   \n",
       "max       1.000000   279.164374   232.655260   181.359201     9.849683   \n",
       "\n",
       "               E-F         xFIP        SIERA  \n",
       "count  5631.000000  5631.000000  5631.000000  \n",
       "mean      0.003009     4.226955     4.057625  \n",
       "std       1.007110     0.829936     0.815448  \n",
       "min      -3.837573     1.037783     0.865243  \n",
       "25%      -0.615973     3.679527     3.530735  \n",
       "50%      -0.070614     4.197746     4.063046  \n",
       "75%       0.553299     4.760018     4.594452  \n",
       "max       6.087109     8.301602     7.286938  "
      ]
     },
     "execution_count": 12,
     "metadata": {},
     "output_type": "execute_result"
    }
   ],
   "source": [
    "fg_advanced.describe()"
   ]
  },
  {
   "cell_type": "code",
   "execution_count": 13,
   "metadata": {},
   "outputs": [
    {
     "data": {
      "image/png": "[encoded data removed]",
      "text/plain": [
       "<Figure size 1500x1000 with 20 Axes>"
      ]
     },
     "metadata": {},
     "output_type": "display_data"
    }
   ],
   "source": [
    "fg_advanced.hist(bins=10, figsize=(15,10))\n",
    "plt.show()"
   ]
  },
  {
   "cell_type": "code",
   "execution_count": 14,
   "metadata": {},
   "outputs": [
    {
     "data": {
      "text/html": [
       "<div>\n",
       "<style scoped>\n",
       "    .dataframe tbody tr th:only-of-type {\n",
       "        vertical-align: middle;\n",
       "    }\n",
       "\n",
       "    .dataframe tbody tr th {\n",
       "        vertical-align: top;\n",
       "    }\n",
       "\n",
       "    .dataframe thead th {\n",
       "        text-align: right;\n",
       "    }\n",
       "</style>\n",
       "<table border=\"1\" class=\"dataframe\">\n",
       "  <thead>\n",
       "    <tr style=\"text-align: right;\">\n",
       "      <th></th>\n",
       "      <th>K/9</th>\n",
       "      <th>BB/9</th>\n",
       "    </tr>\n",
       "    <tr>\n",
       "      <th>Season</th>\n",
       "      <th></th>\n",
       "      <th></th>\n",
       "    </tr>\n",
       "  </thead>\n",
       "  <tbody>\n",
       "    <tr>\n",
       "      <th>2014</th>\n",
       "      <td>7.841430</td>\n",
       "      <td>3.080955</td>\n",
       "    </tr>\n",
       "    <tr>\n",
       "      <th>2015</th>\n",
       "      <td>7.857041</td>\n",
       "      <td>3.134064</td>\n",
       "    </tr>\n",
       "    <tr>\n",
       "      <th>2016</th>\n",
       "      <td>8.209846</td>\n",
       "      <td>3.351837</td>\n",
       "    </tr>\n",
       "    <tr>\n",
       "      <th>2017</th>\n",
       "      <td>8.387751</td>\n",
       "      <td>3.433703</td>\n",
       "    </tr>\n",
       "    <tr>\n",
       "      <th>2018</th>\n",
       "      <td>8.573067</td>\n",
       "      <td>3.387305</td>\n",
       "    </tr>\n",
       "    <tr>\n",
       "      <th>2019</th>\n",
       "      <td>8.936230</td>\n",
       "      <td>3.566390</td>\n",
       "    </tr>\n",
       "    <tr>\n",
       "      <th>2020</th>\n",
       "      <td>9.210640</td>\n",
       "      <td>3.391966</td>\n",
       "    </tr>\n",
       "    <tr>\n",
       "      <th>2021</th>\n",
       "      <td>8.991069</td>\n",
       "      <td>3.598199</td>\n",
       "    </tr>\n",
       "    <tr>\n",
       "      <th>2022</th>\n",
       "      <td>8.620298</td>\n",
       "      <td>3.297522</td>\n",
       "    </tr>\n",
       "    <tr>\n",
       "      <th>2023</th>\n",
       "      <td>8.757407</td>\n",
       "      <td>3.438841</td>\n",
       "    </tr>\n",
       "    <tr>\n",
       "      <th>2024</th>\n",
       "      <td>8.656473</td>\n",
       "      <td>3.277183</td>\n",
       "    </tr>\n",
       "  </tbody>\n",
       "</table>\n",
       "</div>"
      ],
      "text/plain": [
       "             K/9      BB/9\n",
       "Season                    \n",
       "2014    7.841430  3.080955\n",
       "2015    7.857041  3.134064\n",
       "2016    8.209846  3.351837\n",
       "2017    8.387751  3.433703\n",
       "2018    8.573067  3.387305\n",
       "2019    8.936230  3.566390\n",
       "2020    9.210640  3.391966\n",
       "2021    8.991069  3.598199\n",
       "2022    8.620298  3.297522\n",
       "2023    8.757407  3.438841\n",
       "2024    8.656473  3.277183"
      ]
     },
     "execution_count": 14,
     "metadata": {},
     "output_type": "execute_result"
    }
   ],
   "source": [
    "fg_advanced.reset_index('Season').groupby('Season')[['K/9', 'BB/9']].mean()"
   ]
  },
  {
   "cell_type": "markdown",
   "metadata": {},
   "source": [
    "### FanGraphs Batted Ball data"
   ]
  },
  {
   "cell_type": "markdown",
   "metadata": {},
   "source": [
    "Staatistics describing the sort of contact batters make with pitches."
   ]
  },
  {
   "cell_type": "code",
   "execution_count": 15,
   "metadata": {},
   "outputs": [
    {
     "name": "stdout",
     "output_type": "stream",
     "text": [
      "<class 'pandas.core.frame.DataFrame'>\n",
      "MultiIndex: 5631 entries, (12183, 2019) to (14741, 2017)\n",
      "Data columns (total 17 columns):\n",
      " #   Column   Non-Null Count  Dtype  \n",
      "---  ------   --------------  -----  \n",
      " 0   GB/FB    5631 non-null   float64\n",
      " 1   LD%      5631 non-null   float64\n",
      " 2   GB%      5631 non-null   float64\n",
      " 3   FB%      5631 non-null   float64\n",
      " 4   IFFB%    5631 non-null   float64\n",
      " 5   HR/FB    5631 non-null   float64\n",
      " 6   RS       5631 non-null   int64  \n",
      " 7   RS/9     5631 non-null   float64\n",
      " 8   Balls    5631 non-null   int64  \n",
      " 9   Strikes  5631 non-null   int64  \n",
      " 10  Pitches  5631 non-null   int64  \n",
      " 11  Pull%    5631 non-null   float64\n",
      " 12  Cent%    5631 non-null   float64\n",
      " 13  Oppo%    5631 non-null   float64\n",
      " 14  Soft%    5631 non-null   float64\n",
      " 15  Med%     5631 non-null   float64\n",
      " 16  Hard%    5631 non-null   float64\n",
      "dtypes: float64(13), int64(4)\n",
      "memory usage: 842.4 KB\n"
     ]
    }
   ],
   "source": [
    "fg_batted_ball.info()"
   ]
  },
  {
   "cell_type": "code",
   "execution_count": 16,
   "metadata": {},
   "outputs": [
    {
     "data": {
      "text/html": [
       "<div>\n",
       "<style scoped>\n",
       "    .dataframe tbody tr th:only-of-type {\n",
       "        vertical-align: middle;\n",
       "    }\n",
       "\n",
       "    .dataframe tbody tr th {\n",
       "        vertical-align: top;\n",
       "    }\n",
       "\n",
       "    .dataframe thead th {\n",
       "        text-align: right;\n",
       "    }\n",
       "</style>\n",
       "<table border=\"1\" class=\"dataframe\">\n",
       "  <thead>\n",
       "    <tr style=\"text-align: right;\">\n",
       "      <th></th>\n",
       "      <th>GB/FB</th>\n",
       "      <th>LD%</th>\n",
       "      <th>GB%</th>\n",
       "      <th>FB%</th>\n",
       "      <th>IFFB%</th>\n",
       "      <th>HR/FB</th>\n",
       "      <th>RS</th>\n",
       "      <th>RS/9</th>\n",
       "      <th>Balls</th>\n",
       "      <th>Strikes</th>\n",
       "      <th>Pitches</th>\n",
       "      <th>Pull%</th>\n",
       "      <th>Cent%</th>\n",
       "      <th>Oppo%</th>\n",
       "      <th>Soft%</th>\n",
       "      <th>Med%</th>\n",
       "      <th>Hard%</th>\n",
       "    </tr>\n",
       "  </thead>\n",
       "  <tbody>\n",
       "    <tr>\n",
       "      <th>count</th>\n",
       "      <td>5631.000000</td>\n",
       "      <td>5631.000000</td>\n",
       "      <td>5631.000000</td>\n",
       "      <td>5631.000000</td>\n",
       "      <td>5631.000000</td>\n",
       "      <td>5631.000000</td>\n",
       "      <td>5631.000000</td>\n",
       "      <td>5631.000000</td>\n",
       "      <td>5631.000000</td>\n",
       "      <td>5631.000000</td>\n",
       "      <td>5631.000000</td>\n",
       "      <td>5631.000000</td>\n",
       "      <td>5631.000000</td>\n",
       "      <td>5631.000000</td>\n",
       "      <td>5631.000000</td>\n",
       "      <td>5631.000000</td>\n",
       "      <td>5631.000000</td>\n",
       "    </tr>\n",
       "    <tr>\n",
       "      <th>mean</th>\n",
       "      <td>1.332945</td>\n",
       "      <td>0.204957</td>\n",
       "      <td>0.433065</td>\n",
       "      <td>0.361978</td>\n",
       "      <td>0.097537</td>\n",
       "      <td>0.125080</td>\n",
       "      <td>37.891849</td>\n",
       "      <td>4.395174</td>\n",
       "      <td>445.536494</td>\n",
       "      <td>791.586042</td>\n",
       "      <td>1237.122536</td>\n",
       "      <td>0.399596</td>\n",
       "      <td>0.347611</td>\n",
       "      <td>0.252794</td>\n",
       "      <td>0.175113</td>\n",
       "      <td>0.504943</td>\n",
       "      <td>0.319944</td>\n",
       "    </tr>\n",
       "    <tr>\n",
       "      <th>std</th>\n",
       "      <td>0.679064</td>\n",
       "      <td>0.035821</td>\n",
       "      <td>0.084852</td>\n",
       "      <td>0.083104</td>\n",
       "      <td>0.045964</td>\n",
       "      <td>0.053003</td>\n",
       "      <td>30.436496</td>\n",
       "      <td>1.525631</td>\n",
       "      <td>288.901110</td>\n",
       "      <td>526.847009</td>\n",
       "      <td>812.401334</td>\n",
       "      <td>0.053754</td>\n",
       "      <td>0.041414</td>\n",
       "      <td>0.046184</td>\n",
       "      <td>0.039112</td>\n",
       "      <td>0.051792</td>\n",
       "      <td>0.055373</td>\n",
       "    </tr>\n",
       "    <tr>\n",
       "      <th>min</th>\n",
       "      <td>0.214286</td>\n",
       "      <td>0.025641</td>\n",
       "      <td>0.136364</td>\n",
       "      <td>0.079646</td>\n",
       "      <td>0.000000</td>\n",
       "      <td>0.000000</td>\n",
       "      <td>0.000000</td>\n",
       "      <td>0.000000</td>\n",
       "      <td>70.000000</td>\n",
       "      <td>163.000000</td>\n",
       "      <td>233.000000</td>\n",
       "      <td>0.180723</td>\n",
       "      <td>0.144737</td>\n",
       "      <td>0.071429</td>\n",
       "      <td>0.037037</td>\n",
       "      <td>0.295082</td>\n",
       "      <td>0.096154</td>\n",
       "    </tr>\n",
       "    <tr>\n",
       "      <th>25%</th>\n",
       "      <td>0.906630</td>\n",
       "      <td>0.182927</td>\n",
       "      <td>0.375743</td>\n",
       "      <td>0.305165</td>\n",
       "      <td>0.068182</td>\n",
       "      <td>0.090909</td>\n",
       "      <td>16.000000</td>\n",
       "      <td>3.437975</td>\n",
       "      <td>232.000000</td>\n",
       "      <td>400.000000</td>\n",
       "      <td>635.000000</td>\n",
       "      <td>0.364475</td>\n",
       "      <td>0.322314</td>\n",
       "      <td>0.222958</td>\n",
       "      <td>0.148936</td>\n",
       "      <td>0.472565</td>\n",
       "      <td>0.283515</td>\n",
       "    </tr>\n",
       "    <tr>\n",
       "      <th>50%</th>\n",
       "      <td>1.189055</td>\n",
       "      <td>0.205128</td>\n",
       "      <td>0.430464</td>\n",
       "      <td>0.361111</td>\n",
       "      <td>0.095238</td>\n",
       "      <td>0.120370</td>\n",
       "      <td>28.000000</td>\n",
       "      <td>4.378380</td>\n",
       "      <td>351.000000</td>\n",
       "      <td>630.000000</td>\n",
       "      <td>979.000000</td>\n",
       "      <td>0.400000</td>\n",
       "      <td>0.346457</td>\n",
       "      <td>0.250000</td>\n",
       "      <td>0.173554</td>\n",
       "      <td>0.506667</td>\n",
       "      <td>0.316832</td>\n",
       "    </tr>\n",
       "    <tr>\n",
       "      <th>75%</th>\n",
       "      <td>1.575758</td>\n",
       "      <td>0.225661</td>\n",
       "      <td>0.486111</td>\n",
       "      <td>0.414894</td>\n",
       "      <td>0.125000</td>\n",
       "      <td>0.153846</td>\n",
       "      <td>50.000000</td>\n",
       "      <td>5.307472</td>\n",
       "      <td>572.000000</td>\n",
       "      <td>1015.000000</td>\n",
       "      <td>1579.500000</td>\n",
       "      <td>0.434783</td>\n",
       "      <td>0.372927</td>\n",
       "      <td>0.281081</td>\n",
       "      <td>0.199438</td>\n",
       "      <td>0.539683</td>\n",
       "      <td>0.355070</td>\n",
       "    </tr>\n",
       "    <tr>\n",
       "      <th>max</th>\n",
       "      <td>9.142857</td>\n",
       "      <td>0.393617</td>\n",
       "      <td>0.800000</td>\n",
       "      <td>0.662651</td>\n",
       "      <td>0.285714</td>\n",
       "      <td>0.470588</td>\n",
       "      <td>189.000000</td>\n",
       "      <td>16.831177</td>\n",
       "      <td>1369.000000</td>\n",
       "      <td>2600.000000</td>\n",
       "      <td>3730.000000</td>\n",
       "      <td>0.626374</td>\n",
       "      <td>0.514706</td>\n",
       "      <td>0.448980</td>\n",
       "      <td>0.349057</td>\n",
       "      <td>0.730769</td>\n",
       "      <td>0.545455</td>\n",
       "    </tr>\n",
       "  </tbody>\n",
       "</table>\n",
       "</div>"
      ],
      "text/plain": [
       "             GB/FB          LD%          GB%          FB%        IFFB%  \\\n",
       "count  5631.000000  5631.000000  5631.000000  5631.000000  5631.000000   \n",
       "mean      1.332945     0.204957     0.433065     0.361978     0.097537   \n",
       "std       0.679064     0.035821     0.084852     0.083104     0.045964   \n",
       "min       0.214286     0.025641     0.136364     0.079646     0.000000   \n",
       "25%       0.906630     0.182927     0.375743     0.305165     0.068182   \n",
       "50%       1.189055     0.205128     0.430464     0.361111     0.095238   \n",
       "75%       1.575758     0.225661     0.486111     0.414894     0.125000   \n",
       "max       9.142857     0.393617     0.800000     0.662651     0.285714   \n",
       "\n",
       "             HR/FB           RS         RS/9        Balls      Strikes  \\\n",
       "count  5631.000000  5631.000000  5631.000000  5631.000000  5631.000000   \n",
       "mean      0.125080    37.891849     4.395174   445.536494   791.586042   \n",
       "std       0.053003    30.436496     1.525631   288.901110   526.847009   \n",
       "min       0.000000     0.000000     0.000000    70.000000   163.000000   \n",
       "25%       0.090909    16.000000     3.437975   232.000000   400.000000   \n",
       "50%       0.120370    28.000000     4.378380   351.000000   630.000000   \n",
       "75%       0.153846    50.000000     5.307472   572.000000  1015.000000   \n",
       "max       0.470588   189.000000    16.831177  1369.000000  2600.000000   \n",
       "\n",
       "           Pitches        Pull%        Cent%        Oppo%        Soft%  \\\n",
       "count  5631.000000  5631.000000  5631.000000  5631.000000  5631.000000   \n",
       "mean   1237.122536     0.399596     0.347611     0.252794     0.175113   \n",
       "std     812.401334     0.053754     0.041414     0.046184     0.039112   \n",
       "min     233.000000     0.180723     0.144737     0.071429     0.037037   \n",
       "25%     635.000000     0.364475     0.322314     0.222958     0.148936   \n",
       "50%     979.000000     0.400000     0.346457     0.250000     0.173554   \n",
       "75%    1579.500000     0.434783     0.372927     0.281081     0.199438   \n",
       "max    3730.000000     0.626374     0.514706     0.448980     0.349057   \n",
       "\n",
       "              Med%        Hard%  \n",
       "count  5631.000000  5631.000000  \n",
       "mean      0.504943     0.319944  \n",
       "std       0.051792     0.055373  \n",
       "min       0.295082     0.096154  \n",
       "25%       0.472565     0.283515  \n",
       "50%       0.506667     0.316832  \n",
       "75%       0.539683     0.355070  \n",
       "max       0.730769     0.545455  "
      ]
     },
     "execution_count": 16,
     "metadata": {},
     "output_type": "execute_result"
    }
   ],
   "source": [
    "fg_batted_ball.describe()"
   ]
  },
  {
   "cell_type": "code",
   "execution_count": 17,
   "metadata": {},
   "outputs": [
    {
     "data": {
      "text/html": [
       "<div>\n",
       "<style scoped>\n",
       "    .dataframe tbody tr th:only-of-type {\n",
       "        vertical-align: middle;\n",
       "    }\n",
       "\n",
       "    .dataframe tbody tr th {\n",
       "        vertical-align: top;\n",
       "    }\n",
       "\n",
       "    .dataframe thead th {\n",
       "        text-align: right;\n",
       "    }\n",
       "</style>\n",
       "<table border=\"1\" class=\"dataframe\">\n",
       "  <thead>\n",
       "    <tr style=\"text-align: right;\">\n",
       "      <th></th>\n",
       "      <th></th>\n",
       "      <th>GB/FB</th>\n",
       "      <th>LD%</th>\n",
       "      <th>GB%</th>\n",
       "      <th>FB%</th>\n",
       "      <th>IFFB%</th>\n",
       "      <th>HR/FB</th>\n",
       "      <th>RS</th>\n",
       "      <th>RS/9</th>\n",
       "      <th>Balls</th>\n",
       "      <th>Strikes</th>\n",
       "      <th>Pitches</th>\n",
       "      <th>Pull%</th>\n",
       "      <th>Cent%</th>\n",
       "      <th>Oppo%</th>\n",
       "      <th>Soft%</th>\n",
       "      <th>Med%</th>\n",
       "      <th>Hard%</th>\n",
       "    </tr>\n",
       "    <tr>\n",
       "      <th>PlayerId</th>\n",
       "      <th>Season</th>\n",
       "      <th></th>\n",
       "      <th></th>\n",
       "      <th></th>\n",
       "      <th></th>\n",
       "      <th></th>\n",
       "      <th></th>\n",
       "      <th></th>\n",
       "      <th></th>\n",
       "      <th></th>\n",
       "      <th></th>\n",
       "      <th></th>\n",
       "      <th></th>\n",
       "      <th></th>\n",
       "      <th></th>\n",
       "      <th></th>\n",
       "      <th></th>\n",
       "      <th></th>\n",
       "    </tr>\n",
       "  </thead>\n",
       "  <tbody>\n",
       "    <tr>\n",
       "      <th>12183</th>\n",
       "      <th>2019</th>\n",
       "      <td>0.302326</td>\n",
       "      <td>0.151515</td>\n",
       "      <td>0.196970</td>\n",
       "      <td>0.651515</td>\n",
       "      <td>0.116279</td>\n",
       "      <td>0.209302</td>\n",
       "      <td>5</td>\n",
       "      <td>1.956523</td>\n",
       "      <td>208</td>\n",
       "      <td>283</td>\n",
       "      <td>491</td>\n",
       "      <td>0.287879</td>\n",
       "      <td>0.439394</td>\n",
       "      <td>0.272727</td>\n",
       "      <td>0.136364</td>\n",
       "      <td>0.318182</td>\n",
       "      <td>0.545455</td>\n",
       "    </tr>\n",
       "    <tr>\n",
       "      <th>7450</th>\n",
       "      <th>2018</th>\n",
       "      <td>0.607843</td>\n",
       "      <td>0.240741</td>\n",
       "      <td>0.287037</td>\n",
       "      <td>0.472222</td>\n",
       "      <td>0.019608</td>\n",
       "      <td>0.215686</td>\n",
       "      <td>19</td>\n",
       "      <td>5.234694</td>\n",
       "      <td>191</td>\n",
       "      <td>371</td>\n",
       "      <td>562</td>\n",
       "      <td>0.385321</td>\n",
       "      <td>0.348624</td>\n",
       "      <td>0.266055</td>\n",
       "      <td>0.091743</td>\n",
       "      <td>0.366972</td>\n",
       "      <td>0.541284</td>\n",
       "    </tr>\n",
       "    <tr>\n",
       "      <th>17998</th>\n",
       "      <th>2019</th>\n",
       "      <td>1.444444</td>\n",
       "      <td>0.266667</td>\n",
       "      <td>0.433333</td>\n",
       "      <td>0.300000</td>\n",
       "      <td>0.055556</td>\n",
       "      <td>0.277778</td>\n",
       "      <td>9</td>\n",
       "      <td>3.857143</td>\n",
       "      <td>139</td>\n",
       "      <td>248</td>\n",
       "      <td>387</td>\n",
       "      <td>0.442623</td>\n",
       "      <td>0.311475</td>\n",
       "      <td>0.245902</td>\n",
       "      <td>0.180328</td>\n",
       "      <td>0.295082</td>\n",
       "      <td>0.524590</td>\n",
       "    </tr>\n",
       "    <tr>\n",
       "      <th>1246</th>\n",
       "      <th>2018</th>\n",
       "      <td>1.434783</td>\n",
       "      <td>0.232877</td>\n",
       "      <td>0.452055</td>\n",
       "      <td>0.315068</td>\n",
       "      <td>0.130435</td>\n",
       "      <td>0.130435</td>\n",
       "      <td>14</td>\n",
       "      <td>5.478261</td>\n",
       "      <td>167</td>\n",
       "      <td>247</td>\n",
       "      <td>414</td>\n",
       "      <td>0.315068</td>\n",
       "      <td>0.246575</td>\n",
       "      <td>0.438356</td>\n",
       "      <td>0.136986</td>\n",
       "      <td>0.342466</td>\n",
       "      <td>0.520548</td>\n",
       "    </tr>\n",
       "    <tr>\n",
       "      <th>13549</th>\n",
       "      <th>2020</th>\n",
       "      <td>1.000000</td>\n",
       "      <td>0.215686</td>\n",
       "      <td>0.392157</td>\n",
       "      <td>0.392157</td>\n",
       "      <td>0.050000</td>\n",
       "      <td>0.150000</td>\n",
       "      <td>12</td>\n",
       "      <td>4.628572</td>\n",
       "      <td>136</td>\n",
       "      <td>256</td>\n",
       "      <td>392</td>\n",
       "      <td>0.313725</td>\n",
       "      <td>0.431373</td>\n",
       "      <td>0.254902</td>\n",
       "      <td>0.117647</td>\n",
       "      <td>0.372549</td>\n",
       "      <td>0.509804</td>\n",
       "    </tr>\n",
       "  </tbody>\n",
       "</table>\n",
       "</div>"
      ],
      "text/plain": [
       "                    GB/FB       LD%       GB%       FB%     IFFB%     HR/FB  \\\n",
       "PlayerId Season                                                               \n",
       "12183    2019    0.302326  0.151515  0.196970  0.651515  0.116279  0.209302   \n",
       "7450     2018    0.607843  0.240741  0.287037  0.472222  0.019608  0.215686   \n",
       "17998    2019    1.444444  0.266667  0.433333  0.300000  0.055556  0.277778   \n",
       "1246     2018    1.434783  0.232877  0.452055  0.315068  0.130435  0.130435   \n",
       "13549    2020    1.000000  0.215686  0.392157  0.392157  0.050000  0.150000   \n",
       "\n",
       "                 RS      RS/9  Balls  Strikes  Pitches     Pull%     Cent%  \\\n",
       "PlayerId Season                                                              \n",
       "12183    2019     5  1.956523    208      283      491  0.287879  0.439394   \n",
       "7450     2018    19  5.234694    191      371      562  0.385321  0.348624   \n",
       "17998    2019     9  3.857143    139      248      387  0.442623  0.311475   \n",
       "1246     2018    14  5.478261    167      247      414  0.315068  0.246575   \n",
       "13549    2020    12  4.628572    136      256      392  0.313725  0.431373   \n",
       "\n",
       "                    Oppo%     Soft%      Med%     Hard%  \n",
       "PlayerId Season                                          \n",
       "12183    2019    0.272727  0.136364  0.318182  0.545455  \n",
       "7450     2018    0.266055  0.091743  0.366972  0.541284  \n",
       "17998    2019    0.245902  0.180328  0.295082  0.524590  \n",
       "1246     2018    0.438356  0.136986  0.342466  0.520548  \n",
       "13549    2020    0.254902  0.117647  0.372549  0.509804  "
      ]
     },
     "execution_count": 17,
     "metadata": {},
     "output_type": "execute_result"
    }
   ],
   "source": [
    "fg_batted_ball.head()"
   ]
  },
  {
   "cell_type": "markdown",
   "metadata": {},
   "source": [
    "### Statcast Pitch Type data"
   ]
  },
  {
   "cell_type": "markdown",
   "metadata": {},
   "source": [
    "*NOTE: Every instance in this data set will have a NA (since no pitcher throws all pitch types).*"
   ]
  },
  {
   "cell_type": "code",
   "execution_count": 18,
   "metadata": {},
   "outputs": [
    {
     "name": "stdout",
     "output_type": "stream",
     "text": [
      "<class 'pandas.core.frame.DataFrame'>\n",
      "MultiIndex: 5631 entries, (18, 2014) to (33876, 2024)\n",
      "Data columns (total 14 columns):\n",
      " #   Column  Non-Null Count  Dtype  \n",
      "---  ------  --------------  -----  \n",
      " 0   FA%     5384 non-null   float64\n",
      " 1   FT%     0 non-null      float64\n",
      " 2   FC%     1978 non-null   float64\n",
      " 3   FS%     599 non-null    float64\n",
      " 4   FO%     9 non-null      float64\n",
      " 5   SI%     4291 non-null   float64\n",
      " 6   SL%     4516 non-null   float64\n",
      " 7   CU%     3206 non-null   float64\n",
      " 8   KC%     666 non-null    float64\n",
      " 9   EP%     44 non-null     float64\n",
      " 10  CH%     4525 non-null   float64\n",
      " 11  SC%     10 non-null     float64\n",
      " 12  KN%     13 non-null     float64\n",
      " 13  UN%     0 non-null      float64\n",
      "dtypes: float64(14)\n",
      "memory usage: 710.5 KB\n"
     ]
    }
   ],
   "source": [
    "fg_pitch_type.info()"
   ]
  },
  {
   "cell_type": "code",
   "execution_count": 19,
   "metadata": {},
   "outputs": [
    {
     "data": {
      "text/html": [
       "<div>\n",
       "<style scoped>\n",
       "    .dataframe tbody tr th:only-of-type {\n",
       "        vertical-align: middle;\n",
       "    }\n",
       "\n",
       "    .dataframe tbody tr th {\n",
       "        vertical-align: top;\n",
       "    }\n",
       "\n",
       "    .dataframe thead th {\n",
       "        text-align: right;\n",
       "    }\n",
       "</style>\n",
       "<table border=\"1\" class=\"dataframe\">\n",
       "  <thead>\n",
       "    <tr style=\"text-align: right;\">\n",
       "      <th></th>\n",
       "      <th>FA%</th>\n",
       "      <th>FT%</th>\n",
       "      <th>FC%</th>\n",
       "      <th>FS%</th>\n",
       "      <th>FO%</th>\n",
       "      <th>SI%</th>\n",
       "      <th>SL%</th>\n",
       "      <th>CU%</th>\n",
       "      <th>KC%</th>\n",
       "      <th>EP%</th>\n",
       "      <th>CH%</th>\n",
       "      <th>SC%</th>\n",
       "      <th>KN%</th>\n",
       "      <th>UN%</th>\n",
       "    </tr>\n",
       "  </thead>\n",
       "  <tbody>\n",
       "    <tr>\n",
       "      <th>count</th>\n",
       "      <td>5384.000000</td>\n",
       "      <td>0.0</td>\n",
       "      <td>1978.000000</td>\n",
       "      <td>599.000000</td>\n",
       "      <td>9.000000</td>\n",
       "      <td>4291.000000</td>\n",
       "      <td>4516.000000</td>\n",
       "      <td>3206.000000</td>\n",
       "      <td>666.000000</td>\n",
       "      <td>44.000000</td>\n",
       "      <td>4525.000000</td>\n",
       "      <td>10.000000</td>\n",
       "      <td>13.000000</td>\n",
       "      <td>0.0</td>\n",
       "    </tr>\n",
       "    <tr>\n",
       "      <th>mean</th>\n",
       "      <td>0.367085</td>\n",
       "      <td>NaN</td>\n",
       "      <td>0.179283</td>\n",
       "      <td>0.159376</td>\n",
       "      <td>0.183816</td>\n",
       "      <td>0.236520</td>\n",
       "      <td>0.236872</td>\n",
       "      <td>0.132400</td>\n",
       "      <td>0.173385</td>\n",
       "      <td>0.013292</td>\n",
       "      <td>0.125846</td>\n",
       "      <td>0.042426</td>\n",
       "      <td>0.602910</td>\n",
       "      <td>NaN</td>\n",
       "    </tr>\n",
       "    <tr>\n",
       "      <th>std</th>\n",
       "      <td>0.194887</td>\n",
       "      <td>NaN</td>\n",
       "      <td>0.156822</td>\n",
       "      <td>0.126876</td>\n",
       "      <td>0.108127</td>\n",
       "      <td>0.197564</td>\n",
       "      <td>0.139273</td>\n",
       "      <td>0.100031</td>\n",
       "      <td>0.122252</td>\n",
       "      <td>0.020256</td>\n",
       "      <td>0.099032</td>\n",
       "      <td>0.072068</td>\n",
       "      <td>0.324374</td>\n",
       "      <td>NaN</td>\n",
       "    </tr>\n",
       "    <tr>\n",
       "      <th>min</th>\n",
       "      <td>0.000364</td>\n",
       "      <td>NaN</td>\n",
       "      <td>0.000296</td>\n",
       "      <td>0.000312</td>\n",
       "      <td>0.000592</td>\n",
       "      <td>0.000297</td>\n",
       "      <td>0.000303</td>\n",
       "      <td>0.000321</td>\n",
       "      <td>0.000342</td>\n",
       "      <td>0.000301</td>\n",
       "      <td>0.000308</td>\n",
       "      <td>0.000335</td>\n",
       "      <td>0.000337</td>\n",
       "      <td>NaN</td>\n",
       "    </tr>\n",
       "    <tr>\n",
       "      <th>25%</th>\n",
       "      <td>0.224910</td>\n",
       "      <td>NaN</td>\n",
       "      <td>0.052460</td>\n",
       "      <td>0.056800</td>\n",
       "      <td>0.166337</td>\n",
       "      <td>0.065484</td>\n",
       "      <td>0.136628</td>\n",
       "      <td>0.056815</td>\n",
       "      <td>0.079250</td>\n",
       "      <td>0.001246</td>\n",
       "      <td>0.045714</td>\n",
       "      <td>0.003105</td>\n",
       "      <td>0.381633</td>\n",
       "      <td>NaN</td>\n",
       "    </tr>\n",
       "    <tr>\n",
       "      <th>50%</th>\n",
       "      <td>0.387557</td>\n",
       "      <td>NaN</td>\n",
       "      <td>0.155710</td>\n",
       "      <td>0.144431</td>\n",
       "      <td>0.237191</td>\n",
       "      <td>0.198570</td>\n",
       "      <td>0.226782</td>\n",
       "      <td>0.114950</td>\n",
       "      <td>0.161342</td>\n",
       "      <td>0.004580</td>\n",
       "      <td>0.108069</td>\n",
       "      <td>0.014177</td>\n",
       "      <td>0.742775</td>\n",
       "      <td>NaN</td>\n",
       "    </tr>\n",
       "    <tr>\n",
       "      <th>75%</th>\n",
       "      <td>0.513742</td>\n",
       "      <td>NaN</td>\n",
       "      <td>0.256480</td>\n",
       "      <td>0.234217</td>\n",
       "      <td>0.253550</td>\n",
       "      <td>0.366164</td>\n",
       "      <td>0.321912</td>\n",
       "      <td>0.188216</td>\n",
       "      <td>0.250731</td>\n",
       "      <td>0.014528</td>\n",
       "      <td>0.184442</td>\n",
       "      <td>0.038985</td>\n",
       "      <td>0.817299</td>\n",
       "      <td>NaN</td>\n",
       "    </tr>\n",
       "    <tr>\n",
       "      <th>max</th>\n",
       "      <td>0.963855</td>\n",
       "      <td>NaN</td>\n",
       "      <td>0.891683</td>\n",
       "      <td>0.680899</td>\n",
       "      <td>0.277372</td>\n",
       "      <td>0.917485</td>\n",
       "      <td>0.913218</td>\n",
       "      <td>0.716157</td>\n",
       "      <td>0.562500</td>\n",
       "      <td>0.089793</td>\n",
       "      <td>0.757664</td>\n",
       "      <td>0.235392</td>\n",
       "      <td>0.872573</td>\n",
       "      <td>NaN</td>\n",
       "    </tr>\n",
       "  </tbody>\n",
       "</table>\n",
       "</div>"
      ],
      "text/plain": [
       "               FA%  FT%          FC%         FS%       FO%          SI%  \\\n",
       "count  5384.000000  0.0  1978.000000  599.000000  9.000000  4291.000000   \n",
       "mean      0.367085  NaN     0.179283    0.159376  0.183816     0.236520   \n",
       "std       0.194887  NaN     0.156822    0.126876  0.108127     0.197564   \n",
       "min       0.000364  NaN     0.000296    0.000312  0.000592     0.000297   \n",
       "25%       0.224910  NaN     0.052460    0.056800  0.166337     0.065484   \n",
       "50%       0.387557  NaN     0.155710    0.144431  0.237191     0.198570   \n",
       "75%       0.513742  NaN     0.256480    0.234217  0.253550     0.366164   \n",
       "max       0.963855  NaN     0.891683    0.680899  0.277372     0.917485   \n",
       "\n",
       "               SL%          CU%         KC%        EP%          CH%  \\\n",
       "count  4516.000000  3206.000000  666.000000  44.000000  4525.000000   \n",
       "mean      0.236872     0.132400    0.173385   0.013292     0.125846   \n",
       "std       0.139273     0.100031    0.122252   0.020256     0.099032   \n",
       "min       0.000303     0.000321    0.000342   0.000301     0.000308   \n",
       "25%       0.136628     0.056815    0.079250   0.001246     0.045714   \n",
       "50%       0.226782     0.114950    0.161342   0.004580     0.108069   \n",
       "75%       0.321912     0.188216    0.250731   0.014528     0.184442   \n",
       "max       0.913218     0.716157    0.562500   0.089793     0.757664   \n",
       "\n",
       "             SC%        KN%  UN%  \n",
       "count  10.000000  13.000000  0.0  \n",
       "mean    0.042426   0.602910  NaN  \n",
       "std     0.072068   0.324374  NaN  \n",
       "min     0.000335   0.000337  NaN  \n",
       "25%     0.003105   0.381633  NaN  \n",
       "50%     0.014177   0.742775  NaN  \n",
       "75%     0.038985   0.817299  NaN  \n",
       "max     0.235392   0.872573  NaN  "
      ]
     },
     "execution_count": 19,
     "metadata": {},
     "output_type": "execute_result"
    }
   ],
   "source": [
    "fg_pitch_type.describe()"
   ]
  },
  {
   "cell_type": "code",
   "execution_count": 20,
   "metadata": {},
   "outputs": [
    {
     "data": {
      "text/html": [
       "<div>\n",
       "<style scoped>\n",
       "    .dataframe tbody tr th:only-of-type {\n",
       "        vertical-align: middle;\n",
       "    }\n",
       "\n",
       "    .dataframe tbody tr th {\n",
       "        vertical-align: top;\n",
       "    }\n",
       "\n",
       "    .dataframe thead th {\n",
       "        text-align: right;\n",
       "    }\n",
       "</style>\n",
       "<table border=\"1\" class=\"dataframe\">\n",
       "  <thead>\n",
       "    <tr style=\"text-align: right;\">\n",
       "      <th></th>\n",
       "      <th></th>\n",
       "      <th>FA%</th>\n",
       "      <th>FT%</th>\n",
       "      <th>FC%</th>\n",
       "      <th>FS%</th>\n",
       "      <th>FO%</th>\n",
       "      <th>SI%</th>\n",
       "      <th>SL%</th>\n",
       "      <th>CU%</th>\n",
       "      <th>KC%</th>\n",
       "      <th>EP%</th>\n",
       "      <th>CH%</th>\n",
       "      <th>SC%</th>\n",
       "      <th>KN%</th>\n",
       "      <th>UN%</th>\n",
       "    </tr>\n",
       "    <tr>\n",
       "      <th>PlayerId</th>\n",
       "      <th>Season</th>\n",
       "      <th></th>\n",
       "      <th></th>\n",
       "      <th></th>\n",
       "      <th></th>\n",
       "      <th></th>\n",
       "      <th></th>\n",
       "      <th></th>\n",
       "      <th></th>\n",
       "      <th></th>\n",
       "      <th></th>\n",
       "      <th></th>\n",
       "      <th></th>\n",
       "      <th></th>\n",
       "      <th></th>\n",
       "    </tr>\n",
       "  </thead>\n",
       "  <tbody>\n",
       "    <tr>\n",
       "      <th>18</th>\n",
       "      <th>2014</th>\n",
       "      <td>0.665975</td>\n",
       "      <td>NaN</td>\n",
       "      <td>NaN</td>\n",
       "      <td>NaN</td>\n",
       "      <td>NaN</td>\n",
       "      <td>0.035270</td>\n",
       "      <td>0.172199</td>\n",
       "      <td>NaN</td>\n",
       "      <td>NaN</td>\n",
       "      <td>NaN</td>\n",
       "      <td>0.126556</td>\n",
       "      <td>NaN</td>\n",
       "      <td>NaN</td>\n",
       "      <td>NaN</td>\n",
       "    </tr>\n",
       "    <tr>\n",
       "      <th>126</th>\n",
       "      <th>2014</th>\n",
       "      <td>0.388690</td>\n",
       "      <td>NaN</td>\n",
       "      <td>0.016464</td>\n",
       "      <td>0.089477</td>\n",
       "      <td>NaN</td>\n",
       "      <td>0.156765</td>\n",
       "      <td>NaN</td>\n",
       "      <td>0.229778</td>\n",
       "      <td>NaN</td>\n",
       "      <td>NaN</td>\n",
       "      <td>0.118826</td>\n",
       "      <td>NaN</td>\n",
       "      <td>NaN</td>\n",
       "      <td>NaN</td>\n",
       "    </tr>\n",
       "    <tr>\n",
       "      <th>225</th>\n",
       "      <th>2014</th>\n",
       "      <td>0.212849</td>\n",
       "      <td>NaN</td>\n",
       "      <td>0.125892</td>\n",
       "      <td>NaN</td>\n",
       "      <td>NaN</td>\n",
       "      <td>0.276119</td>\n",
       "      <td>NaN</td>\n",
       "      <td>0.130110</td>\n",
       "      <td>NaN</td>\n",
       "      <td>NaN</td>\n",
       "      <td>0.255029</td>\n",
       "      <td>NaN</td>\n",
       "      <td>NaN</td>\n",
       "      <td>NaN</td>\n",
       "    </tr>\n",
       "    <tr>\n",
       "      <th>278</th>\n",
       "      <th>2014</th>\n",
       "      <td>0.387234</td>\n",
       "      <td>NaN</td>\n",
       "      <td>0.002128</td>\n",
       "      <td>NaN</td>\n",
       "      <td>NaN</td>\n",
       "      <td>0.223404</td>\n",
       "      <td>0.234043</td>\n",
       "      <td>0.002128</td>\n",
       "      <td>NaN</td>\n",
       "      <td>NaN</td>\n",
       "      <td>0.151064</td>\n",
       "      <td>NaN</td>\n",
       "      <td>NaN</td>\n",
       "      <td>NaN</td>\n",
       "    </tr>\n",
       "    <tr>\n",
       "      <th>375</th>\n",
       "      <th>2014</th>\n",
       "      <td>0.285619</td>\n",
       "      <td>NaN</td>\n",
       "      <td>NaN</td>\n",
       "      <td>NaN</td>\n",
       "      <td>NaN</td>\n",
       "      <td>0.535202</td>\n",
       "      <td>0.122789</td>\n",
       "      <td>NaN</td>\n",
       "      <td>NaN</td>\n",
       "      <td>NaN</td>\n",
       "      <td>0.056390</td>\n",
       "      <td>NaN</td>\n",
       "      <td>NaN</td>\n",
       "      <td>NaN</td>\n",
       "    </tr>\n",
       "  </tbody>\n",
       "</table>\n",
       "</div>"
      ],
      "text/plain": [
       "                      FA%  FT%       FC%       FS%  FO%       SI%       SL%  \\\n",
       "PlayerId Season                                                               \n",
       "18       2014    0.665975  NaN       NaN       NaN  NaN  0.035270  0.172199   \n",
       "126      2014    0.388690  NaN  0.016464  0.089477  NaN  0.156765       NaN   \n",
       "225      2014    0.212849  NaN  0.125892       NaN  NaN  0.276119       NaN   \n",
       "278      2014    0.387234  NaN  0.002128       NaN  NaN  0.223404  0.234043   \n",
       "375      2014    0.285619  NaN       NaN       NaN  NaN  0.535202  0.122789   \n",
       "\n",
       "                      CU%  KC%  EP%       CH%  SC%  KN%  UN%  \n",
       "PlayerId Season                                               \n",
       "18       2014         NaN  NaN  NaN  0.126556  NaN  NaN  NaN  \n",
       "126      2014    0.229778  NaN  NaN  0.118826  NaN  NaN  NaN  \n",
       "225      2014    0.130110  NaN  NaN  0.255029  NaN  NaN  NaN  \n",
       "278      2014    0.002128  NaN  NaN  0.151064  NaN  NaN  NaN  \n",
       "375      2014         NaN  NaN  NaN  0.056390  NaN  NaN  NaN  "
      ]
     },
     "execution_count": 20,
     "metadata": {},
     "output_type": "execute_result"
    }
   ],
   "source": [
    "fg_pitch_type.head()"
   ]
  },
  {
   "cell_type": "markdown",
   "metadata": {},
   "source": [
    "### Statcast Pitch Value data"
   ]
  },
  {
   "cell_type": "markdown",
   "metadata": {},
   "source": [
    "Run values by pitch type - http://tangotiger.com/index.php/site/article/run-values-by-pitch-count"
   ]
  },
  {
   "cell_type": "code",
   "execution_count": 21,
   "metadata": {},
   "outputs": [
    {
     "name": "stdout",
     "output_type": "stream",
     "text": [
      "<class 'pandas.core.frame.DataFrame'>\n",
      "MultiIndex: 5631 entries, (1245, 2015) to (33876, 2024)\n",
      "Data columns (total 13 columns):\n",
      " #   Column  Non-Null Count  Dtype  \n",
      "---  ------  --------------  -----  \n",
      " 0   wFA     5384 non-null   float64\n",
      " 1   wFT     0 non-null      float64\n",
      " 2   wFC     1978 non-null   float64\n",
      " 3   wFS     599 non-null    float64\n",
      " 4   wFO     9 non-null      float64\n",
      " 5   wSI     4291 non-null   float64\n",
      " 6   wSL     4516 non-null   float64\n",
      " 7   wCU     3206 non-null   float64\n",
      " 8   wKC     666 non-null    float64\n",
      " 9   wEP     44 non-null     float64\n",
      " 10  wCH     4525 non-null   float64\n",
      " 11  wSC     10 non-null     float64\n",
      " 12  wKN     13 non-null     float64\n",
      "dtypes: float64(13)\n",
      "memory usage: 666.5 KB\n"
     ]
    }
   ],
   "source": [
    "fg_pitch_type_value.info()"
   ]
  },
  {
   "cell_type": "code",
   "execution_count": 22,
   "metadata": {},
   "outputs": [
    {
     "data": {
      "text/html": [
       "<div>\n",
       "<style scoped>\n",
       "    .dataframe tbody tr th:only-of-type {\n",
       "        vertical-align: middle;\n",
       "    }\n",
       "\n",
       "    .dataframe tbody tr th {\n",
       "        vertical-align: top;\n",
       "    }\n",
       "\n",
       "    .dataframe thead th {\n",
       "        text-align: right;\n",
       "    }\n",
       "</style>\n",
       "<table border=\"1\" class=\"dataframe\">\n",
       "  <thead>\n",
       "    <tr style=\"text-align: right;\">\n",
       "      <th></th>\n",
       "      <th>wFA</th>\n",
       "      <th>wFT</th>\n",
       "      <th>wFC</th>\n",
       "      <th>wFS</th>\n",
       "      <th>wFO</th>\n",
       "      <th>wSI</th>\n",
       "      <th>wSL</th>\n",
       "      <th>wCU</th>\n",
       "      <th>wKC</th>\n",
       "      <th>wEP</th>\n",
       "      <th>wCH</th>\n",
       "      <th>wSC</th>\n",
       "      <th>wKN</th>\n",
       "    </tr>\n",
       "  </thead>\n",
       "  <tbody>\n",
       "    <tr>\n",
       "      <th>count</th>\n",
       "      <td>5384.000000</td>\n",
       "      <td>0.0</td>\n",
       "      <td>1978.000000</td>\n",
       "      <td>599.000000</td>\n",
       "      <td>9.000000</td>\n",
       "      <td>4291.000000</td>\n",
       "      <td>4516.000000</td>\n",
       "      <td>3206.000000</td>\n",
       "      <td>666.000000</td>\n",
       "      <td>44.000000</td>\n",
       "      <td>4525.000000</td>\n",
       "      <td>10.000000</td>\n",
       "      <td>13.000000</td>\n",
       "    </tr>\n",
       "    <tr>\n",
       "      <th>mean</th>\n",
       "      <td>0.161091</td>\n",
       "      <td>NaN</td>\n",
       "      <td>0.677570</td>\n",
       "      <td>0.966381</td>\n",
       "      <td>-0.177213</td>\n",
       "      <td>0.228937</td>\n",
       "      <td>1.299412</td>\n",
       "      <td>0.073830</td>\n",
       "      <td>0.773259</td>\n",
       "      <td>0.001828</td>\n",
       "      <td>0.174896</td>\n",
       "      <td>-0.469929</td>\n",
       "      <td>-1.518538</td>\n",
       "    </tr>\n",
       "    <tr>\n",
       "      <th>std</th>\n",
       "      <td>5.856122</td>\n",
       "      <td>NaN</td>\n",
       "      <td>4.108951</td>\n",
       "      <td>3.877696</td>\n",
       "      <td>2.664135</td>\n",
       "      <td>4.634253</td>\n",
       "      <td>4.748756</td>\n",
       "      <td>3.482389</td>\n",
       "      <td>4.217442</td>\n",
       "      <td>1.308017</td>\n",
       "      <td>3.606645</td>\n",
       "      <td>1.575114</td>\n",
       "      <td>7.774713</td>\n",
       "    </tr>\n",
       "    <tr>\n",
       "      <th>min</th>\n",
       "      <td>-26.411414</td>\n",
       "      <td>NaN</td>\n",
       "      <td>-13.672606</td>\n",
       "      <td>-13.056010</td>\n",
       "      <td>-3.124468</td>\n",
       "      <td>-24.567847</td>\n",
       "      <td>-20.971340</td>\n",
       "      <td>-12.533481</td>\n",
       "      <td>-14.754140</td>\n",
       "      <td>-4.643168</td>\n",
       "      <td>-14.722349</td>\n",
       "      <td>-3.084039</td>\n",
       "      <td>-16.511230</td>\n",
       "    </tr>\n",
       "    <tr>\n",
       "      <th>25%</th>\n",
       "      <td>-2.877193</td>\n",
       "      <td>NaN</td>\n",
       "      <td>-1.290380</td>\n",
       "      <td>-1.119480</td>\n",
       "      <td>-1.503989</td>\n",
       "      <td>-1.805907</td>\n",
       "      <td>-1.319269</td>\n",
       "      <td>-1.594279</td>\n",
       "      <td>-1.342445</td>\n",
       "      <td>-0.173970</td>\n",
       "      <td>-1.552764</td>\n",
       "      <td>-0.874902</td>\n",
       "      <td>-1.894330</td>\n",
       "    </tr>\n",
       "    <tr>\n",
       "      <th>50%</th>\n",
       "      <td>-0.051225</td>\n",
       "      <td>NaN</td>\n",
       "      <td>0.069242</td>\n",
       "      <td>0.163725</td>\n",
       "      <td>-0.063374</td>\n",
       "      <td>-0.000494</td>\n",
       "      <td>0.483142</td>\n",
       "      <td>-0.112047</td>\n",
       "      <td>0.059697</td>\n",
       "      <td>0.001045</td>\n",
       "      <td>-0.097424</td>\n",
       "      <td>-0.303918</td>\n",
       "      <td>-0.851215</td>\n",
       "    </tr>\n",
       "    <tr>\n",
       "      <th>75%</th>\n",
       "      <td>2.712641</td>\n",
       "      <td>NaN</td>\n",
       "      <td>2.074549</td>\n",
       "      <td>2.433743</td>\n",
       "      <td>0.022515</td>\n",
       "      <td>1.967624</td>\n",
       "      <td>3.337731</td>\n",
       "      <td>1.115075</td>\n",
       "      <td>2.204039</td>\n",
       "      <td>0.338573</td>\n",
       "      <td>1.238707</td>\n",
       "      <td>-0.022890</td>\n",
       "      <td>1.325142</td>\n",
       "    </tr>\n",
       "    <tr>\n",
       "      <th>max</th>\n",
       "      <td>36.090017</td>\n",
       "      <td>NaN</td>\n",
       "      <td>27.164979</td>\n",
       "      <td>21.633555</td>\n",
       "      <td>6.285026</td>\n",
       "      <td>25.987092</td>\n",
       "      <td>35.110895</td>\n",
       "      <td>39.842017</td>\n",
       "      <td>23.262079</td>\n",
       "      <td>5.265346</td>\n",
       "      <td>28.848361</td>\n",
       "      <td>2.714307</td>\n",
       "      <td>11.920722</td>\n",
       "    </tr>\n",
       "  </tbody>\n",
       "</table>\n",
       "</div>"
      ],
      "text/plain": [
       "               wFA  wFT          wFC         wFS       wFO          wSI  \\\n",
       "count  5384.000000  0.0  1978.000000  599.000000  9.000000  4291.000000   \n",
       "mean      0.161091  NaN     0.677570    0.966381 -0.177213     0.228937   \n",
       "std       5.856122  NaN     4.108951    3.877696  2.664135     4.634253   \n",
       "min     -26.411414  NaN   -13.672606  -13.056010 -3.124468   -24.567847   \n",
       "25%      -2.877193  NaN    -1.290380   -1.119480 -1.503989    -1.805907   \n",
       "50%      -0.051225  NaN     0.069242    0.163725 -0.063374    -0.000494   \n",
       "75%       2.712641  NaN     2.074549    2.433743  0.022515     1.967624   \n",
       "max      36.090017  NaN    27.164979   21.633555  6.285026    25.987092   \n",
       "\n",
       "               wSL          wCU         wKC        wEP          wCH  \\\n",
       "count  4516.000000  3206.000000  666.000000  44.000000  4525.000000   \n",
       "mean      1.299412     0.073830    0.773259   0.001828     0.174896   \n",
       "std       4.748756     3.482389    4.217442   1.308017     3.606645   \n",
       "min     -20.971340   -12.533481  -14.754140  -4.643168   -14.722349   \n",
       "25%      -1.319269    -1.594279   -1.342445  -0.173970    -1.552764   \n",
       "50%       0.483142    -0.112047    0.059697   0.001045    -0.097424   \n",
       "75%       3.337731     1.115075    2.204039   0.338573     1.238707   \n",
       "max      35.110895    39.842017   23.262079   5.265346    28.848361   \n",
       "\n",
       "             wSC        wKN  \n",
       "count  10.000000  13.000000  \n",
       "mean   -0.469929  -1.518538  \n",
       "std     1.575114   7.774713  \n",
       "min    -3.084039 -16.511230  \n",
       "25%    -0.874902  -1.894330  \n",
       "50%    -0.303918  -0.851215  \n",
       "75%    -0.022890   1.325142  \n",
       "max     2.714307  11.920722  "
      ]
     },
     "execution_count": 22,
     "metadata": {},
     "output_type": "execute_result"
    }
   ],
   "source": [
    "fg_pitch_type_value.describe()"
   ]
  },
  {
   "cell_type": "markdown",
   "metadata": {},
   "source": [
    "### Statcast Pitch Velocity data"
   ]
  },
  {
   "cell_type": "markdown",
   "metadata": {},
   "source": [
    "Average speed of pitches thrown.\n",
    "\n",
    "- vFA\n",
    "- vFT\n",
    "- vFC\n",
    "- vFS\n",
    "- vFO\n",
    "- vSI\n",
    "- vSL\n",
    "- vCU\n",
    "- vKC\n",
    "- vEP\n",
    "- vCH\n",
    "- vSC\n",
    "- vKN"
   ]
  },
  {
   "cell_type": "code",
   "execution_count": 23,
   "metadata": {},
   "outputs": [
    {
     "name": "stdout",
     "output_type": "stream",
     "text": [
      "<class 'pandas.core.frame.DataFrame'>\n",
      "MultiIndex: 5631 entries, (25550, 2024) to (33876, 2024)\n",
      "Data columns (total 13 columns):\n",
      " #   Column  Non-Null Count  Dtype  \n",
      "---  ------  --------------  -----  \n",
      " 0   vFA     5384 non-null   float64\n",
      " 1   vFT     0 non-null      float64\n",
      " 2   vFC     1978 non-null   float64\n",
      " 3   vFS     599 non-null    float64\n",
      " 4   vFO     9 non-null      float64\n",
      " 5   vSI     4291 non-null   float64\n",
      " 6   vSL     4516 non-null   float64\n",
      " 7   vCU     3206 non-null   float64\n",
      " 8   vKC     666 non-null    float64\n",
      " 9   vEP     44 non-null     float64\n",
      " 10  vCH     4525 non-null   float64\n",
      " 11  vSC     10 non-null     float64\n",
      " 12  vKN     13 non-null     float64\n",
      "dtypes: float64(13)\n",
      "memory usage: 666.5 KB\n"
     ]
    }
   ],
   "source": [
    "fg_velocity.info()"
   ]
  },
  {
   "cell_type": "code",
   "execution_count": 24,
   "metadata": {},
   "outputs": [
    {
     "data": {
      "text/html": [
       "<div>\n",
       "<style scoped>\n",
       "    .dataframe tbody tr th:only-of-type {\n",
       "        vertical-align: middle;\n",
       "    }\n",
       "\n",
       "    .dataframe tbody tr th {\n",
       "        vertical-align: top;\n",
       "    }\n",
       "\n",
       "    .dataframe thead th {\n",
       "        text-align: right;\n",
       "    }\n",
       "</style>\n",
       "<table border=\"1\" class=\"dataframe\">\n",
       "  <thead>\n",
       "    <tr style=\"text-align: right;\">\n",
       "      <th></th>\n",
       "      <th>vFA</th>\n",
       "      <th>vFT</th>\n",
       "      <th>vFC</th>\n",
       "      <th>vFS</th>\n",
       "      <th>vFO</th>\n",
       "      <th>vSI</th>\n",
       "      <th>vSL</th>\n",
       "      <th>vCU</th>\n",
       "      <th>vKC</th>\n",
       "      <th>vEP</th>\n",
       "      <th>vCH</th>\n",
       "      <th>vSC</th>\n",
       "      <th>vKN</th>\n",
       "    </tr>\n",
       "  </thead>\n",
       "  <tbody>\n",
       "    <tr>\n",
       "      <th>count</th>\n",
       "      <td>5384.000000</td>\n",
       "      <td>0.0</td>\n",
       "      <td>1978.000000</td>\n",
       "      <td>599.000000</td>\n",
       "      <td>9.000000</td>\n",
       "      <td>4291.000000</td>\n",
       "      <td>4516.000000</td>\n",
       "      <td>3206.000000</td>\n",
       "      <td>666.000000</td>\n",
       "      <td>44.000000</td>\n",
       "      <td>4525.000000</td>\n",
       "      <td>10.000000</td>\n",
       "      <td>13.000000</td>\n",
       "    </tr>\n",
       "    <tr>\n",
       "      <th>mean</th>\n",
       "      <td>93.119405</td>\n",
       "      <td>NaN</td>\n",
       "      <td>88.685173</td>\n",
       "      <td>85.756503</td>\n",
       "      <td>84.377475</td>\n",
       "      <td>92.576053</td>\n",
       "      <td>84.202852</td>\n",
       "      <td>78.108772</td>\n",
       "      <td>79.252514</td>\n",
       "      <td>62.385844</td>\n",
       "      <td>85.165703</td>\n",
       "      <td>79.929076</td>\n",
       "      <td>75.583745</td>\n",
       "    </tr>\n",
       "    <tr>\n",
       "      <th>std</th>\n",
       "      <td>2.590813</td>\n",
       "      <td>NaN</td>\n",
       "      <td>2.793659</td>\n",
       "      <td>3.032983</td>\n",
       "      <td>3.720851</td>\n",
       "      <td>2.699733</td>\n",
       "      <td>3.128696</td>\n",
       "      <td>3.582191</td>\n",
       "      <td>4.689452</td>\n",
       "      <td>6.677206</td>\n",
       "      <td>3.279581</td>\n",
       "      <td>2.492384</td>\n",
       "      <td>1.280975</td>\n",
       "    </tr>\n",
       "    <tr>\n",
       "      <th>min</th>\n",
       "      <td>80.584011</td>\n",
       "      <td>NaN</td>\n",
       "      <td>79.352644</td>\n",
       "      <td>76.800003</td>\n",
       "      <td>76.400002</td>\n",
       "      <td>78.913206</td>\n",
       "      <td>46.599998</td>\n",
       "      <td>51.799999</td>\n",
       "      <td>53.900002</td>\n",
       "      <td>45.299999</td>\n",
       "      <td>63.033335</td>\n",
       "      <td>76.938462</td>\n",
       "      <td>73.613071</td>\n",
       "    </tr>\n",
       "    <tr>\n",
       "      <th>25%</th>\n",
       "      <td>91.572788</td>\n",
       "      <td>NaN</td>\n",
       "      <td>86.775133</td>\n",
       "      <td>83.942408</td>\n",
       "      <td>83.232327</td>\n",
       "      <td>90.849264</td>\n",
       "      <td>82.203155</td>\n",
       "      <td>75.816836</td>\n",
       "      <td>77.552242</td>\n",
       "      <td>58.093751</td>\n",
       "      <td>83.307427</td>\n",
       "      <td>78.579289</td>\n",
       "      <td>74.611355</td>\n",
       "    </tr>\n",
       "    <tr>\n",
       "      <th>50%</th>\n",
       "      <td>93.243555</td>\n",
       "      <td>NaN</td>\n",
       "      <td>88.599727</td>\n",
       "      <td>85.759998</td>\n",
       "      <td>86.336905</td>\n",
       "      <td>92.666667</td>\n",
       "      <td>84.426201</td>\n",
       "      <td>78.293828</td>\n",
       "      <td>79.889632</td>\n",
       "      <td>63.745454</td>\n",
       "      <td>85.363957</td>\n",
       "      <td>79.302564</td>\n",
       "      <td>75.931296</td>\n",
       "    </tr>\n",
       "    <tr>\n",
       "      <th>75%</th>\n",
       "      <td>94.825000</td>\n",
       "      <td>NaN</td>\n",
       "      <td>90.491112</td>\n",
       "      <td>87.642680</td>\n",
       "      <td>86.997145</td>\n",
       "      <td>94.424497</td>\n",
       "      <td>86.383306</td>\n",
       "      <td>80.609573</td>\n",
       "      <td>82.002246</td>\n",
       "      <td>65.695183</td>\n",
       "      <td>87.415382</td>\n",
       "      <td>80.458323</td>\n",
       "      <td>76.504923</td>\n",
       "    </tr>\n",
       "    <tr>\n",
       "      <th>max</th>\n",
       "      <td>102.095142</td>\n",
       "      <td>NaN</td>\n",
       "      <td>100.220652</td>\n",
       "      <td>98.356115</td>\n",
       "      <td>87.676000</td>\n",
       "      <td>101.449997</td>\n",
       "      <td>97.949997</td>\n",
       "      <td>88.699997</td>\n",
       "      <td>89.376858</td>\n",
       "      <td>81.253850</td>\n",
       "      <td>95.900002</td>\n",
       "      <td>85.206665</td>\n",
       "      <td>77.589200</td>\n",
       "    </tr>\n",
       "  </tbody>\n",
       "</table>\n",
       "</div>"
      ],
      "text/plain": [
       "               vFA  vFT          vFC         vFS        vFO          vSI  \\\n",
       "count  5384.000000  0.0  1978.000000  599.000000   9.000000  4291.000000   \n",
       "mean     93.119405  NaN    88.685173   85.756503  84.377475    92.576053   \n",
       "std       2.590813  NaN     2.793659    3.032983   3.720851     2.699733   \n",
       "min      80.584011  NaN    79.352644   76.800003  76.400002    78.913206   \n",
       "25%      91.572788  NaN    86.775133   83.942408  83.232327    90.849264   \n",
       "50%      93.243555  NaN    88.599727   85.759998  86.336905    92.666667   \n",
       "75%      94.825000  NaN    90.491112   87.642680  86.997145    94.424497   \n",
       "max     102.095142  NaN   100.220652   98.356115  87.676000   101.449997   \n",
       "\n",
       "               vSL          vCU         vKC        vEP          vCH  \\\n",
       "count  4516.000000  3206.000000  666.000000  44.000000  4525.000000   \n",
       "mean     84.202852    78.108772   79.252514  62.385844    85.165703   \n",
       "std       3.128696     3.582191    4.689452   6.677206     3.279581   \n",
       "min      46.599998    51.799999   53.900002  45.299999    63.033335   \n",
       "25%      82.203155    75.816836   77.552242  58.093751    83.307427   \n",
       "50%      84.426201    78.293828   79.889632  63.745454    85.363957   \n",
       "75%      86.383306    80.609573   82.002246  65.695183    87.415382   \n",
       "max      97.949997    88.699997   89.376858  81.253850    95.900002   \n",
       "\n",
       "             vSC        vKN  \n",
       "count  10.000000  13.000000  \n",
       "mean   79.929076  75.583745  \n",
       "std     2.492384   1.280975  \n",
       "min    76.938462  73.613071  \n",
       "25%    78.579289  74.611355  \n",
       "50%    79.302564  75.931296  \n",
       "75%    80.458323  76.504923  \n",
       "max    85.206665  77.589200  "
      ]
     },
     "execution_count": 24,
     "metadata": {},
     "output_type": "execute_result"
    }
   ],
   "source": [
    "fg_velocity.describe()"
   ]
  },
  {
   "cell_type": "code",
   "execution_count": 25,
   "metadata": {},
   "outputs": [
    {
     "data": {
      "text/html": [
       "<div>\n",
       "<style scoped>\n",
       "    .dataframe tbody tr th:only-of-type {\n",
       "        vertical-align: middle;\n",
       "    }\n",
       "\n",
       "    .dataframe tbody tr th {\n",
       "        vertical-align: top;\n",
       "    }\n",
       "\n",
       "    .dataframe thead th {\n",
       "        text-align: right;\n",
       "    }\n",
       "</style>\n",
       "<table border=\"1\" class=\"dataframe\">\n",
       "  <thead>\n",
       "    <tr style=\"text-align: right;\">\n",
       "      <th></th>\n",
       "      <th></th>\n",
       "      <th>vFA</th>\n",
       "      <th>vFT</th>\n",
       "      <th>vFC</th>\n",
       "      <th>vFS</th>\n",
       "      <th>vFO</th>\n",
       "      <th>vSI</th>\n",
       "      <th>vSL</th>\n",
       "      <th>vCU</th>\n",
       "      <th>vKC</th>\n",
       "      <th>vEP</th>\n",
       "      <th>vCH</th>\n",
       "      <th>vSC</th>\n",
       "      <th>vKN</th>\n",
       "    </tr>\n",
       "    <tr>\n",
       "      <th>PlayerId</th>\n",
       "      <th>Season</th>\n",
       "      <th></th>\n",
       "      <th></th>\n",
       "      <th></th>\n",
       "      <th></th>\n",
       "      <th></th>\n",
       "      <th></th>\n",
       "      <th></th>\n",
       "      <th></th>\n",
       "      <th></th>\n",
       "      <th></th>\n",
       "      <th></th>\n",
       "      <th></th>\n",
       "      <th></th>\n",
       "    </tr>\n",
       "  </thead>\n",
       "  <tbody>\n",
       "    <tr>\n",
       "      <th>25550</th>\n",
       "      <th>2024</th>\n",
       "      <td>90.624303</td>\n",
       "      <td>NaN</td>\n",
       "      <td>87.035073</td>\n",
       "      <td>NaN</td>\n",
       "      <td>NaN</td>\n",
       "      <td>90.015866</td>\n",
       "      <td>79.286006</td>\n",
       "      <td>NaN</td>\n",
       "      <td>NaN</td>\n",
       "      <td>NaN</td>\n",
       "      <td>NaN</td>\n",
       "      <td>NaN</td>\n",
       "      <td>77.589200</td>\n",
       "    </tr>\n",
       "    <tr>\n",
       "      <th>1245</th>\n",
       "      <th>2017</th>\n",
       "      <td>83.618444</td>\n",
       "      <td>NaN</td>\n",
       "      <td>NaN</td>\n",
       "      <td>NaN</td>\n",
       "      <td>NaN</td>\n",
       "      <td>NaN</td>\n",
       "      <td>NaN</td>\n",
       "      <td>NaN</td>\n",
       "      <td>NaN</td>\n",
       "      <td>65.941176</td>\n",
       "      <td>NaN</td>\n",
       "      <td>NaN</td>\n",
       "      <td>77.278573</td>\n",
       "    </tr>\n",
       "    <tr>\n",
       "      <th>25550</th>\n",
       "      <th>2023</th>\n",
       "      <td>91.283334</td>\n",
       "      <td>NaN</td>\n",
       "      <td>86.684088</td>\n",
       "      <td>NaN</td>\n",
       "      <td>NaN</td>\n",
       "      <td>91.319496</td>\n",
       "      <td>79.777780</td>\n",
       "      <td>NaN</td>\n",
       "      <td>NaN</td>\n",
       "      <td>NaN</td>\n",
       "      <td>NaN</td>\n",
       "      <td>NaN</td>\n",
       "      <td>76.591667</td>\n",
       "    </tr>\n",
       "    <tr>\n",
       "      <th rowspan=\"2\" valign=\"top\">1245</th>\n",
       "      <th>2014</th>\n",
       "      <td>81.779041</td>\n",
       "      <td>NaN</td>\n",
       "      <td>NaN</td>\n",
       "      <td>NaN</td>\n",
       "      <td>NaN</td>\n",
       "      <td>NaN</td>\n",
       "      <td>NaN</td>\n",
       "      <td>NaN</td>\n",
       "      <td>NaN</td>\n",
       "      <td>65.613185</td>\n",
       "      <td>NaN</td>\n",
       "      <td>NaN</td>\n",
       "      <td>76.504923</td>\n",
       "    </tr>\n",
       "    <tr>\n",
       "      <th>2015</th>\n",
       "      <td>81.703890</td>\n",
       "      <td>NaN</td>\n",
       "      <td>NaN</td>\n",
       "      <td>NaN</td>\n",
       "      <td>NaN</td>\n",
       "      <td>NaN</td>\n",
       "      <td>NaN</td>\n",
       "      <td>NaN</td>\n",
       "      <td>NaN</td>\n",
       "      <td>64.411540</td>\n",
       "      <td>NaN</td>\n",
       "      <td>NaN</td>\n",
       "      <td>76.226266</td>\n",
       "    </tr>\n",
       "  </tbody>\n",
       "</table>\n",
       "</div>"
      ],
      "text/plain": [
       "                       vFA  vFT        vFC  vFS  vFO        vSI        vSL  \\\n",
       "PlayerId Season                                                              \n",
       "25550    2024    90.624303  NaN  87.035073  NaN  NaN  90.015866  79.286006   \n",
       "1245     2017    83.618444  NaN        NaN  NaN  NaN        NaN        NaN   \n",
       "25550    2023    91.283334  NaN  86.684088  NaN  NaN  91.319496  79.777780   \n",
       "1245     2014    81.779041  NaN        NaN  NaN  NaN        NaN        NaN   \n",
       "         2015    81.703890  NaN        NaN  NaN  NaN        NaN        NaN   \n",
       "\n",
       "                 vCU  vKC        vEP  vCH  vSC        vKN  \n",
       "PlayerId Season                                            \n",
       "25550    2024    NaN  NaN        NaN  NaN  NaN  77.589200  \n",
       "1245     2017    NaN  NaN  65.941176  NaN  NaN  77.278573  \n",
       "25550    2023    NaN  NaN        NaN  NaN  NaN  76.591667  \n",
       "1245     2014    NaN  NaN  65.613185  NaN  NaN  76.504923  \n",
       "         2015    NaN  NaN  64.411540  NaN  NaN  76.226266  "
      ]
     },
     "execution_count": 25,
     "metadata": {},
     "output_type": "execute_result"
    }
   ],
   "source": [
    "fg_velocity.head()"
   ]
  },
  {
   "cell_type": "markdown",
   "metadata": {},
   "source": [
    "Something interesting this data reveals: increasing fastball velocity..."
   ]
  },
  {
   "cell_type": "code",
   "execution_count": 26,
   "metadata": {},
   "outputs": [
    {
     "data": {
      "text/plain": [
       "Season\n",
       "2024    94.065958\n",
       "2023    93.993928\n",
       "2022    93.836183\n",
       "2021    93.520803\n",
       "2020    93.206244\n",
       "2019    93.215243\n",
       "2018    92.924391\n",
       "2017    92.946531\n",
       "2016    92.385841\n",
       "2015    92.103088\n",
       "2014    91.910871\n",
       "Name: vFA, dtype: float64"
      ]
     },
     "execution_count": 26,
     "metadata": {},
     "output_type": "execute_result"
    }
   ],
   "source": [
    "fg_velocity['vFA'].groupby('Season').mean().sort_index(ascending=False)"
   ]
  },
  {
   "cell_type": "markdown",
   "metadata": {},
   "source": [
    "### Statcast Pitch Movement - Horizontal data"
   ]
  },
  {
   "cell_type": "code",
   "execution_count": 27,
   "metadata": {},
   "outputs": [
    {
     "name": "stdout",
     "output_type": "stream",
     "text": [
      "<class 'pandas.core.frame.DataFrame'>\n",
      "MultiIndex: 5631 entries, (8185, 2014) to (33876, 2024)\n",
      "Data columns (total 13 columns):\n",
      " #   Column  Non-Null Count  Dtype  \n",
      "---  ------  --------------  -----  \n",
      " 0   FA-X    5384 non-null   float64\n",
      " 1   FT-X    0 non-null      float64\n",
      " 2   FC-X    1978 non-null   float64\n",
      " 3   FS-X    599 non-null    float64\n",
      " 4   FO-X    9 non-null      float64\n",
      " 5   SI-X    4291 non-null   float64\n",
      " 6   SL-X    4516 non-null   float64\n",
      " 7   CU-X    3206 non-null   float64\n",
      " 8   KC-X    666 non-null    float64\n",
      " 9   EP-X    44 non-null     float64\n",
      " 10  CH-X    4525 non-null   float64\n",
      " 11  SC-X    10 non-null     float64\n",
      " 12  KN-X    13 non-null     float64\n",
      "dtypes: float64(13)\n",
      "memory usage: 666.5 KB\n"
     ]
    }
   ],
   "source": [
    "fg_h_movement.info()"
   ]
  },
  {
   "cell_type": "code",
   "execution_count": 28,
   "metadata": {},
   "outputs": [
    {
     "data": {
      "text/html": [
       "<div>\n",
       "<style scoped>\n",
       "    .dataframe tbody tr th:only-of-type {\n",
       "        vertical-align: middle;\n",
       "    }\n",
       "\n",
       "    .dataframe tbody tr th {\n",
       "        vertical-align: top;\n",
       "    }\n",
       "\n",
       "    .dataframe thead th {\n",
       "        text-align: right;\n",
       "    }\n",
       "</style>\n",
       "<table border=\"1\" class=\"dataframe\">\n",
       "  <thead>\n",
       "    <tr style=\"text-align: right;\">\n",
       "      <th></th>\n",
       "      <th>FA-X</th>\n",
       "      <th>FT-X</th>\n",
       "      <th>FC-X</th>\n",
       "      <th>FS-X</th>\n",
       "      <th>FO-X</th>\n",
       "      <th>SI-X</th>\n",
       "      <th>SL-X</th>\n",
       "      <th>CU-X</th>\n",
       "      <th>KC-X</th>\n",
       "      <th>EP-X</th>\n",
       "      <th>CH-X</th>\n",
       "      <th>SC-X</th>\n",
       "      <th>KN-X</th>\n",
       "    </tr>\n",
       "  </thead>\n",
       "  <tbody>\n",
       "    <tr>\n",
       "      <th>count</th>\n",
       "      <td>5384.000000</td>\n",
       "      <td>0.0</td>\n",
       "      <td>1978.000000</td>\n",
       "      <td>599.000000</td>\n",
       "      <td>9.000000</td>\n",
       "      <td>4291.000000</td>\n",
       "      <td>4516.000000</td>\n",
       "      <td>3206.000000</td>\n",
       "      <td>666.000000</td>\n",
       "      <td>44.000000</td>\n",
       "      <td>4525.000000</td>\n",
       "      <td>10.000000</td>\n",
       "      <td>13.000000</td>\n",
       "    </tr>\n",
       "    <tr>\n",
       "      <th>mean</th>\n",
       "      <td>-2.087163</td>\n",
       "      <td>NaN</td>\n",
       "      <td>0.614718</td>\n",
       "      <td>-5.041280</td>\n",
       "      <td>-6.549945</td>\n",
       "      <td>-3.755752</td>\n",
       "      <td>1.486300</td>\n",
       "      <td>2.241540</td>\n",
       "      <td>2.619823</td>\n",
       "      <td>1.066977</td>\n",
       "      <td>-3.170390</td>\n",
       "      <td>1.532615</td>\n",
       "      <td>-1.107949</td>\n",
       "    </tr>\n",
       "    <tr>\n",
       "      <th>std</th>\n",
       "      <td>4.840737</td>\n",
       "      <td>NaN</td>\n",
       "      <td>1.711316</td>\n",
       "      <td>4.287255</td>\n",
       "      <td>1.524954</td>\n",
       "      <td>7.975739</td>\n",
       "      <td>3.450170</td>\n",
       "      <td>4.629701</td>\n",
       "      <td>3.758323</td>\n",
       "      <td>5.239234</td>\n",
       "      <td>7.574884</td>\n",
       "      <td>7.881665</td>\n",
       "      <td>1.609438</td>\n",
       "    </tr>\n",
       "    <tr>\n",
       "      <th>min</th>\n",
       "      <td>-13.733540</td>\n",
       "      <td>NaN</td>\n",
       "      <td>-8.807585</td>\n",
       "      <td>-14.522919</td>\n",
       "      <td>-9.239216</td>\n",
       "      <td>-36.655518</td>\n",
       "      <td>-12.299675</td>\n",
       "      <td>-10.687946</td>\n",
       "      <td>-10.076509</td>\n",
       "      <td>-10.103408</td>\n",
       "      <td>-18.134222</td>\n",
       "      <td>-6.920000</td>\n",
       "      <td>-3.814806</td>\n",
       "    </tr>\n",
       "    <tr>\n",
       "      <th>25%</th>\n",
       "      <td>-5.583829</td>\n",
       "      <td>NaN</td>\n",
       "      <td>-0.401949</td>\n",
       "      <td>-7.544047</td>\n",
       "      <td>-7.227709</td>\n",
       "      <td>-9.220879</td>\n",
       "      <td>-0.317134</td>\n",
       "      <td>-1.310129</td>\n",
       "      <td>0.578199</td>\n",
       "      <td>-3.201453</td>\n",
       "      <td>-8.725989</td>\n",
       "      <td>-5.683585</td>\n",
       "      <td>-2.539000</td>\n",
       "    </tr>\n",
       "    <tr>\n",
       "      <th>50%</th>\n",
       "      <td>-3.830915</td>\n",
       "      <td>NaN</td>\n",
       "      <td>0.709871</td>\n",
       "      <td>-6.233622</td>\n",
       "      <td>-6.290238</td>\n",
       "      <td>-7.925053</td>\n",
       "      <td>1.597169</td>\n",
       "      <td>3.419367</td>\n",
       "      <td>3.429478</td>\n",
       "      <td>0.846047</td>\n",
       "      <td>-7.026306</td>\n",
       "      <td>1.060031</td>\n",
       "      <td>-0.617443</td>\n",
       "    </tr>\n",
       "    <tr>\n",
       "      <th>75%</th>\n",
       "      <td>1.572045</td>\n",
       "      <td>NaN</td>\n",
       "      <td>1.672404</td>\n",
       "      <td>-4.421093</td>\n",
       "      <td>-5.737056</td>\n",
       "      <td>6.700372</td>\n",
       "      <td>3.309772</td>\n",
       "      <td>5.714024</td>\n",
       "      <td>5.256416</td>\n",
       "      <td>5.545365</td>\n",
       "      <td>6.470624</td>\n",
       "      <td>8.678106</td>\n",
       "      <td>0.007002</td>\n",
       "    </tr>\n",
       "    <tr>\n",
       "      <th>max</th>\n",
       "      <td>12.037272</td>\n",
       "      <td>NaN</td>\n",
       "      <td>9.158348</td>\n",
       "      <td>9.141361</td>\n",
       "      <td>-4.462862</td>\n",
       "      <td>16.632357</td>\n",
       "      <td>12.533202</td>\n",
       "      <td>19.490592</td>\n",
       "      <td>10.653749</td>\n",
       "      <td>10.410000</td>\n",
       "      <td>48.517631</td>\n",
       "      <td>11.231538</td>\n",
       "      <td>1.170272</td>\n",
       "    </tr>\n",
       "  </tbody>\n",
       "</table>\n",
       "</div>"
      ],
      "text/plain": [
       "              FA-X  FT-X         FC-X        FS-X      FO-X         SI-X  \\\n",
       "count  5384.000000   0.0  1978.000000  599.000000  9.000000  4291.000000   \n",
       "mean     -2.087163   NaN     0.614718   -5.041280 -6.549945    -3.755752   \n",
       "std       4.840737   NaN     1.711316    4.287255  1.524954     7.975739   \n",
       "min     -13.733540   NaN    -8.807585  -14.522919 -9.239216   -36.655518   \n",
       "25%      -5.583829   NaN    -0.401949   -7.544047 -7.227709    -9.220879   \n",
       "50%      -3.830915   NaN     0.709871   -6.233622 -6.290238    -7.925053   \n",
       "75%       1.572045   NaN     1.672404   -4.421093 -5.737056     6.700372   \n",
       "max      12.037272   NaN     9.158348    9.141361 -4.462862    16.632357   \n",
       "\n",
       "              SL-X         CU-X        KC-X       EP-X         CH-X  \\\n",
       "count  4516.000000  3206.000000  666.000000  44.000000  4525.000000   \n",
       "mean      1.486300     2.241540    2.619823   1.066977    -3.170390   \n",
       "std       3.450170     4.629701    3.758323   5.239234     7.574884   \n",
       "min     -12.299675   -10.687946  -10.076509 -10.103408   -18.134222   \n",
       "25%      -0.317134    -1.310129    0.578199  -3.201453    -8.725989   \n",
       "50%       1.597169     3.419367    3.429478   0.846047    -7.026306   \n",
       "75%       3.309772     5.714024    5.256416   5.545365     6.470624   \n",
       "max      12.533202    19.490592   10.653749  10.410000    48.517631   \n",
       "\n",
       "            SC-X       KN-X  \n",
       "count  10.000000  13.000000  \n",
       "mean    1.532615  -1.107949  \n",
       "std     7.881665   1.609438  \n",
       "min    -6.920000  -3.814806  \n",
       "25%    -5.683585  -2.539000  \n",
       "50%     1.060031  -0.617443  \n",
       "75%     8.678106   0.007002  \n",
       "max    11.231538   1.170272  "
      ]
     },
     "execution_count": 28,
     "metadata": {},
     "output_type": "execute_result"
    }
   ],
   "source": [
    "fg_h_movement.describe()"
   ]
  },
  {
   "cell_type": "code",
   "execution_count": 29,
   "metadata": {},
   "outputs": [
    {
     "data": {
      "text/html": [
       "<div>\n",
       "<style scoped>\n",
       "    .dataframe tbody tr th:only-of-type {\n",
       "        vertical-align: middle;\n",
       "    }\n",
       "\n",
       "    .dataframe tbody tr th {\n",
       "        vertical-align: top;\n",
       "    }\n",
       "\n",
       "    .dataframe thead th {\n",
       "        text-align: right;\n",
       "    }\n",
       "</style>\n",
       "<table border=\"1\" class=\"dataframe\">\n",
       "  <thead>\n",
       "    <tr style=\"text-align: right;\">\n",
       "      <th></th>\n",
       "      <th></th>\n",
       "      <th>FA-X</th>\n",
       "      <th>FT-X</th>\n",
       "      <th>FC-X</th>\n",
       "      <th>FS-X</th>\n",
       "      <th>FO-X</th>\n",
       "      <th>SI-X</th>\n",
       "      <th>SL-X</th>\n",
       "      <th>CU-X</th>\n",
       "      <th>KC-X</th>\n",
       "      <th>EP-X</th>\n",
       "      <th>CH-X</th>\n",
       "      <th>SC-X</th>\n",
       "      <th>KN-X</th>\n",
       "    </tr>\n",
       "    <tr>\n",
       "      <th>PlayerId</th>\n",
       "      <th>Season</th>\n",
       "      <th></th>\n",
       "      <th></th>\n",
       "      <th></th>\n",
       "      <th></th>\n",
       "      <th></th>\n",
       "      <th></th>\n",
       "      <th></th>\n",
       "      <th></th>\n",
       "      <th></th>\n",
       "      <th></th>\n",
       "      <th></th>\n",
       "      <th></th>\n",
       "      <th></th>\n",
       "    </tr>\n",
       "  </thead>\n",
       "  <tbody>\n",
       "    <tr>\n",
       "      <th rowspan=\"3\" valign=\"top\">8185</th>\n",
       "      <th>2014</th>\n",
       "      <td>-4.433962</td>\n",
       "      <td>NaN</td>\n",
       "      <td>NaN</td>\n",
       "      <td>NaN</td>\n",
       "      <td>NaN</td>\n",
       "      <td>NaN</td>\n",
       "      <td>NaN</td>\n",
       "      <td>2.419445</td>\n",
       "      <td>NaN</td>\n",
       "      <td>NaN</td>\n",
       "      <td>NaN</td>\n",
       "      <td>NaN</td>\n",
       "      <td>1.170272</td>\n",
       "    </tr>\n",
       "    <tr>\n",
       "      <th>2016</th>\n",
       "      <td>-4.963647</td>\n",
       "      <td>NaN</td>\n",
       "      <td>NaN</td>\n",
       "      <td>NaN</td>\n",
       "      <td>NaN</td>\n",
       "      <td>NaN</td>\n",
       "      <td>NaN</td>\n",
       "      <td>2.729325</td>\n",
       "      <td>NaN</td>\n",
       "      <td>NaN</td>\n",
       "      <td>NaN</td>\n",
       "      <td>NaN</td>\n",
       "      <td>0.744092</td>\n",
       "    </tr>\n",
       "    <tr>\n",
       "      <th>2015</th>\n",
       "      <td>-5.407561</td>\n",
       "      <td>NaN</td>\n",
       "      <td>NaN</td>\n",
       "      <td>NaN</td>\n",
       "      <td>NaN</td>\n",
       "      <td>NaN</td>\n",
       "      <td>NaN</td>\n",
       "      <td>1.000437</td>\n",
       "      <td>NaN</td>\n",
       "      <td>NaN</td>\n",
       "      <td>NaN</td>\n",
       "      <td>NaN</td>\n",
       "      <td>0.466067</td>\n",
       "    </tr>\n",
       "    <tr>\n",
       "      <th rowspan=\"2\" valign=\"top\">1245</th>\n",
       "      <th>2014</th>\n",
       "      <td>-7.052059</td>\n",
       "      <td>NaN</td>\n",
       "      <td>NaN</td>\n",
       "      <td>NaN</td>\n",
       "      <td>NaN</td>\n",
       "      <td>NaN</td>\n",
       "      <td>NaN</td>\n",
       "      <td>NaN</td>\n",
       "      <td>NaN</td>\n",
       "      <td>1.470203</td>\n",
       "      <td>NaN</td>\n",
       "      <td>NaN</td>\n",
       "      <td>0.007002</td>\n",
       "    </tr>\n",
       "    <tr>\n",
       "      <th>2016</th>\n",
       "      <td>-7.930516</td>\n",
       "      <td>NaN</td>\n",
       "      <td>NaN</td>\n",
       "      <td>NaN</td>\n",
       "      <td>NaN</td>\n",
       "      <td>NaN</td>\n",
       "      <td>NaN</td>\n",
       "      <td>NaN</td>\n",
       "      <td>NaN</td>\n",
       "      <td>-0.748816</td>\n",
       "      <td>NaN</td>\n",
       "      <td>NaN</td>\n",
       "      <td>-0.464834</td>\n",
       "    </tr>\n",
       "  </tbody>\n",
       "</table>\n",
       "</div>"
      ],
      "text/plain": [
       "                     FA-X  FT-X  FC-X  FS-X  FO-X  SI-X  SL-X      CU-X  KC-X  \\\n",
       "PlayerId Season                                                                 \n",
       "8185     2014   -4.433962   NaN   NaN   NaN   NaN   NaN   NaN  2.419445   NaN   \n",
       "         2016   -4.963647   NaN   NaN   NaN   NaN   NaN   NaN  2.729325   NaN   \n",
       "         2015   -5.407561   NaN   NaN   NaN   NaN   NaN   NaN  1.000437   NaN   \n",
       "1245     2014   -7.052059   NaN   NaN   NaN   NaN   NaN   NaN       NaN   NaN   \n",
       "         2016   -7.930516   NaN   NaN   NaN   NaN   NaN   NaN       NaN   NaN   \n",
       "\n",
       "                     EP-X  CH-X  SC-X      KN-X  \n",
       "PlayerId Season                                  \n",
       "8185     2014         NaN   NaN   NaN  1.170272  \n",
       "         2016         NaN   NaN   NaN  0.744092  \n",
       "         2015         NaN   NaN   NaN  0.466067  \n",
       "1245     2014    1.470203   NaN   NaN  0.007002  \n",
       "         2016   -0.748816   NaN   NaN -0.464834  "
      ]
     },
     "execution_count": 29,
     "metadata": {},
     "output_type": "execute_result"
    }
   ],
   "source": [
    "fg_h_movement.head()"
   ]
  },
  {
   "cell_type": "markdown",
   "metadata": {},
   "source": [
    "### Statcast Pitch Movement - Vertical data"
   ]
  },
  {
   "cell_type": "code",
   "execution_count": 30,
   "metadata": {},
   "outputs": [
    {
     "name": "stdout",
     "output_type": "stream",
     "text": [
      "<class 'pandas.core.frame.DataFrame'>\n",
      "MultiIndex: 5631 entries, (25436, 2024) to (33876, 2024)\n",
      "Data columns (total 13 columns):\n",
      " #   Column  Non-Null Count  Dtype  \n",
      "---  ------  --------------  -----  \n",
      " 0   FA-Z    5384 non-null   float64\n",
      " 1   FT-Z    0 non-null      float64\n",
      " 2   FC-Z    1978 non-null   float64\n",
      " 3   FS-Z    599 non-null    float64\n",
      " 4   FO-Z    9 non-null      float64\n",
      " 5   SI-Z    4291 non-null   float64\n",
      " 6   SL-Z    4516 non-null   float64\n",
      " 7   CU-Z    3206 non-null   float64\n",
      " 8   KC-Z    666 non-null    float64\n",
      " 9   EP-Z    44 non-null     float64\n",
      " 10  CH-Z    4525 non-null   float64\n",
      " 11  SC-Z    10 non-null     float64\n",
      " 12  KN-Z    13 non-null     float64\n",
      "dtypes: float64(13)\n",
      "memory usage: 666.5 KB\n"
     ]
    }
   ],
   "source": [
    "fg_v_movement.info()"
   ]
  },
  {
   "cell_type": "markdown",
   "metadata": {},
   "source": [
    "### Statcast Plate Discipline data"
   ]
  },
  {
   "cell_type": "code",
   "execution_count": 31,
   "metadata": {},
   "outputs": [
    {
     "name": "stdout",
     "output_type": "stream",
     "text": [
      "<class 'pandas.core.frame.DataFrame'>\n",
      "MultiIndex: 5631 entries, (4185, 2020) to (8779, 2023)\n",
      "Data columns (total 8 columns):\n",
      " #   Column      Non-Null Count  Dtype  \n",
      "---  ------      --------------  -----  \n",
      " 0   O-Swing%    5631 non-null   float64\n",
      " 1   Z-Swing%    5631 non-null   float64\n",
      " 2   Swing%      5631 non-null   float64\n",
      " 3   O-Contact%  5631 non-null   float64\n",
      " 4   Z-Contact%  5631 non-null   float64\n",
      " 5   Contact%    5631 non-null   float64\n",
      " 6   Zone%       5631 non-null   float64\n",
      " 7   Pace        5631 non-null   float64\n",
      "dtypes: float64(8)\n",
      "memory usage: 446.5 KB\n"
     ]
    }
   ],
   "source": [
    "fg_pitch_plate_discipline.info()"
   ]
  },
  {
   "cell_type": "markdown",
   "metadata": {},
   "source": [
    "##  Feature engineering"
   ]
  },
  {
   "cell_type": "markdown",
   "metadata": {},
   "source": [
    "### fg_standard"
   ]
  },
  {
   "cell_type": "code",
   "execution_count": 32,
   "metadata": {},
   "outputs": [
    {
     "data": {
      "text/html": [
       "<div>\n",
       "<style scoped>\n",
       "    .dataframe tbody tr th:only-of-type {\n",
       "        vertical-align: middle;\n",
       "    }\n",
       "\n",
       "    .dataframe tbody tr th {\n",
       "        vertical-align: top;\n",
       "    }\n",
       "\n",
       "    .dataframe thead th {\n",
       "        text-align: right;\n",
       "    }\n",
       "</style>\n",
       "<table border=\"1\" class=\"dataframe\">\n",
       "  <thead>\n",
       "    <tr style=\"text-align: right;\">\n",
       "      <th></th>\n",
       "      <th></th>\n",
       "      <th>Name</th>\n",
       "      <th>Team</th>\n",
       "      <th>Age</th>\n",
       "      <th>W</th>\n",
       "      <th>L</th>\n",
       "      <th>ERA</th>\n",
       "      <th>G</th>\n",
       "      <th>GS</th>\n",
       "      <th>QS</th>\n",
       "      <th>CG</th>\n",
       "      <th>...</th>\n",
       "      <th>ER</th>\n",
       "      <th>HR</th>\n",
       "      <th>BB</th>\n",
       "      <th>IBB</th>\n",
       "      <th>HBP</th>\n",
       "      <th>WP</th>\n",
       "      <th>BK</th>\n",
       "      <th>SO</th>\n",
       "      <th>NameASCII</th>\n",
       "      <th>MLBAMID</th>\n",
       "    </tr>\n",
       "    <tr>\n",
       "      <th>PlayerId</th>\n",
       "      <th>Season</th>\n",
       "      <th></th>\n",
       "      <th></th>\n",
       "      <th></th>\n",
       "      <th></th>\n",
       "      <th></th>\n",
       "      <th></th>\n",
       "      <th></th>\n",
       "      <th></th>\n",
       "      <th></th>\n",
       "      <th></th>\n",
       "      <th></th>\n",
       "      <th></th>\n",
       "      <th></th>\n",
       "      <th></th>\n",
       "      <th></th>\n",
       "      <th></th>\n",
       "      <th></th>\n",
       "      <th></th>\n",
       "      <th></th>\n",
       "      <th></th>\n",
       "      <th></th>\n",
       "    </tr>\n",
       "  </thead>\n",
       "  <tbody>\n",
       "    <tr>\n",
       "      <th>13125</th>\n",
       "      <th>2019</th>\n",
       "      <td>Gerrit Cole</td>\n",
       "      <td>HOU</td>\n",
       "      <td>28</td>\n",
       "      <td>20</td>\n",
       "      <td>5</td>\n",
       "      <td>2.500785</td>\n",
       "      <td>33</td>\n",
       "      <td>33</td>\n",
       "      <td>26</td>\n",
       "      <td>0</td>\n",
       "      <td>...</td>\n",
       "      <td>59</td>\n",
       "      <td>29</td>\n",
       "      <td>48</td>\n",
       "      <td>0</td>\n",
       "      <td>3</td>\n",
       "      <td>4</td>\n",
       "      <td>3</td>\n",
       "      <td>326</td>\n",
       "      <td>Gerrit Cole</td>\n",
       "      <td>543037</td>\n",
       "    </tr>\n",
       "    <tr>\n",
       "      <th>10603</th>\n",
       "      <th>2017</th>\n",
       "      <td>Chris Sale</td>\n",
       "      <td>BOS</td>\n",
       "      <td>28</td>\n",
       "      <td>17</td>\n",
       "      <td>8</td>\n",
       "      <td>2.897356</td>\n",
       "      <td>32</td>\n",
       "      <td>32</td>\n",
       "      <td>23</td>\n",
       "      <td>1</td>\n",
       "      <td>...</td>\n",
       "      <td>69</td>\n",
       "      <td>24</td>\n",
       "      <td>43</td>\n",
       "      <td>0</td>\n",
       "      <td>8</td>\n",
       "      <td>3</td>\n",
       "      <td>0</td>\n",
       "      <td>308</td>\n",
       "      <td>Chris Sale</td>\n",
       "      <td>519242</td>\n",
       "    </tr>\n",
       "    <tr>\n",
       "      <th>2036</th>\n",
       "      <th>2015</th>\n",
       "      <td>Clayton Kershaw</td>\n",
       "      <td>LAD</td>\n",
       "      <td>27</td>\n",
       "      <td>16</td>\n",
       "      <td>7</td>\n",
       "      <td>2.127507</td>\n",
       "      <td>33</td>\n",
       "      <td>33</td>\n",
       "      <td>27</td>\n",
       "      <td>4</td>\n",
       "      <td>...</td>\n",
       "      <td>55</td>\n",
       "      <td>15</td>\n",
       "      <td>42</td>\n",
       "      <td>1</td>\n",
       "      <td>5</td>\n",
       "      <td>9</td>\n",
       "      <td>3</td>\n",
       "      <td>301</td>\n",
       "      <td>Clayton Kershaw</td>\n",
       "      <td>477132</td>\n",
       "    </tr>\n",
       "    <tr>\n",
       "      <th>3137</th>\n",
       "      <th>2018</th>\n",
       "      <td>Max Scherzer</td>\n",
       "      <td>WSN</td>\n",
       "      <td>33</td>\n",
       "      <td>18</td>\n",
       "      <td>7</td>\n",
       "      <td>2.528701</td>\n",
       "      <td>33</td>\n",
       "      <td>33</td>\n",
       "      <td>28</td>\n",
       "      <td>2</td>\n",
       "      <td>...</td>\n",
       "      <td>62</td>\n",
       "      <td>23</td>\n",
       "      <td>51</td>\n",
       "      <td>4</td>\n",
       "      <td>12</td>\n",
       "      <td>4</td>\n",
       "      <td>1</td>\n",
       "      <td>300</td>\n",
       "      <td>Max Scherzer</td>\n",
       "      <td>453286</td>\n",
       "    </tr>\n",
       "    <tr>\n",
       "      <th>8700</th>\n",
       "      <th>2019</th>\n",
       "      <td>Justin Verlander</td>\n",
       "      <td>HOU</td>\n",
       "      <td>36</td>\n",
       "      <td>21</td>\n",
       "      <td>6</td>\n",
       "      <td>2.582960</td>\n",
       "      <td>34</td>\n",
       "      <td>34</td>\n",
       "      <td>26</td>\n",
       "      <td>2</td>\n",
       "      <td>...</td>\n",
       "      <td>64</td>\n",
       "      <td>36</td>\n",
       "      <td>42</td>\n",
       "      <td>0</td>\n",
       "      <td>6</td>\n",
       "      <td>4</td>\n",
       "      <td>0</td>\n",
       "      <td>300</td>\n",
       "      <td>Justin Verlander</td>\n",
       "      <td>434378</td>\n",
       "    </tr>\n",
       "  </tbody>\n",
       "</table>\n",
       "<p>5 rows × 28 columns</p>\n",
       "</div>"
      ],
      "text/plain": [
       "                             Name Team  Age   W  L       ERA   G  GS  QS  CG  \\\n",
       "PlayerId Season                                                                \n",
       "13125    2019         Gerrit Cole  HOU   28  20  5  2.500785  33  33  26   0   \n",
       "10603    2017          Chris Sale  BOS   28  17  8  2.897356  32  32  23   1   \n",
       "2036     2015     Clayton Kershaw  LAD   27  16  7  2.127507  33  33  27   4   \n",
       "3137     2018        Max Scherzer  WSN   33  18  7  2.528701  33  33  28   2   \n",
       "8700     2019    Justin Verlander  HOU   36  21  6  2.582960  34  34  26   2   \n",
       "\n",
       "                 ...  ER  HR  BB  IBB  HBP  WP  BK   SO         NameASCII  \\\n",
       "PlayerId Season  ...                                                        \n",
       "13125    2019    ...  59  29  48    0    3   4   3  326       Gerrit Cole   \n",
       "10603    2017    ...  69  24  43    0    8   3   0  308        Chris Sale   \n",
       "2036     2015    ...  55  15  42    1    5   9   3  301   Clayton Kershaw   \n",
       "3137     2018    ...  62  23  51    4   12   4   1  300      Max Scherzer   \n",
       "8700     2019    ...  64  36  42    0    6   4   0  300  Justin Verlander   \n",
       "\n",
       "                 MLBAMID  \n",
       "PlayerId Season           \n",
       "13125    2019     543037  \n",
       "10603    2017     519242  \n",
       "2036     2015     477132  \n",
       "3137     2018     453286  \n",
       "8700     2019     434378  \n",
       "\n",
       "[5 rows x 28 columns]"
      ]
     },
     "execution_count": 32,
     "metadata": {},
     "output_type": "execute_result"
    }
   ],
   "source": [
    "fg_standard.head()"
   ]
  },
  {
   "cell_type": "code",
   "execution_count": 33,
   "metadata": {},
   "outputs": [],
   "source": [
    "# per IP stats for SO, H, BB, HBP, HR\n",
    "fg_standard['SO/IP'] = fg_standard['SO'] / fg_standard['IP']\n",
    "fg_standard['H/IP'] = fg_standard['H'] / fg_standard['IP']\n",
    "fg_standard['BB/IP'] = fg_standard['BB'] / fg_standard['IP']\n",
    "fg_standard['HBP/IP'] = fg_standard['HBP'] / fg_standard['IP']\n",
    "fg_standard['HR/IP'] = fg_standard['HR'] / fg_standard['IP']"
   ]
  },
  {
   "cell_type": "code",
   "execution_count": 34,
   "metadata": {},
   "outputs": [],
   "source": [
    "# rolling avgs for per IP stats \n",
    "fg_standard['avg_IP'] = fg_standard.groupby('PlayerId')['IP'].rolling(window=3, min_periods=1).mean().reset_index(0, drop=True)\n",
    "fg_standard['avg_SO/IP'] = fg_standard.groupby('PlayerId')['SO/IP'].rolling(window=3, min_periods=1).mean().reset_index(0, drop=True)\n",
    "fg_standard['avg_H/IP'] = fg_standard.groupby('PlayerId')['H/IP'].rolling(window=3, min_periods=1).mean().reset_index(0, drop=True)\n",
    "fg_standard['avg_BB/IP'] = fg_standard.groupby('PlayerId')['BB/IP'].rolling(window=3, min_periods=1).mean().reset_index(0, drop=True)\n",
    "fg_standard['avg_HBP/IP'] = fg_standard.groupby('PlayerId')['HBP/IP'].rolling(window=3, min_periods=1).mean().reset_index(0, drop=True)\n",
    "fg_standard['avg_HR/IP'] = fg_standard.groupby('PlayerId')['HR/IP'].rolling(window=3, min_periods=1).mean().reset_index(0, drop=True)"
   ]
  },
  {
   "cell_type": "markdown",
   "metadata": {},
   "source": [
    "### fg_advanced"
   ]
  },
  {
   "cell_type": "code",
   "execution_count": 35,
   "metadata": {},
   "outputs": [
    {
     "data": {
      "text/html": [
       "<div>\n",
       "<style scoped>\n",
       "    .dataframe tbody tr th:only-of-type {\n",
       "        vertical-align: middle;\n",
       "    }\n",
       "\n",
       "    .dataframe tbody tr th {\n",
       "        vertical-align: top;\n",
       "    }\n",
       "\n",
       "    .dataframe thead th {\n",
       "        text-align: right;\n",
       "    }\n",
       "</style>\n",
       "<table border=\"1\" class=\"dataframe\">\n",
       "  <thead>\n",
       "    <tr style=\"text-align: right;\">\n",
       "      <th></th>\n",
       "      <th></th>\n",
       "      <th>K/9</th>\n",
       "      <th>BB/9</th>\n",
       "      <th>K/BB</th>\n",
       "      <th>HR/9</th>\n",
       "      <th>K%</th>\n",
       "      <th>BB%</th>\n",
       "      <th>K-BB%</th>\n",
       "      <th>AVG</th>\n",
       "      <th>WHIP</th>\n",
       "      <th>BABIP</th>\n",
       "      <th>LOB%</th>\n",
       "      <th>ERA-</th>\n",
       "      <th>FIP-</th>\n",
       "      <th>xFIP-</th>\n",
       "      <th>FIP</th>\n",
       "      <th>E-F</th>\n",
       "      <th>xFIP</th>\n",
       "      <th>SIERA</th>\n",
       "    </tr>\n",
       "    <tr>\n",
       "      <th>PlayerId</th>\n",
       "      <th>Season</th>\n",
       "      <th></th>\n",
       "      <th></th>\n",
       "      <th></th>\n",
       "      <th></th>\n",
       "      <th></th>\n",
       "      <th></th>\n",
       "      <th></th>\n",
       "      <th></th>\n",
       "      <th></th>\n",
       "      <th></th>\n",
       "      <th></th>\n",
       "      <th></th>\n",
       "      <th></th>\n",
       "      <th></th>\n",
       "      <th></th>\n",
       "      <th></th>\n",
       "      <th></th>\n",
       "      <th></th>\n",
       "    </tr>\n",
       "  </thead>\n",
       "  <tbody>\n",
       "    <tr>\n",
       "      <th>1118</th>\n",
       "      <th>2019</th>\n",
       "      <td>4.183100</td>\n",
       "      <td>3.042254</td>\n",
       "      <td>1.375000</td>\n",
       "      <td>2.661973</td>\n",
       "      <td>0.103774</td>\n",
       "      <td>0.075472</td>\n",
       "      <td>0.028302</td>\n",
       "      <td>0.242105</td>\n",
       "      <td>1.309860</td>\n",
       "      <td>0.207792</td>\n",
       "      <td>0.619835</td>\n",
       "      <td>153.934449</td>\n",
       "      <td>167.975034</td>\n",
       "      <td>180.697876</td>\n",
       "      <td>7.523870</td>\n",
       "      <td>-0.678798</td>\n",
       "      <td>8.301602</td>\n",
       "      <td>7.286938</td>\n",
       "    </tr>\n",
       "    <tr>\n",
       "      <th>16155</th>\n",
       "      <th>2019</th>\n",
       "      <td>1.714286</td>\n",
       "      <td>3.857143</td>\n",
       "      <td>0.444444</td>\n",
       "      <td>2.142857</td>\n",
       "      <td>0.039604</td>\n",
       "      <td>0.089109</td>\n",
       "      <td>-0.049505</td>\n",
       "      <td>0.329670</td>\n",
       "      <td>1.857143</td>\n",
       "      <td>0.304878</td>\n",
       "      <td>0.575758</td>\n",
       "      <td>190.764117</td>\n",
       "      <td>163.011537</td>\n",
       "      <td>169.105995</td>\n",
       "      <td>7.356867</td>\n",
       "      <td>1.643133</td>\n",
       "      <td>7.766420</td>\n",
       "      <td>7.262680</td>\n",
       "    </tr>\n",
       "    <tr>\n",
       "      <th>29833</th>\n",
       "      <th>2024</th>\n",
       "      <td>6.560748</td>\n",
       "      <td>9.084113</td>\n",
       "      <td>0.722222</td>\n",
       "      <td>1.766355</td>\n",
       "      <td>0.149425</td>\n",
       "      <td>0.206897</td>\n",
       "      <td>-0.057471</td>\n",
       "      <td>0.233577</td>\n",
       "      <td>1.906542</td>\n",
       "      <td>0.240385</td>\n",
       "      <td>0.608108</td>\n",
       "      <td>174.458083</td>\n",
       "      <td>175.558592</td>\n",
       "      <td>181.359201</td>\n",
       "      <td>7.372087</td>\n",
       "      <td>-0.306667</td>\n",
       "      <td>7.364251</td>\n",
       "      <td>7.182650</td>\n",
       "    </tr>\n",
       "    <tr>\n",
       "      <th>15734</th>\n",
       "      <th>2023</th>\n",
       "      <td>6.154412</td>\n",
       "      <td>8.933825</td>\n",
       "      <td>0.688889</td>\n",
       "      <td>0.595588</td>\n",
       "      <td>0.146919</td>\n",
       "      <td>0.213270</td>\n",
       "      <td>-0.066351</td>\n",
       "      <td>0.257669</td>\n",
       "      <td>1.919118</td>\n",
       "      <td>0.302326</td>\n",
       "      <td>0.745921</td>\n",
       "      <td>101.965836</td>\n",
       "      <td>138.198953</td>\n",
       "      <td>149.727882</td>\n",
       "      <td>5.924158</td>\n",
       "      <td>-1.357981</td>\n",
       "      <td>6.413291</td>\n",
       "      <td>7.108541</td>\n",
       "    </tr>\n",
       "    <tr>\n",
       "      <th>17594</th>\n",
       "      <th>2020</th>\n",
       "      <td>6.646153</td>\n",
       "      <td>7.476922</td>\n",
       "      <td>0.888889</td>\n",
       "      <td>1.661538</td>\n",
       "      <td>0.183908</td>\n",
       "      <td>0.206897</td>\n",
       "      <td>-0.022989</td>\n",
       "      <td>0.132353</td>\n",
       "      <td>1.246154</td>\n",
       "      <td>0.104167</td>\n",
       "      <td>0.937500</td>\n",
       "      <td>64.997880</td>\n",
       "      <td>150.101788</td>\n",
       "      <td>147.179749</td>\n",
       "      <td>6.745265</td>\n",
       "      <td>-3.837573</td>\n",
       "      <td>6.570205</td>\n",
       "      <td>6.937591</td>\n",
       "    </tr>\n",
       "    <tr>\n",
       "      <th>...</th>\n",
       "      <th>...</th>\n",
       "      <td>...</td>\n",
       "      <td>...</td>\n",
       "      <td>...</td>\n",
       "      <td>...</td>\n",
       "      <td>...</td>\n",
       "      <td>...</td>\n",
       "      <td>...</td>\n",
       "      <td>...</td>\n",
       "      <td>...</td>\n",
       "      <td>...</td>\n",
       "      <td>...</td>\n",
       "      <td>...</td>\n",
       "      <td>...</td>\n",
       "      <td>...</td>\n",
       "      <td>...</td>\n",
       "      <td>...</td>\n",
       "      <td>...</td>\n",
       "      <td>...</td>\n",
       "    </tr>\n",
       "    <tr>\n",
       "      <th>14710</th>\n",
       "      <th>2022</th>\n",
       "      <td>17.129034</td>\n",
       "      <td>2.612904</td>\n",
       "      <td>6.555556</td>\n",
       "      <td>0.435484</td>\n",
       "      <td>0.502128</td>\n",
       "      <td>0.076596</td>\n",
       "      <td>0.425532</td>\n",
       "      <td>0.158140</td>\n",
       "      <td>0.838710</td>\n",
       "      <td>0.329787</td>\n",
       "      <td>0.903614</td>\n",
       "      <td>33.649920</td>\n",
       "      <td>23.928503</td>\n",
       "      <td>27.113908</td>\n",
       "      <td>0.902753</td>\n",
       "      <td>0.403698</td>\n",
       "      <td>1.037783</td>\n",
       "      <td>1.106676</td>\n",
       "    </tr>\n",
       "    <tr>\n",
       "      <th>6785</th>\n",
       "      <th>2016</th>\n",
       "      <td>14.892377</td>\n",
       "      <td>1.089686</td>\n",
       "      <td>13.666667</td>\n",
       "      <td>0.968610</td>\n",
       "      <td>0.447273</td>\n",
       "      <td>0.032727</td>\n",
       "      <td>0.414545</td>\n",
       "      <td>0.159091</td>\n",
       "      <td>0.686099</td>\n",
       "      <td>0.255639</td>\n",
       "      <td>0.956938</td>\n",
       "      <td>33.714287</td>\n",
       "      <td>37.851261</td>\n",
       "      <td>27.022273</td>\n",
       "      <td>1.680193</td>\n",
       "      <td>-0.227278</td>\n",
       "      <td>1.177377</td>\n",
       "      <td>1.104041</td>\n",
       "    </tr>\n",
       "    <tr>\n",
       "      <th>10233</th>\n",
       "      <th>2014</th>\n",
       "      <td>17.666670</td>\n",
       "      <td>4.000001</td>\n",
       "      <td>4.416667</td>\n",
       "      <td>0.166667</td>\n",
       "      <td>0.524752</td>\n",
       "      <td>0.118812</td>\n",
       "      <td>0.405941</td>\n",
       "      <td>0.119318</td>\n",
       "      <td>0.833334</td>\n",
       "      <td>0.289855</td>\n",
       "      <td>0.767544</td>\n",
       "      <td>53.886886</td>\n",
       "      <td>22.809653</td>\n",
       "      <td>31.956364</td>\n",
       "      <td>0.891511</td>\n",
       "      <td>1.108489</td>\n",
       "      <td>1.200085</td>\n",
       "      <td>1.089425</td>\n",
       "    </tr>\n",
       "    <tr>\n",
       "      <th>17998</th>\n",
       "      <th>2022</th>\n",
       "      <td>14.250001</td>\n",
       "      <td>1.125000</td>\n",
       "      <td>12.666667</td>\n",
       "      <td>0.375000</td>\n",
       "      <td>0.436782</td>\n",
       "      <td>0.034483</td>\n",
       "      <td>0.402299</td>\n",
       "      <td>0.154762</td>\n",
       "      <td>0.666667</td>\n",
       "      <td>0.266667</td>\n",
       "      <td>0.890411</td>\n",
       "      <td>30.086499</td>\n",
       "      <td>21.229010</td>\n",
       "      <td>27.334103</td>\n",
       "      <td>0.862431</td>\n",
       "      <td>0.262569</td>\n",
       "      <td>1.122631</td>\n",
       "      <td>1.086628</td>\n",
       "    </tr>\n",
       "    <tr>\n",
       "      <th>12803</th>\n",
       "      <th>2015</th>\n",
       "      <td>16.838714</td>\n",
       "      <td>2.032259</td>\n",
       "      <td>8.285714</td>\n",
       "      <td>0.580645</td>\n",
       "      <td>0.491525</td>\n",
       "      <td>0.059322</td>\n",
       "      <td>0.432203</td>\n",
       "      <td>0.165138</td>\n",
       "      <td>0.806452</td>\n",
       "      <td>0.326531</td>\n",
       "      <td>0.909091</td>\n",
       "      <td>30.604836</td>\n",
       "      <td>29.701101</td>\n",
       "      <td>30.584092</td>\n",
       "      <td>1.101335</td>\n",
       "      <td>0.059955</td>\n",
       "      <td>1.167071</td>\n",
       "      <td>0.865243</td>\n",
       "    </tr>\n",
       "  </tbody>\n",
       "</table>\n",
       "<p>5631 rows × 18 columns</p>\n",
       "</div>"
      ],
      "text/plain": [
       "                       K/9      BB/9       K/BB      HR/9        K%       BB%  \\\n",
       "PlayerId Season                                                                 \n",
       "1118     2019     4.183100  3.042254   1.375000  2.661973  0.103774  0.075472   \n",
       "16155    2019     1.714286  3.857143   0.444444  2.142857  0.039604  0.089109   \n",
       "29833    2024     6.560748  9.084113   0.722222  1.766355  0.149425  0.206897   \n",
       "15734    2023     6.154412  8.933825   0.688889  0.595588  0.146919  0.213270   \n",
       "17594    2020     6.646153  7.476922   0.888889  1.661538  0.183908  0.206897   \n",
       "...                    ...       ...        ...       ...       ...       ...   \n",
       "14710    2022    17.129034  2.612904   6.555556  0.435484  0.502128  0.076596   \n",
       "6785     2016    14.892377  1.089686  13.666667  0.968610  0.447273  0.032727   \n",
       "10233    2014    17.666670  4.000001   4.416667  0.166667  0.524752  0.118812   \n",
       "17998    2022    14.250001  1.125000  12.666667  0.375000  0.436782  0.034483   \n",
       "12803    2015    16.838714  2.032259   8.285714  0.580645  0.491525  0.059322   \n",
       "\n",
       "                    K-BB%       AVG      WHIP     BABIP      LOB%        ERA-  \\\n",
       "PlayerId Season                                                                 \n",
       "1118     2019    0.028302  0.242105  1.309860  0.207792  0.619835  153.934449   \n",
       "16155    2019   -0.049505  0.329670  1.857143  0.304878  0.575758  190.764117   \n",
       "29833    2024   -0.057471  0.233577  1.906542  0.240385  0.608108  174.458083   \n",
       "15734    2023   -0.066351  0.257669  1.919118  0.302326  0.745921  101.965836   \n",
       "17594    2020   -0.022989  0.132353  1.246154  0.104167  0.937500   64.997880   \n",
       "...                   ...       ...       ...       ...       ...         ...   \n",
       "14710    2022    0.425532  0.158140  0.838710  0.329787  0.903614   33.649920   \n",
       "6785     2016    0.414545  0.159091  0.686099  0.255639  0.956938   33.714287   \n",
       "10233    2014    0.405941  0.119318  0.833334  0.289855  0.767544   53.886886   \n",
       "17998    2022    0.402299  0.154762  0.666667  0.266667  0.890411   30.086499   \n",
       "12803    2015    0.432203  0.165138  0.806452  0.326531  0.909091   30.604836   \n",
       "\n",
       "                       FIP-       xFIP-       FIP       E-F      xFIP  \\\n",
       "PlayerId Season                                                         \n",
       "1118     2019    167.975034  180.697876  7.523870 -0.678798  8.301602   \n",
       "16155    2019    163.011537  169.105995  7.356867  1.643133  7.766420   \n",
       "29833    2024    175.558592  181.359201  7.372087 -0.306667  7.364251   \n",
       "15734    2023    138.198953  149.727882  5.924158 -1.357981  6.413291   \n",
       "17594    2020    150.101788  147.179749  6.745265 -3.837573  6.570205   \n",
       "...                     ...         ...       ...       ...       ...   \n",
       "14710    2022     23.928503   27.113908  0.902753  0.403698  1.037783   \n",
       "6785     2016     37.851261   27.022273  1.680193 -0.227278  1.177377   \n",
       "10233    2014     22.809653   31.956364  0.891511  1.108489  1.200085   \n",
       "17998    2022     21.229010   27.334103  0.862431  0.262569  1.122631   \n",
       "12803    2015     29.701101   30.584092  1.101335  0.059955  1.167071   \n",
       "\n",
       "                    SIERA  \n",
       "PlayerId Season            \n",
       "1118     2019    7.286938  \n",
       "16155    2019    7.262680  \n",
       "29833    2024    7.182650  \n",
       "15734    2023    7.108541  \n",
       "17594    2020    6.937591  \n",
       "...                   ...  \n",
       "14710    2022    1.106676  \n",
       "6785     2016    1.104041  \n",
       "10233    2014    1.089425  \n",
       "17998    2022    1.086628  \n",
       "12803    2015    0.865243  \n",
       "\n",
       "[5631 rows x 18 columns]"
      ]
     },
     "execution_count": 35,
     "metadata": {},
     "output_type": "execute_result"
    }
   ],
   "source": [
    "fg_advanced"
   ]
  },
  {
   "cell_type": "markdown",
   "metadata": {},
   "source": [
    "### fg_batted_ball"
   ]
  },
  {
   "cell_type": "code",
   "execution_count": 36,
   "metadata": {},
   "outputs": [
    {
     "data": {
      "text/html": [
       "<div>\n",
       "<style scoped>\n",
       "    .dataframe tbody tr th:only-of-type {\n",
       "        vertical-align: middle;\n",
       "    }\n",
       "\n",
       "    .dataframe tbody tr th {\n",
       "        vertical-align: top;\n",
       "    }\n",
       "\n",
       "    .dataframe thead th {\n",
       "        text-align: right;\n",
       "    }\n",
       "</style>\n",
       "<table border=\"1\" class=\"dataframe\">\n",
       "  <thead>\n",
       "    <tr style=\"text-align: right;\">\n",
       "      <th></th>\n",
       "      <th></th>\n",
       "      <th>GB/FB</th>\n",
       "      <th>LD%</th>\n",
       "      <th>GB%</th>\n",
       "      <th>FB%</th>\n",
       "      <th>IFFB%</th>\n",
       "      <th>HR/FB</th>\n",
       "      <th>RS</th>\n",
       "      <th>RS/9</th>\n",
       "      <th>Balls</th>\n",
       "      <th>Strikes</th>\n",
       "      <th>Pitches</th>\n",
       "      <th>Pull%</th>\n",
       "      <th>Cent%</th>\n",
       "      <th>Oppo%</th>\n",
       "      <th>Soft%</th>\n",
       "      <th>Med%</th>\n",
       "      <th>Hard%</th>\n",
       "    </tr>\n",
       "    <tr>\n",
       "      <th>PlayerId</th>\n",
       "      <th>Season</th>\n",
       "      <th></th>\n",
       "      <th></th>\n",
       "      <th></th>\n",
       "      <th></th>\n",
       "      <th></th>\n",
       "      <th></th>\n",
       "      <th></th>\n",
       "      <th></th>\n",
       "      <th></th>\n",
       "      <th></th>\n",
       "      <th></th>\n",
       "      <th></th>\n",
       "      <th></th>\n",
       "      <th></th>\n",
       "      <th></th>\n",
       "      <th></th>\n",
       "      <th></th>\n",
       "    </tr>\n",
       "  </thead>\n",
       "  <tbody>\n",
       "    <tr>\n",
       "      <th>12183</th>\n",
       "      <th>2019</th>\n",
       "      <td>0.302326</td>\n",
       "      <td>0.151515</td>\n",
       "      <td>0.196970</td>\n",
       "      <td>0.651515</td>\n",
       "      <td>0.116279</td>\n",
       "      <td>0.209302</td>\n",
       "      <td>5</td>\n",
       "      <td>1.956523</td>\n",
       "      <td>208</td>\n",
       "      <td>283</td>\n",
       "      <td>491</td>\n",
       "      <td>0.287879</td>\n",
       "      <td>0.439394</td>\n",
       "      <td>0.272727</td>\n",
       "      <td>0.136364</td>\n",
       "      <td>0.318182</td>\n",
       "      <td>0.545455</td>\n",
       "    </tr>\n",
       "    <tr>\n",
       "      <th>7450</th>\n",
       "      <th>2018</th>\n",
       "      <td>0.607843</td>\n",
       "      <td>0.240741</td>\n",
       "      <td>0.287037</td>\n",
       "      <td>0.472222</td>\n",
       "      <td>0.019608</td>\n",
       "      <td>0.215686</td>\n",
       "      <td>19</td>\n",
       "      <td>5.234694</td>\n",
       "      <td>191</td>\n",
       "      <td>371</td>\n",
       "      <td>562</td>\n",
       "      <td>0.385321</td>\n",
       "      <td>0.348624</td>\n",
       "      <td>0.266055</td>\n",
       "      <td>0.091743</td>\n",
       "      <td>0.366972</td>\n",
       "      <td>0.541284</td>\n",
       "    </tr>\n",
       "    <tr>\n",
       "      <th>17998</th>\n",
       "      <th>2019</th>\n",
       "      <td>1.444444</td>\n",
       "      <td>0.266667</td>\n",
       "      <td>0.433333</td>\n",
       "      <td>0.300000</td>\n",
       "      <td>0.055556</td>\n",
       "      <td>0.277778</td>\n",
       "      <td>9</td>\n",
       "      <td>3.857143</td>\n",
       "      <td>139</td>\n",
       "      <td>248</td>\n",
       "      <td>387</td>\n",
       "      <td>0.442623</td>\n",
       "      <td>0.311475</td>\n",
       "      <td>0.245902</td>\n",
       "      <td>0.180328</td>\n",
       "      <td>0.295082</td>\n",
       "      <td>0.524590</td>\n",
       "    </tr>\n",
       "    <tr>\n",
       "      <th>1246</th>\n",
       "      <th>2018</th>\n",
       "      <td>1.434783</td>\n",
       "      <td>0.232877</td>\n",
       "      <td>0.452055</td>\n",
       "      <td>0.315068</td>\n",
       "      <td>0.130435</td>\n",
       "      <td>0.130435</td>\n",
       "      <td>14</td>\n",
       "      <td>5.478261</td>\n",
       "      <td>167</td>\n",
       "      <td>247</td>\n",
       "      <td>414</td>\n",
       "      <td>0.315068</td>\n",
       "      <td>0.246575</td>\n",
       "      <td>0.438356</td>\n",
       "      <td>0.136986</td>\n",
       "      <td>0.342466</td>\n",
       "      <td>0.520548</td>\n",
       "    </tr>\n",
       "    <tr>\n",
       "      <th>13549</th>\n",
       "      <th>2020</th>\n",
       "      <td>1.000000</td>\n",
       "      <td>0.215686</td>\n",
       "      <td>0.392157</td>\n",
       "      <td>0.392157</td>\n",
       "      <td>0.050000</td>\n",
       "      <td>0.150000</td>\n",
       "      <td>12</td>\n",
       "      <td>4.628572</td>\n",
       "      <td>136</td>\n",
       "      <td>256</td>\n",
       "      <td>392</td>\n",
       "      <td>0.313725</td>\n",
       "      <td>0.431373</td>\n",
       "      <td>0.254902</td>\n",
       "      <td>0.117647</td>\n",
       "      <td>0.372549</td>\n",
       "      <td>0.509804</td>\n",
       "    </tr>\n",
       "    <tr>\n",
       "      <th>...</th>\n",
       "      <th>...</th>\n",
       "      <td>...</td>\n",
       "      <td>...</td>\n",
       "      <td>...</td>\n",
       "      <td>...</td>\n",
       "      <td>...</td>\n",
       "      <td>...</td>\n",
       "      <td>...</td>\n",
       "      <td>...</td>\n",
       "      <td>...</td>\n",
       "      <td>...</td>\n",
       "      <td>...</td>\n",
       "      <td>...</td>\n",
       "      <td>...</td>\n",
       "      <td>...</td>\n",
       "      <td>...</td>\n",
       "      <td>...</td>\n",
       "      <td>...</td>\n",
       "    </tr>\n",
       "    <tr>\n",
       "      <th>3240</th>\n",
       "      <th>2016</th>\n",
       "      <td>9.142857</td>\n",
       "      <td>0.112500</td>\n",
       "      <td>0.800000</td>\n",
       "      <td>0.087500</td>\n",
       "      <td>0.000000</td>\n",
       "      <td>0.071429</td>\n",
       "      <td>5</td>\n",
       "      <td>0.671642</td>\n",
       "      <td>376</td>\n",
       "      <td>651</td>\n",
       "      <td>1027</td>\n",
       "      <td>0.419753</td>\n",
       "      <td>0.401235</td>\n",
       "      <td>0.179012</td>\n",
       "      <td>0.308642</td>\n",
       "      <td>0.543210</td>\n",
       "      <td>0.148148</td>\n",
       "    </tr>\n",
       "    <tr>\n",
       "      <th>13346</th>\n",
       "      <th>2017</th>\n",
       "      <td>1.303030</td>\n",
       "      <td>0.200000</td>\n",
       "      <td>0.452632</td>\n",
       "      <td>0.347368</td>\n",
       "      <td>0.151515</td>\n",
       "      <td>0.060606</td>\n",
       "      <td>16</td>\n",
       "      <td>4.595746</td>\n",
       "      <td>213</td>\n",
       "      <td>329</td>\n",
       "      <td>542</td>\n",
       "      <td>0.340206</td>\n",
       "      <td>0.319588</td>\n",
       "      <td>0.340206</td>\n",
       "      <td>0.319588</td>\n",
       "      <td>0.536082</td>\n",
       "      <td>0.144330</td>\n",
       "    </tr>\n",
       "    <tr>\n",
       "      <th>17295</th>\n",
       "      <th>2018</th>\n",
       "      <td>4.266667</td>\n",
       "      <td>0.131868</td>\n",
       "      <td>0.703297</td>\n",
       "      <td>0.164835</td>\n",
       "      <td>0.133333</td>\n",
       "      <td>0.200000</td>\n",
       "      <td>21</td>\n",
       "      <td>5.108109</td>\n",
       "      <td>278</td>\n",
       "      <td>355</td>\n",
       "      <td>633</td>\n",
       "      <td>0.478261</td>\n",
       "      <td>0.271739</td>\n",
       "      <td>0.250000</td>\n",
       "      <td>0.217391</td>\n",
       "      <td>0.641304</td>\n",
       "      <td>0.141304</td>\n",
       "    </tr>\n",
       "    <tr>\n",
       "      <th>17796</th>\n",
       "      <th>2024</th>\n",
       "      <td>1.714286</td>\n",
       "      <td>0.214876</td>\n",
       "      <td>0.495868</td>\n",
       "      <td>0.289256</td>\n",
       "      <td>0.142857</td>\n",
       "      <td>0.057143</td>\n",
       "      <td>16</td>\n",
       "      <td>3.927273</td>\n",
       "      <td>218</td>\n",
       "      <td>373</td>\n",
       "      <td>591</td>\n",
       "      <td>0.471074</td>\n",
       "      <td>0.330579</td>\n",
       "      <td>0.198347</td>\n",
       "      <td>0.181818</td>\n",
       "      <td>0.685950</td>\n",
       "      <td>0.132231</td>\n",
       "    </tr>\n",
       "    <tr>\n",
       "      <th>14741</th>\n",
       "      <th>2017</th>\n",
       "      <td>2.076923</td>\n",
       "      <td>0.215686</td>\n",
       "      <td>0.529412</td>\n",
       "      <td>0.254902</td>\n",
       "      <td>0.153846</td>\n",
       "      <td>0.000000</td>\n",
       "      <td>15</td>\n",
       "      <td>6.750005</td>\n",
       "      <td>96</td>\n",
       "      <td>204</td>\n",
       "      <td>300</td>\n",
       "      <td>0.500000</td>\n",
       "      <td>0.230769</td>\n",
       "      <td>0.269231</td>\n",
       "      <td>0.173077</td>\n",
       "      <td>0.730769</td>\n",
       "      <td>0.096154</td>\n",
       "    </tr>\n",
       "  </tbody>\n",
       "</table>\n",
       "<p>5631 rows × 17 columns</p>\n",
       "</div>"
      ],
      "text/plain": [
       "                    GB/FB       LD%       GB%       FB%     IFFB%     HR/FB  \\\n",
       "PlayerId Season                                                               \n",
       "12183    2019    0.302326  0.151515  0.196970  0.651515  0.116279  0.209302   \n",
       "7450     2018    0.607843  0.240741  0.287037  0.472222  0.019608  0.215686   \n",
       "17998    2019    1.444444  0.266667  0.433333  0.300000  0.055556  0.277778   \n",
       "1246     2018    1.434783  0.232877  0.452055  0.315068  0.130435  0.130435   \n",
       "13549    2020    1.000000  0.215686  0.392157  0.392157  0.050000  0.150000   \n",
       "...                   ...       ...       ...       ...       ...       ...   \n",
       "3240     2016    9.142857  0.112500  0.800000  0.087500  0.000000  0.071429   \n",
       "13346    2017    1.303030  0.200000  0.452632  0.347368  0.151515  0.060606   \n",
       "17295    2018    4.266667  0.131868  0.703297  0.164835  0.133333  0.200000   \n",
       "17796    2024    1.714286  0.214876  0.495868  0.289256  0.142857  0.057143   \n",
       "14741    2017    2.076923  0.215686  0.529412  0.254902  0.153846  0.000000   \n",
       "\n",
       "                 RS      RS/9  Balls  Strikes  Pitches     Pull%     Cent%  \\\n",
       "PlayerId Season                                                              \n",
       "12183    2019     5  1.956523    208      283      491  0.287879  0.439394   \n",
       "7450     2018    19  5.234694    191      371      562  0.385321  0.348624   \n",
       "17998    2019     9  3.857143    139      248      387  0.442623  0.311475   \n",
       "1246     2018    14  5.478261    167      247      414  0.315068  0.246575   \n",
       "13549    2020    12  4.628572    136      256      392  0.313725  0.431373   \n",
       "...              ..       ...    ...      ...      ...       ...       ...   \n",
       "3240     2016     5  0.671642    376      651     1027  0.419753  0.401235   \n",
       "13346    2017    16  4.595746    213      329      542  0.340206  0.319588   \n",
       "17295    2018    21  5.108109    278      355      633  0.478261  0.271739   \n",
       "17796    2024    16  3.927273    218      373      591  0.471074  0.330579   \n",
       "14741    2017    15  6.750005     96      204      300  0.500000  0.230769   \n",
       "\n",
       "                    Oppo%     Soft%      Med%     Hard%  \n",
       "PlayerId Season                                          \n",
       "12183    2019    0.272727  0.136364  0.318182  0.545455  \n",
       "7450     2018    0.266055  0.091743  0.366972  0.541284  \n",
       "17998    2019    0.245902  0.180328  0.295082  0.524590  \n",
       "1246     2018    0.438356  0.136986  0.342466  0.520548  \n",
       "13549    2020    0.254902  0.117647  0.372549  0.509804  \n",
       "...                   ...       ...       ...       ...  \n",
       "3240     2016    0.179012  0.308642  0.543210  0.148148  \n",
       "13346    2017    0.340206  0.319588  0.536082  0.144330  \n",
       "17295    2018    0.250000  0.217391  0.641304  0.141304  \n",
       "17796    2024    0.198347  0.181818  0.685950  0.132231  \n",
       "14741    2017    0.269231  0.173077  0.730769  0.096154  \n",
       "\n",
       "[5631 rows x 17 columns]"
      ]
     },
     "execution_count": 36,
     "metadata": {},
     "output_type": "execute_result"
    }
   ],
   "source": [
    "fg_batted_ball"
   ]
  },
  {
   "cell_type": "markdown",
   "metadata": {},
   "source": [
    "### fg_pitch_type"
   ]
  },
  {
   "cell_type": "code",
   "execution_count": 37,
   "metadata": {},
   "outputs": [],
   "source": [
    "# Number of pitches\n",
    "fg_pitch_type[\"num_pitches\"] = fg_pitch_type.notna().sum(axis=1)\n",
    "\n",
    "# Number of fastballs\n",
    "fg_pitch_type[\"num_fastballs\"] = fg_pitch_type[['FA%', 'FT%', 'FC%', 'FS%']].notna().sum(axis=1)"
   ]
  },
  {
   "cell_type": "code",
   "execution_count": 38,
   "metadata": {},
   "outputs": [
    {
     "name": "stdout",
     "output_type": "stream",
     "text": [
      "<class 'pandas.core.frame.DataFrame'>\n",
      "MultiIndex: 5631 entries, (18, 2014) to (33876, 2024)\n",
      "Data columns (total 16 columns):\n",
      " #   Column         Non-Null Count  Dtype  \n",
      "---  ------         --------------  -----  \n",
      " 0   FA%            5384 non-null   float64\n",
      " 1   FT%            0 non-null      float64\n",
      " 2   FC%            1978 non-null   float64\n",
      " 3   FS%            599 non-null    float64\n",
      " 4   FO%            9 non-null      float64\n",
      " 5   SI%            4291 non-null   float64\n",
      " 6   SL%            4516 non-null   float64\n",
      " 7   CU%            3206 non-null   float64\n",
      " 8   KC%            666 non-null    float64\n",
      " 9   EP%            44 non-null     float64\n",
      " 10  CH%            4525 non-null   float64\n",
      " 11  SC%            10 non-null     float64\n",
      " 12  KN%            13 non-null     float64\n",
      " 13  UN%            0 non-null      float64\n",
      " 14  num_pitches    5631 non-null   int64  \n",
      " 15  num_fastballs  5631 non-null   int64  \n",
      "dtypes: float64(14), int64(2)\n",
      "memory usage: 798.4 KB\n"
     ]
    }
   ],
   "source": [
    "fg_pitch_type.info()"
   ]
  },
  {
   "cell_type": "markdown",
   "metadata": {},
   "source": [
    "### fg_pitch_type_value"
   ]
  },
  {
   "cell_type": "code",
   "execution_count": 39,
   "metadata": {},
   "outputs": [
    {
     "data": {
      "text/html": [
       "<div>\n",
       "<style scoped>\n",
       "    .dataframe tbody tr th:only-of-type {\n",
       "        vertical-align: middle;\n",
       "    }\n",
       "\n",
       "    .dataframe tbody tr th {\n",
       "        vertical-align: top;\n",
       "    }\n",
       "\n",
       "    .dataframe thead th {\n",
       "        text-align: right;\n",
       "    }\n",
       "</style>\n",
       "<table border=\"1\" class=\"dataframe\">\n",
       "  <thead>\n",
       "    <tr style=\"text-align: right;\">\n",
       "      <th></th>\n",
       "      <th></th>\n",
       "      <th>wFA</th>\n",
       "      <th>wFT</th>\n",
       "      <th>wFC</th>\n",
       "      <th>wFS</th>\n",
       "      <th>wFO</th>\n",
       "      <th>wSI</th>\n",
       "      <th>wSL</th>\n",
       "      <th>wCU</th>\n",
       "      <th>wKC</th>\n",
       "      <th>wEP</th>\n",
       "      <th>wCH</th>\n",
       "      <th>wSC</th>\n",
       "      <th>wKN</th>\n",
       "    </tr>\n",
       "    <tr>\n",
       "      <th>PlayerId</th>\n",
       "      <th>Season</th>\n",
       "      <th></th>\n",
       "      <th></th>\n",
       "      <th></th>\n",
       "      <th></th>\n",
       "      <th></th>\n",
       "      <th></th>\n",
       "      <th></th>\n",
       "      <th></th>\n",
       "      <th></th>\n",
       "      <th></th>\n",
       "      <th></th>\n",
       "      <th></th>\n",
       "      <th></th>\n",
       "    </tr>\n",
       "  </thead>\n",
       "  <tbody>\n",
       "    <tr>\n",
       "      <th>1245</th>\n",
       "      <th>2015</th>\n",
       "      <td>-3.731577</td>\n",
       "      <td>NaN</td>\n",
       "      <td>NaN</td>\n",
       "      <td>NaN</td>\n",
       "      <td>NaN</td>\n",
       "      <td>NaN</td>\n",
       "      <td>NaN</td>\n",
       "      <td>NaN</td>\n",
       "      <td>NaN</td>\n",
       "      <td>-1.123738</td>\n",
       "      <td>NaN</td>\n",
       "      <td>NaN</td>\n",
       "      <td>11.920722</td>\n",
       "    </tr>\n",
       "    <tr>\n",
       "      <th rowspan=\"3\" valign=\"top\">8185</th>\n",
       "      <th>2018</th>\n",
       "      <td>0.691758</td>\n",
       "      <td>NaN</td>\n",
       "      <td>NaN</td>\n",
       "      <td>NaN</td>\n",
       "      <td>NaN</td>\n",
       "      <td>0.009769</td>\n",
       "      <td>NaN</td>\n",
       "      <td>0.329252</td>\n",
       "      <td>NaN</td>\n",
       "      <td>NaN</td>\n",
       "      <td>NaN</td>\n",
       "      <td>NaN</td>\n",
       "      <td>6.186666</td>\n",
       "    </tr>\n",
       "    <tr>\n",
       "      <th>2016</th>\n",
       "      <td>7.283477</td>\n",
       "      <td>NaN</td>\n",
       "      <td>NaN</td>\n",
       "      <td>NaN</td>\n",
       "      <td>NaN</td>\n",
       "      <td>NaN</td>\n",
       "      <td>NaN</td>\n",
       "      <td>4.163627</td>\n",
       "      <td>NaN</td>\n",
       "      <td>NaN</td>\n",
       "      <td>NaN</td>\n",
       "      <td>NaN</td>\n",
       "      <td>5.877186</td>\n",
       "    </tr>\n",
       "    <tr>\n",
       "      <th>2015</th>\n",
       "      <td>2.137187</td>\n",
       "      <td>NaN</td>\n",
       "      <td>NaN</td>\n",
       "      <td>NaN</td>\n",
       "      <td>NaN</td>\n",
       "      <td>NaN</td>\n",
       "      <td>NaN</td>\n",
       "      <td>-5.000616</td>\n",
       "      <td>NaN</td>\n",
       "      <td>NaN</td>\n",
       "      <td>NaN</td>\n",
       "      <td>NaN</td>\n",
       "      <td>1.325142</td>\n",
       "    </tr>\n",
       "    <tr>\n",
       "      <th>25436</th>\n",
       "      <th>2023</th>\n",
       "      <td>14.851745</td>\n",
       "      <td>NaN</td>\n",
       "      <td>NaN</td>\n",
       "      <td>1.832700</td>\n",
       "      <td>NaN</td>\n",
       "      <td>2.616512</td>\n",
       "      <td>5.730240</td>\n",
       "      <td>NaN</td>\n",
       "      <td>1.148352</td>\n",
       "      <td>NaN</td>\n",
       "      <td>-2.707059</td>\n",
       "      <td>NaN</td>\n",
       "      <td>0.005185</td>\n",
       "    </tr>\n",
       "    <tr>\n",
       "      <th>...</th>\n",
       "      <th>...</th>\n",
       "      <td>...</td>\n",
       "      <td>...</td>\n",
       "      <td>...</td>\n",
       "      <td>...</td>\n",
       "      <td>...</td>\n",
       "      <td>...</td>\n",
       "      <td>...</td>\n",
       "      <td>...</td>\n",
       "      <td>...</td>\n",
       "      <td>...</td>\n",
       "      <td>...</td>\n",
       "      <td>...</td>\n",
       "      <td>...</td>\n",
       "    </tr>\n",
       "    <tr>\n",
       "      <th>33825</th>\n",
       "      <th>2024</th>\n",
       "      <td>4.561214</td>\n",
       "      <td>NaN</td>\n",
       "      <td>0.247966</td>\n",
       "      <td>0.878504</td>\n",
       "      <td>NaN</td>\n",
       "      <td>-0.691926</td>\n",
       "      <td>0.258887</td>\n",
       "      <td>3.883197</td>\n",
       "      <td>NaN</td>\n",
       "      <td>NaN</td>\n",
       "      <td>NaN</td>\n",
       "      <td>NaN</td>\n",
       "      <td>NaN</td>\n",
       "    </tr>\n",
       "    <tr>\n",
       "      <th>33826</th>\n",
       "      <th>2024</th>\n",
       "      <td>1.341997</td>\n",
       "      <td>NaN</td>\n",
       "      <td>NaN</td>\n",
       "      <td>0.651390</td>\n",
       "      <td>NaN</td>\n",
       "      <td>NaN</td>\n",
       "      <td>2.925098</td>\n",
       "      <td>0.234524</td>\n",
       "      <td>NaN</td>\n",
       "      <td>NaN</td>\n",
       "      <td>NaN</td>\n",
       "      <td>NaN</td>\n",
       "      <td>NaN</td>\n",
       "    </tr>\n",
       "    <tr>\n",
       "      <th>33829</th>\n",
       "      <th>2024</th>\n",
       "      <td>4.798841</td>\n",
       "      <td>NaN</td>\n",
       "      <td>-0.755426</td>\n",
       "      <td>11.034310</td>\n",
       "      <td>NaN</td>\n",
       "      <td>0.413262</td>\n",
       "      <td>0.275865</td>\n",
       "      <td>-0.496073</td>\n",
       "      <td>-0.765533</td>\n",
       "      <td>NaN</td>\n",
       "      <td>0.476748</td>\n",
       "      <td>NaN</td>\n",
       "      <td>NaN</td>\n",
       "    </tr>\n",
       "    <tr>\n",
       "      <th>33838</th>\n",
       "      <th>2024</th>\n",
       "      <td>-0.758190</td>\n",
       "      <td>NaN</td>\n",
       "      <td>NaN</td>\n",
       "      <td>-1.688674</td>\n",
       "      <td>NaN</td>\n",
       "      <td>4.828251</td>\n",
       "      <td>2.837765</td>\n",
       "      <td>-4.471426</td>\n",
       "      <td>NaN</td>\n",
       "      <td>NaN</td>\n",
       "      <td>NaN</td>\n",
       "      <td>NaN</td>\n",
       "      <td>NaN</td>\n",
       "    </tr>\n",
       "    <tr>\n",
       "      <th>33876</th>\n",
       "      <th>2024</th>\n",
       "      <td>-0.339056</td>\n",
       "      <td>NaN</td>\n",
       "      <td>NaN</td>\n",
       "      <td>NaN</td>\n",
       "      <td>NaN</td>\n",
       "      <td>4.101038</td>\n",
       "      <td>0.651391</td>\n",
       "      <td>NaN</td>\n",
       "      <td>NaN</td>\n",
       "      <td>NaN</td>\n",
       "      <td>1.294402</td>\n",
       "      <td>NaN</td>\n",
       "      <td>NaN</td>\n",
       "    </tr>\n",
       "  </tbody>\n",
       "</table>\n",
       "<p>5631 rows × 13 columns</p>\n",
       "</div>"
      ],
      "text/plain": [
       "                       wFA  wFT       wFC        wFS  wFO       wSI       wSL  \\\n",
       "PlayerId Season                                                                 \n",
       "1245     2015    -3.731577  NaN       NaN        NaN  NaN       NaN       NaN   \n",
       "8185     2018     0.691758  NaN       NaN        NaN  NaN  0.009769       NaN   \n",
       "         2016     7.283477  NaN       NaN        NaN  NaN       NaN       NaN   \n",
       "         2015     2.137187  NaN       NaN        NaN  NaN       NaN       NaN   \n",
       "25436    2023    14.851745  NaN       NaN   1.832700  NaN  2.616512  5.730240   \n",
       "...                    ...  ...       ...        ...  ...       ...       ...   \n",
       "33825    2024     4.561214  NaN  0.247966   0.878504  NaN -0.691926  0.258887   \n",
       "33826    2024     1.341997  NaN       NaN   0.651390  NaN       NaN  2.925098   \n",
       "33829    2024     4.798841  NaN -0.755426  11.034310  NaN  0.413262  0.275865   \n",
       "33838    2024    -0.758190  NaN       NaN  -1.688674  NaN  4.828251  2.837765   \n",
       "33876    2024    -0.339056  NaN       NaN        NaN  NaN  4.101038  0.651391   \n",
       "\n",
       "                      wCU       wKC       wEP       wCH  wSC        wKN  \n",
       "PlayerId Season                                                          \n",
       "1245     2015         NaN       NaN -1.123738       NaN  NaN  11.920722  \n",
       "8185     2018    0.329252       NaN       NaN       NaN  NaN   6.186666  \n",
       "         2016    4.163627       NaN       NaN       NaN  NaN   5.877186  \n",
       "         2015   -5.000616       NaN       NaN       NaN  NaN   1.325142  \n",
       "25436    2023         NaN  1.148352       NaN -2.707059  NaN   0.005185  \n",
       "...                   ...       ...       ...       ...  ...        ...  \n",
       "33825    2024    3.883197       NaN       NaN       NaN  NaN        NaN  \n",
       "33826    2024    0.234524       NaN       NaN       NaN  NaN        NaN  \n",
       "33829    2024   -0.496073 -0.765533       NaN  0.476748  NaN        NaN  \n",
       "33838    2024   -4.471426       NaN       NaN       NaN  NaN        NaN  \n",
       "33876    2024         NaN       NaN       NaN  1.294402  NaN        NaN  \n",
       "\n",
       "[5631 rows x 13 columns]"
      ]
     },
     "execution_count": 39,
     "metadata": {},
     "output_type": "execute_result"
    }
   ],
   "source": [
    "fg_pitch_type_value"
   ]
  },
  {
   "cell_type": "code",
   "execution_count": 40,
   "metadata": {},
   "outputs": [],
   "source": [
    "# Number of positively valued pitches\n",
    "fg_pitch_type_value[\"num_good_pitches\"] = fg_pitch_type_value[fg_pitch_type_value > 0].count(axis=1)\n",
    "\n",
    "# Total pitch value\n",
    "fg_pitch_type_value[\"total_pitch_value\"] = fg_pitch_type_value.sum(axis=1)\n",
    "\n",
    "# Avg pitch value\n",
    "fg_pitch_type_value[\"avg_pitch_value\"] = fg_pitch_type_value.mean(axis=1)"
   ]
  },
  {
   "cell_type": "code",
   "execution_count": 41,
   "metadata": {},
   "outputs": [
    {
     "name": "stdout",
     "output_type": "stream",
     "text": [
      "<class 'pandas.core.frame.DataFrame'>\n",
      "MultiIndex: 5631 entries, (1245, 2015) to (33876, 2024)\n",
      "Data columns (total 16 columns):\n",
      " #   Column             Non-Null Count  Dtype  \n",
      "---  ------             --------------  -----  \n",
      " 0   wFA                5384 non-null   float64\n",
      " 1   wFT                0 non-null      float64\n",
      " 2   wFC                1978 non-null   float64\n",
      " 3   wFS                599 non-null    float64\n",
      " 4   wFO                9 non-null      float64\n",
      " 5   wSI                4291 non-null   float64\n",
      " 6   wSL                4516 non-null   float64\n",
      " 7   wCU                3206 non-null   float64\n",
      " 8   wKC                666 non-null    float64\n",
      " 9   wEP                44 non-null     float64\n",
      " 10  wCH                4525 non-null   float64\n",
      " 11  wSC                10 non-null     float64\n",
      " 12  wKN                13 non-null     float64\n",
      " 13  num_good_pitches   5631 non-null   int64  \n",
      " 14  total_pitch_value  5631 non-null   float64\n",
      " 15  avg_pitch_value    5631 non-null   float64\n",
      "dtypes: float64(15), int64(1)\n",
      "memory usage: 798.4 KB\n"
     ]
    }
   ],
   "source": [
    "fg_pitch_type_value.info()"
   ]
  },
  {
   "cell_type": "markdown",
   "metadata": {},
   "source": [
    "### fg_velocity"
   ]
  },
  {
   "cell_type": "code",
   "execution_count": 42,
   "metadata": {},
   "outputs": [],
   "source": [
    "# Min & max velo\n",
    "max_velo = fg_velocity.max(axis=1)\n",
    "min_velo = fg_velocity.min(axis=1)\n",
    "fg_velocity[\"max_velo\"] = max_velo\n",
    "fg_velocity[\"min_velo\"] = min_velo\n",
    "\n",
    "# Difference between fastest and slowest pitch\n",
    "fg_velocity[\"diff_max_velo\"] = fg_velocity.max(axis=1) - fg_velocity.min(axis=1)"
   ]
  },
  {
   "cell_type": "code",
   "execution_count": 43,
   "metadata": {},
   "outputs": [
    {
     "name": "stdout",
     "output_type": "stream",
     "text": [
      "<class 'pandas.core.frame.DataFrame'>\n",
      "MultiIndex: 5631 entries, (25550, 2024) to (33876, 2024)\n",
      "Data columns (total 16 columns):\n",
      " #   Column         Non-Null Count  Dtype  \n",
      "---  ------         --------------  -----  \n",
      " 0   vFA            5384 non-null   float64\n",
      " 1   vFT            0 non-null      float64\n",
      " 2   vFC            1978 non-null   float64\n",
      " 3   vFS            599 non-null    float64\n",
      " 4   vFO            9 non-null      float64\n",
      " 5   vSI            4291 non-null   float64\n",
      " 6   vSL            4516 non-null   float64\n",
      " 7   vCU            3206 non-null   float64\n",
      " 8   vKC            666 non-null    float64\n",
      " 9   vEP            44 non-null     float64\n",
      " 10  vCH            4525 non-null   float64\n",
      " 11  vSC            10 non-null     float64\n",
      " 12  vKN            13 non-null     float64\n",
      " 13  max_velo       5631 non-null   float64\n",
      " 14  min_velo       5631 non-null   float64\n",
      " 15  diff_max_velo  5631 non-null   float64\n",
      "dtypes: float64(16)\n",
      "memory usage: 798.4 KB\n"
     ]
    }
   ],
   "source": [
    "fg_velocity.info()"
   ]
  },
  {
   "cell_type": "markdown",
   "metadata": {},
   "source": [
    "### fg_h_movement"
   ]
  },
  {
   "cell_type": "code",
   "execution_count": 44,
   "metadata": {},
   "outputs": [
    {
     "data": {
      "text/html": [
       "<div>\n",
       "<style scoped>\n",
       "    .dataframe tbody tr th:only-of-type {\n",
       "        vertical-align: middle;\n",
       "    }\n",
       "\n",
       "    .dataframe tbody tr th {\n",
       "        vertical-align: top;\n",
       "    }\n",
       "\n",
       "    .dataframe thead th {\n",
       "        text-align: right;\n",
       "    }\n",
       "</style>\n",
       "<table border=\"1\" class=\"dataframe\">\n",
       "  <thead>\n",
       "    <tr style=\"text-align: right;\">\n",
       "      <th></th>\n",
       "      <th></th>\n",
       "      <th>FA-X</th>\n",
       "      <th>FT-X</th>\n",
       "      <th>FC-X</th>\n",
       "      <th>FS-X</th>\n",
       "      <th>FO-X</th>\n",
       "      <th>SI-X</th>\n",
       "      <th>SL-X</th>\n",
       "      <th>CU-X</th>\n",
       "      <th>KC-X</th>\n",
       "      <th>EP-X</th>\n",
       "      <th>CH-X</th>\n",
       "      <th>SC-X</th>\n",
       "      <th>KN-X</th>\n",
       "    </tr>\n",
       "    <tr>\n",
       "      <th>PlayerId</th>\n",
       "      <th>Season</th>\n",
       "      <th></th>\n",
       "      <th></th>\n",
       "      <th></th>\n",
       "      <th></th>\n",
       "      <th></th>\n",
       "      <th></th>\n",
       "      <th></th>\n",
       "      <th></th>\n",
       "      <th></th>\n",
       "      <th></th>\n",
       "      <th></th>\n",
       "      <th></th>\n",
       "      <th></th>\n",
       "    </tr>\n",
       "  </thead>\n",
       "  <tbody>\n",
       "    <tr>\n",
       "      <th rowspan=\"3\" valign=\"top\">8185</th>\n",
       "      <th>2014</th>\n",
       "      <td>-4.433962</td>\n",
       "      <td>NaN</td>\n",
       "      <td>NaN</td>\n",
       "      <td>NaN</td>\n",
       "      <td>NaN</td>\n",
       "      <td>NaN</td>\n",
       "      <td>NaN</td>\n",
       "      <td>2.419445</td>\n",
       "      <td>NaN</td>\n",
       "      <td>NaN</td>\n",
       "      <td>NaN</td>\n",
       "      <td>NaN</td>\n",
       "      <td>1.170272</td>\n",
       "    </tr>\n",
       "    <tr>\n",
       "      <th>2016</th>\n",
       "      <td>-4.963647</td>\n",
       "      <td>NaN</td>\n",
       "      <td>NaN</td>\n",
       "      <td>NaN</td>\n",
       "      <td>NaN</td>\n",
       "      <td>NaN</td>\n",
       "      <td>NaN</td>\n",
       "      <td>2.729325</td>\n",
       "      <td>NaN</td>\n",
       "      <td>NaN</td>\n",
       "      <td>NaN</td>\n",
       "      <td>NaN</td>\n",
       "      <td>0.744092</td>\n",
       "    </tr>\n",
       "    <tr>\n",
       "      <th>2015</th>\n",
       "      <td>-5.407561</td>\n",
       "      <td>NaN</td>\n",
       "      <td>NaN</td>\n",
       "      <td>NaN</td>\n",
       "      <td>NaN</td>\n",
       "      <td>NaN</td>\n",
       "      <td>NaN</td>\n",
       "      <td>1.000437</td>\n",
       "      <td>NaN</td>\n",
       "      <td>NaN</td>\n",
       "      <td>NaN</td>\n",
       "      <td>NaN</td>\n",
       "      <td>0.466067</td>\n",
       "    </tr>\n",
       "    <tr>\n",
       "      <th rowspan=\"2\" valign=\"top\">1245</th>\n",
       "      <th>2014</th>\n",
       "      <td>-7.052059</td>\n",
       "      <td>NaN</td>\n",
       "      <td>NaN</td>\n",
       "      <td>NaN</td>\n",
       "      <td>NaN</td>\n",
       "      <td>NaN</td>\n",
       "      <td>NaN</td>\n",
       "      <td>NaN</td>\n",
       "      <td>NaN</td>\n",
       "      <td>1.470203</td>\n",
       "      <td>NaN</td>\n",
       "      <td>NaN</td>\n",
       "      <td>0.007002</td>\n",
       "    </tr>\n",
       "    <tr>\n",
       "      <th>2016</th>\n",
       "      <td>-7.930516</td>\n",
       "      <td>NaN</td>\n",
       "      <td>NaN</td>\n",
       "      <td>NaN</td>\n",
       "      <td>NaN</td>\n",
       "      <td>NaN</td>\n",
       "      <td>NaN</td>\n",
       "      <td>NaN</td>\n",
       "      <td>NaN</td>\n",
       "      <td>-0.748816</td>\n",
       "      <td>NaN</td>\n",
       "      <td>NaN</td>\n",
       "      <td>-0.464834</td>\n",
       "    </tr>\n",
       "    <tr>\n",
       "      <th>...</th>\n",
       "      <th>...</th>\n",
       "      <td>...</td>\n",
       "      <td>...</td>\n",
       "      <td>...</td>\n",
       "      <td>...</td>\n",
       "      <td>...</td>\n",
       "      <td>...</td>\n",
       "      <td>...</td>\n",
       "      <td>...</td>\n",
       "      <td>...</td>\n",
       "      <td>...</td>\n",
       "      <td>...</td>\n",
       "      <td>...</td>\n",
       "      <td>...</td>\n",
       "    </tr>\n",
       "    <tr>\n",
       "      <th>33825</th>\n",
       "      <th>2024</th>\n",
       "      <td>-4.522559</td>\n",
       "      <td>NaN</td>\n",
       "      <td>0.522997</td>\n",
       "      <td>-5.155483</td>\n",
       "      <td>NaN</td>\n",
       "      <td>-8.345479</td>\n",
       "      <td>3.187540</td>\n",
       "      <td>6.541221</td>\n",
       "      <td>NaN</td>\n",
       "      <td>NaN</td>\n",
       "      <td>NaN</td>\n",
       "      <td>NaN</td>\n",
       "      <td>NaN</td>\n",
       "    </tr>\n",
       "    <tr>\n",
       "      <th>33826</th>\n",
       "      <th>2024</th>\n",
       "      <td>3.039472</td>\n",
       "      <td>NaN</td>\n",
       "      <td>NaN</td>\n",
       "      <td>3.859488</td>\n",
       "      <td>NaN</td>\n",
       "      <td>NaN</td>\n",
       "      <td>-2.866795</td>\n",
       "      <td>-3.481145</td>\n",
       "      <td>NaN</td>\n",
       "      <td>NaN</td>\n",
       "      <td>NaN</td>\n",
       "      <td>NaN</td>\n",
       "      <td>NaN</td>\n",
       "    </tr>\n",
       "    <tr>\n",
       "      <th>33829</th>\n",
       "      <th>2024</th>\n",
       "      <td>6.655974</td>\n",
       "      <td>NaN</td>\n",
       "      <td>0.992302</td>\n",
       "      <td>6.562431</td>\n",
       "      <td>NaN</td>\n",
       "      <td>9.130366</td>\n",
       "      <td>-4.590986</td>\n",
       "      <td>-4.408233</td>\n",
       "      <td>-4.845635</td>\n",
       "      <td>NaN</td>\n",
       "      <td>7.338427</td>\n",
       "      <td>NaN</td>\n",
       "      <td>NaN</td>\n",
       "    </tr>\n",
       "    <tr>\n",
       "      <th>33838</th>\n",
       "      <th>2024</th>\n",
       "      <td>-1.765276</td>\n",
       "      <td>NaN</td>\n",
       "      <td>NaN</td>\n",
       "      <td>-7.989161</td>\n",
       "      <td>NaN</td>\n",
       "      <td>-8.876817</td>\n",
       "      <td>4.574846</td>\n",
       "      <td>7.518884</td>\n",
       "      <td>NaN</td>\n",
       "      <td>NaN</td>\n",
       "      <td>NaN</td>\n",
       "      <td>NaN</td>\n",
       "      <td>NaN</td>\n",
       "    </tr>\n",
       "    <tr>\n",
       "      <th>33876</th>\n",
       "      <th>2024</th>\n",
       "      <td>-6.630989</td>\n",
       "      <td>NaN</td>\n",
       "      <td>NaN</td>\n",
       "      <td>NaN</td>\n",
       "      <td>NaN</td>\n",
       "      <td>-10.261413</td>\n",
       "      <td>1.288474</td>\n",
       "      <td>NaN</td>\n",
       "      <td>NaN</td>\n",
       "      <td>NaN</td>\n",
       "      <td>-9.623683</td>\n",
       "      <td>NaN</td>\n",
       "      <td>NaN</td>\n",
       "    </tr>\n",
       "  </tbody>\n",
       "</table>\n",
       "<p>5631 rows × 13 columns</p>\n",
       "</div>"
      ],
      "text/plain": [
       "                     FA-X  FT-X      FC-X      FS-X  FO-X       SI-X  \\\n",
       "PlayerId Season                                                        \n",
       "8185     2014   -4.433962   NaN       NaN       NaN   NaN        NaN   \n",
       "         2016   -4.963647   NaN       NaN       NaN   NaN        NaN   \n",
       "         2015   -5.407561   NaN       NaN       NaN   NaN        NaN   \n",
       "1245     2014   -7.052059   NaN       NaN       NaN   NaN        NaN   \n",
       "         2016   -7.930516   NaN       NaN       NaN   NaN        NaN   \n",
       "...                   ...   ...       ...       ...   ...        ...   \n",
       "33825    2024   -4.522559   NaN  0.522997 -5.155483   NaN  -8.345479   \n",
       "33826    2024    3.039472   NaN       NaN  3.859488   NaN        NaN   \n",
       "33829    2024    6.655974   NaN  0.992302  6.562431   NaN   9.130366   \n",
       "33838    2024   -1.765276   NaN       NaN -7.989161   NaN  -8.876817   \n",
       "33876    2024   -6.630989   NaN       NaN       NaN   NaN -10.261413   \n",
       "\n",
       "                     SL-X      CU-X      KC-X      EP-X      CH-X  SC-X  \\\n",
       "PlayerId Season                                                           \n",
       "8185     2014         NaN  2.419445       NaN       NaN       NaN   NaN   \n",
       "         2016         NaN  2.729325       NaN       NaN       NaN   NaN   \n",
       "         2015         NaN  1.000437       NaN       NaN       NaN   NaN   \n",
       "1245     2014         NaN       NaN       NaN  1.470203       NaN   NaN   \n",
       "         2016         NaN       NaN       NaN -0.748816       NaN   NaN   \n",
       "...                   ...       ...       ...       ...       ...   ...   \n",
       "33825    2024    3.187540  6.541221       NaN       NaN       NaN   NaN   \n",
       "33826    2024   -2.866795 -3.481145       NaN       NaN       NaN   NaN   \n",
       "33829    2024   -4.590986 -4.408233 -4.845635       NaN  7.338427   NaN   \n",
       "33838    2024    4.574846  7.518884       NaN       NaN       NaN   NaN   \n",
       "33876    2024    1.288474       NaN       NaN       NaN -9.623683   NaN   \n",
       "\n",
       "                     KN-X  \n",
       "PlayerId Season            \n",
       "8185     2014    1.170272  \n",
       "         2016    0.744092  \n",
       "         2015    0.466067  \n",
       "1245     2014    0.007002  \n",
       "         2016   -0.464834  \n",
       "...                   ...  \n",
       "33825    2024         NaN  \n",
       "33826    2024         NaN  \n",
       "33829    2024         NaN  \n",
       "33838    2024         NaN  \n",
       "33876    2024         NaN  \n",
       "\n",
       "[5631 rows x 13 columns]"
      ]
     },
     "execution_count": 44,
     "metadata": {},
     "output_type": "execute_result"
    }
   ],
   "source": [
    "fg_h_movement"
   ]
  },
  {
   "cell_type": "code",
   "execution_count": 45,
   "metadata": {},
   "outputs": [],
   "source": [
    "# total horizontal movement\n",
    "fg_h_movement['total_h_movement'] = fg_h_movement.abs().sum(axis=1)"
   ]
  },
  {
   "cell_type": "markdown",
   "metadata": {},
   "source": [
    "### fg_v_movement"
   ]
  },
  {
   "cell_type": "code",
   "execution_count": 46,
   "metadata": {},
   "outputs": [
    {
     "data": {
      "text/html": [
       "<div>\n",
       "<style scoped>\n",
       "    .dataframe tbody tr th:only-of-type {\n",
       "        vertical-align: middle;\n",
       "    }\n",
       "\n",
       "    .dataframe tbody tr th {\n",
       "        vertical-align: top;\n",
       "    }\n",
       "\n",
       "    .dataframe thead th {\n",
       "        text-align: right;\n",
       "    }\n",
       "</style>\n",
       "<table border=\"1\" class=\"dataframe\">\n",
       "  <thead>\n",
       "    <tr style=\"text-align: right;\">\n",
       "      <th></th>\n",
       "      <th></th>\n",
       "      <th>FA-Z</th>\n",
       "      <th>FT-Z</th>\n",
       "      <th>FC-Z</th>\n",
       "      <th>FS-Z</th>\n",
       "      <th>FO-Z</th>\n",
       "      <th>SI-Z</th>\n",
       "      <th>SL-Z</th>\n",
       "      <th>CU-Z</th>\n",
       "      <th>KC-Z</th>\n",
       "      <th>EP-Z</th>\n",
       "      <th>CH-Z</th>\n",
       "      <th>SC-Z</th>\n",
       "      <th>KN-Z</th>\n",
       "    </tr>\n",
       "    <tr>\n",
       "      <th>PlayerId</th>\n",
       "      <th>Season</th>\n",
       "      <th></th>\n",
       "      <th></th>\n",
       "      <th></th>\n",
       "      <th></th>\n",
       "      <th></th>\n",
       "      <th></th>\n",
       "      <th></th>\n",
       "      <th></th>\n",
       "      <th></th>\n",
       "      <th></th>\n",
       "      <th></th>\n",
       "      <th></th>\n",
       "      <th></th>\n",
       "    </tr>\n",
       "  </thead>\n",
       "  <tbody>\n",
       "    <tr>\n",
       "      <th>25436</th>\n",
       "      <th>2024</th>\n",
       "      <td>9.165173</td>\n",
       "      <td>NaN</td>\n",
       "      <td>5.165636</td>\n",
       "      <td>1.078419</td>\n",
       "      <td>NaN</td>\n",
       "      <td>6.880620</td>\n",
       "      <td>-1.245128</td>\n",
       "      <td>NaN</td>\n",
       "      <td>-7.790860</td>\n",
       "      <td>NaN</td>\n",
       "      <td>NaN</td>\n",
       "      <td>NaN</td>\n",
       "      <td>3.452115</td>\n",
       "    </tr>\n",
       "    <tr>\n",
       "      <th rowspan=\"3\" valign=\"top\">1245</th>\n",
       "      <th>2017</th>\n",
       "      <td>6.223673</td>\n",
       "      <td>NaN</td>\n",
       "      <td>NaN</td>\n",
       "      <td>NaN</td>\n",
       "      <td>NaN</td>\n",
       "      <td>NaN</td>\n",
       "      <td>NaN</td>\n",
       "      <td>NaN</td>\n",
       "      <td>NaN</td>\n",
       "      <td>1.933438</td>\n",
       "      <td>NaN</td>\n",
       "      <td>NaN</td>\n",
       "      <td>2.160393</td>\n",
       "    </tr>\n",
       "    <tr>\n",
       "      <th>2016</th>\n",
       "      <td>5.506783</td>\n",
       "      <td>NaN</td>\n",
       "      <td>NaN</td>\n",
       "      <td>NaN</td>\n",
       "      <td>NaN</td>\n",
       "      <td>NaN</td>\n",
       "      <td>NaN</td>\n",
       "      <td>NaN</td>\n",
       "      <td>NaN</td>\n",
       "      <td>0.979878</td>\n",
       "      <td>NaN</td>\n",
       "      <td>NaN</td>\n",
       "      <td>1.908689</td>\n",
       "    </tr>\n",
       "    <tr>\n",
       "      <th>2015</th>\n",
       "      <td>5.472444</td>\n",
       "      <td>NaN</td>\n",
       "      <td>NaN</td>\n",
       "      <td>NaN</td>\n",
       "      <td>NaN</td>\n",
       "      <td>NaN</td>\n",
       "      <td>NaN</td>\n",
       "      <td>NaN</td>\n",
       "      <td>NaN</td>\n",
       "      <td>0.897308</td>\n",
       "      <td>NaN</td>\n",
       "      <td>NaN</td>\n",
       "      <td>1.791577</td>\n",
       "    </tr>\n",
       "    <tr>\n",
       "      <th>25436</th>\n",
       "      <th>2023</th>\n",
       "      <td>8.858159</td>\n",
       "      <td>NaN</td>\n",
       "      <td>NaN</td>\n",
       "      <td>0.425692</td>\n",
       "      <td>NaN</td>\n",
       "      <td>6.168224</td>\n",
       "      <td>-1.180826</td>\n",
       "      <td>NaN</td>\n",
       "      <td>-7.258552</td>\n",
       "      <td>NaN</td>\n",
       "      <td>3.281189</td>\n",
       "      <td>NaN</td>\n",
       "      <td>1.724443</td>\n",
       "    </tr>\n",
       "    <tr>\n",
       "      <th>...</th>\n",
       "      <th>...</th>\n",
       "      <td>...</td>\n",
       "      <td>...</td>\n",
       "      <td>...</td>\n",
       "      <td>...</td>\n",
       "      <td>...</td>\n",
       "      <td>...</td>\n",
       "      <td>...</td>\n",
       "      <td>...</td>\n",
       "      <td>...</td>\n",
       "      <td>...</td>\n",
       "      <td>...</td>\n",
       "      <td>...</td>\n",
       "      <td>...</td>\n",
       "    </tr>\n",
       "    <tr>\n",
       "      <th>33825</th>\n",
       "      <th>2024</th>\n",
       "      <td>9.065864</td>\n",
       "      <td>NaN</td>\n",
       "      <td>5.121246</td>\n",
       "      <td>1.817976</td>\n",
       "      <td>NaN</td>\n",
       "      <td>7.420069</td>\n",
       "      <td>-0.041141</td>\n",
       "      <td>-9.200767</td>\n",
       "      <td>NaN</td>\n",
       "      <td>NaN</td>\n",
       "      <td>NaN</td>\n",
       "      <td>NaN</td>\n",
       "      <td>NaN</td>\n",
       "    </tr>\n",
       "    <tr>\n",
       "      <th>33826</th>\n",
       "      <th>2024</th>\n",
       "      <td>11.541382</td>\n",
       "      <td>NaN</td>\n",
       "      <td>NaN</td>\n",
       "      <td>3.368516</td>\n",
       "      <td>NaN</td>\n",
       "      <td>NaN</td>\n",
       "      <td>2.065588</td>\n",
       "      <td>-9.095885</td>\n",
       "      <td>NaN</td>\n",
       "      <td>NaN</td>\n",
       "      <td>NaN</td>\n",
       "      <td>NaN</td>\n",
       "      <td>NaN</td>\n",
       "    </tr>\n",
       "    <tr>\n",
       "      <th>33829</th>\n",
       "      <th>2024</th>\n",
       "      <td>10.473647</td>\n",
       "      <td>NaN</td>\n",
       "      <td>7.787293</td>\n",
       "      <td>3.940628</td>\n",
       "      <td>NaN</td>\n",
       "      <td>5.278667</td>\n",
       "      <td>1.876394</td>\n",
       "      <td>-7.662772</td>\n",
       "      <td>-4.704191</td>\n",
       "      <td>NaN</td>\n",
       "      <td>5.582941</td>\n",
       "      <td>NaN</td>\n",
       "      <td>NaN</td>\n",
       "    </tr>\n",
       "    <tr>\n",
       "      <th>33838</th>\n",
       "      <th>2024</th>\n",
       "      <td>6.852595</td>\n",
       "      <td>NaN</td>\n",
       "      <td>NaN</td>\n",
       "      <td>3.396463</td>\n",
       "      <td>NaN</td>\n",
       "      <td>5.557105</td>\n",
       "      <td>1.238292</td>\n",
       "      <td>-6.774168</td>\n",
       "      <td>NaN</td>\n",
       "      <td>NaN</td>\n",
       "      <td>NaN</td>\n",
       "      <td>NaN</td>\n",
       "      <td>NaN</td>\n",
       "    </tr>\n",
       "    <tr>\n",
       "      <th>33876</th>\n",
       "      <th>2024</th>\n",
       "      <td>8.546545</td>\n",
       "      <td>NaN</td>\n",
       "      <td>NaN</td>\n",
       "      <td>NaN</td>\n",
       "      <td>NaN</td>\n",
       "      <td>2.989005</td>\n",
       "      <td>-0.537860</td>\n",
       "      <td>NaN</td>\n",
       "      <td>NaN</td>\n",
       "      <td>NaN</td>\n",
       "      <td>0.495779</td>\n",
       "      <td>NaN</td>\n",
       "      <td>NaN</td>\n",
       "    </tr>\n",
       "  </tbody>\n",
       "</table>\n",
       "<p>5631 rows × 13 columns</p>\n",
       "</div>"
      ],
      "text/plain": [
       "                      FA-Z  FT-Z      FC-Z      FS-Z  FO-Z      SI-Z  \\\n",
       "PlayerId Season                                                        \n",
       "25436    2024     9.165173   NaN  5.165636  1.078419   NaN  6.880620   \n",
       "1245     2017     6.223673   NaN       NaN       NaN   NaN       NaN   \n",
       "         2016     5.506783   NaN       NaN       NaN   NaN       NaN   \n",
       "         2015     5.472444   NaN       NaN       NaN   NaN       NaN   \n",
       "25436    2023     8.858159   NaN       NaN  0.425692   NaN  6.168224   \n",
       "...                    ...   ...       ...       ...   ...       ...   \n",
       "33825    2024     9.065864   NaN  5.121246  1.817976   NaN  7.420069   \n",
       "33826    2024    11.541382   NaN       NaN  3.368516   NaN       NaN   \n",
       "33829    2024    10.473647   NaN  7.787293  3.940628   NaN  5.278667   \n",
       "33838    2024     6.852595   NaN       NaN  3.396463   NaN  5.557105   \n",
       "33876    2024     8.546545   NaN       NaN       NaN   NaN  2.989005   \n",
       "\n",
       "                     SL-Z      CU-Z      KC-Z      EP-Z      CH-Z  SC-Z  \\\n",
       "PlayerId Season                                                           \n",
       "25436    2024   -1.245128       NaN -7.790860       NaN       NaN   NaN   \n",
       "1245     2017         NaN       NaN       NaN  1.933438       NaN   NaN   \n",
       "         2016         NaN       NaN       NaN  0.979878       NaN   NaN   \n",
       "         2015         NaN       NaN       NaN  0.897308       NaN   NaN   \n",
       "25436    2023   -1.180826       NaN -7.258552       NaN  3.281189   NaN   \n",
       "...                   ...       ...       ...       ...       ...   ...   \n",
       "33825    2024   -0.041141 -9.200767       NaN       NaN       NaN   NaN   \n",
       "33826    2024    2.065588 -9.095885       NaN       NaN       NaN   NaN   \n",
       "33829    2024    1.876394 -7.662772 -4.704191       NaN  5.582941   NaN   \n",
       "33838    2024    1.238292 -6.774168       NaN       NaN       NaN   NaN   \n",
       "33876    2024   -0.537860       NaN       NaN       NaN  0.495779   NaN   \n",
       "\n",
       "                     KN-Z  \n",
       "PlayerId Season            \n",
       "25436    2024    3.452115  \n",
       "1245     2017    2.160393  \n",
       "         2016    1.908689  \n",
       "         2015    1.791577  \n",
       "25436    2023    1.724443  \n",
       "...                   ...  \n",
       "33825    2024         NaN  \n",
       "33826    2024         NaN  \n",
       "33829    2024         NaN  \n",
       "33838    2024         NaN  \n",
       "33876    2024         NaN  \n",
       "\n",
       "[5631 rows x 13 columns]"
      ]
     },
     "execution_count": 46,
     "metadata": {},
     "output_type": "execute_result"
    }
   ],
   "source": [
    "fg_v_movement"
   ]
  },
  {
   "cell_type": "code",
   "execution_count": 47,
   "metadata": {},
   "outputs": [],
   "source": [
    "# total vertical movement\n",
    "fg_v_movement['total_v_movement'] = fg_v_movement.abs().sum(axis=1)"
   ]
  },
  {
   "cell_type": "markdown",
   "metadata": {},
   "source": [
    "### fg_pitch_plate_discipline"
   ]
  },
  {
   "cell_type": "code",
   "execution_count": 48,
   "metadata": {},
   "outputs": [
    {
     "data": {
      "text/html": [
       "<div>\n",
       "<style scoped>\n",
       "    .dataframe tbody tr th:only-of-type {\n",
       "        vertical-align: middle;\n",
       "    }\n",
       "\n",
       "    .dataframe tbody tr th {\n",
       "        vertical-align: top;\n",
       "    }\n",
       "\n",
       "    .dataframe thead th {\n",
       "        text-align: right;\n",
       "    }\n",
       "</style>\n",
       "<table border=\"1\" class=\"dataframe\">\n",
       "  <thead>\n",
       "    <tr style=\"text-align: right;\">\n",
       "      <th></th>\n",
       "      <th></th>\n",
       "      <th>O-Swing%</th>\n",
       "      <th>Z-Swing%</th>\n",
       "      <th>Swing%</th>\n",
       "      <th>O-Contact%</th>\n",
       "      <th>Z-Contact%</th>\n",
       "      <th>Contact%</th>\n",
       "      <th>Zone%</th>\n",
       "      <th>Pace</th>\n",
       "    </tr>\n",
       "    <tr>\n",
       "      <th>PlayerId</th>\n",
       "      <th>Season</th>\n",
       "      <th></th>\n",
       "      <th></th>\n",
       "      <th></th>\n",
       "      <th></th>\n",
       "      <th></th>\n",
       "      <th></th>\n",
       "      <th></th>\n",
       "      <th></th>\n",
       "    </tr>\n",
       "  </thead>\n",
       "  <tbody>\n",
       "    <tr>\n",
       "      <th>4185</th>\n",
       "      <th>2020</th>\n",
       "      <td>0.288793</td>\n",
       "      <td>0.571429</td>\n",
       "      <td>0.413043</td>\n",
       "      <td>0.447761</td>\n",
       "      <td>0.855769</td>\n",
       "      <td>0.695906</td>\n",
       "      <td>0.439614</td>\n",
       "      <td>32.030201</td>\n",
       "    </tr>\n",
       "    <tr>\n",
       "      <th>14986</th>\n",
       "      <th>2021</th>\n",
       "      <td>0.356185</td>\n",
       "      <td>0.697345</td>\n",
       "      <td>0.512136</td>\n",
       "      <td>0.410042</td>\n",
       "      <td>0.845178</td>\n",
       "      <td>0.680885</td>\n",
       "      <td>0.457120</td>\n",
       "      <td>31.554410</td>\n",
       "    </tr>\n",
       "    <tr>\n",
       "      <th>4079</th>\n",
       "      <th>2014</th>\n",
       "      <td>0.314402</td>\n",
       "      <td>0.689655</td>\n",
       "      <td>0.502028</td>\n",
       "      <td>0.554839</td>\n",
       "      <td>0.858824</td>\n",
       "      <td>0.763636</td>\n",
       "      <td>0.500000</td>\n",
       "      <td>31.079365</td>\n",
       "    </tr>\n",
       "    <tr>\n",
       "      <th>14986</th>\n",
       "      <th>2022</th>\n",
       "      <td>0.349328</td>\n",
       "      <td>0.710921</td>\n",
       "      <td>0.520243</td>\n",
       "      <td>0.417582</td>\n",
       "      <td>0.804217</td>\n",
       "      <td>0.667315</td>\n",
       "      <td>0.472672</td>\n",
       "      <td>30.848980</td>\n",
       "    </tr>\n",
       "    <tr>\n",
       "      <th>4185</th>\n",
       "      <th>2021</th>\n",
       "      <td>0.221538</td>\n",
       "      <td>0.628159</td>\n",
       "      <td>0.408638</td>\n",
       "      <td>0.513889</td>\n",
       "      <td>0.833333</td>\n",
       "      <td>0.739837</td>\n",
       "      <td>0.460133</td>\n",
       "      <td>30.810875</td>\n",
       "    </tr>\n",
       "    <tr>\n",
       "      <th>...</th>\n",
       "      <th>...</th>\n",
       "      <td>...</td>\n",
       "      <td>...</td>\n",
       "      <td>...</td>\n",
       "      <td>...</td>\n",
       "      <td>...</td>\n",
       "      <td>...</td>\n",
       "      <td>...</td>\n",
       "      <td>...</td>\n",
       "    </tr>\n",
       "    <tr>\n",
       "      <th>8779</th>\n",
       "      <th>2022</th>\n",
       "      <td>0.272414</td>\n",
       "      <td>0.626812</td>\n",
       "      <td>0.445230</td>\n",
       "      <td>0.582278</td>\n",
       "      <td>0.843931</td>\n",
       "      <td>0.761905</td>\n",
       "      <td>0.487633</td>\n",
       "      <td>15.487624</td>\n",
       "    </tr>\n",
       "    <tr>\n",
       "      <th>30076</th>\n",
       "      <th>2024</th>\n",
       "      <td>0.268980</td>\n",
       "      <td>0.553812</td>\n",
       "      <td>0.409041</td>\n",
       "      <td>0.588710</td>\n",
       "      <td>0.850202</td>\n",
       "      <td>0.762803</td>\n",
       "      <td>0.491731</td>\n",
       "      <td>15.486172</td>\n",
       "    </tr>\n",
       "    <tr>\n",
       "      <th>27589</th>\n",
       "      <th>2023</th>\n",
       "      <td>0.306452</td>\n",
       "      <td>0.641667</td>\n",
       "      <td>0.476101</td>\n",
       "      <td>0.569659</td>\n",
       "      <td>0.868687</td>\n",
       "      <td>0.773622</td>\n",
       "      <td>0.506092</td>\n",
       "      <td>15.473552</td>\n",
       "    </tr>\n",
       "    <tr>\n",
       "      <th>13942</th>\n",
       "      <th>2024</th>\n",
       "      <td>0.290196</td>\n",
       "      <td>0.697856</td>\n",
       "      <td>0.494624</td>\n",
       "      <td>0.628378</td>\n",
       "      <td>0.885475</td>\n",
       "      <td>0.810277</td>\n",
       "      <td>0.501466</td>\n",
       "      <td>14.561238</td>\n",
       "    </tr>\n",
       "    <tr>\n",
       "      <th>8779</th>\n",
       "      <th>2023</th>\n",
       "      <td>0.244854</td>\n",
       "      <td>0.645263</td>\n",
       "      <td>0.447944</td>\n",
       "      <td>0.668142</td>\n",
       "      <td>0.887439</td>\n",
       "      <td>0.828367</td>\n",
       "      <td>0.507208</td>\n",
       "      <td>14.234568</td>\n",
       "    </tr>\n",
       "  </tbody>\n",
       "</table>\n",
       "<p>5631 rows × 8 columns</p>\n",
       "</div>"
      ],
      "text/plain": [
       "                 O-Swing%  Z-Swing%    Swing%  O-Contact%  Z-Contact%  \\\n",
       "PlayerId Season                                                         \n",
       "4185     2020    0.288793  0.571429  0.413043    0.447761    0.855769   \n",
       "14986    2021    0.356185  0.697345  0.512136    0.410042    0.845178   \n",
       "4079     2014    0.314402  0.689655  0.502028    0.554839    0.858824   \n",
       "14986    2022    0.349328  0.710921  0.520243    0.417582    0.804217   \n",
       "4185     2021    0.221538  0.628159  0.408638    0.513889    0.833333   \n",
       "...                   ...       ...       ...         ...         ...   \n",
       "8779     2022    0.272414  0.626812  0.445230    0.582278    0.843931   \n",
       "30076    2024    0.268980  0.553812  0.409041    0.588710    0.850202   \n",
       "27589    2023    0.306452  0.641667  0.476101    0.569659    0.868687   \n",
       "13942    2024    0.290196  0.697856  0.494624    0.628378    0.885475   \n",
       "8779     2023    0.244854  0.645263  0.447944    0.668142    0.887439   \n",
       "\n",
       "                 Contact%     Zone%       Pace  \n",
       "PlayerId Season                                 \n",
       "4185     2020    0.695906  0.439614  32.030201  \n",
       "14986    2021    0.680885  0.457120  31.554410  \n",
       "4079     2014    0.763636  0.500000  31.079365  \n",
       "14986    2022    0.667315  0.472672  30.848980  \n",
       "4185     2021    0.739837  0.460133  30.810875  \n",
       "...                   ...       ...        ...  \n",
       "8779     2022    0.761905  0.487633  15.487624  \n",
       "30076    2024    0.762803  0.491731  15.486172  \n",
       "27589    2023    0.773622  0.506092  15.473552  \n",
       "13942    2024    0.810277  0.501466  14.561238  \n",
       "8779     2023    0.828367  0.507208  14.234568  \n",
       "\n",
       "[5631 rows x 8 columns]"
      ]
     },
     "execution_count": 48,
     "metadata": {},
     "output_type": "execute_result"
    }
   ],
   "source": [
    "fg_pitch_plate_discipline"
   ]
  },
  {
   "cell_type": "markdown",
   "metadata": {},
   "source": [
    "# Data Preparation pt. 2"
   ]
  },
  {
   "cell_type": "markdown",
   "metadata": {},
   "source": [
    "## Handle NAs"
   ]
  },
  {
   "cell_type": "markdown",
   "metadata": {},
   "source": [
    "no nulls: fg_standard, fg_advanced, fg_batted_ball, fg_pitch_plate_discipline\n",
    "\n",
    "No pitcher throws has an arsenal with *all* the pitch types. Consequently, all the pitch-level data sets have NAs: fg_pitch_type, fg_velocity, fg_h_movement, fg_v_movement, fg_pitch_type_value"
   ]
  },
  {
   "cell_type": "code",
   "execution_count": 49,
   "metadata": {},
   "outputs": [],
   "source": [
    "# fg_standard - no nulls\n",
    "# fg_advanced - no nulls \n",
    "# fg_batted_ball - no nulls\n",
    "\n",
    "# fg_pitch_type - set equal to num_pitches, num_fastballs\n",
    "# fg_velocity - set equal to max_velo, min_velo, diff_max_velo\n",
    "\n",
    "# fg_h_movement - set equal to total_h_movement\n",
    "# fg_v_movement - set equal to fg_v_movement\n",
    "# fg_pitch_type_value - set equal to num_good_pitches, total_pitch_value, avg_pitch_value\n",
    "\n",
    "# fg_pitch_plate_discipline - no nulls"
   ]
  },
  {
   "cell_type": "code",
   "execution_count": 50,
   "metadata": {},
   "outputs": [],
   "source": [
    "fg_pitch_type = fg_pitch_type[[\"num_pitches\", \"num_fastballs\"]]\n",
    "fg_velocity = fg_velocity[[\"max_velo\", \"min_velo\", \"diff_max_velo\"]]\n",
    "fg_h_movement = fg_h_movement[\"total_h_movement\"]\n",
    "fg_v_movement = fg_v_movement[\"total_v_movement\"]\n",
    "fg_pitch_type_value = fg_pitch_type_value[[\"num_good_pitches\", \"total_pitch_value\", \"avg_pitch_value\"]]"
   ]
  },
  {
   "cell_type": "markdown",
   "metadata": {},
   "source": [
    "## Consolidate data"
   ]
  },
  {
   "cell_type": "code",
   "execution_count": 51,
   "metadata": {},
   "outputs": [],
   "source": [
    "# Consolidate as DF\n",
    "fg_pitching = (\n",
    "    fg_standard.merge(fg_advanced, left_index=True, right_index=True)\n",
    "    .merge(fg_pitch_type, left_index=True, right_index=True)\n",
    "    .merge(fg_batted_ball, left_index=True, right_index=True)\n",
    "    .merge(fg_velocity, left_index=True, right_index=True)\n",
    "    .merge(fg_h_movement, left_index=True, right_index=True)\n",
    "    .merge(fg_v_movement, left_index=True, right_index=True)\n",
    "    .merge(fg_pitch_type_value, left_index=True, right_index=True)\n",
    "    .merge(fg_pitch_plate_discipline, left_index=True, right_index=True)\n",
    "    .sort_index()\n",
    ")"
   ]
  },
  {
   "cell_type": "markdown",
   "metadata": {},
   "source": [
    "## Separate Starters from Relievers"
   ]
  },
  {
   "cell_type": "code",
   "execution_count": 52,
   "metadata": {},
   "outputs": [],
   "source": [
    "fg_pitching['IPperG'] = fg_pitching['IP'] / fg_pitching['G']\n",
    "fg_pitching['IPperG'] = fg_pitching['IPperG'].replace(np.inf, np.nan)\n",
    "\n",
    "fg_pitching_sp = fg_pitching[fg_pitching['GS'] > 0]\n",
    "fg_pitching_rp = fg_pitching[fg_pitching['GS'] == 0]"
   ]
  },
  {
   "cell_type": "code",
   "execution_count": 53,
   "metadata": {},
   "outputs": [],
   "source": [
    "fg_pitching = fg_pitching_sp"
   ]
  },
  {
   "cell_type": "markdown",
   "metadata": {},
   "source": [
    "NOTE: This is the simplest way to do this... some alternatives might be to consider innings pitched per game (perhaps if it's under 2 then the pitcher can be categorized as a reliever). I can also separate reliever stats from starter stats from Fangraphs"
   ]
  },
  {
   "cell_type": "markdown",
   "metadata": {},
   "source": [
    "## Drop unneeded columns"
   ]
  },
  {
   "cell_type": "code",
   "execution_count": 54,
   "metadata": {},
   "outputs": [
    {
     "data": {
      "text/html": [
       "<div>\n",
       "<style scoped>\n",
       "    .dataframe tbody tr th:only-of-type {\n",
       "        vertical-align: middle;\n",
       "    }\n",
       "\n",
       "    .dataframe tbody tr th {\n",
       "        vertical-align: top;\n",
       "    }\n",
       "\n",
       "    .dataframe thead th {\n",
       "        text-align: right;\n",
       "    }\n",
       "</style>\n",
       "<table border=\"1\" class=\"dataframe\">\n",
       "  <thead>\n",
       "    <tr style=\"text-align: right;\">\n",
       "      <th></th>\n",
       "      <th></th>\n",
       "      <th>Age</th>\n",
       "      <th>W</th>\n",
       "      <th>L</th>\n",
       "      <th>ERA</th>\n",
       "      <th>G</th>\n",
       "      <th>GS</th>\n",
       "      <th>QS</th>\n",
       "      <th>CG</th>\n",
       "      <th>ShO</th>\n",
       "      <th>SV</th>\n",
       "      <th>...</th>\n",
       "      <th>avg_pitch_value</th>\n",
       "      <th>O-Swing%</th>\n",
       "      <th>Z-Swing%</th>\n",
       "      <th>Swing%</th>\n",
       "      <th>O-Contact%</th>\n",
       "      <th>Z-Contact%</th>\n",
       "      <th>Contact%</th>\n",
       "      <th>Zone%</th>\n",
       "      <th>Pace</th>\n",
       "      <th>IPperG</th>\n",
       "    </tr>\n",
       "    <tr>\n",
       "      <th>PlayerId</th>\n",
       "      <th>Season</th>\n",
       "      <th></th>\n",
       "      <th></th>\n",
       "      <th></th>\n",
       "      <th></th>\n",
       "      <th></th>\n",
       "      <th></th>\n",
       "      <th></th>\n",
       "      <th></th>\n",
       "      <th></th>\n",
       "      <th></th>\n",
       "      <th></th>\n",
       "      <th></th>\n",
       "      <th></th>\n",
       "      <th></th>\n",
       "      <th></th>\n",
       "      <th></th>\n",
       "      <th></th>\n",
       "      <th></th>\n",
       "      <th></th>\n",
       "      <th></th>\n",
       "      <th></th>\n",
       "    </tr>\n",
       "  </thead>\n",
       "  <tbody>\n",
       "    <tr>\n",
       "      <th>105</th>\n",
       "      <th>2015</th>\n",
       "      <td>36</td>\n",
       "      <td>3</td>\n",
       "      <td>4</td>\n",
       "      <td>6.464788</td>\n",
       "      <td>9</td>\n",
       "      <td>9</td>\n",
       "      <td>3</td>\n",
       "      <td>0</td>\n",
       "      <td>0</td>\n",
       "      <td>0</td>\n",
       "      <td>...</td>\n",
       "      <td>-4.957039</td>\n",
       "      <td>0.300505</td>\n",
       "      <td>0.628647</td>\n",
       "      <td>0.460543</td>\n",
       "      <td>0.680672</td>\n",
       "      <td>0.848101</td>\n",
       "      <td>0.792135</td>\n",
       "      <td>0.487710</td>\n",
       "      <td>21.933333</td>\n",
       "      <td>5.233333</td>\n",
       "    </tr>\n",
       "    <tr>\n",
       "      <th>126</th>\n",
       "      <th>2014</th>\n",
       "      <td>35</td>\n",
       "      <td>4</td>\n",
       "      <td>6</td>\n",
       "      <td>4.757709</td>\n",
       "      <td>17</td>\n",
       "      <td>15</td>\n",
       "      <td>4</td>\n",
       "      <td>0</td>\n",
       "      <td>0</td>\n",
       "      <td>0</td>\n",
       "      <td>...</td>\n",
       "      <td>-1.520330</td>\n",
       "      <td>0.254815</td>\n",
       "      <td>0.590028</td>\n",
       "      <td>0.428060</td>\n",
       "      <td>0.662791</td>\n",
       "      <td>0.873239</td>\n",
       "      <td>0.812709</td>\n",
       "      <td>0.516822</td>\n",
       "      <td>25.367562</td>\n",
       "      <td>4.423529</td>\n",
       "    </tr>\n",
       "    <tr>\n",
       "      <th rowspan=\"2\" valign=\"top\">225</th>\n",
       "      <th>2014</th>\n",
       "      <td>35</td>\n",
       "      <td>13</td>\n",
       "      <td>10</td>\n",
       "      <td>3.386139</td>\n",
       "      <td>32</td>\n",
       "      <td>32</td>\n",
       "      <td>19</td>\n",
       "      <td>0</td>\n",
       "      <td>0</td>\n",
       "      <td>0</td>\n",
       "      <td>...</td>\n",
       "      <td>-1.095575</td>\n",
       "      <td>0.250694</td>\n",
       "      <td>0.624239</td>\n",
       "      <td>0.449708</td>\n",
       "      <td>0.725762</td>\n",
       "      <td>0.906341</td>\n",
       "      <td>0.859307</td>\n",
       "      <td>0.532771</td>\n",
       "      <td>17.139599</td>\n",
       "      <td>6.312500</td>\n",
       "    </tr>\n",
       "    <tr>\n",
       "      <th>2015</th>\n",
       "      <td>36</td>\n",
       "      <td>15</td>\n",
       "      <td>8</td>\n",
       "      <td>3.805369</td>\n",
       "      <td>32</td>\n",
       "      <td>32</td>\n",
       "      <td>19</td>\n",
       "      <td>4</td>\n",
       "      <td>1</td>\n",
       "      <td>0</td>\n",
       "      <td>...</td>\n",
       "      <td>0.532353</td>\n",
       "      <td>0.264591</td>\n",
       "      <td>0.658839</td>\n",
       "      <td>0.479063</td>\n",
       "      <td>0.823529</td>\n",
       "      <td>0.913861</td>\n",
       "      <td>0.891111</td>\n",
       "      <td>0.544003</td>\n",
       "      <td>17.970436</td>\n",
       "      <td>6.193750</td>\n",
       "    </tr>\n",
       "    <tr>\n",
       "      <th>375</th>\n",
       "      <th>2014</th>\n",
       "      <td>41</td>\n",
       "      <td>15</td>\n",
       "      <td>13</td>\n",
       "      <td>4.092257</td>\n",
       "      <td>31</td>\n",
       "      <td>31</td>\n",
       "      <td>20</td>\n",
       "      <td>0</td>\n",
       "      <td>0</td>\n",
       "      <td>0</td>\n",
       "      <td>...</td>\n",
       "      <td>0.712785</td>\n",
       "      <td>0.271186</td>\n",
       "      <td>0.594425</td>\n",
       "      <td>0.460794</td>\n",
       "      <td>0.761905</td>\n",
       "      <td>0.913876</td>\n",
       "      <td>0.876901</td>\n",
       "      <td>0.586587</td>\n",
       "      <td>21.959712</td>\n",
       "      <td>6.519355</td>\n",
       "    </tr>\n",
       "    <tr>\n",
       "      <th>...</th>\n",
       "      <th>...</th>\n",
       "      <td>...</td>\n",
       "      <td>...</td>\n",
       "      <td>...</td>\n",
       "      <td>...</td>\n",
       "      <td>...</td>\n",
       "      <td>...</td>\n",
       "      <td>...</td>\n",
       "      <td>...</td>\n",
       "      <td>...</td>\n",
       "      <td>...</td>\n",
       "      <td>...</td>\n",
       "      <td>...</td>\n",
       "      <td>...</td>\n",
       "      <td>...</td>\n",
       "      <td>...</td>\n",
       "      <td>...</td>\n",
       "      <td>...</td>\n",
       "      <td>...</td>\n",
       "      <td>...</td>\n",
       "      <td>...</td>\n",
       "      <td>...</td>\n",
       "    </tr>\n",
       "    <tr>\n",
       "      <th>33677</th>\n",
       "      <th>2024</th>\n",
       "      <td>22</td>\n",
       "      <td>11</td>\n",
       "      <td>3</td>\n",
       "      <td>1.962406</td>\n",
       "      <td>23</td>\n",
       "      <td>23</td>\n",
       "      <td>15</td>\n",
       "      <td>0</td>\n",
       "      <td>0</td>\n",
       "      <td>0</td>\n",
       "      <td>...</td>\n",
       "      <td>10.158979</td>\n",
       "      <td>0.310480</td>\n",
       "      <td>0.669384</td>\n",
       "      <td>0.496941</td>\n",
       "      <td>0.498423</td>\n",
       "      <td>0.834912</td>\n",
       "      <td>0.733902</td>\n",
       "      <td>0.519529</td>\n",
       "      <td>18.454772</td>\n",
       "      <td>5.782609</td>\n",
       "    </tr>\n",
       "    <tr>\n",
       "      <th>33825</th>\n",
       "      <th>2024</th>\n",
       "      <td>25</td>\n",
       "      <td>7</td>\n",
       "      <td>2</td>\n",
       "      <td>3.000000</td>\n",
       "      <td>18</td>\n",
       "      <td>18</td>\n",
       "      <td>7</td>\n",
       "      <td>0</td>\n",
       "      <td>0</td>\n",
       "      <td>0</td>\n",
       "      <td>...</td>\n",
       "      <td>3.534461</td>\n",
       "      <td>0.321274</td>\n",
       "      <td>0.625964</td>\n",
       "      <td>0.482641</td>\n",
       "      <td>0.513514</td>\n",
       "      <td>0.858316</td>\n",
       "      <td>0.750353</td>\n",
       "      <td>0.529612</td>\n",
       "      <td>18.606171</td>\n",
       "      <td>5.000000</td>\n",
       "    </tr>\n",
       "    <tr>\n",
       "      <th>33829</th>\n",
       "      <th>2024</th>\n",
       "      <td>30</td>\n",
       "      <td>15</td>\n",
       "      <td>3</td>\n",
       "      <td>2.907692</td>\n",
       "      <td>29</td>\n",
       "      <td>29</td>\n",
       "      <td>19</td>\n",
       "      <td>0</td>\n",
       "      <td>0</td>\n",
       "      <td>0</td>\n",
       "      <td>...</td>\n",
       "      <td>3.996399</td>\n",
       "      <td>0.362916</td>\n",
       "      <td>0.738113</td>\n",
       "      <td>0.555083</td>\n",
       "      <td>0.554585</td>\n",
       "      <td>0.824131</td>\n",
       "      <td>0.738162</td>\n",
       "      <td>0.512176</td>\n",
       "      <td>19.581519</td>\n",
       "      <td>5.968966</td>\n",
       "    </tr>\n",
       "    <tr>\n",
       "      <th>33838</th>\n",
       "      <th>2024</th>\n",
       "      <td>27</td>\n",
       "      <td>1</td>\n",
       "      <td>8</td>\n",
       "      <td>4.465385</td>\n",
       "      <td>21</td>\n",
       "      <td>21</td>\n",
       "      <td>2</td>\n",
       "      <td>0</td>\n",
       "      <td>0</td>\n",
       "      <td>0</td>\n",
       "      <td>...</td>\n",
       "      <td>0.785064</td>\n",
       "      <td>0.272610</td>\n",
       "      <td>0.646978</td>\n",
       "      <td>0.454061</td>\n",
       "      <td>0.535545</td>\n",
       "      <td>0.868365</td>\n",
       "      <td>0.765396</td>\n",
       "      <td>0.484687</td>\n",
       "      <td>19.610816</td>\n",
       "      <td>4.104762</td>\n",
       "    </tr>\n",
       "    <tr>\n",
       "      <th>33876</th>\n",
       "      <th>2024</th>\n",
       "      <td>22</td>\n",
       "      <td>2</td>\n",
       "      <td>2</td>\n",
       "      <td>1.173913</td>\n",
       "      <td>6</td>\n",
       "      <td>6</td>\n",
       "      <td>1</td>\n",
       "      <td>0</td>\n",
       "      <td>0</td>\n",
       "      <td>0</td>\n",
       "      <td>...</td>\n",
       "      <td>2.902592</td>\n",
       "      <td>0.255230</td>\n",
       "      <td>0.664093</td>\n",
       "      <td>0.467871</td>\n",
       "      <td>0.688525</td>\n",
       "      <td>0.860465</td>\n",
       "      <td>0.815451</td>\n",
       "      <td>0.520080</td>\n",
       "      <td>16.343407</td>\n",
       "      <td>5.033333</td>\n",
       "    </tr>\n",
       "  </tbody>\n",
       "</table>\n",
       "<p>3171 rows × 89 columns</p>\n",
       "</div>"
      ],
      "text/plain": [
       "                 Age   W   L       ERA   G  GS  QS  CG  ShO  SV  ...  \\\n",
       "PlayerId Season                                                  ...   \n",
       "105      2015     36   3   4  6.464788   9   9   3   0    0   0  ...   \n",
       "126      2014     35   4   6  4.757709  17  15   4   0    0   0  ...   \n",
       "225      2014     35  13  10  3.386139  32  32  19   0    0   0  ...   \n",
       "         2015     36  15   8  3.805369  32  32  19   4    1   0  ...   \n",
       "375      2014     41  15  13  4.092257  31  31  20   0    0   0  ...   \n",
       "...              ...  ..  ..       ...  ..  ..  ..  ..  ...  ..  ...   \n",
       "33677    2024     22  11   3  1.962406  23  23  15   0    0   0  ...   \n",
       "33825    2024     25   7   2  3.000000  18  18   7   0    0   0  ...   \n",
       "33829    2024     30  15   3  2.907692  29  29  19   0    0   0  ...   \n",
       "33838    2024     27   1   8  4.465385  21  21   2   0    0   0  ...   \n",
       "33876    2024     22   2   2  1.173913   6   6   1   0    0   0  ...   \n",
       "\n",
       "                 avg_pitch_value  O-Swing%  Z-Swing%    Swing%  O-Contact%  \\\n",
       "PlayerId Season                                                              \n",
       "105      2015          -4.957039  0.300505  0.628647  0.460543    0.680672   \n",
       "126      2014          -1.520330  0.254815  0.590028  0.428060    0.662791   \n",
       "225      2014          -1.095575  0.250694  0.624239  0.449708    0.725762   \n",
       "         2015           0.532353  0.264591  0.658839  0.479063    0.823529   \n",
       "375      2014           0.712785  0.271186  0.594425  0.460794    0.761905   \n",
       "...                          ...       ...       ...       ...         ...   \n",
       "33677    2024          10.158979  0.310480  0.669384  0.496941    0.498423   \n",
       "33825    2024           3.534461  0.321274  0.625964  0.482641    0.513514   \n",
       "33829    2024           3.996399  0.362916  0.738113  0.555083    0.554585   \n",
       "33838    2024           0.785064  0.272610  0.646978  0.454061    0.535545   \n",
       "33876    2024           2.902592  0.255230  0.664093  0.467871    0.688525   \n",
       "\n",
       "                 Z-Contact%  Contact%     Zone%       Pace    IPperG  \n",
       "PlayerId Season                                                       \n",
       "105      2015      0.848101  0.792135  0.487710  21.933333  5.233333  \n",
       "126      2014      0.873239  0.812709  0.516822  25.367562  4.423529  \n",
       "225      2014      0.906341  0.859307  0.532771  17.139599  6.312500  \n",
       "         2015      0.913861  0.891111  0.544003  17.970436  6.193750  \n",
       "375      2014      0.913876  0.876901  0.586587  21.959712  6.519355  \n",
       "...                     ...       ...       ...        ...       ...  \n",
       "33677    2024      0.834912  0.733902  0.519529  18.454772  5.782609  \n",
       "33825    2024      0.858316  0.750353  0.529612  18.606171  5.000000  \n",
       "33829    2024      0.824131  0.738162  0.512176  19.581519  5.968966  \n",
       "33838    2024      0.868365  0.765396  0.484687  19.610816  4.104762  \n",
       "33876    2024      0.860465  0.815451  0.520080  16.343407  5.033333  \n",
       "\n",
       "[3171 rows x 89 columns]"
      ]
     },
     "execution_count": 54,
     "metadata": {},
     "output_type": "execute_result"
    }
   ],
   "source": [
    "# Drop object columns and MLBAM identifier\n",
    "fg_pitching = fg_pitching.drop(['Name', 'Team', 'NameASCII', 'MLBAMID'], axis=1)\n",
    "fg_pitching"
   ]
  },
  {
   "cell_type": "markdown",
   "metadata": {},
   "source": [
    "## Add targets"
   ]
  },
  {
   "cell_type": "code",
   "execution_count": 55,
   "metadata": {},
   "outputs": [],
   "source": [
    "fg_pitching['target_IP'] = fg_pitching.groupby('PlayerId')['IP'].shift(-1)\n",
    "fg_pitching['target_SO/IP'] = fg_pitching.groupby('PlayerId')['SO/IP'].shift(-1)\n",
    "fg_pitching['target_H/IP'] = fg_pitching.groupby('PlayerId')['H/IP'].shift(-1)\n",
    "fg_pitching['target_BB/IP'] = fg_pitching.groupby('PlayerId')['BB/IP'].shift(-1)\n",
    "fg_pitching['target_HBP/IP'] = fg_pitching.groupby('PlayerId')['HBP/IP'].shift(-1)\n",
    "fg_pitching['target_HR/IP'] = fg_pitching.groupby('PlayerId')['HR/IP'].shift(-1)"
   ]
  },
  {
   "cell_type": "markdown",
   "metadata": {},
   "source": [
    "## Handle NAs (again)"
   ]
  },
  {
   "cell_type": "markdown",
   "metadata": {},
   "source": [
    "I won't have targets for instances from the 2024 season since the 2025 season hasn't finished yet, so I will drop these seasons."
   ]
  },
  {
   "cell_type": "code",
   "execution_count": 56,
   "metadata": {},
   "outputs": [],
   "source": [
    "fg_pitching = fg_pitching.dropna()"
   ]
  },
  {
   "cell_type": "markdown",
   "metadata": {},
   "source": [
    "## Split into train and test sets"
   ]
  },
  {
   "cell_type": "code",
   "execution_count": 57,
   "metadata": {},
   "outputs": [],
   "source": [
    "from sklearn.model_selection import GroupShuffleSplit\n",
    "\n",
    "splitter = GroupShuffleSplit(test_size=0.2,random_state=4)\n",
    "\n",
    "split = splitter.split(fg_pitching, groups=fg_pitching.index.get_level_values(0))\n",
    "train, test = next(split)\n",
    "\n",
    "fg_pitching_train = fg_pitching.iloc[train]\n",
    "fg_pitching_test = fg_pitching.iloc[test]"
   ]
  },
  {
   "cell_type": "markdown",
   "metadata": {},
   "source": [
    "## Separate features and targets"
   ]
  },
  {
   "cell_type": "code",
   "execution_count": 58,
   "metadata": {},
   "outputs": [],
   "source": [
    "targets = [\"target_IP\", \"target_SO/IP\", \"target_H/IP\", \"target_BB/IP\", \"target_HBP/IP\", \"target_HR/IP\"]\n",
    "\n",
    "# Separate targets from features in train set\n",
    "y_train = fg_pitching_train[targets]\n",
    "fg_pitching_train = fg_pitching_train.drop(targets, axis=1)\n",
    "\n",
    "# Separate targets from features in test set\n",
    "y_test = fg_pitching_test[targets]\n",
    "fg_pitching_test = fg_pitching_test.drop(targets, axis=1)"
   ]
  },
  {
   "cell_type": "markdown",
   "metadata": {},
   "source": [
    "## Feature selection"
   ]
  },
  {
   "cell_type": "code",
   "execution_count": 60,
   "metadata": {},
   "outputs": [],
   "source": [
    "fg_pitching_train_full = fg_pitching_train.copy()\n",
    "fg_pitching_test_full = fg_pitching_test.copy()"
   ]
  },
  {
   "cell_type": "code",
   "execution_count": 61,
   "metadata": {},
   "outputs": [
    {
     "data": {
      "text/plain": [
       "Index(['W', 'GS', 'QS', 'IP', 'TBF', 'SO', 'avg_IP', 'Strikes', 'Pitches',\n",
       "       'IPperG'],\n",
       "      dtype='object')"
      ]
     },
     "execution_count": 61,
     "metadata": {},
     "output_type": "execute_result"
    }
   ],
   "source": [
    "from sklearn.feature_selection import SelectKBest, f_regression\n",
    "\n",
    "selector = SelectKBest(f_regression, k=10)\n",
    "X_new = selector.fit_transform(fg_pitching_train, y_train[\"target_IP\"])\n",
    "\n",
    "features_IP = fg_pitching_train.columns[selector.get_support()]\n",
    "features_IP"
   ]
  },
  {
   "cell_type": "code",
   "execution_count": 62,
   "metadata": {},
   "outputs": [
    {
     "data": {
      "text/plain": [
       "Index(['SO/IP', 'avg_SO/IP', 'avg_H/IP', 'K/9', 'K%', 'K-BB%', 'xFIP-',\n",
       "       'O-Contact%', 'Z-Contact%', 'Contact%'],\n",
       "      dtype='object')"
      ]
     },
     "execution_count": 62,
     "metadata": {},
     "output_type": "execute_result"
    }
   ],
   "source": [
    "selector = SelectKBest(f_regression, k=10)\n",
    "X_new = selector.fit_transform(fg_pitching_train, y_train[\"target_SO/IP\"])\n",
    "\n",
    "features_SOperIP = fg_pitching_train.columns[selector.get_support()]\n",
    "features_SOperIP"
   ]
  },
  {
   "cell_type": "code",
   "execution_count": 63,
   "metadata": {},
   "outputs": [
    {
     "data": {
      "text/plain": [
       "Index(['SO/IP', 'avg_SO/IP', 'avg_H/IP', 'K/9', 'K%', 'K-BB%', 'AVG',\n",
       "       'O-Contact%', 'Z-Contact%', 'Contact%'],\n",
       "      dtype='object')"
      ]
     },
     "execution_count": 63,
     "metadata": {},
     "output_type": "execute_result"
    }
   ],
   "source": [
    "X_new = selector.fit_transform(fg_pitching_train, y_train[\"target_H/IP\"])\n",
    "\n",
    "features_HperIP = fg_pitching_train.columns[selector.get_support()]\n",
    "features_HperIP"
   ]
  },
  {
   "cell_type": "code",
   "execution_count": 64,
   "metadata": {},
   "outputs": [
    {
     "data": {
      "text/plain": [
       "Index(['BB/IP', 'avg_BB/IP', 'BB/9', 'K/BB', 'BB%', 'K-BB%', 'WHIP',\n",
       "       'O-Swing%', 'Swing%', 'Zone%'],\n",
       "      dtype='object')"
      ]
     },
     "execution_count": 64,
     "metadata": {},
     "output_type": "execute_result"
    }
   ],
   "source": [
    "X_new = selector.fit_transform(fg_pitching_train, y_train[\"target_BB/IP\"])\n",
    "\n",
    "features_BBperIP = fg_pitching_train.columns[selector.get_support()]\n",
    "features_BBperIP"
   ]
  },
  {
   "cell_type": "code",
   "execution_count": 65,
   "metadata": {},
   "outputs": [
    {
     "data": {
      "text/plain": [
       "Index(['HBP', 'BB/IP', 'HBP/IP', 'avg_BB/IP', 'avg_HBP/IP', 'BB/9', 'BB%',\n",
       "       'FIP', 'xFIP', 'total_v_movement'],\n",
       "      dtype='object')"
      ]
     },
     "execution_count": 65,
     "metadata": {},
     "output_type": "execute_result"
    }
   ],
   "source": [
    "X_new = selector.fit_transform(fg_pitching_train, y_train[\"target_HBP/IP\"])\n",
    "\n",
    "features_HBPperIP = fg_pitching_train.columns[selector.get_support()]\n",
    "features_HBPperIP"
   ]
  },
  {
   "cell_type": "code",
   "execution_count": 66,
   "metadata": {},
   "outputs": [
    {
     "data": {
      "text/plain": [
       "Index(['avg_HR/IP', 'HR/9', 'xFIP-', 'xFIP', 'SIERA', 'GB/FB', 'GB%', 'FB%',\n",
       "       'Hard%', 'max_velo'],\n",
       "      dtype='object')"
      ]
     },
     "execution_count": 66,
     "metadata": {},
     "output_type": "execute_result"
    }
   ],
   "source": [
    "X_new = selector.fit_transform(fg_pitching_train, y_train[\"target_HR/IP\"])\n",
    "\n",
    "features_HRperIP = fg_pitching_train.columns[selector.get_support()]\n",
    "features_HRperIP"
   ]
  },
  {
   "cell_type": "code",
   "execution_count": 67,
   "metadata": {},
   "outputs": [
    {
     "data": {
      "text/plain": [
       "Index(['W', 'GS', 'QS', 'IP', 'TBF', 'SO', 'avg_IP', 'Strikes', 'Pitches',\n",
       "       'IPperG', 'SO/IP', 'avg_SO/IP', 'avg_H/IP', 'K/9', 'K%', 'K-BB%',\n",
       "       'xFIP-', 'O-Contact%', 'Z-Contact%', 'Contact%', 'AVG', 'BB/IP',\n",
       "       'avg_BB/IP', 'BB/9', 'K/BB', 'BB%', 'WHIP', 'O-Swing%', 'Swing%',\n",
       "       'Zone%', 'HBP', 'HBP/IP', 'avg_HBP/IP', 'FIP', 'xFIP',\n",
       "       'total_v_movement', 'avg_HR/IP', 'HR/9', 'SIERA', 'GB/FB', 'GB%', 'FB%',\n",
       "       'Hard%', 'max_velo'],\n",
       "      dtype='object')"
      ]
     },
     "execution_count": 67,
     "metadata": {},
     "output_type": "execute_result"
    }
   ],
   "source": [
    "selected_features = features_IP.append([features_SOperIP, features_HperIP, features_BBperIP, features_HBPperIP, features_HRperIP])\n",
    "selected_features = selected_features.unique()\n",
    "selected_features"
   ]
  },
  {
   "cell_type": "code",
   "execution_count": 68,
   "metadata": {},
   "outputs": [],
   "source": [
    "fg_pitching_train = fg_pitching_train[selected_features]\n",
    "fg_pitching_test = fg_pitching_test[selected_features]"
   ]
  },
  {
   "cell_type": "markdown",
   "metadata": {},
   "source": [
    "## Scale features"
   ]
  },
  {
   "cell_type": "code",
   "execution_count": 69,
   "metadata": {},
   "outputs": [],
   "source": [
    "# Keep a copy of the unscaled data\n",
    "fg_pitching_train_unscaled = fg_pitching_train.copy()\n",
    "fg_pitching_test_unscaled = fg_pitching_test.copy()"
   ]
  },
  {
   "cell_type": "code",
   "execution_count": 70,
   "metadata": {},
   "outputs": [],
   "source": [
    "# Scale numeric data\n",
    "from sklearn.preprocessing import StandardScaler\n",
    "\n",
    "# Scale TRAIN set\n",
    "scaler = StandardScaler()\n",
    "fg_pitching_train_scaled = scaler.fit_transform(fg_pitching_train)\n",
    "\n",
    "# Recombine as DF\n",
    "fg_pitching_train_scaled = pd.DataFrame(fg_pitching_train_scaled, columns=fg_pitching_train.columns.to_list())\n",
    "\n",
    "# Scale TEST set\n",
    "fg_pitching_test_scaled = scaler.fit_transform(fg_pitching_test)\n",
    "\n",
    "# Recombine as DF\n",
    "fg_pitching_test_scaled = pd.DataFrame(fg_pitching_test_scaled, columns=fg_pitching_test.columns.to_list())"
   ]
  },
  {
   "cell_type": "code",
   "execution_count": 71,
   "metadata": {},
   "outputs": [],
   "source": [
    "# Assign to variables following ML naming conventions\n",
    "X_train = fg_pitching_train_scaled\n",
    "X_test = fg_pitching_test_scaled"
   ]
  },
  {
   "cell_type": "markdown",
   "metadata": {},
   "source": [
    "# Models"
   ]
  },
  {
   "cell_type": "markdown",
   "metadata": {},
   "source": [
    "Objectives:\n",
    "1. Train models for each target on training set\n",
    "2. Evaluate each model with RMSE score\n",
    "3. Select model with lowest score to validate against test set"
   ]
  },
  {
   "cell_type": "markdown",
   "metadata": {},
   "source": [
    "## IP"
   ]
  },
  {
   "cell_type": "markdown",
   "metadata": {},
   "source": [
    "### DummyRegressor"
   ]
  },
  {
   "cell_type": "code",
   "execution_count": 72,
   "metadata": {},
   "outputs": [
    {
     "data": {
      "text/plain": [
       "57.5961369404931"
      ]
     },
     "execution_count": 72,
     "metadata": {},
     "output_type": "execute_result"
    }
   ],
   "source": [
    "from sklearn.dummy import DummyRegressor\n",
    "from sklearn.model_selection import cross_val_predict\n",
    "from sklearn.metrics import mean_squared_error\n",
    "\n",
    "# Fit model\n",
    "dummy_reg = DummyRegressor(strategy=\"mean\")\n",
    "dummy_reg.fit(X_train, y_train[\"target_IP\"])\n",
    "\n",
    "# Make predictions\n",
    "y_pred = cross_val_predict(dummy_reg, X_train, y_train[\"target_IP\"])\n",
    "\n",
    "# Evaluation\n",
    "rmse_dummy = np.sqrt(mean_squared_error(y_train[\"target_IP\"], y_pred))\n",
    "rmse_dummy"
   ]
  },
  {
   "cell_type": "markdown",
   "metadata": {},
   "source": [
    "### LinearRegression"
   ]
  },
  {
   "cell_type": "code",
   "execution_count": 73,
   "metadata": {},
   "outputs": [
    {
     "data": {
      "text/plain": [
       "47.52398213136077"
      ]
     },
     "execution_count": 73,
     "metadata": {},
     "output_type": "execute_result"
    }
   ],
   "source": [
    "from sklearn.linear_model import LinearRegression\n",
    "\n",
    "# Fit model\n",
    "linreg = LinearRegression()\n",
    "linreg.fit(X_train[features_IP], y_train[\"target_IP\"])\n",
    "\n",
    "# Make predictions\n",
    "y_pred = cross_val_predict(linreg, X_train[features_IP], y_train[\"target_IP\"], cv=5)\n",
    "\n",
    "# Evaluation\n",
    "rmse_linreg = np.sqrt(mean_squared_error( y_train[\"target_IP\"], y_pred))\n",
    "rmse_linreg"
   ]
  },
  {
   "cell_type": "markdown",
   "metadata": {},
   "source": [
    "### Ridge"
   ]
  },
  {
   "cell_type": "code",
   "execution_count": 74,
   "metadata": {},
   "outputs": [
    {
     "data": {
      "text/plain": [
       "46.082844626741505"
      ]
     },
     "execution_count": 74,
     "metadata": {},
     "output_type": "execute_result"
    }
   ],
   "source": [
    "from sklearn.linear_model import Ridge\n",
    "\n",
    "# Fit model\n",
    "ridge = Ridge(random_state=51)\n",
    "ridge.fit(X_train, y_train[\"target_IP\"])\n",
    "\n",
    "# Make predictions\n",
    "y_pred = cross_val_predict(ridge, X_train, y_train[\"target_IP\"], cv=5)\n",
    "\n",
    "# Evaluation\n",
    "rmse_ridge = np.sqrt(mean_squared_error(y_train[\"target_IP\"], y_pred))\n",
    "rmse_ridge"
   ]
  },
  {
   "cell_type": "markdown",
   "metadata": {},
   "source": [
    "#### Fine-tuning"
   ]
  },
  {
   "cell_type": "code",
   "execution_count": 75,
   "metadata": {},
   "outputs": [
    {
     "name": "stdout",
     "output_type": "stream",
     "text": [
      "Best params: {'alpha': 2.6826957952797246}\n"
     ]
    }
   ],
   "source": [
    "from sklearn.model_selection import GridSearchCV\n",
    "\n",
    "param_grid = {'alpha': np.logspace(-3, 3)} \n",
    "\n",
    "grid_search = GridSearchCV(\n",
    "    estimator=ridge, \n",
    "    param_grid=param_grid,\n",
    "    cv=5, \n",
    "    scoring='neg_mean_squared_error', \n",
    "    n_jobs=-1\n",
    ")\n",
    "\n",
    "grid_search.fit(X_train, y_train[\"target_IP\"])\n",
    "print(f\"Best params: {grid_search.best_params_}\")"
   ]
  },
  {
   "cell_type": "code",
   "execution_count": 76,
   "metadata": {},
   "outputs": [
    {
     "data": {
      "text/plain": [
       "46.07021983003856"
      ]
     },
     "execution_count": 76,
     "metadata": {},
     "output_type": "execute_result"
    }
   ],
   "source": [
    "from sklearn.linear_model import Ridge\n",
    "\n",
    "# Fit model with best params\n",
    "ridge = Ridge(random_state=51, alpha=2.6826957952797246)\n",
    "ridge.fit(X_train, y_train[\"target_IP\"])\n",
    "\n",
    "# Make predictions\n",
    "y_pred = cross_val_predict(ridge, X_train, y_train[\"target_IP\"], cv=5)\n",
    "\n",
    "# Evaluation\n",
    "rmse_ridge = np.sqrt(mean_squared_error(y_train[\"target_IP\"], y_pred))\n",
    "rmse_ridge"
   ]
  },
  {
   "cell_type": "markdown",
   "metadata": {},
   "source": [
    "### Lasso"
   ]
  },
  {
   "cell_type": "code",
   "execution_count": 77,
   "metadata": {},
   "outputs": [
    {
     "data": {
      "text/plain": [
       "47.06888321904157"
      ]
     },
     "execution_count": 77,
     "metadata": {},
     "output_type": "execute_result"
    }
   ],
   "source": [
    "from sklearn.linear_model import Lasso\n",
    "\n",
    "# Fit model\n",
    "lasso = Lasso(random_state=51, max_iter=800000)\n",
    "lasso.fit(X_train, y_train[\"target_IP\"])\n",
    "\n",
    "# Make predictions\n",
    "y_pred = cross_val_predict(lasso, X_train, y_train[\"target_IP\"], cv=5)\n",
    "\n",
    "# Evaluation\n",
    "rmse_lasso = np.sqrt(mean_squared_error(y_train[\"target_IP\"], y_pred))\n",
    "rmse_lasso"
   ]
  },
  {
   "cell_type": "markdown",
   "metadata": {},
   "source": [
    "#### Fine-tuning"
   ]
  },
  {
   "cell_type": "code",
   "execution_count": 78,
   "metadata": {},
   "outputs": [
    {
     "name": "stderr",
     "output_type": "stream",
     "text": [
      "/Users/highlandcow/anaconda3/lib/python3.11/site-packages/sklearn/linear_model/_coordinate_descent.py:695: ConvergenceWarning: Objective did not converge. You might want to increase the number of iterations, check the scale of the features or consider increasing regularisation. Duality gap: 1.697e+04, tolerance: 4.132e+02\n",
      "  model = cd_fast.enet_coordinate_descent(\n",
      "/Users/highlandcow/anaconda3/lib/python3.11/site-packages/sklearn/linear_model/_coordinate_descent.py:695: ConvergenceWarning: Objective did not converge. You might want to increase the number of iterations, check the scale of the features or consider increasing regularisation. Duality gap: 1.697e+04, tolerance: 4.132e+02\n",
      "  model = cd_fast.enet_coordinate_descent(\n",
      "/Users/highlandcow/anaconda3/lib/python3.11/site-packages/sklearn/linear_model/_coordinate_descent.py:695: ConvergenceWarning: Objective did not converge. You might want to increase the number of iterations, check the scale of the features or consider increasing regularisation. Duality gap: 1.696e+04, tolerance: 4.132e+02\n",
      "  model = cd_fast.enet_coordinate_descent(\n",
      "/Users/highlandcow/anaconda3/lib/python3.11/site-packages/sklearn/linear_model/_coordinate_descent.py:695: ConvergenceWarning: Objective did not converge. You might want to increase the number of iterations, check the scale of the features or consider increasing regularisation. Duality gap: 1.607e+04, tolerance: 4.404e+02\n",
      "  model = cd_fast.enet_coordinate_descent(\n",
      "/Users/highlandcow/anaconda3/lib/python3.11/site-packages/sklearn/linear_model/_coordinate_descent.py:695: ConvergenceWarning: Objective did not converge. You might want to increase the number of iterations, check the scale of the features or consider increasing regularisation. Duality gap: 4.753e+03, tolerance: 4.426e+02\n",
      "  model = cd_fast.enet_coordinate_descent(\n",
      "/Users/highlandcow/anaconda3/lib/python3.11/site-packages/sklearn/linear_model/_coordinate_descent.py:695: ConvergenceWarning: Objective did not converge. You might want to increase the number of iterations, check the scale of the features or consider increasing regularisation. Duality gap: 1.701e+04, tolerance: 4.206e+02\n",
      "  model = cd_fast.enet_coordinate_descent(\n",
      "/Users/highlandcow/anaconda3/lib/python3.11/site-packages/sklearn/linear_model/_coordinate_descent.py:695: ConvergenceWarning: Objective did not converge. You might want to increase the number of iterations, check the scale of the features or consider increasing regularisation. Duality gap: 1.709e+04, tolerance: 4.206e+02\n",
      "  model = cd_fast.enet_coordinate_descent(\n",
      "/Users/highlandcow/anaconda3/lib/python3.11/site-packages/sklearn/linear_model/_coordinate_descent.py:695: ConvergenceWarning: Objective did not converge. You might want to increase the number of iterations, check the scale of the features or consider increasing regularisation. Duality gap: 1.745e+04, tolerance: 4.426e+02\n",
      "  model = cd_fast.enet_coordinate_descent(\n",
      "/Users/highlandcow/anaconda3/lib/python3.11/site-packages/sklearn/linear_model/_coordinate_descent.py:695: ConvergenceWarning: Objective did not converge. You might want to increase the number of iterations, check the scale of the features or consider increasing regularisation. Duality gap: 1.600e+04, tolerance: 4.404e+02\n",
      "  model = cd_fast.enet_coordinate_descent(\n",
      "/Users/highlandcow/anaconda3/lib/python3.11/site-packages/sklearn/linear_model/_coordinate_descent.py:695: ConvergenceWarning: Objective did not converge. You might want to increase the number of iterations, check the scale of the features or consider increasing regularisation. Duality gap: 4.763e+03, tolerance: 4.426e+02\n",
      "  model = cd_fast.enet_coordinate_descent(\n"
     ]
    },
    {
     "name": "stdout",
     "output_type": "stream",
     "text": [
      "Best params: {'alpha': 0.04281332398719392}\n"
     ]
    }
   ],
   "source": [
    "param_grid = {'alpha': np.logspace(-4, 1, 20)}\n",
    "\n",
    "grid_search = GridSearchCV(\n",
    "    estimator=lasso, \n",
    "    param_grid=param_grid,\n",
    "    cv=5, \n",
    "    scoring='neg_mean_squared_error', \n",
    "    n_jobs=-1\n",
    ")\n",
    "\n",
    "grid_search.fit(X_train, y_train[\"target_IP\"])\n",
    "print(f\"Best params: {grid_search.best_params_}\")"
   ]
  },
  {
   "cell_type": "code",
   "execution_count": 79,
   "metadata": {},
   "outputs": [
    {
     "data": {
      "text/plain": [
       "46.01043945101737"
      ]
     },
     "execution_count": 79,
     "metadata": {},
     "output_type": "execute_result"
    }
   ],
   "source": [
    "# Fit model with best params\n",
    "lasso = Lasso(random_state=51, max_iter=800000, alpha=0.05994842503189409)\n",
    "lasso.fit(X_train, y_train[\"target_IP\"])\n",
    "\n",
    "# Make predictions\n",
    "y_pred = cross_val_predict(lasso, X_train, y_train[\"target_IP\"], cv=5)\n",
    "\n",
    "# Evaluation\n",
    "rmse_lasso = np.sqrt(mean_squared_error(y_train[\"target_IP\"], y_pred))\n",
    "rmse_lasso"
   ]
  },
  {
   "cell_type": "markdown",
   "metadata": {},
   "source": [
    "*Note: When using GridSearchCV with the ElasticNet model, it came up with `l1_ratio=1.0` and `alpha=0.05994842503189409`, which is the same as using a Lasso model with that alpha value. I've updated the alpha here accordingly.*"
   ]
  },
  {
   "cell_type": "markdown",
   "metadata": {},
   "source": [
    "### ElasticNet"
   ]
  },
  {
   "cell_type": "code",
   "execution_count": 80,
   "metadata": {},
   "outputs": [
    {
     "data": {
      "text/plain": [
       "48.80558471243373"
      ]
     },
     "execution_count": 80,
     "metadata": {},
     "output_type": "execute_result"
    }
   ],
   "source": [
    "from sklearn.linear_model import ElasticNet\n",
    "\n",
    "# Fit model\n",
    "elastic = ElasticNet(random_state=51, max_iter=30000)\n",
    "elastic.fit(X_train, y_train[\"target_IP\"])\n",
    "\n",
    "# Make predictions\n",
    "y_pred = cross_val_predict(elastic, X_train, y_train[\"target_IP\"], cv=5)\n",
    "\n",
    "# Evaluation\n",
    "rmse_elastic = np.sqrt(mean_squared_error(y_train[\"target_IP\"], y_pred))\n",
    "rmse_elastic"
   ]
  },
  {
   "cell_type": "markdown",
   "metadata": {},
   "source": [
    "#### Fine-tuning"
   ]
  },
  {
   "cell_type": "code",
   "execution_count": 81,
   "metadata": {},
   "outputs": [
    {
     "name": "stderr",
     "output_type": "stream",
     "text": [
      "/Users/highlandcow/anaconda3/lib/python3.11/site-packages/sklearn/linear_model/_coordinate_descent.py:695: ConvergenceWarning: Objective did not converge. You might want to increase the number of iterations, check the scale of the features or consider increasing regularisation. Duality gap: 6.004e+05, tolerance: 4.132e+02\n",
      "  model = cd_fast.enet_coordinate_descent(\n",
      "/Users/highlandcow/anaconda3/lib/python3.11/site-packages/sklearn/linear_model/_coordinate_descent.py:695: ConvergenceWarning: Objective did not converge. You might want to increase the number of iterations, check the scale of the features or consider increasing regularisation. Duality gap: 5.418e+05, tolerance: 4.132e+02\n",
      "  model = cd_fast.enet_coordinate_descent(\n",
      "/Users/highlandcow/anaconda3/lib/python3.11/site-packages/sklearn/linear_model/_coordinate_descent.py:695: ConvergenceWarning: Objective did not converge. You might want to increase the number of iterations, check the scale of the features or consider increasing regularisation. Duality gap: 5.196e+05, tolerance: 4.132e+02\n",
      "  model = cd_fast.enet_coordinate_descent(\n",
      "/Users/highlandcow/anaconda3/lib/python3.11/site-packages/sklearn/linear_model/_coordinate_descent.py:695: ConvergenceWarning: Objective did not converge. You might want to increase the number of iterations, check the scale of the features or consider increasing regularisation. Duality gap: 7.089e+05, tolerance: 4.426e+02\n",
      "  model = cd_fast.enet_coordinate_descent(\n",
      "/Users/highlandcow/anaconda3/lib/python3.11/site-packages/sklearn/linear_model/_coordinate_descent.py:695: ConvergenceWarning: Objective did not converge. You might want to increase the number of iterations, check the scale of the features or consider increasing regularisation. Duality gap: 5.734e+05, tolerance: 4.404e+02\n",
      "  model = cd_fast.enet_coordinate_descent(\n",
      "/Users/highlandcow/anaconda3/lib/python3.11/site-packages/sklearn/linear_model/_coordinate_descent.py:695: ConvergenceWarning: Objective did not converge. You might want to increase the number of iterations, check the scale of the features or consider increasing regularisation. Duality gap: 5.756e+05, tolerance: 4.426e+02\n",
      "  model = cd_fast.enet_coordinate_descent(\n",
      "/Users/highlandcow/anaconda3/lib/python3.11/site-packages/sklearn/linear_model/_coordinate_descent.py:695: ConvergenceWarning: Objective did not converge. You might want to increase the number of iterations, check the scale of the features or consider increasing regularisation. Duality gap: 5.152e+05, tolerance: 4.445e+02\n",
      "  model = cd_fast.enet_coordinate_descent(\n",
      "/Users/highlandcow/anaconda3/lib/python3.11/site-packages/sklearn/linear_model/_coordinate_descent.py:695: ConvergenceWarning: Objective did not converge. You might want to increase the number of iterations, check the scale of the features or consider increasing regularisation. Duality gap: 4.957e+05, tolerance: 4.404e+02\n",
      "  model = cd_fast.enet_coordinate_descent(\n",
      "/Users/highlandcow/anaconda3/lib/python3.11/site-packages/sklearn/linear_model/_coordinate_descent.py:695: ConvergenceWarning: Objective did not converge. You might want to increase the number of iterations, check the scale of the features or consider increasing regularisation. Duality gap: 4.108e+05, tolerance: 4.206e+02\n",
      "  model = cd_fast.enet_coordinate_descent(\n",
      "/Users/highlandcow/anaconda3/lib/python3.11/site-packages/sklearn/linear_model/_coordinate_descent.py:695: ConvergenceWarning: Objective did not converge. You might want to increase the number of iterations, check the scale of the features or consider increasing regularisation. Duality gap: 4.713e+05, tolerance: 4.206e+02\n",
      "  model = cd_fast.enet_coordinate_descent(\n",
      "/Users/highlandcow/anaconda3/lib/python3.11/site-packages/sklearn/linear_model/_coordinate_descent.py:695: ConvergenceWarning: Objective did not converge. You might want to increase the number of iterations, check the scale of the features or consider increasing regularisation. Duality gap: 4.519e+05, tolerance: 4.445e+02\n",
      "  model = cd_fast.enet_coordinate_descent(\n",
      "/Users/highlandcow/anaconda3/lib/python3.11/site-packages/sklearn/linear_model/_coordinate_descent.py:695: ConvergenceWarning: Objective did not converge. You might want to increase the number of iterations, check the scale of the features or consider increasing regularisation. Duality gap: 4.437e+05, tolerance: 4.206e+02\n",
      "  model = cd_fast.enet_coordinate_descent(\n",
      "/Users/highlandcow/anaconda3/lib/python3.11/site-packages/sklearn/linear_model/_coordinate_descent.py:695: ConvergenceWarning: Objective did not converge. You might want to increase the number of iterations, check the scale of the features or consider increasing regularisation. Duality gap: 6.332e+05, tolerance: 4.426e+02\n",
      "  model = cd_fast.enet_coordinate_descent(\n",
      "/Users/highlandcow/anaconda3/lib/python3.11/site-packages/sklearn/linear_model/_coordinate_descent.py:695: ConvergenceWarning: Objective did not converge. You might want to increase the number of iterations, check the scale of the features or consider increasing regularisation. Duality gap: 6.129e+05, tolerance: 4.132e+02\n",
      "  model = cd_fast.enet_coordinate_descent(\n",
      "/Users/highlandcow/anaconda3/lib/python3.11/site-packages/sklearn/linear_model/_coordinate_descent.py:695: ConvergenceWarning: Objective did not converge. You might want to increase the number of iterations, check the scale of the features or consider increasing regularisation. Duality gap: 5.201e+05, tolerance: 4.404e+02\n",
      "  model = cd_fast.enet_coordinate_descent(\n",
      "/Users/highlandcow/anaconda3/lib/python3.11/site-packages/sklearn/linear_model/_coordinate_descent.py:695: ConvergenceWarning: Objective did not converge. You might want to increase the number of iterations, check the scale of the features or consider increasing regularisation. Duality gap: 7.472e+05, tolerance: 4.132e+02\n",
      "  model = cd_fast.enet_coordinate_descent(\n",
      "/Users/highlandcow/anaconda3/lib/python3.11/site-packages/sklearn/linear_model/_coordinate_descent.py:695: ConvergenceWarning: Objective did not converge. You might want to increase the number of iterations, check the scale of the features or consider increasing regularisation. Duality gap: 4.816e+05, tolerance: 4.445e+02\n",
      "  model = cd_fast.enet_coordinate_descent(\n",
      "/Users/highlandcow/anaconda3/lib/python3.11/site-packages/sklearn/linear_model/_coordinate_descent.py:695: ConvergenceWarning: Objective did not converge. You might want to increase the number of iterations, check the scale of the features or consider increasing regularisation. Duality gap: 5.789e+05, tolerance: 4.404e+02\n",
      "  model = cd_fast.enet_coordinate_descent(\n",
      "/Users/highlandcow/anaconda3/lib/python3.11/site-packages/sklearn/linear_model/_coordinate_descent.py:695: ConvergenceWarning: Objective did not converge. You might want to increase the number of iterations, check the scale of the features or consider increasing regularisation. Duality gap: 5.202e+05, tolerance: 4.445e+02\n",
      "  model = cd_fast.enet_coordinate_descent(\n",
      "/Users/highlandcow/anaconda3/lib/python3.11/site-packages/sklearn/linear_model/_coordinate_descent.py:695: ConvergenceWarning: Objective did not converge. You might want to increase the number of iterations, check the scale of the features or consider increasing regularisation. Duality gap: 5.107e+05, tolerance: 4.206e+02\n",
      "  model = cd_fast.enet_coordinate_descent(\n",
      "/Users/highlandcow/anaconda3/lib/python3.11/site-packages/sklearn/linear_model/_coordinate_descent.py:695: ConvergenceWarning: Objective did not converge. You might want to increase the number of iterations, check the scale of the features or consider increasing regularisation. Duality gap: 7.440e+05, tolerance: 4.426e+02\n",
      "  model = cd_fast.enet_coordinate_descent(\n",
      "/Users/highlandcow/anaconda3/lib/python3.11/site-packages/sklearn/linear_model/_coordinate_descent.py:695: ConvergenceWarning: Objective did not converge. You might want to increase the number of iterations, check the scale of the features or consider increasing regularisation. Duality gap: 5.893e+05, tolerance: 4.206e+02\n",
      "  model = cd_fast.enet_coordinate_descent(\n",
      "/Users/highlandcow/anaconda3/lib/python3.11/site-packages/sklearn/linear_model/_coordinate_descent.py:695: ConvergenceWarning: Objective did not converge. You might want to increase the number of iterations, check the scale of the features or consider increasing regularisation. Duality gap: 8.514e+05, tolerance: 4.426e+02\n",
      "  model = cd_fast.enet_coordinate_descent(\n",
      "/Users/highlandcow/anaconda3/lib/python3.11/site-packages/sklearn/linear_model/_coordinate_descent.py:695: ConvergenceWarning: Objective did not converge. You might want to increase the number of iterations, check the scale of the features or consider increasing regularisation. Duality gap: 6.956e+05, tolerance: 4.404e+02\n",
      "  model = cd_fast.enet_coordinate_descent(\n",
      "/Users/highlandcow/anaconda3/lib/python3.11/site-packages/sklearn/linear_model/_coordinate_descent.py:695: ConvergenceWarning: Objective did not converge. You might want to increase the number of iterations, check the scale of the features or consider increasing regularisation. Duality gap: 8.536e+05, tolerance: 4.132e+02\n",
      "  model = cd_fast.enet_coordinate_descent(\n",
      "/Users/highlandcow/anaconda3/lib/python3.11/site-packages/sklearn/linear_model/_coordinate_descent.py:695: ConvergenceWarning: Objective did not converge. You might want to increase the number of iterations, check the scale of the features or consider increasing regularisation. Duality gap: 6.136e+05, tolerance: 4.445e+02\n",
      "  model = cd_fast.enet_coordinate_descent(\n",
      "/Users/highlandcow/anaconda3/lib/python3.11/site-packages/sklearn/linear_model/_coordinate_descent.py:695: ConvergenceWarning: Objective did not converge. You might want to increase the number of iterations, check the scale of the features or consider increasing regularisation. Duality gap: 7.159e+05, tolerance: 4.206e+02\n",
      "  model = cd_fast.enet_coordinate_descent(\n",
      "/Users/highlandcow/anaconda3/lib/python3.11/site-packages/sklearn/linear_model/_coordinate_descent.py:695: ConvergenceWarning: Objective did not converge. You might want to increase the number of iterations, check the scale of the features or consider increasing regularisation. Duality gap: 9.225e+05, tolerance: 4.132e+02\n",
      "  model = cd_fast.enet_coordinate_descent(\n",
      "/Users/highlandcow/anaconda3/lib/python3.11/site-packages/sklearn/linear_model/_coordinate_descent.py:695: ConvergenceWarning: Objective did not converge. You might want to increase the number of iterations, check the scale of the features or consider increasing regularisation. Duality gap: 8.049e+05, tolerance: 4.404e+02\n",
      "  model = cd_fast.enet_coordinate_descent(\n",
      "/Users/highlandcow/anaconda3/lib/python3.11/site-packages/sklearn/linear_model/_coordinate_descent.py:695: ConvergenceWarning: Objective did not converge. You might want to increase the number of iterations, check the scale of the features or consider increasing regularisation. Duality gap: 7.622e+05, tolerance: 4.445e+02\n",
      "  model = cd_fast.enet_coordinate_descent(\n",
      "/Users/highlandcow/anaconda3/lib/python3.11/site-packages/sklearn/linear_model/_coordinate_descent.py:695: ConvergenceWarning: Objective did not converge. You might want to increase the number of iterations, check the scale of the features or consider increasing regularisation. Duality gap: 9.355e+05, tolerance: 4.426e+02\n",
      "  model = cd_fast.enet_coordinate_descent(\n",
      "/Users/highlandcow/anaconda3/lib/python3.11/site-packages/sklearn/linear_model/_coordinate_descent.py:695: ConvergenceWarning: Objective did not converge. You might want to increase the number of iterations, check the scale of the features or consider increasing regularisation. Duality gap: 9.903e+05, tolerance: 4.426e+02\n",
      "  model = cd_fast.enet_coordinate_descent(\n",
      "/Users/highlandcow/anaconda3/lib/python3.11/site-packages/sklearn/linear_model/_coordinate_descent.py:695: ConvergenceWarning: Objective did not converge. You might want to increase the number of iterations, check the scale of the features or consider increasing regularisation. Duality gap: 9.284e+05, tolerance: 4.404e+02\n",
      "  model = cd_fast.enet_coordinate_descent(\n",
      "/Users/highlandcow/anaconda3/lib/python3.11/site-packages/sklearn/linear_model/_coordinate_descent.py:695: ConvergenceWarning: Objective did not converge. You might want to increase the number of iterations, check the scale of the features or consider increasing regularisation. Duality gap: 9.424e+05, tolerance: 4.132e+02\n",
      "  model = cd_fast.enet_coordinate_descent(\n",
      "/Users/highlandcow/anaconda3/lib/python3.11/site-packages/sklearn/linear_model/_coordinate_descent.py:695: ConvergenceWarning: Objective did not converge. You might want to increase the number of iterations, check the scale of the features or consider increasing regularisation. Duality gap: 8.134e+05, tolerance: 4.206e+02\n",
      "  model = cd_fast.enet_coordinate_descent(\n",
      "/Users/highlandcow/anaconda3/lib/python3.11/site-packages/sklearn/linear_model/_coordinate_descent.py:695: ConvergenceWarning: Objective did not converge. You might want to increase the number of iterations, check the scale of the features or consider increasing regularisation. Duality gap: 8.584e+05, tolerance: 4.445e+02\n",
      "  model = cd_fast.enet_coordinate_descent(\n",
      "/Users/highlandcow/anaconda3/lib/python3.11/site-packages/sklearn/linear_model/_coordinate_descent.py:695: ConvergenceWarning: Objective did not converge. You might want to increase the number of iterations, check the scale of the features or consider increasing regularisation. Duality gap: 8.511e+05, tolerance: 4.206e+02\n",
      "  model = cd_fast.enet_coordinate_descent(\n",
      "/Users/highlandcow/anaconda3/lib/python3.11/site-packages/sklearn/linear_model/_coordinate_descent.py:695: ConvergenceWarning: Objective did not converge. You might want to increase the number of iterations, check the scale of the features or consider increasing regularisation. Duality gap: 1.008e+06, tolerance: 4.426e+02\n",
      "  model = cd_fast.enet_coordinate_descent(\n",
      "/Users/highlandcow/anaconda3/lib/python3.11/site-packages/sklearn/linear_model/_coordinate_descent.py:695: ConvergenceWarning: Objective did not converge. You might want to increase the number of iterations, check the scale of the features or consider increasing regularisation. Duality gap: 1.094e+06, tolerance: 4.132e+02\n",
      "  model = cd_fast.enet_coordinate_descent(\n",
      "/Users/highlandcow/anaconda3/lib/python3.11/site-packages/sklearn/linear_model/_coordinate_descent.py:695: ConvergenceWarning: Objective did not converge. You might want to increase the number of iterations, check the scale of the features or consider increasing regularisation. Duality gap: 8.860e+05, tolerance: 4.445e+02\n",
      "  model = cd_fast.enet_coordinate_descent(\n",
      "/Users/highlandcow/anaconda3/lib/python3.11/site-packages/sklearn/linear_model/_coordinate_descent.py:695: ConvergenceWarning: Objective did not converge. You might want to increase the number of iterations, check the scale of the features or consider increasing regularisation. Duality gap: 1.211e+06, tolerance: 4.132e+02\n",
      "  model = cd_fast.enet_coordinate_descent(\n",
      "/Users/highlandcow/anaconda3/lib/python3.11/site-packages/sklearn/linear_model/_coordinate_descent.py:695: ConvergenceWarning: Objective did not converge. You might want to increase the number of iterations, check the scale of the features or consider increasing regularisation. Duality gap: 9.765e+05, tolerance: 4.404e+02\n",
      "  model = cd_fast.enet_coordinate_descent(\n",
      "/Users/highlandcow/anaconda3/lib/python3.11/site-packages/sklearn/linear_model/_coordinate_descent.py:695: ConvergenceWarning: Objective did not converge. You might want to increase the number of iterations, check the scale of the features or consider increasing regularisation. Duality gap: 7.893e+05, tolerance: 4.206e+02\n",
      "  model = cd_fast.enet_coordinate_descent(\n",
      "/Users/highlandcow/anaconda3/lib/python3.11/site-packages/sklearn/linear_model/_coordinate_descent.py:695: ConvergenceWarning: Objective did not converge. You might want to increase the number of iterations, check the scale of the features or consider increasing regularisation. Duality gap: 9.975e+05, tolerance: 4.404e+02\n",
      "  model = cd_fast.enet_coordinate_descent(\n",
      "/Users/highlandcow/anaconda3/lib/python3.11/site-packages/sklearn/linear_model/_coordinate_descent.py:695: ConvergenceWarning: Objective did not converge. You might want to increase the number of iterations, check the scale of the features or consider increasing regularisation. Duality gap: 9.302e+05, tolerance: 4.426e+02\n",
      "  model = cd_fast.enet_coordinate_descent(\n",
      "/Users/highlandcow/anaconda3/lib/python3.11/site-packages/sklearn/linear_model/_coordinate_descent.py:695: ConvergenceWarning: Objective did not converge. You might want to increase the number of iterations, check the scale of the features or consider increasing regularisation. Duality gap: 1.049e+06, tolerance: 4.206e+02\n",
      "  model = cd_fast.enet_coordinate_descent(\n",
      "/Users/highlandcow/anaconda3/lib/python3.11/site-packages/sklearn/linear_model/_coordinate_descent.py:695: ConvergenceWarning: Objective did not converge. You might want to increase the number of iterations, check the scale of the features or consider increasing regularisation. Duality gap: 7.358e+05, tolerance: 4.445e+02\n",
      "  model = cd_fast.enet_coordinate_descent(\n",
      "/Users/highlandcow/anaconda3/lib/python3.11/site-packages/sklearn/linear_model/_coordinate_descent.py:695: ConvergenceWarning: Objective did not converge. You might want to increase the number of iterations, check the scale of the features or consider increasing regularisation. Duality gap: 2.291e+04, tolerance: 4.426e+02\n",
      "  model = cd_fast.enet_coordinate_descent(\n",
      "/Users/highlandcow/anaconda3/lib/python3.11/site-packages/sklearn/linear_model/_coordinate_descent.py:695: ConvergenceWarning: Objective did not converge. You might want to increase the number of iterations, check the scale of the features or consider increasing regularisation. Duality gap: 9.446e+05, tolerance: 4.404e+02\n",
      "  model = cd_fast.enet_coordinate_descent(\n",
      "/Users/highlandcow/anaconda3/lib/python3.11/site-packages/sklearn/linear_model/_coordinate_descent.py:695: ConvergenceWarning: Objective did not converge. You might want to increase the number of iterations, check the scale of the features or consider increasing regularisation. Duality gap: 1.530e+05, tolerance: 4.445e+02\n",
      "  model = cd_fast.enet_coordinate_descent(\n",
      "/Users/highlandcow/anaconda3/lib/python3.11/site-packages/sklearn/linear_model/_coordinate_descent.py:695: ConvergenceWarning: Objective did not converge. You might want to increase the number of iterations, check the scale of the features or consider increasing regularisation. Duality gap: 1.372e+03, tolerance: 4.132e+02\n",
      "  model = cd_fast.enet_coordinate_descent(\n",
      "/Users/highlandcow/anaconda3/lib/python3.11/site-packages/sklearn/linear_model/_coordinate_descent.py:695: ConvergenceWarning: Objective did not converge. You might want to increase the number of iterations, check the scale of the features or consider increasing regularisation. Duality gap: 6.594e+02, tolerance: 4.206e+02\n",
      "  model = cd_fast.enet_coordinate_descent(\n",
      "/Users/highlandcow/anaconda3/lib/python3.11/site-packages/sklearn/linear_model/_coordinate_descent.py:695: ConvergenceWarning: Objective did not converge. You might want to increase the number of iterations, check the scale of the features or consider increasing regularisation. Duality gap: 7.767e+02, tolerance: 4.445e+02\n",
      "  model = cd_fast.enet_coordinate_descent(\n",
      "/Users/highlandcow/anaconda3/lib/python3.11/site-packages/sklearn/linear_model/_coordinate_descent.py:695: ConvergenceWarning: Objective did not converge. You might want to increase the number of iterations, check the scale of the features or consider increasing regularisation. Duality gap: 2.854e+04, tolerance: 4.132e+02\n",
      "  model = cd_fast.enet_coordinate_descent(\n",
      "/Users/highlandcow/anaconda3/lib/python3.11/site-packages/sklearn/linear_model/_coordinate_descent.py:695: ConvergenceWarning: Objective did not converge. You might want to increase the number of iterations, check the scale of the features or consider increasing regularisation. Duality gap: 8.241e+02, tolerance: 4.404e+02\n",
      "  model = cd_fast.enet_coordinate_descent(\n",
      "/Users/highlandcow/anaconda3/lib/python3.11/site-packages/sklearn/linear_model/_coordinate_descent.py:695: ConvergenceWarning: Objective did not converge. You might want to increase the number of iterations, check the scale of the features or consider increasing regularisation. Duality gap: 5.052e+02, tolerance: 4.426e+02\n",
      "  model = cd_fast.enet_coordinate_descent(\n",
      "/Users/highlandcow/anaconda3/lib/python3.11/site-packages/sklearn/linear_model/_coordinate_descent.py:695: ConvergenceWarning: Objective did not converge. You might want to increase the number of iterations, check the scale of the features or consider increasing regularisation. Duality gap: 1.919e+04, tolerance: 4.206e+02\n",
      "  model = cd_fast.enet_coordinate_descent(\n",
      "/Users/highlandcow/anaconda3/lib/python3.11/site-packages/sklearn/linear_model/_coordinate_descent.py:695: ConvergenceWarning: Objective did not converge. You might want to increase the number of iterations, check the scale of the features or consider increasing regularisation. Duality gap: 2.004e+05, tolerance: 4.132e+02\n",
      "  model = cd_fast.enet_coordinate_descent(\n",
      "/Users/highlandcow/anaconda3/lib/python3.11/site-packages/sklearn/linear_model/_coordinate_descent.py:695: ConvergenceWarning: Objective did not converge. You might want to increase the number of iterations, check the scale of the features or consider increasing regularisation. Duality gap: 1.684e+04, tolerance: 4.404e+02\n",
      "  model = cd_fast.enet_coordinate_descent(\n",
      "/Users/highlandcow/anaconda3/lib/python3.11/site-packages/sklearn/linear_model/_coordinate_descent.py:695: ConvergenceWarning: Objective did not converge. You might want to increase the number of iterations, check the scale of the features or consider increasing regularisation. Duality gap: 1.208e+04, tolerance: 4.426e+02\n",
      "  model = cd_fast.enet_coordinate_descent(\n",
      "/Users/highlandcow/anaconda3/lib/python3.11/site-packages/sklearn/linear_model/_coordinate_descent.py:695: ConvergenceWarning: Objective did not converge. You might want to increase the number of iterations, check the scale of the features or consider increasing regularisation. Duality gap: 1.816e+04, tolerance: 4.445e+02\n",
      "  model = cd_fast.enet_coordinate_descent(\n",
      "/Users/highlandcow/anaconda3/lib/python3.11/site-packages/sklearn/linear_model/_coordinate_descent.py:695: ConvergenceWarning: Objective did not converge. You might want to increase the number of iterations, check the scale of the features or consider increasing regularisation. Duality gap: 1.676e+05, tolerance: 4.206e+02\n",
      "  model = cd_fast.enet_coordinate_descent(\n",
      "/Users/highlandcow/anaconda3/lib/python3.11/site-packages/sklearn/linear_model/_coordinate_descent.py:695: ConvergenceWarning: Objective did not converge. You might want to increase the number of iterations, check the scale of the features or consider increasing regularisation. Duality gap: 1.075e+05, tolerance: 4.426e+02\n",
      "  model = cd_fast.enet_coordinate_descent(\n",
      "/Users/highlandcow/anaconda3/lib/python3.11/site-packages/sklearn/linear_model/_coordinate_descent.py:695: ConvergenceWarning: Objective did not converge. You might want to increase the number of iterations, check the scale of the features or consider increasing regularisation. Duality gap: 1.196e+05, tolerance: 4.404e+02\n",
      "  model = cd_fast.enet_coordinate_descent(\n",
      "/Users/highlandcow/anaconda3/lib/python3.11/site-packages/sklearn/linear_model/_coordinate_descent.py:695: ConvergenceWarning: Objective did not converge. You might want to increase the number of iterations, check the scale of the features or consider increasing regularisation. Duality gap: 9.540e+05, tolerance: 4.132e+02\n",
      "  model = cd_fast.enet_coordinate_descent(\n",
      "/Users/highlandcow/anaconda3/lib/python3.11/site-packages/sklearn/linear_model/_coordinate_descent.py:695: ConvergenceWarning: Objective did not converge. You might want to increase the number of iterations, check the scale of the features or consider increasing regularisation. Duality gap: 1.404e+05, tolerance: 4.445e+02\n",
      "  model = cd_fast.enet_coordinate_descent(\n",
      "/Users/highlandcow/anaconda3/lib/python3.11/site-packages/sklearn/linear_model/_coordinate_descent.py:695: ConvergenceWarning: Objective did not converge. You might want to increase the number of iterations, check the scale of the features or consider increasing regularisation. Duality gap: 4.771e+03, tolerance: 4.426e+02\n",
      "  model = cd_fast.enet_coordinate_descent(\n",
      "/Users/highlandcow/anaconda3/lib/python3.11/site-packages/sklearn/linear_model/_coordinate_descent.py:695: ConvergenceWarning: Objective did not converge. You might want to increase the number of iterations, check the scale of the features or consider increasing regularisation. Duality gap: 5.591e+05, tolerance: 4.206e+02\n",
      "  model = cd_fast.enet_coordinate_descent(\n",
      "/Users/highlandcow/anaconda3/lib/python3.11/site-packages/sklearn/linear_model/_coordinate_descent.py:695: ConvergenceWarning: Objective did not converge. You might want to increase the number of iterations, check the scale of the features or consider increasing regularisation. Duality gap: 4.992e+05, tolerance: 4.404e+02\n",
      "  model = cd_fast.enet_coordinate_descent(\n",
      "/Users/highlandcow/anaconda3/lib/python3.11/site-packages/sklearn/linear_model/_coordinate_descent.py:695: ConvergenceWarning: Objective did not converge. You might want to increase the number of iterations, check the scale of the features or consider increasing regularisation. Duality gap: 2.882e+04, tolerance: 4.445e+02\n",
      "  model = cd_fast.enet_coordinate_descent(\n",
      "/Users/highlandcow/anaconda3/lib/python3.11/site-packages/sklearn/linear_model/_coordinate_descent.py:695: ConvergenceWarning: Objective did not converge. You might want to increase the number of iterations, check the scale of the features or consider increasing regularisation. Duality gap: 1.788e+05, tolerance: 4.132e+02\n",
      "  model = cd_fast.enet_coordinate_descent(\n",
      "/Users/highlandcow/anaconda3/lib/python3.11/site-packages/sklearn/linear_model/_coordinate_descent.py:695: ConvergenceWarning: Objective did not converge. You might want to increase the number of iterations, check the scale of the features or consider increasing regularisation. Duality gap: 2.903e+04, tolerance: 4.206e+02\n",
      "  model = cd_fast.enet_coordinate_descent(\n",
      "/Users/highlandcow/anaconda3/lib/python3.11/site-packages/sklearn/linear_model/_coordinate_descent.py:695: ConvergenceWarning: Objective did not converge. You might want to increase the number of iterations, check the scale of the features or consider increasing regularisation. Duality gap: 1.457e+05, tolerance: 4.404e+02\n",
      "  model = cd_fast.enet_coordinate_descent(\n",
      "/Users/highlandcow/anaconda3/lib/python3.11/site-packages/sklearn/linear_model/_coordinate_descent.py:695: ConvergenceWarning: Objective did not converge. You might want to increase the number of iterations, check the scale of the features or consider increasing regularisation. Duality gap: 5.154e+03, tolerance: 4.426e+02\n",
      "  model = cd_fast.enet_coordinate_descent(\n",
      "/Users/highlandcow/anaconda3/lib/python3.11/site-packages/sklearn/linear_model/_coordinate_descent.py:695: ConvergenceWarning: Objective did not converge. You might want to increase the number of iterations, check the scale of the features or consider increasing regularisation. Duality gap: 4.512e+03, tolerance: 4.132e+02\n",
      "  model = cd_fast.enet_coordinate_descent(\n",
      "/Users/highlandcow/anaconda3/lib/python3.11/site-packages/sklearn/linear_model/_coordinate_descent.py:695: ConvergenceWarning: Objective did not converge. You might want to increase the number of iterations, check the scale of the features or consider increasing regularisation. Duality gap: 4.946e+03, tolerance: 4.206e+02\n",
      "  model = cd_fast.enet_coordinate_descent(\n",
      "/Users/highlandcow/anaconda3/lib/python3.11/site-packages/sklearn/linear_model/_coordinate_descent.py:695: ConvergenceWarning: Objective did not converge. You might want to increase the number of iterations, check the scale of the features or consider increasing regularisation. Duality gap: 5.153e+03, tolerance: 4.426e+02\n",
      "  model = cd_fast.enet_coordinate_descent(\n"
     ]
    },
    {
     "name": "stdout",
     "output_type": "stream",
     "text": [
      "Best params: {'alpha': 0.05994842503189409, 'l1_ratio': 1.0}\n"
     ]
    },
    {
     "name": "stderr",
     "output_type": "stream",
     "text": [
      "/Users/highlandcow/anaconda3/lib/python3.11/site-packages/sklearn/linear_model/_coordinate_descent.py:695: ConvergenceWarning: Objective did not converge. You might want to increase the number of iterations, check the scale of the features or consider increasing regularisation. Duality gap: 1.642e+04, tolerance: 4.404e+02\n",
      "  model = cd_fast.enet_coordinate_descent(\n"
     ]
    }
   ],
   "source": [
    "param_grid = {\n",
    "    'alpha': np.logspace(-4, 1, 10), \n",
    "    'l1_ratio': np.linspace(0.1, 1, 10) \n",
    "}\n",
    "\n",
    "grid_search = GridSearchCV(\n",
    "    estimator=elastic, \n",
    "    param_grid=param_grid,\n",
    "    cv=5, \n",
    "    scoring='neg_mean_squared_error', \n",
    "    n_jobs=-1\n",
    ")\n",
    "\n",
    "grid_search.fit(X_train, y_train[\"target_IP\"])\n",
    "print(f\"Best params: {grid_search.best_params_}\")"
   ]
  },
  {
   "cell_type": "code",
   "execution_count": 82,
   "metadata": {},
   "outputs": [
    {
     "data": {
      "text/plain": [
       "46.01043945101737"
      ]
     },
     "execution_count": 82,
     "metadata": {},
     "output_type": "execute_result"
    }
   ],
   "source": [
    "# Fit model with best params\n",
    "elastic = ElasticNet(random_state=51, max_iter=30000, alpha=0.05994842503189409, l1_ratio=1)\n",
    "elastic.fit(X_train, y_train[\"target_IP\"])\n",
    "\n",
    "# Make predictions\n",
    "y_pred = cross_val_predict(elastic, X_train, y_train[\"target_IP\"], cv=5)\n",
    "\n",
    "# Evaluation\n",
    "rmse_elastic = np.sqrt(mean_squared_error(y_train[\"target_IP\"], y_pred))\n",
    "rmse_elastic"
   ]
  },
  {
   "cell_type": "markdown",
   "metadata": {},
   "source": [
    "### RandomForestRegressor"
   ]
  },
  {
   "cell_type": "code",
   "execution_count": 83,
   "metadata": {},
   "outputs": [
    {
     "data": {
      "text/plain": [
       "47.28848842432355"
      ]
     },
     "execution_count": 83,
     "metadata": {},
     "output_type": "execute_result"
    }
   ],
   "source": [
    "from sklearn.ensemble import RandomForestRegressor\n",
    "\n",
    "# Fit model \n",
    "forest = RandomForestRegressor(random_state=51)\n",
    "forest.fit(X_train, y_train[\"target_IP\"])\n",
    "\n",
    "# Make predictions\n",
    "y_pred = cross_val_predict(forest, X_train, y_train[\"target_IP\"], cv=5)\n",
    "\n",
    "# Evaluation\n",
    "rmse_forest = np.sqrt(mean_squared_error(y_train[\"target_IP\"], y_pred))\n",
    "rmse_forest"
   ]
  },
  {
   "cell_type": "markdown",
   "metadata": {},
   "source": [
    "#### Fine-tuning"
   ]
  },
  {
   "cell_type": "code",
   "execution_count": 84,
   "metadata": {},
   "outputs": [
    {
     "name": "stdout",
     "output_type": "stream",
     "text": [
      "Best params: {'max_depth': None, 'min_samples_leaf': 10, 'min_samples_split': 2, 'n_estimators': 200}\n"
     ]
    }
   ],
   "source": [
    "# Fine tune with fitting on X_train\n",
    "param_grid = {\n",
    "    'n_estimators': [100, 150, 200],\n",
    "    'max_depth': [None, 2, 5, 10],\n",
    "    'min_samples_split': [2, 3, 4],\n",
    "    'min_samples_leaf': [4, 10, 20]\n",
    "}\n",
    "\n",
    "grid_search = GridSearchCV(\n",
    "    estimator=forest,\n",
    "    param_grid=param_grid,\n",
    "    cv=5,\n",
    "    scoring=\"neg_mean_squared_error\",\n",
    "    n_jobs=-1\n",
    ")\n",
    "\n",
    "grid_search.fit(X_train, y_train[\"target_IP\"])\n",
    "\n",
    "print(f\"Best params: {grid_search.best_params_}\")"
   ]
  },
  {
   "cell_type": "code",
   "execution_count": 85,
   "metadata": {},
   "outputs": [
    {
     "data": {
      "text/plain": [
       "46.765715980200866"
      ]
     },
     "execution_count": 85,
     "metadata": {},
     "output_type": "execute_result"
    }
   ],
   "source": [
    "# Fit model with best params\n",
    "forest = RandomForestRegressor(\n",
    "    random_state=51, \n",
    "    max_depth=None, \n",
    "    min_samples_leaf=10, \n",
    "    min_samples_split=2, \n",
    "    n_estimators=200\n",
    ")\n",
    "\n",
    "forest.fit(X_train, y_train[\"target_IP\"])\n",
    "\n",
    "# Make predictions\n",
    "y_pred = cross_val_predict(forest, X_train, y_train[\"target_IP\"], cv=5)\n",
    "\n",
    "# Evaluation\n",
    "rmse_forest = np.sqrt(mean_squared_error(y_train[\"target_IP\"], y_pred))\n",
    "rmse_forest"
   ]
  },
  {
   "cell_type": "markdown",
   "metadata": {},
   "source": [
    "### Model selection"
   ]
  },
  {
   "cell_type": "markdown",
   "metadata": {},
   "source": [
    "RMSE scores:\n",
    "- DummyRegressor = 57.5961369404931\n",
    "- LinearRegression = 47.52398213136077\n",
    "- Ridge (fine-tuned) = 46.07021983003856\n",
    "- **Lasso (fine-tuned) = 46.01043945101737**\n",
    "- ElasticNet (fine-tuned) = 46.01043945101737\n",
    "- RandomForest (fine-tuned) 46.765715980200866\n",
    "\n",
    "Best model: Lasso "
   ]
  },
  {
   "cell_type": "code",
   "execution_count": 86,
   "metadata": {},
   "outputs": [],
   "source": [
    "model_IP = lasso"
   ]
  },
  {
   "cell_type": "markdown",
   "metadata": {},
   "source": [
    "## SO/IP"
   ]
  },
  {
   "cell_type": "markdown",
   "metadata": {},
   "source": [
    "### DummyRegressor"
   ]
  },
  {
   "cell_type": "code",
   "execution_count": 87,
   "metadata": {},
   "outputs": [
    {
     "data": {
      "text/plain": [
       "0.20655949448393268"
      ]
     },
     "execution_count": 87,
     "metadata": {},
     "output_type": "execute_result"
    }
   ],
   "source": [
    "# Fit model\n",
    "dummy_reg = DummyRegressor(strategy=\"mean\")\n",
    "dummy_reg.fit(X_train[features_SOperIP], y_train[\"target_SO/IP\"])\n",
    "\n",
    "# Make predictions\n",
    "y_pred = cross_val_predict(dummy_reg, X_train[features_SOperIP], y_train[\"target_SO/IP\"])\n",
    "\n",
    "# Evaluation\n",
    "rmse_dummy = np.sqrt(mean_squared_error(y_train[\"target_SO/IP\"], y_pred))\n",
    "rmse_dummy"
   ]
  },
  {
   "cell_type": "markdown",
   "metadata": {},
   "source": [
    "### LinearRegression"
   ]
  },
  {
   "cell_type": "code",
   "execution_count": 88,
   "metadata": {},
   "outputs": [
    {
     "data": {
      "text/plain": [
       "0.1415155971979274"
      ]
     },
     "execution_count": 88,
     "metadata": {},
     "output_type": "execute_result"
    }
   ],
   "source": [
    "# Fit model\n",
    "linreg = LinearRegression()\n",
    "linreg.fit(X_train[features_SOperIP], y_train[\"target_SO/IP\"])\n",
    "\n",
    "# Make predictions\n",
    "y_pred = cross_val_predict(linreg, X_train[features_SOperIP], y_train[\"target_SO/IP\"], cv=5)\n",
    "\n",
    "# Evaluation\n",
    "rmse_linreg = np.sqrt(mean_squared_error(y_train[\"target_SO/IP\"], y_pred))\n",
    "rmse_linreg"
   ]
  },
  {
   "cell_type": "markdown",
   "metadata": {},
   "source": [
    "### Ridge"
   ]
  },
  {
   "cell_type": "code",
   "execution_count": 89,
   "metadata": {},
   "outputs": [
    {
     "data": {
      "text/plain": [
       "0.1402473973894327"
      ]
     },
     "execution_count": 89,
     "metadata": {},
     "output_type": "execute_result"
    }
   ],
   "source": [
    "# Fit model\n",
    "ridge = Ridge(random_state=51)\n",
    "ridge.fit(X_train, y_train[\"target_SO/IP\"])\n",
    "\n",
    "# Make predictions\n",
    "y_pred = cross_val_predict(ridge, X_train, y_train[\"target_SO/IP\"], cv=5)\n",
    "\n",
    "# Evaluation\n",
    "rmse_ridge = np.sqrt(mean_squared_error(y_train[\"target_SO/IP\"], y_pred))\n",
    "rmse_ridge"
   ]
  },
  {
   "cell_type": "markdown",
   "metadata": {},
   "source": [
    "#### Fine-tuning"
   ]
  },
  {
   "cell_type": "code",
   "execution_count": 90,
   "metadata": {},
   "outputs": [
    {
     "name": "stdout",
     "output_type": "stream",
     "text": [
      "Best params: {'alpha': 10.0}\n"
     ]
    }
   ],
   "source": [
    "param_grid = {'alpha': np.logspace(-3, 3, 7)} \n",
    "\n",
    "grid_search = GridSearchCV(\n",
    "    estimator=ridge, \n",
    "    param_grid=param_grid,\n",
    "    cv=5, \n",
    "    scoring='neg_mean_squared_error', \n",
    "    n_jobs=-1\n",
    ")\n",
    "\n",
    "grid_search.fit(X_train, y_train[\"target_SO/IP\"])\n",
    "print(f\"Best params: {grid_search.best_params_}\")"
   ]
  },
  {
   "cell_type": "code",
   "execution_count": 91,
   "metadata": {},
   "outputs": [
    {
     "data": {
      "text/plain": [
       "0.1400431110050646"
      ]
     },
     "execution_count": 91,
     "metadata": {},
     "output_type": "execute_result"
    }
   ],
   "source": [
    "# Fit model with best params\n",
    "ridge = Ridge(random_state=51, alpha=10)\n",
    "ridge.fit(X_train, y_train[\"target_SO/IP\"])\n",
    "\n",
    "# Make predictions\n",
    "y_pred = cross_val_predict(ridge, X_train, y_train[\"target_SO/IP\"], cv=5)\n",
    "\n",
    "# Evaluation\n",
    "rmse_ridge = np.sqrt(mean_squared_error(y_train[\"target_SO/IP\"], y_pred))\n",
    "rmse_ridge"
   ]
  },
  {
   "cell_type": "markdown",
   "metadata": {},
   "source": [
    "### Lasso"
   ]
  },
  {
   "cell_type": "code",
   "execution_count": 92,
   "metadata": {},
   "outputs": [
    {
     "data": {
      "text/plain": [
       "0.20655949448393268"
      ]
     },
     "execution_count": 92,
     "metadata": {},
     "output_type": "execute_result"
    }
   ],
   "source": [
    "from sklearn.linear_model import Lasso\n",
    "\n",
    "# Fit model\n",
    "lasso = Lasso(random_state=51, max_iter=30000)\n",
    "lasso.fit(X_train, y_train[\"target_SO/IP\"])\n",
    "\n",
    "# Make predictions\n",
    "y_pred = cross_val_predict(lasso, X_train, y_train[\"target_SO/IP\"], cv=5)\n",
    "\n",
    "# Evaluation\n",
    "rmse_lasso = np.sqrt(mean_squared_error(y_train[\"target_SO/IP\"], y_pred))\n",
    "rmse_lasso"
   ]
  },
  {
   "cell_type": "markdown",
   "metadata": {},
   "source": [
    "#### Fine-tuning"
   ]
  },
  {
   "cell_type": "code",
   "execution_count": 93,
   "metadata": {},
   "outputs": [
    {
     "name": "stdout",
     "output_type": "stream",
     "text": [
      "Best params: {'alpha': 0.0006158482110660267}\n"
     ]
    }
   ],
   "source": [
    "param_grid = {'alpha': np.logspace(-4, 1, 20)}\n",
    "\n",
    "grid_search = GridSearchCV(\n",
    "    estimator=lasso, \n",
    "    param_grid=param_grid,\n",
    "    cv=5, \n",
    "    scoring='neg_mean_squared_error', \n",
    "    n_jobs=-1\n",
    ")\n",
    "\n",
    "grid_search.fit(X_train, y_train[\"target_SO/IP\"])\n",
    "print(f\"Best params: {grid_search.best_params_}\")"
   ]
  },
  {
   "cell_type": "code",
   "execution_count": 94,
   "metadata": {},
   "outputs": [
    {
     "data": {
      "text/plain": [
       "0.13982775981453419"
      ]
     },
     "execution_count": 94,
     "metadata": {},
     "output_type": "execute_result"
    }
   ],
   "source": [
    "from sklearn.linear_model import Lasso\n",
    "\n",
    "# Fit model with best params\n",
    "lasso = Lasso(random_state=51, max_iter=30000, alpha=0.0006158482110660267)\n",
    "lasso.fit(X_train, y_train[\"target_SO/IP\"])\n",
    "\n",
    "# Make predictions\n",
    "y_pred = cross_val_predict(lasso, X_train, y_train[\"target_SO/IP\"], cv=5)\n",
    "\n",
    "# Evaluation\n",
    "rmse_lasso = np.sqrt(mean_squared_error(y_train[\"target_SO/IP\"], y_pred))\n",
    "rmse_lasso"
   ]
  },
  {
   "cell_type": "markdown",
   "metadata": {},
   "source": [
    "### ElasticNet"
   ]
  },
  {
   "cell_type": "code",
   "execution_count": 95,
   "metadata": {},
   "outputs": [
    {
     "data": {
      "text/plain": [
       "0.20655949448393268"
      ]
     },
     "execution_count": 95,
     "metadata": {},
     "output_type": "execute_result"
    }
   ],
   "source": [
    "from sklearn.linear_model import ElasticNet\n",
    "\n",
    "# Fit model\n",
    "elastic = ElasticNet(random_state=51, max_iter=30000)\n",
    "elastic.fit(X_train, y_train[\"target_SO/IP\"])\n",
    "\n",
    "# Make predictions\n",
    "y_pred = cross_val_predict(elastic, X_train, y_train[\"target_SO/IP\"], cv=5)\n",
    "\n",
    "# Evaluation\n",
    "rmse_elastic = np.sqrt(mean_squared_error(y_train[\"target_SO/IP\"], y_pred))\n",
    "rmse_elastic"
   ]
  },
  {
   "cell_type": "markdown",
   "metadata": {},
   "source": [
    "#### Fine-tuning"
   ]
  },
  {
   "cell_type": "code",
   "execution_count": 96,
   "metadata": {},
   "outputs": [
    {
     "name": "stdout",
     "output_type": "stream",
     "text": [
      "Best params: {'alpha': 0.001291549665014884, 'l1_ratio': 0.5}\n"
     ]
    }
   ],
   "source": [
    "param_grid = {\n",
    "    'alpha': np.logspace(-4, 1, 10), \n",
    "    'l1_ratio': np.linspace(0.1, 1, 10) \n",
    "}\n",
    "\n",
    "grid_search = GridSearchCV(\n",
    "    estimator=elastic, \n",
    "    param_grid=param_grid,\n",
    "    cv=5, \n",
    "    scoring='neg_mean_squared_error', \n",
    "    n_jobs=-1\n",
    ")\n",
    "\n",
    "grid_search.fit(X_train, y_train[\"target_SO/IP\"])\n",
    "print(f\"Best params: {grid_search.best_params_}\")"
   ]
  },
  {
   "cell_type": "code",
   "execution_count": 97,
   "metadata": {},
   "outputs": [
    {
     "data": {
      "text/plain": [
       "0.1398310721584278"
      ]
     },
     "execution_count": 97,
     "metadata": {},
     "output_type": "execute_result"
    }
   ],
   "source": [
    "# Fit model with best params\n",
    "elastic = ElasticNet(random_state=51, max_iter=30000, alpha=0.001291549665014884, l1_ratio=0.55)\n",
    "elastic.fit(X_train, y_train[\"target_SO/IP\"])\n",
    "\n",
    "# Make predictions\n",
    "y_pred = cross_val_predict(elastic, X_train, y_train[\"target_SO/IP\"], cv=5)\n",
    "\n",
    "# Evaluation\n",
    "rmse_elastic = np.sqrt(mean_squared_error(y_train[\"target_SO/IP\"], y_pred))\n",
    "rmse_elastic"
   ]
  },
  {
   "cell_type": "markdown",
   "metadata": {},
   "source": [
    "### RandomForestRegressor"
   ]
  },
  {
   "cell_type": "code",
   "execution_count": 98,
   "metadata": {},
   "outputs": [
    {
     "data": {
      "text/plain": [
       "0.1462711263848948"
      ]
     },
     "execution_count": 98,
     "metadata": {},
     "output_type": "execute_result"
    }
   ],
   "source": [
    "# Fit model \n",
    "forest = RandomForestRegressor()\n",
    "forest.fit(X_train, y_train[\"target_SO/IP\"])\n",
    "\n",
    "# Make predictions\n",
    "y_pred = cross_val_predict(forest, X_train, y_train[\"target_SO/IP\"], cv=10)\n",
    "\n",
    "# Evaluation\n",
    "rmse_forest = np.sqrt(mean_squared_error(y_train[\"target_SO/IP\"], y_pred))\n",
    "rmse_forest"
   ]
  },
  {
   "cell_type": "markdown",
   "metadata": {},
   "source": [
    "#### Fine-tuning"
   ]
  },
  {
   "cell_type": "code",
   "execution_count": 99,
   "metadata": {},
   "outputs": [
    {
     "name": "stdout",
     "output_type": "stream",
     "text": [
      "Best params: {'max_depth': 5, 'min_samples_leaf': 4, 'min_samples_split': 8, 'n_estimators': 60}\n"
     ]
    }
   ],
   "source": [
    "# Fine tune\n",
    "param_grid = {\n",
    "    'n_estimators': [20, 60, 100],\n",
    "    'max_depth': [None, 2, 5, 10],\n",
    "    'min_samples_split': [4, 6, 8],\n",
    "    'min_samples_leaf': [2, 4, 10]\n",
    "}\n",
    "\n",
    "grid_search = GridSearchCV(\n",
    "    estimator=forest,\n",
    "    param_grid=param_grid,\n",
    "    cv=5,\n",
    "    scoring=\"neg_mean_squared_error\",\n",
    "    n_jobs=-1\n",
    ")\n",
    "\n",
    "grid_search.fit(X_train, y_train[\"target_SO/IP\"])\n",
    "\n",
    "print(f\"Best params: {grid_search.best_params_}\")"
   ]
  },
  {
   "cell_type": "code",
   "execution_count": 100,
   "metadata": {},
   "outputs": [
    {
     "data": {
      "text/plain": [
       "0.14340383029192688"
      ]
     },
     "execution_count": 100,
     "metadata": {},
     "output_type": "execute_result"
    }
   ],
   "source": [
    "# Fit model with best params\n",
    "forest = RandomForestRegressor(\n",
    "    random_state=51, \n",
    "    max_depth=5, \n",
    "    min_samples_leaf=4, \n",
    "    min_samples_split=8, \n",
    "    n_estimators=100\n",
    ")\n",
    "\n",
    "forest.fit(X_train, y_train[\"target_SO/IP\"])\n",
    "\n",
    "# Make predictions\n",
    "y_pred = cross_val_predict(forest, X_train, y_train[\"target_SO/IP\"], cv=5)\n",
    "\n",
    "# Evaluation\n",
    "rmse_forest = np.sqrt(mean_squared_error(y_train[\"target_SO/IP\"], y_pred))\n",
    "rmse_forest"
   ]
  },
  {
   "cell_type": "markdown",
   "metadata": {},
   "source": [
    "### Model selection"
   ]
  },
  {
   "cell_type": "markdown",
   "metadata": {},
   "source": [
    "RMSE scores:\n",
    "- DummyRegressor = 0.20655949448393268\n",
    "- LinearRegression = 0.1415155971979274\n",
    "- Ridge (fine-tuned) = 0.1400431110050646\n",
    "- **Lasso (fine-tuned) = 0.13982775981453419**\n",
    "- ElasticNet (fine-tuned) = 0.1398310721584278\n",
    "- RandomForest (fine-tuned) = 0.14340383029192688\n",
    "\n",
    "Best model:  Lasso"
   ]
  },
  {
   "cell_type": "code",
   "execution_count": 101,
   "metadata": {},
   "outputs": [],
   "source": [
    "model_SOperIP = lasso"
   ]
  },
  {
   "cell_type": "markdown",
   "metadata": {},
   "source": [
    "## H/IP"
   ]
  },
  {
   "cell_type": "markdown",
   "metadata": {},
   "source": [
    "### DummyRegressor"
   ]
  },
  {
   "cell_type": "code",
   "execution_count": 102,
   "metadata": {},
   "outputs": [
    {
     "data": {
      "text/plain": [
       "0.1826066648286763"
      ]
     },
     "execution_count": 102,
     "metadata": {},
     "output_type": "execute_result"
    }
   ],
   "source": [
    "# Fit model\n",
    "dummy_reg = DummyRegressor(strategy=\"mean\")\n",
    "dummy_reg.fit(X_train[features_HperIP], y_train[\"target_H/IP\"])\n",
    "\n",
    "# Make predictions\n",
    "y_pred = cross_val_predict(dummy_reg, X_train[features_HperIP], y_train[\"target_H/IP\"])\n",
    "\n",
    "# Evaluation\n",
    "rmse_dummy = np.sqrt(mean_squared_error(y_train[\"target_H/IP\"], y_pred))\n",
    "rmse_dummy"
   ]
  },
  {
   "cell_type": "markdown",
   "metadata": {},
   "source": [
    "### LinearRegression"
   ]
  },
  {
   "cell_type": "code",
   "execution_count": 103,
   "metadata": {},
   "outputs": [
    {
     "data": {
      "text/plain": [
       "0.1575437449594184"
      ]
     },
     "execution_count": 103,
     "metadata": {},
     "output_type": "execute_result"
    }
   ],
   "source": [
    "# Fit model\n",
    "linreg = LinearRegression()\n",
    "linreg.fit(X_train[features_HperIP], y_train[\"target_H/IP\"])\n",
    "\n",
    "# Make predictions\n",
    "y_pred = cross_val_predict(linreg, X_train[features_HperIP], y_train[\"target_H/IP\"], cv=5)\n",
    "\n",
    "# Evaluation\n",
    "linreg_rmse = np.sqrt(mean_squared_error( y_train[\"target_H/IP\"], y_pred))\n",
    "linreg_rmse"
   ]
  },
  {
   "cell_type": "markdown",
   "metadata": {},
   "source": [
    "### Ridge"
   ]
  },
  {
   "cell_type": "code",
   "execution_count": 104,
   "metadata": {},
   "outputs": [
    {
     "data": {
      "text/plain": [
       "0.15677805990961408"
      ]
     },
     "execution_count": 104,
     "metadata": {},
     "output_type": "execute_result"
    }
   ],
   "source": [
    "# Fit model\n",
    "ridge = Ridge()\n",
    "ridge.fit(X_train, y_train[\"target_H/IP\"])\n",
    "\n",
    "# Make predictions\n",
    "y_pred = cross_val_predict(ridge, X_train, y_train[\"target_H/IP\"], cv=5)\n",
    "\n",
    "# Calculate RMSE\n",
    "rmse_ridge = np.sqrt(mean_squared_error(y_train[\"target_H/IP\"], y_pred))\n",
    "rmse_ridge"
   ]
  },
  {
   "cell_type": "markdown",
   "metadata": {},
   "source": [
    "#### Fine-tuning"
   ]
  },
  {
   "cell_type": "code",
   "execution_count": 105,
   "metadata": {},
   "outputs": [
    {
     "name": "stdout",
     "output_type": "stream",
     "text": [
      "Best params: {'alpha': 100.0}\n"
     ]
    }
   ],
   "source": [
    "param_grid = {'alpha': np.logspace(-3, 3, 7)} \n",
    "\n",
    "grid_search = GridSearchCV(\n",
    "    estimator=ridge, \n",
    "    param_grid=param_grid,\n",
    "    cv=5, \n",
    "    scoring='neg_mean_squared_error', \n",
    "    n_jobs=-1\n",
    ")\n",
    "\n",
    "grid_search.fit(X_train, y_train[\"target_H/IP\"])\n",
    "print(f\"Best params: {grid_search.best_params_}\")"
   ]
  },
  {
   "cell_type": "code",
   "execution_count": 106,
   "metadata": {},
   "outputs": [
    {
     "data": {
      "text/plain": [
       "0.15638998639000218"
      ]
     },
     "execution_count": 106,
     "metadata": {},
     "output_type": "execute_result"
    }
   ],
   "source": [
    "# Fit model with best params\n",
    "ridge = Ridge(alpha=100)\n",
    "ridge.fit(X_train, y_train[\"target_H/IP\"])\n",
    "\n",
    "# Make predictions\n",
    "y_pred = cross_val_predict(ridge, X_train, y_train[\"target_H/IP\"], cv=5)\n",
    "\n",
    "# Evaluation\n",
    "rmse_ridge = np.sqrt(mean_squared_error(y_train[\"target_H/IP\"], y_pred))\n",
    "rmse_ridge"
   ]
  },
  {
   "cell_type": "markdown",
   "metadata": {},
   "source": [
    "### Lasso"
   ]
  },
  {
   "cell_type": "code",
   "execution_count": 107,
   "metadata": {},
   "outputs": [
    {
     "data": {
      "text/plain": [
       "0.1826066648286763"
      ]
     },
     "execution_count": 107,
     "metadata": {},
     "output_type": "execute_result"
    }
   ],
   "source": [
    "from sklearn.linear_model import Lasso\n",
    "\n",
    "# Fit model\n",
    "lasso = Lasso(random_state=51, max_iter=30000)\n",
    "lasso.fit(X_train, y_train[\"target_H/IP\"])\n",
    "\n",
    "# Make predictions\n",
    "y_pred = cross_val_predict(lasso, X_train, y_train[\"target_H/IP\"], cv=5)\n",
    "\n",
    "# Evaluation\n",
    "rmse_lasso = np.sqrt(mean_squared_error(y_train[\"target_H/IP\"], y_pred))\n",
    "rmse_lasso"
   ]
  },
  {
   "cell_type": "markdown",
   "metadata": {},
   "source": [
    "#### Fine-tuning"
   ]
  },
  {
   "cell_type": "code",
   "execution_count": 108,
   "metadata": {},
   "outputs": [
    {
     "name": "stdout",
     "output_type": "stream",
     "text": [
      "Best params: {'alpha': 0.0011288378916846883}\n"
     ]
    }
   ],
   "source": [
    "param_grid = {'alpha': np.logspace(-4, 1, 20)}\n",
    "\n",
    "grid_search = GridSearchCV(\n",
    "    estimator=lasso, \n",
    "    param_grid=param_grid,\n",
    "    cv=5, \n",
    "    scoring='neg_mean_squared_error', \n",
    "    n_jobs=-1\n",
    ")\n",
    "\n",
    "grid_search.fit(X_train, y_train[\"target_H/IP\"])\n",
    "print(f\"Best params: {grid_search.best_params_}\")"
   ]
  },
  {
   "cell_type": "code",
   "execution_count": 109,
   "metadata": {},
   "outputs": [
    {
     "data": {
      "text/plain": [
       "0.1563327698175087"
      ]
     },
     "execution_count": 109,
     "metadata": {},
     "output_type": "execute_result"
    }
   ],
   "source": [
    "from sklearn.linear_model import Lasso\n",
    "\n",
    "# Fit model with best params\n",
    "lasso = Lasso(random_state=51, max_iter=30000, alpha=0.0011288378916846883)\n",
    "lasso.fit(X_train, y_train[\"target_H/IP\"])\n",
    "\n",
    "# Make predictions\n",
    "y_pred = cross_val_predict(lasso, X_train, y_train[\"target_H/IP\"], cv=5)\n",
    "\n",
    "# Evaluation\n",
    "rmse_lasso = np.sqrt(mean_squared_error(y_train[\"target_H/IP\"], y_pred))\n",
    "rmse_lasso"
   ]
  },
  {
   "cell_type": "markdown",
   "metadata": {},
   "source": [
    "### ElasticNet"
   ]
  },
  {
   "cell_type": "code",
   "execution_count": 110,
   "metadata": {},
   "outputs": [
    {
     "data": {
      "text/plain": [
       "0.1826066648286763"
      ]
     },
     "execution_count": 110,
     "metadata": {},
     "output_type": "execute_result"
    }
   ],
   "source": [
    "from sklearn.linear_model import ElasticNet\n",
    "\n",
    "# Fit model\n",
    "elastic = ElasticNet(random_state=51, max_iter=30000)\n",
    "elastic.fit(X_train, y_train[\"target_H/IP\"])\n",
    "\n",
    "# Make predictions\n",
    "y_pred = cross_val_predict(elastic, X_train, y_train[\"target_H/IP\"], cv=5)\n",
    "\n",
    "# Evaluation\n",
    "rmse_elastic = np.sqrt(mean_squared_error(y_train[\"target_H/IP\"], y_pred))\n",
    "rmse_elastic"
   ]
  },
  {
   "cell_type": "markdown",
   "metadata": {},
   "source": [
    "#### Fine-tuning"
   ]
  },
  {
   "cell_type": "code",
   "execution_count": 111,
   "metadata": {},
   "outputs": [
    {
     "name": "stdout",
     "output_type": "stream",
     "text": [
      "Best params: {'alpha': 0.004641588833612782, 'l1_ratio': 0.2}\n"
     ]
    }
   ],
   "source": [
    "param_grid = {\n",
    "    'alpha': np.logspace(-4, 1, 10), \n",
    "    'l1_ratio': np.linspace(0.1, 1, 10) \n",
    "}\n",
    "\n",
    "grid_search = GridSearchCV(\n",
    "    estimator=elastic, \n",
    "    param_grid=param_grid,\n",
    "    cv=5, \n",
    "    scoring='neg_mean_squared_error', \n",
    "    n_jobs=-1\n",
    ")\n",
    "\n",
    "grid_search.fit(X_train, y_train[\"target_H/IP\"])\n",
    "print(f\"Best params: {grid_search.best_params_}\")"
   ]
  },
  {
   "cell_type": "code",
   "execution_count": 112,
   "metadata": {},
   "outputs": [
    {
     "data": {
      "text/plain": [
       "0.15632269502967686"
      ]
     },
     "execution_count": 112,
     "metadata": {},
     "output_type": "execute_result"
    }
   ],
   "source": [
    "# Fit model with best params\n",
    "elastic = ElasticNet(random_state=51, max_iter=30000, alpha=0.001291549665014884, l1_ratio=0.55)\n",
    "elastic.fit(X_train, y_train[\"target_H/IP\"])\n",
    "\n",
    "# Make predictions\n",
    "y_pred = cross_val_predict(elastic, X_train, y_train[\"target_H/IP\"], cv=5)\n",
    "\n",
    "# Evaluation\n",
    "rmse_elastic = np.sqrt(mean_squared_error(y_train[\"target_H/IP\"], y_pred))\n",
    "rmse_elastic"
   ]
  },
  {
   "cell_type": "markdown",
   "metadata": {},
   "source": [
    "### RandomForestRegressor"
   ]
  },
  {
   "cell_type": "code",
   "execution_count": 113,
   "metadata": {},
   "outputs": [
    {
     "data": {
      "text/plain": [
       "0.161761396757596"
      ]
     },
     "execution_count": 113,
     "metadata": {},
     "output_type": "execute_result"
    }
   ],
   "source": [
    "# Fit model \n",
    "forest = RandomForestRegressor()\n",
    "forest.fit(X_train, y_train[\"target_H/IP\"])\n",
    "\n",
    "# Make predictions\n",
    "y_pred = cross_val_predict(forest, X_train, y_train[\"target_H/IP\"], cv=5)\n",
    "\n",
    "# Evaluation\n",
    "rmse_forest = np.sqrt(mean_squared_error(y_train[\"target_H/IP\"], y_pred))\n",
    "rmse_forest"
   ]
  },
  {
   "cell_type": "markdown",
   "metadata": {},
   "source": [
    "#### Fine-tuning"
   ]
  },
  {
   "cell_type": "code",
   "execution_count": 114,
   "metadata": {},
   "outputs": [
    {
     "name": "stdout",
     "output_type": "stream",
     "text": [
      "Best params: {'max_depth': 5, 'min_samples_leaf': 10, 'min_samples_split': 6, 'n_estimators': 100}\n"
     ]
    }
   ],
   "source": [
    "# Fine tune\n",
    "param_grid = {\n",
    "    'n_estimators': [20, 60, 100],\n",
    "    'max_depth': [None, 2, 5, 10],\n",
    "    'min_samples_split': [4, 6, 8],\n",
    "    'min_samples_leaf': [2, 4, 10]\n",
    "}\n",
    "\n",
    "grid_search = GridSearchCV(\n",
    "    estimator=forest,\n",
    "    param_grid=param_grid,\n",
    "    cv=5,\n",
    "    scoring=\"neg_mean_squared_error\",\n",
    "    n_jobs=-1\n",
    ")\n",
    "\n",
    "grid_search.fit(X_train, y_train[\"target_H/IP\"])\n",
    "\n",
    "print(f\"Best params: {grid_search.best_params_}\")"
   ]
  },
  {
   "cell_type": "code",
   "execution_count": 115,
   "metadata": {},
   "outputs": [
    {
     "data": {
      "text/plain": [
       "0.15955873461803344"
      ]
     },
     "execution_count": 115,
     "metadata": {},
     "output_type": "execute_result"
    }
   ],
   "source": [
    "# Fit model with best params\n",
    "forest = RandomForestRegressor(\n",
    "    random_state=51, \n",
    "    max_depth=5, \n",
    "    min_samples_leaf=10, \n",
    "    min_samples_split=4, \n",
    "    n_estimators=60\n",
    ")\n",
    "\n",
    "forest.fit(X_train, y_train[\"target_H/IP\"])\n",
    "\n",
    "# Make predictions\n",
    "y_pred = cross_val_predict(forest, X_train, y_train[\"target_H/IP\"], cv=5)\n",
    "\n",
    "# Evaluation\n",
    "rmse_forest = np.sqrt(mean_squared_error(y_train[\"target_H/IP\"], y_pred))\n",
    "rmse_forest"
   ]
  },
  {
   "cell_type": "markdown",
   "metadata": {},
   "source": [
    "RMSE scores:\n",
    "- DummyRegressor = 0.1826066648286763\n",
    "- LinearRegression = 0.1575437449594184\n",
    "- Ridge (fine-tuned) = 0.15638998639000218\n",
    "- Lasso (fine-tuned) = 0.1563327698175087\n",
    "- **ElasticNet (fine-tuned) = 0.15632269502967686**\n",
    "- RandomForest (fine-tuned) = 0.15955873461803344\n",
    "\n",
    "Best model: ElasticNet"
   ]
  },
  {
   "cell_type": "code",
   "execution_count": 116,
   "metadata": {},
   "outputs": [],
   "source": [
    "model_HperIP = elastic"
   ]
  },
  {
   "cell_type": "markdown",
   "metadata": {},
   "source": [
    "## BB/IP"
   ]
  },
  {
   "cell_type": "markdown",
   "metadata": {},
   "source": [
    "### DummyRegressor"
   ]
  },
  {
   "cell_type": "code",
   "execution_count": 117,
   "metadata": {},
   "outputs": [
    {
     "data": {
      "text/plain": [
       "0.12143760108852956"
      ]
     },
     "execution_count": 117,
     "metadata": {},
     "output_type": "execute_result"
    }
   ],
   "source": [
    "# Fit model\n",
    "dummy_reg = DummyRegressor(strategy=\"mean\")\n",
    "dummy_reg.fit(X_train[features_BBperIP], y_train[\"target_BB/IP\"])\n",
    "\n",
    "# Make predictions\n",
    "y_pred = cross_val_predict(dummy_reg, X_train[features_BBperIP], y_train[\"target_BB/IP\"])\n",
    "\n",
    "# Evaluation\n",
    "rmse_dummy = np.sqrt(mean_squared_error( y_train[\"target_BB/IP\"], y_pred))\n",
    "rmse_dummy"
   ]
  },
  {
   "cell_type": "markdown",
   "metadata": {},
   "source": [
    "### LinearRegression"
   ]
  },
  {
   "cell_type": "code",
   "execution_count": 118,
   "metadata": {},
   "outputs": [
    {
     "data": {
      "text/plain": [
       "0.09536201967185368"
      ]
     },
     "execution_count": 118,
     "metadata": {},
     "output_type": "execute_result"
    }
   ],
   "source": [
    "# Fit model\n",
    "lin_reg = LinearRegression()\n",
    "lin_reg.fit(X_train[features_BBperIP], y_train[\"target_BB/IP\"])\n",
    "\n",
    "# Make predictions\n",
    "y_pred = cross_val_predict(lin_reg, X_train[features_BBperIP], y_train[\"target_BB/IP\"], cv=5)\n",
    "\n",
    "# Evaluation\n",
    "linreg_rmse = np.sqrt(mean_squared_error( y_train[\"target_BB/IP\"], y_pred))\n",
    "linreg_rmse"
   ]
  },
  {
   "cell_type": "markdown",
   "metadata": {},
   "source": [
    "### Ridge"
   ]
  },
  {
   "cell_type": "code",
   "execution_count": 119,
   "metadata": {},
   "outputs": [
    {
     "data": {
      "text/plain": [
       "0.09626078919675692"
      ]
     },
     "execution_count": 119,
     "metadata": {},
     "output_type": "execute_result"
    }
   ],
   "source": [
    "# Fit model\n",
    "ridge = Ridge()\n",
    "ridge.fit(X_train, y_train[\"target_BB/IP\"])\n",
    "\n",
    "# Make predictions\n",
    "y_pred = cross_val_predict(ridge, X_train, y_train[\"target_BB/IP\"], cv=5)\n",
    "\n",
    "# Calculate RMSE\n",
    "rmse_ridge = np.sqrt(mean_squared_error(y_train[\"target_BB/IP\"], y_pred))\n",
    "rmse_ridge"
   ]
  },
  {
   "cell_type": "markdown",
   "metadata": {},
   "source": [
    "#### Fine-tuning"
   ]
  },
  {
   "cell_type": "code",
   "execution_count": 120,
   "metadata": {},
   "outputs": [
    {
     "name": "stdout",
     "output_type": "stream",
     "text": [
      "Best params: {'alpha': 10.0}\n"
     ]
    }
   ],
   "source": [
    "param_grid = {'alpha': np.logspace(-3, 3, 7)} \n",
    "\n",
    "grid_search = GridSearchCV(\n",
    "    estimator=ridge, \n",
    "    param_grid=param_grid,\n",
    "    cv=5, \n",
    "    scoring='neg_mean_squared_error', \n",
    "    n_jobs=-1\n",
    ")\n",
    "\n",
    "grid_search.fit(X_train, y_train[\"target_BB/IP\"])\n",
    "print(f\"Best params: {grid_search.best_params_}\")"
   ]
  },
  {
   "cell_type": "code",
   "execution_count": 121,
   "metadata": {},
   "outputs": [
    {
     "data": {
      "text/plain": [
       "0.0962421362537253"
      ]
     },
     "execution_count": 121,
     "metadata": {},
     "output_type": "execute_result"
    }
   ],
   "source": [
    "# Fit model with best params\n",
    "ridge = Ridge(alpha=10)\n",
    "ridge.fit(X_train, y_train[\"target_BB/IP\"])\n",
    "\n",
    "# Make predictions\n",
    "y_pred = cross_val_predict(ridge, X_train, y_train[\"target_BB/IP\"], cv=5)\n",
    "\n",
    "# Evaluation\n",
    "rmse_ridge = np.sqrt(mean_squared_error(y_train[\"target_BB/IP\"], y_pred))\n",
    "rmse_ridge"
   ]
  },
  {
   "cell_type": "markdown",
   "metadata": {},
   "source": [
    "### Lasso"
   ]
  },
  {
   "cell_type": "code",
   "execution_count": 122,
   "metadata": {},
   "outputs": [
    {
     "data": {
      "text/plain": [
       "0.12143760108852956"
      ]
     },
     "execution_count": 122,
     "metadata": {},
     "output_type": "execute_result"
    }
   ],
   "source": [
    "from sklearn.linear_model import Lasso\n",
    "\n",
    "# Fit model\n",
    "lasso = Lasso(random_state=51, max_iter=30000)\n",
    "lasso.fit(X_train, y_train[\"target_BB/IP\"])\n",
    "\n",
    "# Make predictions\n",
    "y_pred = cross_val_predict(lasso, X_train, y_train[\"target_BB/IP\"], cv=5)\n",
    "\n",
    "# Evaluation\n",
    "rmse_lasso = np.sqrt(mean_squared_error(y_train[\"target_BB/IP\"], y_pred))\n",
    "rmse_lasso"
   ]
  },
  {
   "cell_type": "markdown",
   "metadata": {},
   "source": [
    "#### Fine-tuning"
   ]
  },
  {
   "cell_type": "code",
   "execution_count": 123,
   "metadata": {},
   "outputs": [
    {
     "name": "stdout",
     "output_type": "stream",
     "text": [
      "Best params: {'alpha': 0.0011288378916846883}\n"
     ]
    }
   ],
   "source": [
    "param_grid = {'alpha': np.logspace(-4, 1, 20)}\n",
    "\n",
    "grid_search = GridSearchCV(\n",
    "    estimator=lasso, \n",
    "    param_grid=param_grid,\n",
    "    cv=5, \n",
    "    scoring='neg_mean_squared_error', \n",
    "    n_jobs=-1\n",
    ")\n",
    "\n",
    "grid_search.fit(X_train, y_train[\"target_BB/IP\"])\n",
    "print(f\"Best params: {grid_search.best_params_}\")"
   ]
  },
  {
   "cell_type": "code",
   "execution_count": 124,
   "metadata": {},
   "outputs": [
    {
     "data": {
      "text/plain": [
       "0.09573295961602286"
      ]
     },
     "execution_count": 124,
     "metadata": {},
     "output_type": "execute_result"
    }
   ],
   "source": [
    "# Fit model with best params\n",
    "lasso = Lasso(random_state=51, max_iter=30000, alpha=0.0011288378916846883)\n",
    "lasso.fit(X_train, y_train[\"target_BB/IP\"])\n",
    "\n",
    "# Make predictions\n",
    "y_pred = cross_val_predict(lasso, X_train, y_train[\"target_BB/IP\"], cv=5)\n",
    "\n",
    "# Evaluation\n",
    "rmse_lasso = np.sqrt(mean_squared_error(y_train[\"target_BB/IP\"], y_pred))\n",
    "rmse_lasso"
   ]
  },
  {
   "cell_type": "markdown",
   "metadata": {},
   "source": [
    "### ElasticNet"
   ]
  },
  {
   "cell_type": "code",
   "execution_count": 125,
   "metadata": {},
   "outputs": [
    {
     "data": {
      "text/plain": [
       "0.12143760108852956"
      ]
     },
     "execution_count": 125,
     "metadata": {},
     "output_type": "execute_result"
    }
   ],
   "source": [
    "# Fit model\n",
    "elastic = ElasticNet(random_state=51, max_iter=30000)\n",
    "elastic.fit(X_train, y_train[\"target_BB/IP\"])\n",
    "\n",
    "# Make predictions\n",
    "y_pred = cross_val_predict(elastic, X_train, y_train[\"target_BB/IP\"], cv=5)\n",
    "\n",
    "# Evaluation\n",
    "rmse_elastic = np.sqrt(mean_squared_error(y_train[\"target_BB/IP\"], y_pred))\n",
    "rmse_elastic"
   ]
  },
  {
   "cell_type": "markdown",
   "metadata": {},
   "source": [
    "#### Fine-tuning"
   ]
  },
  {
   "cell_type": "code",
   "execution_count": 126,
   "metadata": {},
   "outputs": [
    {
     "name": "stdout",
     "output_type": "stream",
     "text": [
      "Best params: {'alpha': 0.001291549665014884, 'l1_ratio': 0.7000000000000001}\n"
     ]
    }
   ],
   "source": [
    "param_grid = {\n",
    "    'alpha': np.logspace(-4, 1, 10), \n",
    "    'l1_ratio': np.linspace(0.1, 1, 10) \n",
    "}\n",
    "\n",
    "grid_search = GridSearchCV(\n",
    "    estimator=elastic, \n",
    "    param_grid=param_grid,\n",
    "    cv=5, \n",
    "    scoring='neg_mean_squared_error', \n",
    "    n_jobs=-1\n",
    ")\n",
    "\n",
    "grid_search.fit(X_train, y_train[\"target_BB/IP\"])\n",
    "print(f\"Best params: {grid_search.best_params_}\")"
   ]
  },
  {
   "cell_type": "code",
   "execution_count": 127,
   "metadata": {},
   "outputs": [
    {
     "data": {
      "text/plain": [
       "0.09570799460750655"
      ]
     },
     "execution_count": 127,
     "metadata": {},
     "output_type": "execute_result"
    }
   ],
   "source": [
    "# Fit model with best params\n",
    "elastic = ElasticNet(random_state=51, max_iter=30000, alpha=0.001291549665014884, l1_ratio=0.7)\n",
    "elastic.fit(X_train, y_train[\"target_BB/IP\"])\n",
    "\n",
    "# Make predictions\n",
    "y_pred = cross_val_predict(elastic, X_train, y_train[\"target_BB/IP\"], cv=5)\n",
    "\n",
    "# Evaluation\n",
    "rmse_elastic = np.sqrt(mean_squared_error(y_train[\"target_BB/IP\"], y_pred))\n",
    "rmse_elastic"
   ]
  },
  {
   "cell_type": "markdown",
   "metadata": {},
   "source": [
    "### RandomForestRegressor"
   ]
  },
  {
   "cell_type": "code",
   "execution_count": 128,
   "metadata": {},
   "outputs": [
    {
     "data": {
      "text/plain": [
       "0.09994430954394835"
      ]
     },
     "execution_count": 128,
     "metadata": {},
     "output_type": "execute_result"
    }
   ],
   "source": [
    "# Fit model \n",
    "forest = RandomForestRegressor()\n",
    "forest.fit(X_train, y_train[\"target_BB/IP\"])\n",
    "\n",
    "# Make predictions\n",
    "y_pred = cross_val_predict(forest, X_train, y_train[\"target_BB/IP\"], cv=5)\n",
    "\n",
    "# Evaluation\n",
    "rmse_forest = np.sqrt(mean_squared_error(y_train[\"target_BB/IP\"], y_pred))\n",
    "rmse_forest"
   ]
  },
  {
   "cell_type": "markdown",
   "metadata": {},
   "source": [
    "#### Fine-tuning"
   ]
  },
  {
   "cell_type": "code",
   "execution_count": 129,
   "metadata": {},
   "outputs": [
    {
     "name": "stdout",
     "output_type": "stream",
     "text": [
      "Best params: {'max_depth': 5, 'min_samples_leaf': 10, 'min_samples_split': 8, 'n_estimators': 200}\n"
     ]
    }
   ],
   "source": [
    "# Fine tune\n",
    "param_grid = {\n",
    "    'n_estimators': [100, 200, 400],\n",
    "    'max_depth': [None, 2, 5, 10],\n",
    "    'min_samples_split': [4, 6, 8],\n",
    "    'min_samples_leaf': [2, 4, 10]\n",
    "}\n",
    "\n",
    "grid_search = GridSearchCV(\n",
    "    estimator=forest,\n",
    "    param_grid=param_grid,\n",
    "    cv=5,\n",
    "    scoring=\"neg_mean_squared_error\",\n",
    "    n_jobs=-1\n",
    ")\n",
    "\n",
    "grid_search.fit(X_train, y_train[\"target_BB/IP\"])\n",
    "\n",
    "print(f\"Best params: {grid_search.best_params_}\")"
   ]
  },
  {
   "cell_type": "code",
   "execution_count": 130,
   "metadata": {},
   "outputs": [
    {
     "data": {
      "text/plain": [
       "0.09731726024656141"
      ]
     },
     "execution_count": 130,
     "metadata": {},
     "output_type": "execute_result"
    }
   ],
   "source": [
    "# Fit model with best params\n",
    "forest = RandomForestRegressor(\n",
    "    random_state=51, \n",
    "    max_depth=5, \n",
    "    min_samples_leaf=10, \n",
    "    min_samples_split=4, \n",
    "    n_estimators=400\n",
    ")\n",
    "\n",
    "forest.fit(X_train, y_train[\"target_BB/IP\"])\n",
    "\n",
    "# Make predictions\n",
    "y_pred = cross_val_predict(forest, X_train, y_train[\"target_BB/IP\"], cv=5)\n",
    "\n",
    "# Evaluation\n",
    "rmse_forest = np.sqrt(mean_squared_error(y_train[\"target_BB/IP\"], y_pred))\n",
    "rmse_forest"
   ]
  },
  {
   "cell_type": "markdown",
   "metadata": {},
   "source": [
    "### Model selection"
   ]
  },
  {
   "cell_type": "markdown",
   "metadata": {},
   "source": [
    "RMSE scores: \n",
    "- DummyRegressor = 0.1826066648286763\n",
    "- LinearRegression = 0.09536201967185368\n",
    "- Ridge (fine-tuned) = 0.0962421362537253\n",
    "- Lasso (fine-tuned) = 0.09573295961602286\n",
    "- **ElasticNet (fine-tuned) = 0.09570799460750655**\n",
    "- RandomForest (fine-tuned) = 0.09731726024656141\n",
    "\n",
    "Best model: ElasticNet"
   ]
  },
  {
   "cell_type": "code",
   "execution_count": 131,
   "metadata": {},
   "outputs": [],
   "source": [
    "model_BBperIP = elastic"
   ]
  },
  {
   "cell_type": "markdown",
   "metadata": {},
   "source": [
    "## HBP/IP"
   ]
  },
  {
   "cell_type": "markdown",
   "metadata": {},
   "source": [
    "### DummyRegressor"
   ]
  },
  {
   "cell_type": "code",
   "execution_count": 132,
   "metadata": {},
   "outputs": [
    {
     "data": {
      "text/plain": [
       "0.030113318627537102"
      ]
     },
     "execution_count": 132,
     "metadata": {},
     "output_type": "execute_result"
    }
   ],
   "source": [
    "# Fit model\n",
    "dummy_reg = DummyRegressor(strategy=\"mean\")\n",
    "dummy_reg.fit(X_train[features_HBPperIP], y_train[\"target_HBP/IP\"])\n",
    "\n",
    "# Make predictions\n",
    "y_pred = cross_val_predict(dummy_reg, X_train[features_HBPperIP], y_train[\"target_HBP/IP\"])\n",
    "\n",
    "# Evaluation (baseline)\n",
    "rmse_dummy = np.sqrt(mean_squared_error( y_train[\"target_HBP/IP\"], y_pred))\n",
    "rmse_dummy"
   ]
  },
  {
   "cell_type": "markdown",
   "metadata": {},
   "source": [
    "### LinearRegression"
   ]
  },
  {
   "cell_type": "code",
   "execution_count": 133,
   "metadata": {},
   "outputs": [
    {
     "data": {
      "text/plain": [
       "0.026550152046994"
      ]
     },
     "execution_count": 133,
     "metadata": {},
     "output_type": "execute_result"
    }
   ],
   "source": [
    "# Fit model\n",
    "lin_reg = LinearRegression()\n",
    "lin_reg.fit(X_train[features_HBPperIP], y_train[\"target_HBP/IP\"])\n",
    "\n",
    "# Make predictions\n",
    "y_pred = cross_val_predict(lin_reg, X_train[features_HBPperIP], y_train[\"target_HBP/IP\"], cv=5)\n",
    "\n",
    "# Evaluation\n",
    "linreg_rmse = np.sqrt(mean_squared_error( y_train[\"target_HBP/IP\"], y_pred))\n",
    "linreg_rmse"
   ]
  },
  {
   "cell_type": "markdown",
   "metadata": {},
   "source": [
    "### Ridge"
   ]
  },
  {
   "cell_type": "code",
   "execution_count": 134,
   "metadata": {},
   "outputs": [
    {
     "data": {
      "text/plain": [
       "0.026719687218247853"
      ]
     },
     "execution_count": 134,
     "metadata": {},
     "output_type": "execute_result"
    }
   ],
   "source": [
    "# Fit model\n",
    "ridge = Ridge()\n",
    "ridge.fit(X_train, y_train[\"target_HBP/IP\"])\n",
    "\n",
    "# Make predictions\n",
    "y_pred = cross_val_predict(ridge, X_train, y_train[\"target_HBP/IP\"], cv=5)\n",
    "\n",
    "# Calculate RMSE\n",
    "rmse_ridge = np.sqrt(mean_squared_error(y_train[\"target_HBP/IP\"], y_pred))\n",
    "rmse_ridge"
   ]
  },
  {
   "cell_type": "markdown",
   "metadata": {},
   "source": [
    "#### Fine-tuning"
   ]
  },
  {
   "cell_type": "code",
   "execution_count": 135,
   "metadata": {},
   "outputs": [
    {
     "name": "stdout",
     "output_type": "stream",
     "text": [
      "Best params: {'alpha': 100.0}\n"
     ]
    }
   ],
   "source": [
    "param_grid = {'alpha': np.logspace(-3, 3, 7)} \n",
    "\n",
    "grid_search = GridSearchCV(\n",
    "    estimator=ridge, \n",
    "    param_grid=param_grid,\n",
    "    cv=5, \n",
    "    scoring='neg_mean_squared_error', \n",
    "    n_jobs=-1\n",
    ")\n",
    "\n",
    "grid_search.fit(X_train, y_train[\"target_HBP/IP\"])\n",
    "print(f\"Best params: {grid_search.best_params_}\")"
   ]
  },
  {
   "cell_type": "code",
   "execution_count": 136,
   "metadata": {},
   "outputs": [
    {
     "data": {
      "text/plain": [
       "0.02662518301286016"
      ]
     },
     "execution_count": 136,
     "metadata": {},
     "output_type": "execute_result"
    }
   ],
   "source": [
    "# Fit model\n",
    "ridge = Ridge(alpha=100)\n",
    "ridge.fit(X_train, y_train[\"target_HBP/IP\"])\n",
    "\n",
    "# Make predictions\n",
    "y_pred = cross_val_predict(ridge, X_train, y_train[\"target_HBP/IP\"], cv=5)\n",
    "\n",
    "# Calculate RMSE\n",
    "rmse_ridge = np.sqrt(mean_squared_error(y_train[\"target_HBP/IP\"], y_pred))\n",
    "rmse_ridge"
   ]
  },
  {
   "cell_type": "markdown",
   "metadata": {},
   "source": [
    "### Lasso"
   ]
  },
  {
   "cell_type": "code",
   "execution_count": 137,
   "metadata": {},
   "outputs": [
    {
     "data": {
      "text/plain": [
       "0.030113318627537102"
      ]
     },
     "execution_count": 137,
     "metadata": {},
     "output_type": "execute_result"
    }
   ],
   "source": [
    "# Fit model\n",
    "lasso = Lasso(random_state=51, max_iter=30000)\n",
    "lasso.fit(X_train, y_train[\"target_HBP/IP\"])\n",
    "\n",
    "# Make predictions\n",
    "y_pred = cross_val_predict(lasso, X_train, y_train[\"target_HBP/IP\"], cv=5)\n",
    "\n",
    "# Evaluation\n",
    "rmse_lasso = np.sqrt(mean_squared_error(y_train[\"target_HBP/IP\"], y_pred))\n",
    "rmse_lasso"
   ]
  },
  {
   "cell_type": "markdown",
   "metadata": {},
   "source": [
    "#### Fine-tuning"
   ]
  },
  {
   "cell_type": "code",
   "execution_count": 138,
   "metadata": {},
   "outputs": [
    {
     "name": "stdout",
     "output_type": "stream",
     "text": [
      "Best params: {'alpha': 0.0003359818286283781}\n"
     ]
    }
   ],
   "source": [
    "param_grid = {'alpha': np.logspace(-4, 1, 20)}\n",
    "\n",
    "grid_search = GridSearchCV(\n",
    "    estimator=lasso, \n",
    "    param_grid=param_grid,\n",
    "    cv=5, \n",
    "    scoring='neg_mean_squared_error', \n",
    "    n_jobs=-1\n",
    ")\n",
    "\n",
    "grid_search.fit(X_train, y_train[\"target_HBP/IP\"])\n",
    "print(f\"Best params: {grid_search.best_params_}\")"
   ]
  },
  {
   "cell_type": "code",
   "execution_count": 139,
   "metadata": {},
   "outputs": [
    {
     "data": {
      "text/plain": [
       "0.02645822767579593"
      ]
     },
     "execution_count": 139,
     "metadata": {},
     "output_type": "execute_result"
    }
   ],
   "source": [
    "# Fit model with best params\n",
    "lasso = Lasso(random_state=51, max_iter=30000, alpha=0.0003359818286283781)\n",
    "lasso.fit(X_train, y_train[\"target_HBP/IP\"])\n",
    "\n",
    "# Make predictions\n",
    "y_pred = cross_val_predict(lasso, X_train, y_train[\"target_HBP/IP\"], cv=5)\n",
    "\n",
    "# Evaluation\n",
    "rmse_lasso = np.sqrt(mean_squared_error(y_train[\"target_HBP/IP\"], y_pred))\n",
    "rmse_lasso"
   ]
  },
  {
   "cell_type": "markdown",
   "metadata": {},
   "source": [
    "### ElasticNet"
   ]
  },
  {
   "cell_type": "code",
   "execution_count": 140,
   "metadata": {},
   "outputs": [
    {
     "data": {
      "text/plain": [
       "0.030113318627537102"
      ]
     },
     "execution_count": 140,
     "metadata": {},
     "output_type": "execute_result"
    }
   ],
   "source": [
    "# Fit model\n",
    "elastic = ElasticNet(random_state=51, max_iter=30000)\n",
    "elastic.fit(X_train, y_train[\"target_HBP/IP\"])\n",
    "\n",
    "# Make predictions\n",
    "y_pred = cross_val_predict(elastic, X_train, y_train[\"target_HBP/IP\"], cv=5)\n",
    "\n",
    "# Evaluation\n",
    "rmse_elastic = np.sqrt(mean_squared_error(y_train[\"target_HBP/IP\"], y_pred))\n",
    "rmse_elastic"
   ]
  },
  {
   "cell_type": "markdown",
   "metadata": {},
   "source": [
    "#### Fine-tuning"
   ]
  },
  {
   "cell_type": "code",
   "execution_count": 141,
   "metadata": {},
   "outputs": [
    {
     "name": "stdout",
     "output_type": "stream",
     "text": [
      "Best params: {'alpha': 0.00035938136638046257, 'l1_ratio': 0.9}\n"
     ]
    }
   ],
   "source": [
    "param_grid = {\n",
    "    'alpha': np.logspace(-4, 1, 10), \n",
    "    'l1_ratio': np.linspace(0.1, 1, 10) \n",
    "}\n",
    "\n",
    "grid_search = GridSearchCV(\n",
    "    estimator=elastic, \n",
    "    param_grid=param_grid,\n",
    "    cv=5, \n",
    "    scoring='neg_mean_squared_error', \n",
    "    n_jobs=-1\n",
    ")\n",
    "\n",
    "grid_search.fit(X_train, y_train[\"target_HBP/IP\"])\n",
    "print(f\"Best params: {grid_search.best_params_}\")"
   ]
  },
  {
   "cell_type": "code",
   "execution_count": 142,
   "metadata": {},
   "outputs": [
    {
     "data": {
      "text/plain": [
       "0.026575881944379334"
      ]
     },
     "execution_count": 142,
     "metadata": {},
     "output_type": "execute_result"
    }
   ],
   "source": [
    "# Fit model with best params\n",
    "elastic = ElasticNet(random_state=51, max_iter=30000, alpha=0.001291549665014884, l1_ratio=0.7)\n",
    "elastic.fit(X_train, y_train[\"target_HBP/IP\"])\n",
    "\n",
    "# Make predictions\n",
    "y_pred = cross_val_predict(elastic, X_train, y_train[\"target_HBP/IP\"], cv=5)\n",
    "\n",
    "# Evaluation\n",
    "rmse_elastic = np.sqrt(mean_squared_error(y_train[\"target_HBP/IP\"], y_pred))\n",
    "rmse_elastic"
   ]
  },
  {
   "cell_type": "markdown",
   "metadata": {},
   "source": [
    "### RandomForestRegressor"
   ]
  },
  {
   "cell_type": "code",
   "execution_count": 143,
   "metadata": {},
   "outputs": [
    {
     "data": {
      "text/plain": [
       "0.02739736335129929"
      ]
     },
     "execution_count": 143,
     "metadata": {},
     "output_type": "execute_result"
    }
   ],
   "source": [
    "# Fit model \n",
    "forest = RandomForestRegressor()\n",
    "forest.fit(X_train, y_train[\"target_HBP/IP\"])\n",
    "\n",
    "# Make predictions\n",
    "y_pred = cross_val_predict(forest, X_train, y_train[\"target_HBP/IP\"], cv=5)\n",
    "\n",
    "# Evaluation\n",
    "rmse_forest = np.sqrt(mean_squared_error(y_train[\"target_HBP/IP\"], y_pred))\n",
    "rmse_forest"
   ]
  },
  {
   "cell_type": "markdown",
   "metadata": {},
   "source": [
    "#### Fine-tuning"
   ]
  },
  {
   "cell_type": "code",
   "execution_count": 144,
   "metadata": {},
   "outputs": [
    {
     "name": "stdout",
     "output_type": "stream",
     "text": [
      "Best params: {'max_depth': 2, 'min_samples_leaf': 10, 'min_samples_split': 6, 'n_estimators': 20}\n"
     ]
    }
   ],
   "source": [
    "# Fine tune\n",
    "param_grid = {\n",
    "    'n_estimators': [20, 60, 100],\n",
    "    'max_depth': [None, 2, 5, 10],\n",
    "    'min_samples_split': [4, 6, 8],\n",
    "    'min_samples_leaf': [2, 4, 10]\n",
    "}\n",
    "\n",
    "grid_search = GridSearchCV(\n",
    "    estimator=forest,\n",
    "    param_grid=param_grid,\n",
    "    cv=5,\n",
    "    scoring=\"neg_mean_squared_error\",\n",
    "    n_jobs=-1\n",
    ")\n",
    "\n",
    "grid_search.fit(X_train, y_train[\"target_HBP/IP\"])\n",
    "\n",
    "print(f\"Best params: {grid_search.best_params_}\")"
   ]
  },
  {
   "cell_type": "code",
   "execution_count": 145,
   "metadata": {},
   "outputs": [
    {
     "data": {
      "text/plain": [
       "0.026743775450128366"
      ]
     },
     "execution_count": 145,
     "metadata": {},
     "output_type": "execute_result"
    }
   ],
   "source": [
    "# Fit model with best params\n",
    "forest = RandomForestRegressor(\n",
    "    random_state=51, \n",
    "    max_depth=2, \n",
    "    min_samples_leaf=10, \n",
    "    min_samples_split=4, \n",
    "    n_estimators=100\n",
    ")\n",
    "\n",
    "forest.fit(X_train, y_train[\"target_HBP/IP\"])\n",
    "\n",
    "# Make predictions\n",
    "y_pred = cross_val_predict(forest, X_train, y_train[\"target_HBP/IP\"], cv=5)\n",
    "\n",
    "# Evaluation\n",
    "rmse_forest = np.sqrt(mean_squared_error(y_train[\"target_HBP/IP\"], y_pred))\n",
    "rmse_forest"
   ]
  },
  {
   "cell_type": "markdown",
   "metadata": {},
   "source": [
    "### Model selection"
   ]
  },
  {
   "cell_type": "markdown",
   "metadata": {},
   "source": [
    "RMSE Scores:\n",
    "- DummyRegressor = 0.030113318627537102\n",
    "- LinearRegression = 0.026550152046994\n",
    "- Ridge (fine-tuned) = 0.02662518301286016\n",
    "- **Lasso (fine-tuned) = 0.02645822767579593**\n",
    "- ElasticNet (fine-tuned) = 0.026575881944379334\n",
    "- RandomForest (fine-tuned) = 0.026743775450128366\n",
    "\n",
    "Best model: Lasso"
   ]
  },
  {
   "cell_type": "code",
   "execution_count": 146,
   "metadata": {},
   "outputs": [],
   "source": [
    "model_HBPperIP = lasso"
   ]
  },
  {
   "cell_type": "markdown",
   "metadata": {},
   "source": [
    "## HR/IP"
   ]
  },
  {
   "cell_type": "markdown",
   "metadata": {},
   "source": [
    "### DummyRegressor"
   ]
  },
  {
   "cell_type": "code",
   "execution_count": 147,
   "metadata": {},
   "outputs": [
    {
     "data": {
      "text/plain": [
       "0.05873200079230713"
      ]
     },
     "execution_count": 147,
     "metadata": {},
     "output_type": "execute_result"
    }
   ],
   "source": [
    "# Fit model\n",
    "dummy_reg = DummyRegressor(strategy=\"mean\")\n",
    "dummy_reg.fit(X_train[features_HRperIP], y_train[\"target_HR/IP\"])\n",
    "\n",
    "# Make predictions\n",
    "y_pred = cross_val_predict(dummy_reg, X_train[features_HRperIP], y_train[\"target_HR/IP\"])\n",
    "\n",
    "# Evaluation (baseline)\n",
    "rmse_dummy = np.sqrt(mean_squared_error( y_train[\"target_HR/IP\"], y_pred))\n",
    "rmse_dummy"
   ]
  },
  {
   "cell_type": "markdown",
   "metadata": {},
   "source": [
    "### LinearRegression"
   ]
  },
  {
   "cell_type": "code",
   "execution_count": 148,
   "metadata": {},
   "outputs": [
    {
     "data": {
      "text/plain": [
       "0.053286407027786475"
      ]
     },
     "execution_count": 148,
     "metadata": {},
     "output_type": "execute_result"
    }
   ],
   "source": [
    "# Fit model\n",
    "lin_reg = LinearRegression()\n",
    "lin_reg.fit(X_train[features_HRperIP], y_train[\"target_HR/IP\"])\n",
    "\n",
    "# Make predictions\n",
    "y_pred = cross_val_predict(lin_reg, X_train[features_HRperIP], y_train[\"target_HR/IP\"], cv=5)\n",
    "\n",
    "# Evaluation\n",
    "linreg_rmse = np.sqrt(mean_squared_error( y_train[\"target_HR/IP\"], y_pred))\n",
    "linreg_rmse"
   ]
  },
  {
   "cell_type": "markdown",
   "metadata": {},
   "source": [
    "### Ridge"
   ]
  },
  {
   "cell_type": "code",
   "execution_count": 149,
   "metadata": {},
   "outputs": [
    {
     "data": {
      "text/plain": [
       "0.05343088613055775"
      ]
     },
     "execution_count": 149,
     "metadata": {},
     "output_type": "execute_result"
    }
   ],
   "source": [
    "# Fit model\n",
    "ridge = Ridge()\n",
    "ridge.fit(X_train, y_train[\"target_HR/IP\"])\n",
    "\n",
    "# Make predictions\n",
    "y_pred = cross_val_predict(ridge, X_train, y_train[\"target_HR/IP\"], cv=5)\n",
    "\n",
    "# Calculate RMSE\n",
    "rmse_ridge = np.sqrt(mean_squared_error(y_train[\"target_HR/IP\"], y_pred))\n",
    "rmse_ridge"
   ]
  },
  {
   "cell_type": "markdown",
   "metadata": {},
   "source": [
    "#### Fine-tuning"
   ]
  },
  {
   "cell_type": "code",
   "execution_count": 150,
   "metadata": {},
   "outputs": [
    {
     "name": "stdout",
     "output_type": "stream",
     "text": [
      "Best params: {'alpha': 0.1}\n"
     ]
    }
   ],
   "source": [
    "param_grid = {'alpha': np.logspace(-3, 3, 7)} \n",
    "\n",
    "grid_search = GridSearchCV(\n",
    "    estimator=ridge, \n",
    "    param_grid=param_grid,\n",
    "    cv=5, \n",
    "    scoring='neg_mean_squared_error', \n",
    "    n_jobs=-1\n",
    ")\n",
    "\n",
    "grid_search.fit(X_train, y_train[\"target_HR/IP\"])\n",
    "print(f\"Best params: {grid_search.best_params_}\")"
   ]
  },
  {
   "cell_type": "code",
   "execution_count": 151,
   "metadata": {},
   "outputs": [
    {
     "data": {
      "text/plain": [
       "0.05337302669660311"
      ]
     },
     "execution_count": 151,
     "metadata": {},
     "output_type": "execute_result"
    }
   ],
   "source": [
    "# Fit model with best params\n",
    "ridge = Ridge(alpha=0.1)\n",
    "ridge.fit(X_train, y_train[\"target_HR/IP\"])\n",
    "\n",
    "# Make predictions\n",
    "y_pred = cross_val_predict(ridge, X_train, y_train[\"target_HR/IP\"], cv=5)\n",
    "\n",
    "# Evaluation\n",
    "rmse_ridge = np.sqrt(mean_squared_error(y_train[\"target_HR/IP\"], y_pred))\n",
    "rmse_ridge"
   ]
  },
  {
   "cell_type": "markdown",
   "metadata": {},
   "source": [
    "### Lasso"
   ]
  },
  {
   "cell_type": "code",
   "execution_count": 152,
   "metadata": {},
   "outputs": [
    {
     "data": {
      "text/plain": [
       "0.05873200079230713"
      ]
     },
     "execution_count": 152,
     "metadata": {},
     "output_type": "execute_result"
    }
   ],
   "source": [
    "# Fit model\n",
    "lasso = Lasso(random_state=51, max_iter=30000)\n",
    "lasso.fit(X_train, y_train[\"target_HR/IP\"])\n",
    "\n",
    "# Make predictions\n",
    "y_pred = cross_val_predict(lasso, X_train, y_train[\"target_HR/IP\"], cv=5)\n",
    "\n",
    "# Evaluation\n",
    "rmse_lasso = np.sqrt(mean_squared_error(y_train[\"target_HR/IP\"], y_pred))\n",
    "rmse_lasso"
   ]
  },
  {
   "cell_type": "markdown",
   "metadata": {},
   "source": [
    "#### Fine-tuning"
   ]
  },
  {
   "cell_type": "code",
   "execution_count": 153,
   "metadata": {},
   "outputs": [
    {
     "name": "stdout",
     "output_type": "stream",
     "text": [
      "Best params: {'alpha': 0.0006158482110660267}\n"
     ]
    }
   ],
   "source": [
    "param_grid = {'alpha': np.logspace(-4, 1, 20)}\n",
    "\n",
    "grid_search = GridSearchCV(\n",
    "    estimator=lasso, \n",
    "    param_grid=param_grid,\n",
    "    cv=5, \n",
    "    scoring='neg_mean_squared_error', \n",
    "    n_jobs=-1\n",
    ")\n",
    "\n",
    "grid_search.fit(X_train, y_train[\"target_HR/IP\"])\n",
    "print(f\"Best params: {grid_search.best_params_}\")"
   ]
  },
  {
   "cell_type": "code",
   "execution_count": 154,
   "metadata": {},
   "outputs": [
    {
     "data": {
      "text/plain": [
       "0.053282712479164475"
      ]
     },
     "execution_count": 154,
     "metadata": {},
     "output_type": "execute_result"
    }
   ],
   "source": [
    "# Fit model with best params\n",
    "lasso = Lasso(random_state=51, max_iter=30000, alpha=0.0006158482110660267)\n",
    "lasso.fit(X_train, y_train[\"target_HR/IP\"])\n",
    "\n",
    "# Make predictions\n",
    "y_pred = cross_val_predict(lasso, X_train, y_train[\"target_HR/IP\"], cv=5)\n",
    "\n",
    "# Evaluation\n",
    "rmse_lasso = np.sqrt(mean_squared_error(y_train[\"target_HR/IP\"], y_pred))\n",
    "rmse_lasso"
   ]
  },
  {
   "cell_type": "markdown",
   "metadata": {},
   "source": [
    "### ElasticNet"
   ]
  },
  {
   "cell_type": "code",
   "execution_count": 155,
   "metadata": {},
   "outputs": [
    {
     "data": {
      "text/plain": [
       "0.05873200079230713"
      ]
     },
     "execution_count": 155,
     "metadata": {},
     "output_type": "execute_result"
    }
   ],
   "source": [
    "# Fit model\n",
    "elastic = ElasticNet(random_state=51, max_iter=30000)\n",
    "elastic.fit(X_train, y_train[\"target_HR/IP\"])\n",
    "\n",
    "# Make predictions\n",
    "y_pred = cross_val_predict(elastic, X_train, y_train[\"target_HR/IP\"], cv=5)\n",
    "\n",
    "# Evaluation\n",
    "rmse_elastic = np.sqrt(mean_squared_error(y_train[\"target_HR/IP\"], y_pred))\n",
    "rmse_elastic"
   ]
  },
  {
   "cell_type": "markdown",
   "metadata": {},
   "source": [
    "#### Fine-tuning"
   ]
  },
  {
   "cell_type": "code",
   "execution_count": 156,
   "metadata": {},
   "outputs": [
    {
     "name": "stdout",
     "output_type": "stream",
     "text": [
      "Best params: {'alpha': 0.001291549665014884, 'l1_ratio': 0.6}\n"
     ]
    }
   ],
   "source": [
    "param_grid = {\n",
    "    'alpha': np.logspace(-4, 1, 10), \n",
    "    'l1_ratio': np.linspace(0.1, 1, 10) \n",
    "}\n",
    "\n",
    "grid_search = GridSearchCV(\n",
    "    estimator=elastic, \n",
    "    param_grid=param_grid,\n",
    "    cv=5, \n",
    "    scoring='neg_mean_squared_error', \n",
    "    n_jobs=-1\n",
    ")\n",
    "\n",
    "grid_search.fit(X_train, y_train[\"target_HR/IP\"])\n",
    "print(f\"Best params: {grid_search.best_params_}\")"
   ]
  },
  {
   "cell_type": "code",
   "execution_count": 157,
   "metadata": {},
   "outputs": [
    {
     "data": {
      "text/plain": [
       "0.05326370889623332"
      ]
     },
     "execution_count": 157,
     "metadata": {},
     "output_type": "execute_result"
    }
   ],
   "source": [
    "# Fit model with best params\n",
    "elastic = ElasticNet(random_state=51, max_iter=30000, alpha=0.001291549665014884, l1_ratio=0.6)\n",
    "elastic.fit(X_train, y_train[\"target_HR/IP\"])\n",
    "\n",
    "# Make predictions\n",
    "y_pred = cross_val_predict(elastic, X_train, y_train[\"target_HR/IP\"], cv=5)\n",
    "\n",
    "# Evaluation\n",
    "rmse_elastic = np.sqrt(mean_squared_error(y_train[\"target_HR/IP\"], y_pred))\n",
    "rmse_elastic"
   ]
  },
  {
   "cell_type": "markdown",
   "metadata": {},
   "source": [
    "### RandomForestRegressor"
   ]
  },
  {
   "cell_type": "code",
   "execution_count": 158,
   "metadata": {},
   "outputs": [
    {
     "data": {
      "text/plain": [
       "0.055095011102452435"
      ]
     },
     "execution_count": 158,
     "metadata": {},
     "output_type": "execute_result"
    }
   ],
   "source": [
    "# Fit model \n",
    "forest = RandomForestRegressor()\n",
    "forest.fit(X_train, y_train[\"target_HR/IP\"])\n",
    "\n",
    "# Make predictions\n",
    "y_pred = cross_val_predict(forest, X_train, y_train[\"target_HR/IP\"], cv=5)\n",
    "\n",
    "# Evaluation\n",
    "rmse_forest = np.sqrt(mean_squared_error(y_train[\"target_HR/IP\"], y_pred))\n",
    "rmse_forest"
   ]
  },
  {
   "cell_type": "markdown",
   "metadata": {},
   "source": [
    "#### Fine-tuning"
   ]
  },
  {
   "cell_type": "code",
   "execution_count": 159,
   "metadata": {},
   "outputs": [
    {
     "name": "stdout",
     "output_type": "stream",
     "text": [
      "Best params: {'max_depth': 20, 'min_samples_leaf': 15, 'min_samples_split': 4, 'n_estimators': 800}\n"
     ]
    }
   ],
   "source": [
    "# Fine tune\n",
    "param_grid = {\n",
    "    'n_estimators': [400, 600, 800],\n",
    "    'max_depth': [20, 40, 60],\n",
    "    'min_samples_split': [2, 4, 6],\n",
    "    'min_samples_leaf': [5, 10, 15]\n",
    "}\n",
    "\n",
    "grid_search = GridSearchCV(\n",
    "    estimator=forest,\n",
    "    param_grid=param_grid,\n",
    "    cv=5,\n",
    "    scoring=\"neg_mean_squared_error\",\n",
    "    n_jobs=-1\n",
    ")\n",
    "\n",
    "grid_search.fit(X_train, y_train[\"target_HR/IP\"])\n",
    "\n",
    "print(f\"Best params: {grid_search.best_params_}\")"
   ]
  },
  {
   "cell_type": "code",
   "execution_count": 160,
   "metadata": {},
   "outputs": [
    {
     "data": {
      "text/plain": [
       "0.054099787601409544"
      ]
     },
     "execution_count": 160,
     "metadata": {},
     "output_type": "execute_result"
    }
   ],
   "source": [
    "# Fit model with best params\n",
    "forest = RandomForestRegressor(\n",
    "    random_state=51, \n",
    "    max_depth=20, \n",
    "    min_samples_leaf=15, \n",
    "    min_samples_split=2, \n",
    "    n_estimators=600\n",
    ")\n",
    "\n",
    "forest.fit(X_train, y_train[\"target_HR/IP\"])\n",
    "\n",
    "# Make predictions\n",
    "y_pred = cross_val_predict(forest, X_train, y_train[\"target_HR/IP\"], cv=5)\n",
    "\n",
    "# Evaluation\n",
    "rmse_forest = np.sqrt(mean_squared_error(y_train[\"target_HR/IP\"], y_pred))\n",
    "rmse_forest"
   ]
  },
  {
   "cell_type": "markdown",
   "metadata": {},
   "source": [
    "### Model selection"
   ]
  },
  {
   "cell_type": "markdown",
   "metadata": {},
   "source": [
    "RMSE Scores:\n",
    "- DummyRegressor = 0.05873200079230713\n",
    "- LinearRegression = 0.053286407027786475\n",
    "- Ridge (fine-tuned) = 0.05337302669660311\n",
    "- Lasso (fine-tuned) = 0.053282712479164475\n",
    "- **ElasticNet (fine-tuned) = 0.05326370889623332**\n",
    "- RandomForest (fine-tuned) = 0.054099787601409544\n",
    "\n",
    "Best model: ElasticNet\n"
   ]
  },
  {
   "cell_type": "code",
   "execution_count": 161,
   "metadata": {},
   "outputs": [],
   "source": [
    "model_HRperIP = elastic"
   ]
  },
  {
   "cell_type": "markdown",
   "metadata": {},
   "source": [
    "# Validation"
   ]
  },
  {
   "cell_type": "markdown",
   "metadata": {},
   "source": [
    "Objectives:\n",
    "- Validate trained model performance against test set"
   ]
  },
  {
   "cell_type": "markdown",
   "metadata": {},
   "source": [
    "### IP (Lasso)"
   ]
  },
  {
   "cell_type": "code",
   "execution_count": 162,
   "metadata": {},
   "outputs": [
    {
     "data": {
      "text/plain": [
       "47.010030940086885"
      ]
     },
     "execution_count": 162,
     "metadata": {},
     "output_type": "execute_result"
    }
   ],
   "source": [
    "# Make predictions\n",
    "y_pred = model_IP.predict(X_test)\n",
    "\n",
    "# Evaluation\n",
    "np.sqrt(mean_squared_error(y_test[\"target_IP\"], y_pred))"
   ]
  },
  {
   "cell_type": "markdown",
   "metadata": {},
   "source": [
    "Training RMSE: `46.01043945101737`"
   ]
  },
  {
   "cell_type": "markdown",
   "metadata": {},
   "source": [
    "### SO/IP (Lasso)"
   ]
  },
  {
   "cell_type": "code",
   "execution_count": 163,
   "metadata": {},
   "outputs": [
    {
     "data": {
      "text/plain": [
       "0.14232816917635993"
      ]
     },
     "execution_count": 163,
     "metadata": {},
     "output_type": "execute_result"
    }
   ],
   "source": [
    "# Make predictions\n",
    "y_pred = model_SOperIP.predict(X_test)\n",
    "\n",
    "# Evaluation\n",
    "np.sqrt(mean_squared_error(y_test[\"target_SO/IP\"], y_pred))"
   ]
  },
  {
   "cell_type": "markdown",
   "metadata": {},
   "source": [
    "Training RMSE: `0.13982775981453419`"
   ]
  },
  {
   "cell_type": "markdown",
   "metadata": {},
   "source": [
    "### H/IP (ElasticNet)"
   ]
  },
  {
   "cell_type": "code",
   "execution_count": 164,
   "metadata": {},
   "outputs": [
    {
     "data": {
      "text/plain": [
       "0.15594414614460153"
      ]
     },
     "execution_count": 164,
     "metadata": {},
     "output_type": "execute_result"
    }
   ],
   "source": [
    "# Make predictions\n",
    "y_pred = model_HperIP.predict(X_test)\n",
    "\n",
    "# Evaluation\n",
    "np.sqrt(mean_squared_error(y_test[\"target_H/IP\"], y_pred))"
   ]
  },
  {
   "cell_type": "markdown",
   "metadata": {},
   "source": [
    "Training RMSE: `0.15632269502967686`"
   ]
  },
  {
   "cell_type": "markdown",
   "metadata": {},
   "source": [
    "### BB/IP (ElasticNet)"
   ]
  },
  {
   "cell_type": "code",
   "execution_count": 165,
   "metadata": {},
   "outputs": [
    {
     "data": {
      "text/plain": [
       "0.09655434307164461"
      ]
     },
     "execution_count": 165,
     "metadata": {},
     "output_type": "execute_result"
    }
   ],
   "source": [
    "# Make predictions\n",
    "y_pred = model_BBperIP.predict(X_test)\n",
    "\n",
    "# Evaluation\n",
    "np.sqrt(mean_squared_error(y_test[\"target_BB/IP\"], y_pred))"
   ]
  },
  {
   "cell_type": "markdown",
   "metadata": {},
   "source": [
    "Training RMSE: `0.09570799460750655`"
   ]
  },
  {
   "cell_type": "markdown",
   "metadata": {},
   "source": [
    "### HBP/IP (Lasso)"
   ]
  },
  {
   "cell_type": "code",
   "execution_count": 166,
   "metadata": {},
   "outputs": [
    {
     "data": {
      "text/plain": [
       "0.02461982686398117"
      ]
     },
     "execution_count": 166,
     "metadata": {},
     "output_type": "execute_result"
    }
   ],
   "source": [
    "# Make predictions\n",
    "y_pred = model_HBPperIP.predict(X_test)\n",
    "\n",
    "# Evaluation\n",
    "np.sqrt(mean_squared_error(y_test[\"target_HBP/IP\"], y_pred))"
   ]
  },
  {
   "cell_type": "markdown",
   "metadata": {},
   "source": [
    "Training RMSE: `0.02645822767579593`"
   ]
  },
  {
   "cell_type": "markdown",
   "metadata": {},
   "source": [
    "### HR/IP (ElasticNet)"
   ]
  },
  {
   "cell_type": "code",
   "execution_count": 167,
   "metadata": {},
   "outputs": [
    {
     "data": {
      "text/plain": [
       "0.05815282414336555"
      ]
     },
     "execution_count": 167,
     "metadata": {},
     "output_type": "execute_result"
    }
   ],
   "source": [
    "# Make predictions\n",
    "y_pred = model_HRperIP.predict(X_test)\n",
    "\n",
    "# Evaluation\n",
    "np.sqrt(mean_squared_error(y_test[\"target_HR/IP\"], y_pred))"
   ]
  },
  {
   "cell_type": "markdown",
   "metadata": {},
   "source": [
    "RMSE from training: `0.05873200079230713`"
   ]
  },
  {
   "cell_type": "markdown",
   "metadata": {},
   "source": [
    "# Projections"
   ]
  },
  {
   "cell_type": "markdown",
   "metadata": {},
   "source": [
    "Objectives:\n",
    "1. Use final models to create projections for 2024 season"
   ]
  },
  {
   "cell_type": "code",
   "execution_count": 168,
   "metadata": {},
   "outputs": [],
   "source": [
    "# Feature selection\n",
    "projection_data = fg_pitching[selected_features]\n",
    "\n",
    "# Scale data\n",
    "projection_data.loc[:,:] =  scaler.fit_transform(projection_data)\n",
    "\n",
    "# Store predictions with pitching data\n",
    "predictions = fg_pitching.copy()"
   ]
  },
  {
   "cell_type": "code",
   "execution_count": 169,
   "metadata": {},
   "outputs": [],
   "source": [
    "# Innings Pitched\n",
    "pred_IP = model_IP.predict(projection_data)\n",
    "predictions[\"pred_IP\"] = pred_IP\n",
    "\n",
    "# SO/IP\n",
    "pred_SOperIP = model_SOperIP.predict(projection_data)\n",
    "predictions[\"pred_SOperIP\"] = pred_SOperIP\n",
    "\n",
    "# HperI\n",
    "pred_HperIP = model_HperIP.predict(projection_data)\n",
    "predictions[\"pred_HperIP\"] = pred_HperIP\n",
    "\n",
    "# BB/IP\n",
    "pred_BBperIP = model_BBperIP.predict(projection_data)\n",
    "predictions[\"pred_BBperIP\"] = pred_BBperIP\n",
    "\n",
    "# HBP/IP\n",
    "pred_HBPperIP = model_HBPperIP.predict(projection_data)\n",
    "predictions[\"pred_HBPperIP\"] = pred_HBPperIP\n",
    "\n",
    "# HR/IP\n",
    "pred_HRperIP = model_HRperIP.predict(projection_data)\n",
    "predictions[\"pred_HRperIP\"] = pred_HRperIP"
   ]
  },
  {
   "cell_type": "code",
   "execution_count": 170,
   "metadata": {},
   "outputs": [
    {
     "data": {
      "text/html": [
       "<div>\n",
       "<style scoped>\n",
       "    .dataframe tbody tr th:only-of-type {\n",
       "        vertical-align: middle;\n",
       "    }\n",
       "\n",
       "    .dataframe tbody tr th {\n",
       "        vertical-align: top;\n",
       "    }\n",
       "\n",
       "    .dataframe thead th {\n",
       "        text-align: right;\n",
       "    }\n",
       "</style>\n",
       "<table border=\"1\" class=\"dataframe\">\n",
       "  <thead>\n",
       "    <tr style=\"text-align: right;\">\n",
       "      <th></th>\n",
       "      <th></th>\n",
       "      <th>pred_IP</th>\n",
       "      <th>pred_SOperIP</th>\n",
       "      <th>pred_BBperIP</th>\n",
       "      <th>pred_HperIP</th>\n",
       "      <th>pred_HBPperIP</th>\n",
       "      <th>pred_HRperIP</th>\n",
       "    </tr>\n",
       "    <tr>\n",
       "      <th>PlayerId</th>\n",
       "      <th>Season</th>\n",
       "      <th></th>\n",
       "      <th></th>\n",
       "      <th></th>\n",
       "      <th></th>\n",
       "      <th></th>\n",
       "      <th></th>\n",
       "    </tr>\n",
       "  </thead>\n",
       "  <tbody>\n",
       "    <tr>\n",
       "      <th>2036</th>\n",
       "      <th>2024</th>\n",
       "      <td>100.403604</td>\n",
       "      <td>1.025530</td>\n",
       "      <td>0.235958</td>\n",
       "      <td>0.926092</td>\n",
       "      <td>0.026482</td>\n",
       "      <td>0.136111</td>\n",
       "    </tr>\n",
       "    <tr>\n",
       "      <th>2520</th>\n",
       "      <th>2024</th>\n",
       "      <td>141.213605</td>\n",
       "      <td>1.053602</td>\n",
       "      <td>0.338776</td>\n",
       "      <td>0.957939</td>\n",
       "      <td>0.048318</td>\n",
       "      <td>0.153695</td>\n",
       "    </tr>\n",
       "    <tr>\n",
       "      <th>3137</th>\n",
       "      <th>2024</th>\n",
       "      <td>149.041893</td>\n",
       "      <td>1.223670</td>\n",
       "      <td>0.244545</td>\n",
       "      <td>0.823117</td>\n",
       "      <td>0.046566</td>\n",
       "      <td>0.144209</td>\n",
       "    </tr>\n",
       "    <tr>\n",
       "      <th>4676</th>\n",
       "      <th>2024</th>\n",
       "      <td>119.193440</td>\n",
       "      <td>1.158940</td>\n",
       "      <td>0.405150</td>\n",
       "      <td>0.878174</td>\n",
       "      <td>0.080593</td>\n",
       "      <td>0.142263</td>\n",
       "    </tr>\n",
       "    <tr>\n",
       "      <th>6632</th>\n",
       "      <th>2024</th>\n",
       "      <td>70.565817</td>\n",
       "      <td>0.914658</td>\n",
       "      <td>0.388232</td>\n",
       "      <td>1.027637</td>\n",
       "      <td>0.047938</td>\n",
       "      <td>0.145456</td>\n",
       "    </tr>\n",
       "  </tbody>\n",
       "</table>\n",
       "</div>"
      ],
      "text/plain": [
       "                    pred_IP  pred_SOperIP  pred_BBperIP  pred_HperIP  \\\n",
       "PlayerId Season                                                        \n",
       "2036     2024    100.403604      1.025530      0.235958     0.926092   \n",
       "2520     2024    141.213605      1.053602      0.338776     0.957939   \n",
       "3137     2024    149.041893      1.223670      0.244545     0.823117   \n",
       "4676     2024    119.193440      1.158940      0.405150     0.878174   \n",
       "6632     2024     70.565817      0.914658      0.388232     1.027637   \n",
       "\n",
       "                 pred_HBPperIP  pred_HRperIP  \n",
       "PlayerId Season                               \n",
       "2036     2024         0.026482      0.136111  \n",
       "2520     2024         0.048318      0.153695  \n",
       "3137     2024         0.046566      0.144209  \n",
       "4676     2024         0.080593      0.142263  \n",
       "6632     2024         0.047938      0.145456  "
      ]
     },
     "execution_count": 170,
     "metadata": {},
     "output_type": "execute_result"
    }
   ],
   "source": [
    "# Filter on predictions for the 2024 season\n",
    "predictions2024 = predictions[predictions.index.get_level_values(1) == 2023][['pred_IP', 'pred_SOperIP', 'pred_BBperIP', 'pred_HperIP','pred_HBPperIP', 'pred_HRperIP']]\n",
    "\n",
    "# Reset index (update 2023 to 2024)\n",
    "predictions2024 = predictions2024.reset_index(\"Season\")\n",
    "predictions2024[\"Season\"] = 2024\n",
    "predictions2024 = predictions2024.set_index(\"Season\", append=True)\n",
    "predictions2024.head()"
   ]
  },
  {
   "cell_type": "code",
   "execution_count": 171,
   "metadata": {},
   "outputs": [
    {
     "data": {
      "text/plain": [
       "(192, 6)"
      ]
     },
     "execution_count": 171,
     "metadata": {},
     "output_type": "execute_result"
    }
   ],
   "source": [
    "predictions2024.shape # I have 2024 seson projections for 192 starting pitchers "
   ]
  },
  {
   "cell_type": "code",
   "execution_count": 172,
   "metadata": {},
   "outputs": [
    {
     "data": {
      "text/html": [
       "<div>\n",
       "<style scoped>\n",
       "    .dataframe tbody tr th:only-of-type {\n",
       "        vertical-align: middle;\n",
       "    }\n",
       "\n",
       "    .dataframe tbody tr th {\n",
       "        vertical-align: top;\n",
       "    }\n",
       "\n",
       "    .dataframe thead th {\n",
       "        text-align: right;\n",
       "    }\n",
       "</style>\n",
       "<table border=\"1\" class=\"dataframe\">\n",
       "  <thead>\n",
       "    <tr style=\"text-align: right;\">\n",
       "      <th></th>\n",
       "      <th></th>\n",
       "      <th>pred_IP</th>\n",
       "      <th>pred_SOperIP</th>\n",
       "      <th>pred_BBperIP</th>\n",
       "      <th>pred_HperIP</th>\n",
       "      <th>pred_HBPperIP</th>\n",
       "      <th>pred_HRperIP</th>\n",
       "    </tr>\n",
       "    <tr>\n",
       "      <th>PlayerId</th>\n",
       "      <th>Season</th>\n",
       "      <th></th>\n",
       "      <th></th>\n",
       "      <th></th>\n",
       "      <th></th>\n",
       "      <th></th>\n",
       "      <th></th>\n",
       "    </tr>\n",
       "  </thead>\n",
       "  <tbody>\n",
       "    <tr>\n",
       "      <th>2036</th>\n",
       "      <th>2024</th>\n",
       "      <td>100.403604</td>\n",
       "      <td>1.025530</td>\n",
       "      <td>0.235958</td>\n",
       "      <td>0.926092</td>\n",
       "      <td>0.026482</td>\n",
       "      <td>0.136111</td>\n",
       "    </tr>\n",
       "    <tr>\n",
       "      <th>2520</th>\n",
       "      <th>2024</th>\n",
       "      <td>141.213605</td>\n",
       "      <td>1.053602</td>\n",
       "      <td>0.338776</td>\n",
       "      <td>0.957939</td>\n",
       "      <td>0.048318</td>\n",
       "      <td>0.153695</td>\n",
       "    </tr>\n",
       "    <tr>\n",
       "      <th>3137</th>\n",
       "      <th>2024</th>\n",
       "      <td>149.041893</td>\n",
       "      <td>1.223670</td>\n",
       "      <td>0.244545</td>\n",
       "      <td>0.823117</td>\n",
       "      <td>0.046566</td>\n",
       "      <td>0.144209</td>\n",
       "    </tr>\n",
       "    <tr>\n",
       "      <th>4676</th>\n",
       "      <th>2024</th>\n",
       "      <td>119.193440</td>\n",
       "      <td>1.158940</td>\n",
       "      <td>0.405150</td>\n",
       "      <td>0.878174</td>\n",
       "      <td>0.080593</td>\n",
       "      <td>0.142263</td>\n",
       "    </tr>\n",
       "    <tr>\n",
       "      <th>6632</th>\n",
       "      <th>2024</th>\n",
       "      <td>70.565817</td>\n",
       "      <td>0.914658</td>\n",
       "      <td>0.388232</td>\n",
       "      <td>1.027637</td>\n",
       "      <td>0.047938</td>\n",
       "      <td>0.145456</td>\n",
       "    </tr>\n",
       "    <tr>\n",
       "      <th>...</th>\n",
       "      <th>...</th>\n",
       "      <td>...</td>\n",
       "      <td>...</td>\n",
       "      <td>...</td>\n",
       "      <td>...</td>\n",
       "      <td>...</td>\n",
       "      <td>...</td>\n",
       "    </tr>\n",
       "    <tr>\n",
       "      <th>29911</th>\n",
       "      <th>2024</th>\n",
       "      <td>89.382404</td>\n",
       "      <td>1.055336</td>\n",
       "      <td>0.403380</td>\n",
       "      <td>0.937526</td>\n",
       "      <td>0.025925</td>\n",
       "      <td>0.165845</td>\n",
       "    </tr>\n",
       "    <tr>\n",
       "      <th>30094</th>\n",
       "      <th>2024</th>\n",
       "      <td>85.918829</td>\n",
       "      <td>0.791731</td>\n",
       "      <td>0.390778</td>\n",
       "      <td>1.112303</td>\n",
       "      <td>0.034957</td>\n",
       "      <td>0.154315</td>\n",
       "    </tr>\n",
       "    <tr>\n",
       "      <th>30122</th>\n",
       "      <th>2024</th>\n",
       "      <td>89.670284</td>\n",
       "      <td>0.979023</td>\n",
       "      <td>0.441853</td>\n",
       "      <td>0.901035</td>\n",
       "      <td>0.049453</td>\n",
       "      <td>0.123621</td>\n",
       "    </tr>\n",
       "    <tr>\n",
       "      <th>30134</th>\n",
       "      <th>2024</th>\n",
       "      <td>135.719873</td>\n",
       "      <td>1.033071</td>\n",
       "      <td>0.304971</td>\n",
       "      <td>0.912384</td>\n",
       "      <td>0.044915</td>\n",
       "      <td>0.140724</td>\n",
       "    </tr>\n",
       "    <tr>\n",
       "      <th>30279</th>\n",
       "      <th>2024</th>\n",
       "      <td>105.360347</td>\n",
       "      <td>0.932924</td>\n",
       "      <td>0.231738</td>\n",
       "      <td>0.887089</td>\n",
       "      <td>0.048938</td>\n",
       "      <td>0.131528</td>\n",
       "    </tr>\n",
       "  </tbody>\n",
       "</table>\n",
       "<p>192 rows × 6 columns</p>\n",
       "</div>"
      ],
      "text/plain": [
       "                    pred_IP  pred_SOperIP  pred_BBperIP  pred_HperIP  \\\n",
       "PlayerId Season                                                        \n",
       "2036     2024    100.403604      1.025530      0.235958     0.926092   \n",
       "2520     2024    141.213605      1.053602      0.338776     0.957939   \n",
       "3137     2024    149.041893      1.223670      0.244545     0.823117   \n",
       "4676     2024    119.193440      1.158940      0.405150     0.878174   \n",
       "6632     2024     70.565817      0.914658      0.388232     1.027637   \n",
       "...                     ...           ...           ...          ...   \n",
       "29911    2024     89.382404      1.055336      0.403380     0.937526   \n",
       "30094    2024     85.918829      0.791731      0.390778     1.112303   \n",
       "30122    2024     89.670284      0.979023      0.441853     0.901035   \n",
       "30134    2024    135.719873      1.033071      0.304971     0.912384   \n",
       "30279    2024    105.360347      0.932924      0.231738     0.887089   \n",
       "\n",
       "                 pred_HBPperIP  pred_HRperIP  \n",
       "PlayerId Season                               \n",
       "2036     2024         0.026482      0.136111  \n",
       "2520     2024         0.048318      0.153695  \n",
       "3137     2024         0.046566      0.144209  \n",
       "4676     2024         0.080593      0.142263  \n",
       "6632     2024         0.047938      0.145456  \n",
       "...                        ...           ...  \n",
       "29911    2024         0.025925      0.165845  \n",
       "30094    2024         0.034957      0.154315  \n",
       "30122    2024         0.049453      0.123621  \n",
       "30134    2024         0.044915      0.140724  \n",
       "30279    2024         0.048938      0.131528  \n",
       "\n",
       "[192 rows x 6 columns]"
      ]
     },
     "execution_count": 172,
     "metadata": {},
     "output_type": "execute_result"
    }
   ],
   "source": [
    "predictions2024"
   ]
  },
  {
   "cell_type": "code",
   "execution_count": 173,
   "metadata": {},
   "outputs": [],
   "source": [
    "# Get actual data for comparison\n",
    "actuals = pd.read_csv(\"../data/pitching/fg-pitching-standard+age.csv\", index_col=[\"PlayerId\", \"Season\"])\n",
    "actuals[\"SOperIP\"] = actuals[\"SO\"] / actuals[\"IP\"]\n",
    "actuals[\"HperIP\"] = actuals[\"H\"] / actuals[\"IP\"]\n",
    "actuals[\"BBperIP\"] = actuals[\"BB\"] / actuals[\"IP\"]\n",
    "actuals[\"HBPperIP\"] = actuals[\"HBP\"] / actuals[\"IP\"]\n",
    "actuals[\"HRperIP\"] = actuals[\"HR\"] / actuals[\"IP\"]"
   ]
  },
  {
   "cell_type": "markdown",
   "metadata": {},
   "source": [
    "### Scope"
   ]
  },
  {
   "cell_type": "markdown",
   "metadata": {},
   "source": [
    "Objectives:\n",
    "1. Examine how data limitations (my decision to limit scope of data to 20 IP) impacted projections"
   ]
  },
  {
   "cell_type": "code",
   "execution_count": 174,
   "metadata": {},
   "outputs": [
    {
     "name": "stderr",
     "output_type": "stream",
     "text": [
      "/var/folders/db/hft7f10n5815hbppyhvy_z_00000gn/T/ipykernel_51692/3193432797.py:5: UserWarning: Boolean Series key will be reindexed to match DataFrame index.\n",
      "  actuals2024_sp = actuals2024[actuals['GS'] > 0]\n"
     ]
    },
    {
     "data": {
      "text/plain": [
       "(306, 33)"
      ]
     },
     "execution_count": 174,
     "metadata": {},
     "output_type": "execute_result"
    }
   ],
   "source": [
    "# Filter on 2024 season\n",
    "actuals2024 = actuals[actuals.index.get_level_values(1) == 2024]\n",
    "\n",
    "# Filter out relievers\n",
    "actuals2024_sp = actuals2024[actuals['GS'] > 0]\n",
    "\n",
    "actuals2024_sp.shape"
   ]
  },
  {
   "cell_type": "code",
   "execution_count": 175,
   "metadata": {},
   "outputs": [],
   "source": [
    "missing_sp = set(predictions2024.index.get_level_values(0)) ^ set(actuals2024_sp.index.get_level_values(0))"
   ]
  },
  {
   "cell_type": "code",
   "execution_count": 176,
   "metadata": {},
   "outputs": [
    {
     "data": {
      "text/html": [
       "<div>\n",
       "<style scoped>\n",
       "    .dataframe tbody tr th:only-of-type {\n",
       "        vertical-align: middle;\n",
       "    }\n",
       "\n",
       "    .dataframe tbody tr th {\n",
       "        vertical-align: top;\n",
       "    }\n",
       "\n",
       "    .dataframe thead th {\n",
       "        text-align: right;\n",
       "    }\n",
       "</style>\n",
       "<table border=\"1\" class=\"dataframe\">\n",
       "  <thead>\n",
       "    <tr style=\"text-align: right;\">\n",
       "      <th></th>\n",
       "      <th>Name</th>\n",
       "      <th>Team</th>\n",
       "      <th>Age</th>\n",
       "      <th>W</th>\n",
       "      <th>L</th>\n",
       "      <th>ERA</th>\n",
       "      <th>G</th>\n",
       "      <th>GS</th>\n",
       "      <th>QS</th>\n",
       "      <th>CG</th>\n",
       "      <th>...</th>\n",
       "      <th>WP</th>\n",
       "      <th>BK</th>\n",
       "      <th>SO</th>\n",
       "      <th>NameASCII</th>\n",
       "      <th>MLBAMID</th>\n",
       "      <th>SOperIP</th>\n",
       "      <th>HperIP</th>\n",
       "      <th>BBperIP</th>\n",
       "      <th>HBPperIP</th>\n",
       "      <th>HRperIP</th>\n",
       "    </tr>\n",
       "    <tr>\n",
       "      <th>Season</th>\n",
       "      <th></th>\n",
       "      <th></th>\n",
       "      <th></th>\n",
       "      <th></th>\n",
       "      <th></th>\n",
       "      <th></th>\n",
       "      <th></th>\n",
       "      <th></th>\n",
       "      <th></th>\n",
       "      <th></th>\n",
       "      <th></th>\n",
       "      <th></th>\n",
       "      <th></th>\n",
       "      <th></th>\n",
       "      <th></th>\n",
       "      <th></th>\n",
       "      <th></th>\n",
       "      <th></th>\n",
       "      <th></th>\n",
       "      <th></th>\n",
       "      <th></th>\n",
       "    </tr>\n",
       "  </thead>\n",
       "  <tbody>\n",
       "    <tr>\n",
       "      <th>2024</th>\n",
       "      <td>Casey Mize</td>\n",
       "      <td>DET</td>\n",
       "      <td>27</td>\n",
       "      <td>2</td>\n",
       "      <td>6</td>\n",
       "      <td>4.485342</td>\n",
       "      <td>22</td>\n",
       "      <td>20</td>\n",
       "      <td>6</td>\n",
       "      <td>0</td>\n",
       "      <td>...</td>\n",
       "      <td>2</td>\n",
       "      <td>1</td>\n",
       "      <td>78</td>\n",
       "      <td>Casey Mize</td>\n",
       "      <td>663554</td>\n",
       "      <td>0.763957</td>\n",
       "      <td>1.185113</td>\n",
       "      <td>0.284035</td>\n",
       "      <td>0.019589</td>\n",
       "      <td>0.107738</td>\n",
       "    </tr>\n",
       "  </tbody>\n",
       "</table>\n",
       "<p>1 rows × 33 columns</p>\n",
       "</div>"
      ],
      "text/plain": [
       "              Name Team  Age  W  L       ERA   G  GS  QS  CG  ...  WP  BK  SO  \\\n",
       "Season                                                        ...               \n",
       "2024    Casey Mize  DET   27  2  6  4.485342  22  20   6   0  ...   2   1  78   \n",
       "\n",
       "         NameASCII  MLBAMID   SOperIP    HperIP   BBperIP  HBPperIP   HRperIP  \n",
       "Season                                                                         \n",
       "2024    Casey Mize   663554  0.763957  1.185113  0.284035  0.019589  0.107738  \n",
       "\n",
       "[1 rows x 33 columns]"
      ]
     },
     "execution_count": 176,
     "metadata": {},
     "output_type": "execute_result"
    }
   ],
   "source": [
    "actuals2024_sp.loc[20492] # Did not play in 2023 (injury)"
   ]
  },
  {
   "cell_type": "code",
   "execution_count": 177,
   "metadata": {},
   "outputs": [
    {
     "data": {
      "text/html": [
       "<div>\n",
       "<style scoped>\n",
       "    .dataframe tbody tr th:only-of-type {\n",
       "        vertical-align: middle;\n",
       "    }\n",
       "\n",
       "    .dataframe tbody tr th {\n",
       "        vertical-align: top;\n",
       "    }\n",
       "\n",
       "    .dataframe thead th {\n",
       "        text-align: right;\n",
       "    }\n",
       "</style>\n",
       "<table border=\"1\" class=\"dataframe\">\n",
       "  <thead>\n",
       "    <tr style=\"text-align: right;\">\n",
       "      <th></th>\n",
       "      <th>Name</th>\n",
       "      <th>Team</th>\n",
       "      <th>Age</th>\n",
       "      <th>W</th>\n",
       "      <th>L</th>\n",
       "      <th>ERA</th>\n",
       "      <th>G</th>\n",
       "      <th>GS</th>\n",
       "      <th>QS</th>\n",
       "      <th>CG</th>\n",
       "      <th>...</th>\n",
       "      <th>WP</th>\n",
       "      <th>BK</th>\n",
       "      <th>SO</th>\n",
       "      <th>NameASCII</th>\n",
       "      <th>MLBAMID</th>\n",
       "      <th>SOperIP</th>\n",
       "      <th>HperIP</th>\n",
       "      <th>BBperIP</th>\n",
       "      <th>HBPperIP</th>\n",
       "      <th>HRperIP</th>\n",
       "    </tr>\n",
       "    <tr>\n",
       "      <th>Season</th>\n",
       "      <th></th>\n",
       "      <th></th>\n",
       "      <th></th>\n",
       "      <th></th>\n",
       "      <th></th>\n",
       "      <th></th>\n",
       "      <th></th>\n",
       "      <th></th>\n",
       "      <th></th>\n",
       "      <th></th>\n",
       "      <th></th>\n",
       "      <th></th>\n",
       "      <th></th>\n",
       "      <th></th>\n",
       "      <th></th>\n",
       "      <th></th>\n",
       "      <th></th>\n",
       "      <th></th>\n",
       "      <th></th>\n",
       "      <th></th>\n",
       "      <th></th>\n",
       "    </tr>\n",
       "  </thead>\n",
       "  <tbody>\n",
       "    <tr>\n",
       "      <th>2024</th>\n",
       "      <td>Erick Fedde</td>\n",
       "      <td>- - -</td>\n",
       "      <td>31</td>\n",
       "      <td>9</td>\n",
       "      <td>9</td>\n",
       "      <td>3.298872</td>\n",
       "      <td>31</td>\n",
       "      <td>31</td>\n",
       "      <td>13</td>\n",
       "      <td>0</td>\n",
       "      <td>...</td>\n",
       "      <td>3</td>\n",
       "      <td>1</td>\n",
       "      <td>154</td>\n",
       "      <td>Erick Fedde</td>\n",
       "      <td>607200</td>\n",
       "      <td>0.869565</td>\n",
       "      <td>0.869565</td>\n",
       "      <td>0.293619</td>\n",
       "      <td>0.028233</td>\n",
       "      <td>0.112931</td>\n",
       "    </tr>\n",
       "  </tbody>\n",
       "</table>\n",
       "<p>1 rows × 33 columns</p>\n",
       "</div>"
      ],
      "text/plain": [
       "               Name   Team  Age  W  L       ERA   G  GS  QS  CG  ...  WP  BK  \\\n",
       "Season                                                           ...           \n",
       "2024    Erick Fedde  - - -   31  9  9  3.298872  31  31  13   0  ...   3   1   \n",
       "\n",
       "         SO    NameASCII  MLBAMID   SOperIP    HperIP   BBperIP  HBPperIP  \\\n",
       "Season                                                                      \n",
       "2024    154  Erick Fedde   607200  0.869565  0.869565  0.293619  0.028233   \n",
       "\n",
       "         HRperIP  \n",
       "Season            \n",
       "2024    0.112931  \n",
       "\n",
       "[1 rows x 33 columns]"
      ]
     },
     "execution_count": 177,
     "metadata": {},
     "output_type": "execute_result"
    }
   ],
   "source": [
    "actuals2024_sp.loc[17425] # Did not play in MLB in 2023 (played in KBO)"
   ]
  },
  {
   "cell_type": "code",
   "execution_count": 178,
   "metadata": {},
   "outputs": [
    {
     "data": {
      "text/html": [
       "<div>\n",
       "<style scoped>\n",
       "    .dataframe tbody tr th:only-of-type {\n",
       "        vertical-align: middle;\n",
       "    }\n",
       "\n",
       "    .dataframe tbody tr th {\n",
       "        vertical-align: top;\n",
       "    }\n",
       "\n",
       "    .dataframe thead th {\n",
       "        text-align: right;\n",
       "    }\n",
       "</style>\n",
       "<table border=\"1\" class=\"dataframe\">\n",
       "  <thead>\n",
       "    <tr style=\"text-align: right;\">\n",
       "      <th></th>\n",
       "      <th>Name</th>\n",
       "      <th>Team</th>\n",
       "      <th>Age</th>\n",
       "      <th>W</th>\n",
       "      <th>L</th>\n",
       "      <th>ERA</th>\n",
       "      <th>G</th>\n",
       "      <th>GS</th>\n",
       "      <th>QS</th>\n",
       "      <th>CG</th>\n",
       "      <th>...</th>\n",
       "      <th>WP</th>\n",
       "      <th>BK</th>\n",
       "      <th>SO</th>\n",
       "      <th>NameASCII</th>\n",
       "      <th>MLBAMID</th>\n",
       "      <th>SOperIP</th>\n",
       "      <th>HperIP</th>\n",
       "      <th>BBperIP</th>\n",
       "      <th>HBPperIP</th>\n",
       "      <th>HRperIP</th>\n",
       "    </tr>\n",
       "    <tr>\n",
       "      <th>Season</th>\n",
       "      <th></th>\n",
       "      <th></th>\n",
       "      <th></th>\n",
       "      <th></th>\n",
       "      <th></th>\n",
       "      <th></th>\n",
       "      <th></th>\n",
       "      <th></th>\n",
       "      <th></th>\n",
       "      <th></th>\n",
       "      <th></th>\n",
       "      <th></th>\n",
       "      <th></th>\n",
       "      <th></th>\n",
       "      <th></th>\n",
       "      <th></th>\n",
       "      <th></th>\n",
       "      <th></th>\n",
       "      <th></th>\n",
       "      <th></th>\n",
       "      <th></th>\n",
       "    </tr>\n",
       "  </thead>\n",
       "  <tbody>\n",
       "    <tr>\n",
       "      <th>2024</th>\n",
       "      <td>Reynaldo López</td>\n",
       "      <td>ATL</td>\n",
       "      <td>30</td>\n",
       "      <td>8</td>\n",
       "      <td>5</td>\n",
       "      <td>1.990172</td>\n",
       "      <td>26</td>\n",
       "      <td>25</td>\n",
       "      <td>14</td>\n",
       "      <td>0</td>\n",
       "      <td>...</td>\n",
       "      <td>2</td>\n",
       "      <td>1</td>\n",
       "      <td>148</td>\n",
       "      <td>Reynaldo Lopez</td>\n",
       "      <td>625643</td>\n",
       "      <td>1.094675</td>\n",
       "      <td>0.798817</td>\n",
       "      <td>0.310651</td>\n",
       "      <td>0.014793</td>\n",
       "      <td>0.073964</td>\n",
       "    </tr>\n",
       "  </tbody>\n",
       "</table>\n",
       "<p>1 rows × 33 columns</p>\n",
       "</div>"
      ],
      "text/plain": [
       "                  Name Team  Age  W  L       ERA   G  GS  QS  CG  ...  WP  BK  \\\n",
       "Season                                                            ...           \n",
       "2024    Reynaldo López  ATL   30  8  5  1.990172  26  25  14   0  ...   2   1   \n",
       "\n",
       "         SO       NameASCII  MLBAMID   SOperIP    HperIP   BBperIP  HBPperIP  \\\n",
       "Season                                                                         \n",
       "2024    148  Reynaldo Lopez   625643  1.094675  0.798817  0.310651  0.014793   \n",
       "\n",
       "         HRperIP  \n",
       "Season            \n",
       "2024    0.073964  \n",
       "\n",
       "[1 rows x 33 columns]"
      ]
     },
     "execution_count": 178,
     "metadata": {},
     "output_type": "execute_result"
    }
   ],
   "source": [
    "actuals2024_sp.loc[16400] # Pitched fewer than 20 IP in 2023"
   ]
  },
  {
   "cell_type": "code",
   "execution_count": 179,
   "metadata": {},
   "outputs": [
    {
     "data": {
      "text/html": [
       "<div>\n",
       "<style scoped>\n",
       "    .dataframe tbody tr th:only-of-type {\n",
       "        vertical-align: middle;\n",
       "    }\n",
       "\n",
       "    .dataframe tbody tr th {\n",
       "        vertical-align: top;\n",
       "    }\n",
       "\n",
       "    .dataframe thead th {\n",
       "        text-align: right;\n",
       "    }\n",
       "</style>\n",
       "<table border=\"1\" class=\"dataframe\">\n",
       "  <thead>\n",
       "    <tr style=\"text-align: right;\">\n",
       "      <th></th>\n",
       "      <th>Name</th>\n",
       "      <th>Team</th>\n",
       "      <th>Age</th>\n",
       "      <th>W</th>\n",
       "      <th>L</th>\n",
       "      <th>ERA</th>\n",
       "      <th>G</th>\n",
       "      <th>GS</th>\n",
       "      <th>QS</th>\n",
       "      <th>CG</th>\n",
       "      <th>...</th>\n",
       "      <th>WP</th>\n",
       "      <th>BK</th>\n",
       "      <th>SO</th>\n",
       "      <th>NameASCII</th>\n",
       "      <th>MLBAMID</th>\n",
       "      <th>SOperIP</th>\n",
       "      <th>HperIP</th>\n",
       "      <th>BBperIP</th>\n",
       "      <th>HBPperIP</th>\n",
       "      <th>HRperIP</th>\n",
       "    </tr>\n",
       "    <tr>\n",
       "      <th>Season</th>\n",
       "      <th></th>\n",
       "      <th></th>\n",
       "      <th></th>\n",
       "      <th></th>\n",
       "      <th></th>\n",
       "      <th></th>\n",
       "      <th></th>\n",
       "      <th></th>\n",
       "      <th></th>\n",
       "      <th></th>\n",
       "      <th></th>\n",
       "      <th></th>\n",
       "      <th></th>\n",
       "      <th></th>\n",
       "      <th></th>\n",
       "      <th></th>\n",
       "      <th></th>\n",
       "      <th></th>\n",
       "      <th></th>\n",
       "      <th></th>\n",
       "      <th></th>\n",
       "    </tr>\n",
       "  </thead>\n",
       "  <tbody>\n",
       "    <tr>\n",
       "      <th>2024</th>\n",
       "      <td>Rhett Lowder</td>\n",
       "      <td>CIN</td>\n",
       "      <td>22</td>\n",
       "      <td>2</td>\n",
       "      <td>2</td>\n",
       "      <td>1.173913</td>\n",
       "      <td>6</td>\n",
       "      <td>6</td>\n",
       "      <td>1</td>\n",
       "      <td>0</td>\n",
       "      <td>...</td>\n",
       "      <td>0</td>\n",
       "      <td>0</td>\n",
       "      <td>22</td>\n",
       "      <td>Rhett Lowder</td>\n",
       "      <td>695076</td>\n",
       "      <td>0.728477</td>\n",
       "      <td>0.827815</td>\n",
       "      <td>0.463576</td>\n",
       "      <td>0.0</td>\n",
       "      <td>0.0</td>\n",
       "    </tr>\n",
       "  </tbody>\n",
       "</table>\n",
       "<p>1 rows × 33 columns</p>\n",
       "</div>"
      ],
      "text/plain": [
       "                Name Team  Age  W  L       ERA  G  GS  QS  CG  ...  WP  BK  \\\n",
       "Season                                                         ...           \n",
       "2024    Rhett Lowder  CIN   22  2  2  1.173913  6   6   1   0  ...   0   0   \n",
       "\n",
       "        SO     NameASCII  MLBAMID   SOperIP    HperIP   BBperIP  HBPperIP  \\\n",
       "Season                                                                      \n",
       "2024    22  Rhett Lowder   695076  0.728477  0.827815  0.463576       0.0   \n",
       "\n",
       "        HRperIP  \n",
       "Season           \n",
       "2024        0.0  \n",
       "\n",
       "[1 rows x 33 columns]"
      ]
     },
     "execution_count": 179,
     "metadata": {},
     "output_type": "execute_result"
    }
   ],
   "source": [
    "actuals2024_sp.loc[33876] # Did not play in MLB in 2023 (drafted in 2023, threw 120.1 IP in NCAA)"
   ]
  },
  {
   "cell_type": "markdown",
   "metadata": {},
   "source": [
    "### Comparison vs actuals"
   ]
  },
  {
   "cell_type": "markdown",
   "metadata": {},
   "source": [
    "Objective: Compare predictions with actuals"
   ]
  },
  {
   "cell_type": "code",
   "execution_count": 180,
   "metadata": {},
   "outputs": [],
   "source": [
    "actuals_preds2024 = actuals2024_sp.merge(predictions2024, left_index=True, right_index=True)"
   ]
  },
  {
   "cell_type": "code",
   "execution_count": 181,
   "metadata": {},
   "outputs": [
    {
     "data": {
      "text/html": [
       "<div>\n",
       "<style scoped>\n",
       "    .dataframe tbody tr th:only-of-type {\n",
       "        vertical-align: middle;\n",
       "    }\n",
       "\n",
       "    .dataframe tbody tr th {\n",
       "        vertical-align: top;\n",
       "    }\n",
       "\n",
       "    .dataframe thead th {\n",
       "        text-align: right;\n",
       "    }\n",
       "</style>\n",
       "<table border=\"1\" class=\"dataframe\">\n",
       "  <thead>\n",
       "    <tr style=\"text-align: right;\">\n",
       "      <th></th>\n",
       "      <th>IP</th>\n",
       "      <th>pred_IP</th>\n",
       "    </tr>\n",
       "  </thead>\n",
       "  <tbody>\n",
       "    <tr>\n",
       "      <th>count</th>\n",
       "      <td>192.000000</td>\n",
       "      <td>192.000000</td>\n",
       "    </tr>\n",
       "    <tr>\n",
       "      <th>mean</th>\n",
       "      <td>111.294792</td>\n",
       "      <td>101.185060</td>\n",
       "    </tr>\n",
       "    <tr>\n",
       "      <th>std</th>\n",
       "      <td>54.842235</td>\n",
       "      <td>29.792042</td>\n",
       "    </tr>\n",
       "    <tr>\n",
       "      <th>min</th>\n",
       "      <td>20.200000</td>\n",
       "      <td>24.586789</td>\n",
       "    </tr>\n",
       "    <tr>\n",
       "      <th>25%</th>\n",
       "      <td>65.175000</td>\n",
       "      <td>78.278362</td>\n",
       "    </tr>\n",
       "    <tr>\n",
       "      <th>50%</th>\n",
       "      <td>110.000000</td>\n",
       "      <td>105.378383</td>\n",
       "    </tr>\n",
       "    <tr>\n",
       "      <th>75%</th>\n",
       "      <td>166.100000</td>\n",
       "      <td>122.111863</td>\n",
       "    </tr>\n",
       "    <tr>\n",
       "      <th>max</th>\n",
       "      <td>208.200000</td>\n",
       "      <td>160.815794</td>\n",
       "    </tr>\n",
       "  </tbody>\n",
       "</table>\n",
       "</div>"
      ],
      "text/plain": [
       "               IP     pred_IP\n",
       "count  192.000000  192.000000\n",
       "mean   111.294792  101.185060\n",
       "std     54.842235   29.792042\n",
       "min     20.200000   24.586789\n",
       "25%     65.175000   78.278362\n",
       "50%    110.000000  105.378383\n",
       "75%    166.100000  122.111863\n",
       "max    208.200000  160.815794"
      ]
     },
     "execution_count": 181,
     "metadata": {},
     "output_type": "execute_result"
    }
   ],
   "source": [
    "actuals_preds2024[[\"IP\", \"pred_IP\"]].describe()"
   ]
  },
  {
   "cell_type": "code",
   "execution_count": 182,
   "metadata": {},
   "outputs": [
    {
     "data": {
      "text/plain": [
       "<Axes: >"
      ]
     },
     "execution_count": 182,
     "metadata": {},
     "output_type": "execute_result"
    },
    {
     "data": {
      "image/png": "[encoded data removed]",
      "text/plain": [
       "<Figure size 640x480 with 1 Axes>"
      ]
     },
     "metadata": {},
     "output_type": "display_data"
    }
   ],
   "source": [
    "actuals_preds2024[[\"IP\", \"pred_IP\"]].boxplot()"
   ]
  },
  {
   "cell_type": "code",
   "execution_count": 183,
   "metadata": {},
   "outputs": [
    {
     "data": {
      "image/png": "[encoded data removed]",
      "text/plain": [
       "<Figure size 600x300 with 2 Axes>"
      ]
     },
     "metadata": {},
     "output_type": "display_data"
    }
   ],
   "source": [
    "actuals_preds2024[[\"IP\", \"pred_IP\"]].hist(bins=10, figsize=(6,3))\n",
    "plt.show()"
   ]
  },
  {
   "cell_type": "code",
   "execution_count": 184,
   "metadata": {},
   "outputs": [
    {
     "data": {
      "image/png": "[encoded data removed]",
      "text/plain": [
       "<Figure size 600x300 with 2 Axes>"
      ]
     },
     "metadata": {},
     "output_type": "display_data"
    }
   ],
   "source": [
    "actuals_preds2024[[\"SOperIP\", \"pred_SOperIP\"]].hist(bins=10, figsize=(6,3))\n",
    "plt.show()"
   ]
  },
  {
   "cell_type": "code",
   "execution_count": 185,
   "metadata": {},
   "outputs": [
    {
     "data": {
      "image/png": "[encoded data removed]",
      "text/plain": [
       "<Figure size 600x300 with 2 Axes>"
      ]
     },
     "metadata": {},
     "output_type": "display_data"
    }
   ],
   "source": [
    "actuals_preds2024[[\"HperIP\", \"pred_HperIP\"]].hist(bins=10, figsize=(6,3))\n",
    "plt.show()"
   ]
  },
  {
   "cell_type": "code",
   "execution_count": 186,
   "metadata": {},
   "outputs": [
    {
     "data": {
      "image/png": "[encoded data removed]",
      "text/plain": [
       "<Figure size 600x300 with 2 Axes>"
      ]
     },
     "metadata": {},
     "output_type": "display_data"
    }
   ],
   "source": [
    "actuals_preds2024[[\"BBperIP\", \"pred_BBperIP\"]].hist(bins=10, figsize=(6,3))\n",
    "plt.show()"
   ]
  },
  {
   "cell_type": "code",
   "execution_count": 187,
   "metadata": {},
   "outputs": [
    {
     "data": {
      "image/png": "[encoded data removed]",
      "text/plain": [
       "<Figure size 600x300 with 2 Axes>"
      ]
     },
     "metadata": {},
     "output_type": "display_data"
    }
   ],
   "source": [
    "actuals_preds2024[[\"HBPperIP\", \"pred_HBPperIP\"]].hist(bins=10, figsize=(6,3))\n",
    "plt.show()"
   ]
  },
  {
   "cell_type": "code",
   "execution_count": 188,
   "metadata": {},
   "outputs": [
    {
     "data": {
      "image/png": "[encoded data removed]",
      "text/plain": [
       "<Figure size 600x300 with 2 Axes>"
      ]
     },
     "metadata": {},
     "output_type": "display_data"
    }
   ],
   "source": [
    "actuals_preds2024[[\"HRperIP\", \"pred_HRperIP\"]].hist(bins=10, figsize=(6,3))\n",
    "plt.show()"
   ]
  },
  {
   "cell_type": "markdown",
   "metadata": {},
   "source": [
    "### 2024 Projected Stat Leaders"
   ]
  },
  {
   "cell_type": "markdown",
   "metadata": {},
   "source": [
    "#### Innings Pitched (IP)"
   ]
  },
  {
   "cell_type": "code",
   "execution_count": 189,
   "metadata": {},
   "outputs": [
    {
     "data": {
      "text/html": [
       "<div>\n",
       "<style scoped>\n",
       "    .dataframe tbody tr th:only-of-type {\n",
       "        vertical-align: middle;\n",
       "    }\n",
       "\n",
       "    .dataframe tbody tr th {\n",
       "        vertical-align: top;\n",
       "    }\n",
       "\n",
       "    .dataframe thead th {\n",
       "        text-align: right;\n",
       "    }\n",
       "</style>\n",
       "<table border=\"1\" class=\"dataframe\">\n",
       "  <thead>\n",
       "    <tr style=\"text-align: right;\">\n",
       "      <th></th>\n",
       "      <th></th>\n",
       "      <th>Name</th>\n",
       "      <th>IP</th>\n",
       "      <th>pred_IP</th>\n",
       "    </tr>\n",
       "    <tr>\n",
       "      <th>PlayerId</th>\n",
       "      <th>Season</th>\n",
       "      <th></th>\n",
       "      <th></th>\n",
       "      <th></th>\n",
       "    </tr>\n",
       "  </thead>\n",
       "  <tbody>\n",
       "    <tr>\n",
       "      <th>13743</th>\n",
       "      <th>2024</th>\n",
       "      <td>Max Fried</td>\n",
       "      <td>174.1</td>\n",
       "      <td>160.815794</td>\n",
       "    </tr>\n",
       "    <tr>\n",
       "      <th>10310</th>\n",
       "      <th>2024</th>\n",
       "      <td>Zack Wheeler</td>\n",
       "      <td>200.0</td>\n",
       "      <td>156.346054</td>\n",
       "    </tr>\n",
       "    <tr>\n",
       "      <th>19361</th>\n",
       "      <th>2024</th>\n",
       "      <td>Corbin Burnes</td>\n",
       "      <td>194.1</td>\n",
       "      <td>155.474174</td>\n",
       "    </tr>\n",
       "    <tr>\n",
       "      <th>13125</th>\n",
       "      <th>2024</th>\n",
       "      <td>Gerrit Cole</td>\n",
       "      <td>95.0</td>\n",
       "      <td>155.286897</td>\n",
       "    </tr>\n",
       "    <tr>\n",
       "      <th>17995</th>\n",
       "      <th>2024</th>\n",
       "      <td>Logan Webb</td>\n",
       "      <td>204.2</td>\n",
       "      <td>151.628799</td>\n",
       "    </tr>\n",
       "  </tbody>\n",
       "</table>\n",
       "</div>"
      ],
      "text/plain": [
       "                          Name     IP     pred_IP\n",
       "PlayerId Season                                  \n",
       "13743    2024        Max Fried  174.1  160.815794\n",
       "10310    2024     Zack Wheeler  200.0  156.346054\n",
       "19361    2024    Corbin Burnes  194.1  155.474174\n",
       "13125    2024      Gerrit Cole   95.0  155.286897\n",
       "17995    2024       Logan Webb  204.2  151.628799"
      ]
     },
     "execution_count": 189,
     "metadata": {},
     "output_type": "execute_result"
    }
   ],
   "source": [
    "actuals_preds2024.sort_values('pred_IP', ascending=False).head(5)[['Name','IP', 'pred_IP']]"
   ]
  },
  {
   "cell_type": "markdown",
   "metadata": {},
   "source": [
    "#### SO/IP"
   ]
  },
  {
   "cell_type": "code",
   "execution_count": 190,
   "metadata": {},
   "outputs": [
    {
     "data": {
      "text/html": [
       "<div>\n",
       "<style scoped>\n",
       "    .dataframe tbody tr th:only-of-type {\n",
       "        vertical-align: middle;\n",
       "    }\n",
       "\n",
       "    .dataframe tbody tr th {\n",
       "        vertical-align: top;\n",
       "    }\n",
       "\n",
       "    .dataframe thead th {\n",
       "        text-align: right;\n",
       "    }\n",
       "</style>\n",
       "<table border=\"1\" class=\"dataframe\">\n",
       "  <thead>\n",
       "    <tr style=\"text-align: right;\">\n",
       "      <th></th>\n",
       "      <th></th>\n",
       "      <th>Name</th>\n",
       "      <th>SOperIP</th>\n",
       "      <th>pred_SOperIP</th>\n",
       "    </tr>\n",
       "    <tr>\n",
       "      <th>PlayerId</th>\n",
       "      <th>Season</th>\n",
       "      <th></th>\n",
       "      <th></th>\n",
       "      <th></th>\n",
       "    </tr>\n",
       "  </thead>\n",
       "  <tbody>\n",
       "    <tr>\n",
       "      <th>7048</th>\n",
       "      <th>2024</th>\n",
       "      <td>Fernando Cruz</td>\n",
       "      <td>1.646526</td>\n",
       "      <td>1.448552</td>\n",
       "    </tr>\n",
       "    <tr>\n",
       "      <th>13543</th>\n",
       "      <th>2024</th>\n",
       "      <td>Blake Snell</td>\n",
       "      <td>1.394231</td>\n",
       "      <td>1.249790</td>\n",
       "    </tr>\n",
       "    <tr>\n",
       "      <th>24586</th>\n",
       "      <th>2024</th>\n",
       "      <td>Kyle Bradish</td>\n",
       "      <td>1.355499</td>\n",
       "      <td>0.975454</td>\n",
       "    </tr>\n",
       "    <tr>\n",
       "      <th>10603</th>\n",
       "      <th>2024</th>\n",
       "      <td>Chris Sale</td>\n",
       "      <td>1.269752</td>\n",
       "      <td>1.248599</td>\n",
       "    </tr>\n",
       "    <tr>\n",
       "      <th>14374</th>\n",
       "      <th>2024</th>\n",
       "      <td>Tyler Glasnow</td>\n",
       "      <td>1.253731</td>\n",
       "      <td>1.262609</td>\n",
       "    </tr>\n",
       "  </tbody>\n",
       "</table>\n",
       "</div>"
      ],
      "text/plain": [
       "                          Name   SOperIP  pred_SOperIP\n",
       "PlayerId Season                                       \n",
       "7048     2024    Fernando Cruz  1.646526      1.448552\n",
       "13543    2024      Blake Snell  1.394231      1.249790\n",
       "24586    2024     Kyle Bradish  1.355499      0.975454\n",
       "10603    2024       Chris Sale  1.269752      1.248599\n",
       "14374    2024    Tyler Glasnow  1.253731      1.262609"
      ]
     },
     "execution_count": 190,
     "metadata": {},
     "output_type": "execute_result"
    }
   ],
   "source": [
    "actuals_preds2024.sort_values('SOperIP', ascending=False).head(5)[['Name','SOperIP', 'pred_SOperIP']]"
   ]
  },
  {
   "cell_type": "code",
   "execution_count": 191,
   "metadata": {},
   "outputs": [
    {
     "data": {
      "text/html": [
       "<div>\n",
       "<style scoped>\n",
       "    .dataframe tbody tr th:only-of-type {\n",
       "        vertical-align: middle;\n",
       "    }\n",
       "\n",
       "    .dataframe tbody tr th {\n",
       "        vertical-align: top;\n",
       "    }\n",
       "\n",
       "    .dataframe thead th {\n",
       "        text-align: right;\n",
       "    }\n",
       "</style>\n",
       "<table border=\"1\" class=\"dataframe\">\n",
       "  <thead>\n",
       "    <tr style=\"text-align: right;\">\n",
       "      <th></th>\n",
       "      <th></th>\n",
       "      <th>Name</th>\n",
       "      <th>SOperIP</th>\n",
       "      <th>pred_SOperIP</th>\n",
       "    </tr>\n",
       "    <tr>\n",
       "      <th>PlayerId</th>\n",
       "      <th>Season</th>\n",
       "      <th></th>\n",
       "      <th></th>\n",
       "      <th></th>\n",
       "    </tr>\n",
       "  </thead>\n",
       "  <tbody>\n",
       "    <tr>\n",
       "      <th>7048</th>\n",
       "      <th>2024</th>\n",
       "      <td>Fernando Cruz</td>\n",
       "      <td>1.646526</td>\n",
       "      <td>1.448552</td>\n",
       "    </tr>\n",
       "    <tr>\n",
       "      <th>14374</th>\n",
       "      <th>2024</th>\n",
       "      <td>Tyler Glasnow</td>\n",
       "      <td>1.253731</td>\n",
       "      <td>1.262609</td>\n",
       "    </tr>\n",
       "    <tr>\n",
       "      <th>13543</th>\n",
       "      <th>2024</th>\n",
       "      <td>Blake Snell</td>\n",
       "      <td>1.394231</td>\n",
       "      <td>1.249790</td>\n",
       "    </tr>\n",
       "    <tr>\n",
       "      <th>10603</th>\n",
       "      <th>2024</th>\n",
       "      <td>Chris Sale</td>\n",
       "      <td>1.269752</td>\n",
       "      <td>1.248599</td>\n",
       "    </tr>\n",
       "    <tr>\n",
       "      <th>3137</th>\n",
       "      <th>2024</th>\n",
       "      <td>Max Scherzer</td>\n",
       "      <td>0.928074</td>\n",
       "      <td>1.223670</td>\n",
       "    </tr>\n",
       "  </tbody>\n",
       "</table>\n",
       "</div>"
      ],
      "text/plain": [
       "                          Name   SOperIP  pred_SOperIP\n",
       "PlayerId Season                                       \n",
       "7048     2024    Fernando Cruz  1.646526      1.448552\n",
       "14374    2024    Tyler Glasnow  1.253731      1.262609\n",
       "13543    2024      Blake Snell  1.394231      1.249790\n",
       "10603    2024       Chris Sale  1.269752      1.248599\n",
       "3137     2024     Max Scherzer  0.928074      1.223670"
      ]
     },
     "execution_count": 191,
     "metadata": {},
     "output_type": "execute_result"
    }
   ],
   "source": [
    "actuals_preds2024.sort_values('pred_SOperIP', ascending=False).head(5)[['Name','SOperIP', 'pred_SOperIP']]"
   ]
  },
  {
   "cell_type": "markdown",
   "metadata": {},
   "source": [
    "#### H/IP"
   ]
  },
  {
   "cell_type": "code",
   "execution_count": 192,
   "metadata": {},
   "outputs": [
    {
     "data": {
      "text/html": [
       "<div>\n",
       "<style scoped>\n",
       "    .dataframe tbody tr th:only-of-type {\n",
       "        vertical-align: middle;\n",
       "    }\n",
       "\n",
       "    .dataframe tbody tr th {\n",
       "        vertical-align: top;\n",
       "    }\n",
       "\n",
       "    .dataframe thead th {\n",
       "        text-align: right;\n",
       "    }\n",
       "</style>\n",
       "<table border=\"1\" class=\"dataframe\">\n",
       "  <thead>\n",
       "    <tr style=\"text-align: right;\">\n",
       "      <th></th>\n",
       "      <th></th>\n",
       "      <th>Name</th>\n",
       "      <th>IP</th>\n",
       "      <th>HperIP</th>\n",
       "      <th>pred_HperIP</th>\n",
       "    </tr>\n",
       "    <tr>\n",
       "      <th>PlayerId</th>\n",
       "      <th>Season</th>\n",
       "      <th></th>\n",
       "      <th></th>\n",
       "      <th></th>\n",
       "      <th></th>\n",
       "    </tr>\n",
       "  </thead>\n",
       "  <tbody>\n",
       "    <tr>\n",
       "      <th>23313</th>\n",
       "      <th>2024</th>\n",
       "      <td>José Buttó</td>\n",
       "      <td>74.0</td>\n",
       "      <td>0.554054</td>\n",
       "      <td>0.840390</td>\n",
       "    </tr>\n",
       "    <tr>\n",
       "      <th>26231</th>\n",
       "      <th>2024</th>\n",
       "      <td>Tyler Holton</td>\n",
       "      <td>94.1</td>\n",
       "      <td>0.605739</td>\n",
       "      <td>0.880577</td>\n",
       "    </tr>\n",
       "    <tr>\n",
       "      <th>20423</th>\n",
       "      <th>2024</th>\n",
       "      <td>Ryan Walker</td>\n",
       "      <td>80.0</td>\n",
       "      <td>0.625000</td>\n",
       "      <td>0.789341</td>\n",
       "    </tr>\n",
       "    <tr>\n",
       "      <th>13543</th>\n",
       "      <th>2024</th>\n",
       "      <td>Blake Snell</td>\n",
       "      <td>104.0</td>\n",
       "      <td>0.625000</td>\n",
       "      <td>0.754520</td>\n",
       "    </tr>\n",
       "    <tr>\n",
       "      <th>22182</th>\n",
       "      <th>2024</th>\n",
       "      <td>Hunter Greene</td>\n",
       "      <td>150.1</td>\n",
       "      <td>0.639574</td>\n",
       "      <td>0.764718</td>\n",
       "    </tr>\n",
       "    <tr>\n",
       "      <th>21537</th>\n",
       "      <th>2024</th>\n",
       "      <td>Daniel Lynch IV</td>\n",
       "      <td>43.1</td>\n",
       "      <td>0.672854</td>\n",
       "      <td>1.013607</td>\n",
       "    </tr>\n",
       "    <tr>\n",
       "      <th>19309</th>\n",
       "      <th>2024</th>\n",
       "      <td>Trevor Richards</td>\n",
       "      <td>65.1</td>\n",
       "      <td>0.675883</td>\n",
       "      <td>0.864681</td>\n",
       "    </tr>\n",
       "    <tr>\n",
       "      <th>23150</th>\n",
       "      <th>2024</th>\n",
       "      <td>Osvaldo Bido</td>\n",
       "      <td>63.1</td>\n",
       "      <td>0.681458</td>\n",
       "      <td>0.903074</td>\n",
       "    </tr>\n",
       "    <tr>\n",
       "      <th>19407</th>\n",
       "      <th>2024</th>\n",
       "      <td>Ronel Blanco</td>\n",
       "      <td>167.1</td>\n",
       "      <td>0.682226</td>\n",
       "      <td>0.813467</td>\n",
       "    </tr>\n",
       "    <tr>\n",
       "      <th>16207</th>\n",
       "      <th>2024</th>\n",
       "      <td>Spencer Turnbull</td>\n",
       "      <td>54.1</td>\n",
       "      <td>0.683919</td>\n",
       "      <td>0.932332</td>\n",
       "    </tr>\n",
       "  </tbody>\n",
       "</table>\n",
       "</div>"
      ],
      "text/plain": [
       "                             Name     IP    HperIP  pred_HperIP\n",
       "PlayerId Season                                                \n",
       "23313    2024          José Buttó   74.0  0.554054     0.840390\n",
       "26231    2024        Tyler Holton   94.1  0.605739     0.880577\n",
       "20423    2024         Ryan Walker   80.0  0.625000     0.789341\n",
       "13543    2024         Blake Snell  104.0  0.625000     0.754520\n",
       "22182    2024       Hunter Greene  150.1  0.639574     0.764718\n",
       "21537    2024     Daniel Lynch IV   43.1  0.672854     1.013607\n",
       "19309    2024     Trevor Richards   65.1  0.675883     0.864681\n",
       "23150    2024        Osvaldo Bido   63.1  0.681458     0.903074\n",
       "19407    2024        Ronel Blanco  167.1  0.682226     0.813467\n",
       "16207    2024    Spencer Turnbull   54.1  0.683919     0.932332"
      ]
     },
     "execution_count": 192,
     "metadata": {},
     "output_type": "execute_result"
    }
   ],
   "source": [
    "# Actual HperIP leaders \n",
    "actuals_preds2024.sort_values('HperIP', ascending=True).head(10)[['Name','IP', 'HperIP', 'pred_HperIP']]"
   ]
  },
  {
   "cell_type": "code",
   "execution_count": 193,
   "metadata": {},
   "outputs": [
    {
     "data": {
      "text/html": [
       "<div>\n",
       "<style scoped>\n",
       "    .dataframe tbody tr th:only-of-type {\n",
       "        vertical-align: middle;\n",
       "    }\n",
       "\n",
       "    .dataframe tbody tr th {\n",
       "        vertical-align: top;\n",
       "    }\n",
       "\n",
       "    .dataframe thead th {\n",
       "        text-align: right;\n",
       "    }\n",
       "</style>\n",
       "<table border=\"1\" class=\"dataframe\">\n",
       "  <thead>\n",
       "    <tr style=\"text-align: right;\">\n",
       "      <th></th>\n",
       "      <th></th>\n",
       "      <th>Name</th>\n",
       "      <th>pred_IP</th>\n",
       "      <th>HperIP</th>\n",
       "      <th>pred_HperIP</th>\n",
       "    </tr>\n",
       "    <tr>\n",
       "      <th>PlayerId</th>\n",
       "      <th>Season</th>\n",
       "      <th></th>\n",
       "      <th></th>\n",
       "      <th></th>\n",
       "      <th></th>\n",
       "    </tr>\n",
       "  </thead>\n",
       "  <tbody>\n",
       "    <tr>\n",
       "      <th>13543</th>\n",
       "      <th>2024</th>\n",
       "      <td>Blake Snell</td>\n",
       "      <td>128.303851</td>\n",
       "      <td>0.625000</td>\n",
       "      <td>0.754520</td>\n",
       "    </tr>\n",
       "    <tr>\n",
       "      <th>22182</th>\n",
       "      <th>2024</th>\n",
       "      <td>Hunter Greene</td>\n",
       "      <td>124.341695</td>\n",
       "      <td>0.639574</td>\n",
       "      <td>0.764718</td>\n",
       "    </tr>\n",
       "    <tr>\n",
       "      <th>26378</th>\n",
       "      <th>2024</th>\n",
       "      <td>Nick Lodolo</td>\n",
       "      <td>129.149429</td>\n",
       "      <td>0.877498</td>\n",
       "      <td>0.776592</td>\n",
       "    </tr>\n",
       "    <tr>\n",
       "      <th>14374</th>\n",
       "      <th>2024</th>\n",
       "      <td>Tyler Glasnow</td>\n",
       "      <td>99.479471</td>\n",
       "      <td>0.686567</td>\n",
       "      <td>0.777644</td>\n",
       "    </tr>\n",
       "    <tr>\n",
       "      <th>20423</th>\n",
       "      <th>2024</th>\n",
       "      <td>Ryan Walker</td>\n",
       "      <td>82.448539</td>\n",
       "      <td>0.625000</td>\n",
       "      <td>0.789341</td>\n",
       "    </tr>\n",
       "    <tr>\n",
       "      <th>10603</th>\n",
       "      <th>2024</th>\n",
       "      <td>Chris Sale</td>\n",
       "      <td>148.006413</td>\n",
       "      <td>0.795711</td>\n",
       "      <td>0.803164</td>\n",
       "    </tr>\n",
       "    <tr>\n",
       "      <th>7048</th>\n",
       "      <th>2024</th>\n",
       "      <td>Fernando Cruz</td>\n",
       "      <td>67.984333</td>\n",
       "      <td>0.815710</td>\n",
       "      <td>0.812559</td>\n",
       "    </tr>\n",
       "    <tr>\n",
       "      <th>19407</th>\n",
       "      <th>2024</th>\n",
       "      <td>Ronel Blanco</td>\n",
       "      <td>115.263667</td>\n",
       "      <td>0.682226</td>\n",
       "      <td>0.813467</td>\n",
       "    </tr>\n",
       "    <tr>\n",
       "      <th>21846</th>\n",
       "      <th>2024</th>\n",
       "      <td>Cole Ragans</td>\n",
       "      <td>135.073850</td>\n",
       "      <td>0.784524</td>\n",
       "      <td>0.815009</td>\n",
       "    </tr>\n",
       "    <tr>\n",
       "      <th>3137</th>\n",
       "      <th>2024</th>\n",
       "      <td>Max Scherzer</td>\n",
       "      <td>149.041893</td>\n",
       "      <td>0.928074</td>\n",
       "      <td>0.823117</td>\n",
       "    </tr>\n",
       "  </tbody>\n",
       "</table>\n",
       "</div>"
      ],
      "text/plain": [
       "                          Name     pred_IP    HperIP  pred_HperIP\n",
       "PlayerId Season                                                  \n",
       "13543    2024      Blake Snell  128.303851  0.625000     0.754520\n",
       "22182    2024    Hunter Greene  124.341695  0.639574     0.764718\n",
       "26378    2024      Nick Lodolo  129.149429  0.877498     0.776592\n",
       "14374    2024    Tyler Glasnow   99.479471  0.686567     0.777644\n",
       "20423    2024      Ryan Walker   82.448539  0.625000     0.789341\n",
       "10603    2024       Chris Sale  148.006413  0.795711     0.803164\n",
       "7048     2024    Fernando Cruz   67.984333  0.815710     0.812559\n",
       "19407    2024     Ronel Blanco  115.263667  0.682226     0.813467\n",
       "21846    2024      Cole Ragans  135.073850  0.784524     0.815009\n",
       "3137     2024     Max Scherzer  149.041893  0.928074     0.823117"
      ]
     },
     "execution_count": 193,
     "metadata": {},
     "output_type": "execute_result"
    }
   ],
   "source": [
    "# Predicted HperIP leaders \n",
    "actuals_preds2024.sort_values('pred_HperIP', ascending=True).head(10)[['Name','pred_IP', 'HperIP', 'pred_HperIP']]"
   ]
  },
  {
   "cell_type": "markdown",
   "metadata": {},
   "source": [
    "#### BB/IP"
   ]
  },
  {
   "cell_type": "code",
   "execution_count": 194,
   "metadata": {},
   "outputs": [
    {
     "data": {
      "text/html": [
       "<div>\n",
       "<style scoped>\n",
       "    .dataframe tbody tr th:only-of-type {\n",
       "        vertical-align: middle;\n",
       "    }\n",
       "\n",
       "    .dataframe tbody tr th {\n",
       "        vertical-align: top;\n",
       "    }\n",
       "\n",
       "    .dataframe thead th {\n",
       "        text-align: right;\n",
       "    }\n",
       "</style>\n",
       "<table border=\"1\" class=\"dataframe\">\n",
       "  <thead>\n",
       "    <tr style=\"text-align: right;\">\n",
       "      <th></th>\n",
       "      <th></th>\n",
       "      <th>Name</th>\n",
       "      <th>IP</th>\n",
       "      <th>BBperIP</th>\n",
       "      <th>pred_BBperIP</th>\n",
       "    </tr>\n",
       "    <tr>\n",
       "      <th>PlayerId</th>\n",
       "      <th>Season</th>\n",
       "      <th></th>\n",
       "      <th></th>\n",
       "      <th></th>\n",
       "      <th></th>\n",
       "    </tr>\n",
       "  </thead>\n",
       "  <tbody>\n",
       "    <tr>\n",
       "      <th>16269</th>\n",
       "      <th>2024</th>\n",
       "      <td>John Means</td>\n",
       "      <td>20.2</td>\n",
       "      <td>0.099010</td>\n",
       "      <td>0.165402</td>\n",
       "    </tr>\n",
       "    <tr>\n",
       "      <th>30279</th>\n",
       "      <th>2024</th>\n",
       "      <td>Bryan Woo</td>\n",
       "      <td>121.1</td>\n",
       "      <td>0.107349</td>\n",
       "      <td>0.231738</td>\n",
       "    </tr>\n",
       "    <tr>\n",
       "      <th>21844</th>\n",
       "      <th>2024</th>\n",
       "      <td>Braxton Garrett</td>\n",
       "      <td>37.0</td>\n",
       "      <td>0.108108</td>\n",
       "      <td>0.231149</td>\n",
       "    </tr>\n",
       "    <tr>\n",
       "      <th>13619</th>\n",
       "      <th>2024</th>\n",
       "      <td>Jakob Junis</td>\n",
       "      <td>67.0</td>\n",
       "      <td>0.119403</td>\n",
       "      <td>0.296766</td>\n",
       "    </tr>\n",
       "    <tr>\n",
       "      <th>25436</th>\n",
       "      <th>2024</th>\n",
       "      <td>George Kirby</td>\n",
       "      <td>191.0</td>\n",
       "      <td>0.120419</td>\n",
       "      <td>0.151402</td>\n",
       "    </tr>\n",
       "    <tr>\n",
       "      <th>12730</th>\n",
       "      <th>2024</th>\n",
       "      <td>Nick Martinez</td>\n",
       "      <td>142.1</td>\n",
       "      <td>0.126671</td>\n",
       "      <td>0.248715</td>\n",
       "    </tr>\n",
       "    <tr>\n",
       "      <th>13774</th>\n",
       "      <th>2024</th>\n",
       "      <td>Zach Eflin</td>\n",
       "      <td>165.1</td>\n",
       "      <td>0.145366</td>\n",
       "      <td>0.177628</td>\n",
       "    </tr>\n",
       "    <tr>\n",
       "      <th>9803</th>\n",
       "      <th>2024</th>\n",
       "      <td>Miles Mikolas</td>\n",
       "      <td>171.2</td>\n",
       "      <td>0.146028</td>\n",
       "      <td>0.221113</td>\n",
       "    </tr>\n",
       "    <tr>\n",
       "      <th>25595</th>\n",
       "      <th>2024</th>\n",
       "      <td>Xzavion Curry</td>\n",
       "      <td>42.2</td>\n",
       "      <td>0.165877</td>\n",
       "      <td>0.339284</td>\n",
       "    </tr>\n",
       "    <tr>\n",
       "      <th>21390</th>\n",
       "      <th>2024</th>\n",
       "      <td>Joe Ryan</td>\n",
       "      <td>135.0</td>\n",
       "      <td>0.170370</td>\n",
       "      <td>0.226739</td>\n",
       "    </tr>\n",
       "  </tbody>\n",
       "</table>\n",
       "</div>"
      ],
      "text/plain": [
       "                            Name     IP   BBperIP  pred_BBperIP\n",
       "PlayerId Season                                                \n",
       "16269    2024         John Means   20.2  0.099010      0.165402\n",
       "30279    2024          Bryan Woo  121.1  0.107349      0.231738\n",
       "21844    2024    Braxton Garrett   37.0  0.108108      0.231149\n",
       "13619    2024        Jakob Junis   67.0  0.119403      0.296766\n",
       "25436    2024       George Kirby  191.0  0.120419      0.151402\n",
       "12730    2024      Nick Martinez  142.1  0.126671      0.248715\n",
       "13774    2024         Zach Eflin  165.1  0.145366      0.177628\n",
       "9803     2024      Miles Mikolas  171.2  0.146028      0.221113\n",
       "25595    2024      Xzavion Curry   42.2  0.165877      0.339284\n",
       "21390    2024           Joe Ryan  135.0  0.170370      0.226739"
      ]
     },
     "execution_count": 194,
     "metadata": {},
     "output_type": "execute_result"
    }
   ],
   "source": [
    "# Actual BBperIP leaders \n",
    "actuals_preds2024.sort_values('BBperIP', ascending=True).head(10)[['Name','IP', 'BBperIP', 'pred_BBperIP']]"
   ]
  },
  {
   "cell_type": "code",
   "execution_count": 195,
   "metadata": {},
   "outputs": [
    {
     "data": {
      "text/html": [
       "<div>\n",
       "<style scoped>\n",
       "    .dataframe tbody tr th:only-of-type {\n",
       "        vertical-align: middle;\n",
       "    }\n",
       "\n",
       "    .dataframe tbody tr th {\n",
       "        vertical-align: top;\n",
       "    }\n",
       "\n",
       "    .dataframe thead th {\n",
       "        text-align: right;\n",
       "    }\n",
       "</style>\n",
       "<table border=\"1\" class=\"dataframe\">\n",
       "  <thead>\n",
       "    <tr style=\"text-align: right;\">\n",
       "      <th></th>\n",
       "      <th></th>\n",
       "      <th>Name</th>\n",
       "      <th>pred_IP</th>\n",
       "      <th>BBperIP</th>\n",
       "      <th>pred_BBperIP</th>\n",
       "    </tr>\n",
       "    <tr>\n",
       "      <th>PlayerId</th>\n",
       "      <th>Season</th>\n",
       "      <th></th>\n",
       "      <th></th>\n",
       "      <th></th>\n",
       "      <th></th>\n",
       "    </tr>\n",
       "  </thead>\n",
       "  <tbody>\n",
       "    <tr>\n",
       "      <th>25436</th>\n",
       "      <th>2024</th>\n",
       "      <td>George Kirby</td>\n",
       "      <td>141.727001</td>\n",
       "      <td>0.120419</td>\n",
       "      <td>0.151402</td>\n",
       "    </tr>\n",
       "    <tr>\n",
       "      <th>16269</th>\n",
       "      <th>2024</th>\n",
       "      <td>John Means</td>\n",
       "      <td>71.364114</td>\n",
       "      <td>0.099010</td>\n",
       "      <td>0.165402</td>\n",
       "    </tr>\n",
       "    <tr>\n",
       "      <th>13774</th>\n",
       "      <th>2024</th>\n",
       "      <td>Zach Eflin</td>\n",
       "      <td>118.747776</td>\n",
       "      <td>0.145366</td>\n",
       "      <td>0.177628</td>\n",
       "    </tr>\n",
       "    <tr>\n",
       "      <th>17735</th>\n",
       "      <th>2024</th>\n",
       "      <td>Tyler Alexander</td>\n",
       "      <td>64.721184</td>\n",
       "      <td>0.223881</td>\n",
       "      <td>0.189876</td>\n",
       "    </tr>\n",
       "    <tr>\n",
       "      <th>17995</th>\n",
       "      <th>2024</th>\n",
       "      <td>Logan Webb</td>\n",
       "      <td>151.628799</td>\n",
       "      <td>0.244858</td>\n",
       "      <td>0.196731</td>\n",
       "    </tr>\n",
       "    <tr>\n",
       "      <th>15823</th>\n",
       "      <th>2024</th>\n",
       "      <td>Zack Littell</td>\n",
       "      <td>106.940533</td>\n",
       "      <td>0.198591</td>\n",
       "      <td>0.210986</td>\n",
       "    </tr>\n",
       "    <tr>\n",
       "      <th>27597</th>\n",
       "      <th>2024</th>\n",
       "      <td>Cody Bradford</td>\n",
       "      <td>55.541528</td>\n",
       "      <td>0.170828</td>\n",
       "      <td>0.218882</td>\n",
       "    </tr>\n",
       "    <tr>\n",
       "      <th>9803</th>\n",
       "      <th>2024</th>\n",
       "      <td>Miles Mikolas</td>\n",
       "      <td>122.010167</td>\n",
       "      <td>0.146028</td>\n",
       "      <td>0.221113</td>\n",
       "    </tr>\n",
       "    <tr>\n",
       "      <th>26231</th>\n",
       "      <th>2024</th>\n",
       "      <td>Tyler Holton</td>\n",
       "      <td>63.689841</td>\n",
       "      <td>0.180659</td>\n",
       "      <td>0.225201</td>\n",
       "    </tr>\n",
       "    <tr>\n",
       "      <th>21390</th>\n",
       "      <th>2024</th>\n",
       "      <td>Joe Ryan</td>\n",
       "      <td>115.791255</td>\n",
       "      <td>0.170370</td>\n",
       "      <td>0.226739</td>\n",
       "    </tr>\n",
       "  </tbody>\n",
       "</table>\n",
       "</div>"
      ],
      "text/plain": [
       "                            Name     pred_IP   BBperIP  pred_BBperIP\n",
       "PlayerId Season                                                     \n",
       "25436    2024       George Kirby  141.727001  0.120419      0.151402\n",
       "16269    2024         John Means   71.364114  0.099010      0.165402\n",
       "13774    2024         Zach Eflin  118.747776  0.145366      0.177628\n",
       "17735    2024    Tyler Alexander   64.721184  0.223881      0.189876\n",
       "17995    2024         Logan Webb  151.628799  0.244858      0.196731\n",
       "15823    2024       Zack Littell  106.940533  0.198591      0.210986\n",
       "27597    2024      Cody Bradford   55.541528  0.170828      0.218882\n",
       "9803     2024      Miles Mikolas  122.010167  0.146028      0.221113\n",
       "26231    2024       Tyler Holton   63.689841  0.180659      0.225201\n",
       "21390    2024           Joe Ryan  115.791255  0.170370      0.226739"
      ]
     },
     "execution_count": 195,
     "metadata": {},
     "output_type": "execute_result"
    }
   ],
   "source": [
    "# Predicted BBperIP leaders \n",
    "actuals_preds2024.sort_values('pred_BBperIP', ascending=True).head(10)[['Name','pred_IP', 'BBperIP', 'pred_BBperIP']]"
   ]
  },
  {
   "cell_type": "markdown",
   "metadata": {},
   "source": [
    "#### HBP/IP"
   ]
  },
  {
   "cell_type": "code",
   "execution_count": 196,
   "metadata": {},
   "outputs": [
    {
     "data": {
      "text/html": [
       "<div>\n",
       "<style scoped>\n",
       "    .dataframe tbody tr th:only-of-type {\n",
       "        vertical-align: middle;\n",
       "    }\n",
       "\n",
       "    .dataframe tbody tr th {\n",
       "        vertical-align: top;\n",
       "    }\n",
       "\n",
       "    .dataframe thead th {\n",
       "        text-align: right;\n",
       "    }\n",
       "</style>\n",
       "<table border=\"1\" class=\"dataframe\">\n",
       "  <thead>\n",
       "    <tr style=\"text-align: right;\">\n",
       "      <th></th>\n",
       "      <th></th>\n",
       "      <th>Name</th>\n",
       "      <th>IP</th>\n",
       "      <th>HBPperIP</th>\n",
       "      <th>pred_HBPperIP</th>\n",
       "    </tr>\n",
       "    <tr>\n",
       "      <th>PlayerId</th>\n",
       "      <th>Season</th>\n",
       "      <th></th>\n",
       "      <th></th>\n",
       "      <th></th>\n",
       "      <th></th>\n",
       "    </tr>\n",
       "  </thead>\n",
       "  <tbody>\n",
       "    <tr>\n",
       "      <th>26410</th>\n",
       "      <th>2024</th>\n",
       "      <td>Alek Manoah</td>\n",
       "      <td>24.1</td>\n",
       "      <td>0.165975</td>\n",
       "      <td>0.086684</td>\n",
       "    </tr>\n",
       "    <tr>\n",
       "      <th>26378</th>\n",
       "      <th>2024</th>\n",
       "      <td>Nick Lodolo</td>\n",
       "      <td>115.1</td>\n",
       "      <td>0.156386</td>\n",
       "      <td>0.126331</td>\n",
       "    </tr>\n",
       "    <tr>\n",
       "      <th>21844</th>\n",
       "      <th>2024</th>\n",
       "      <td>Braxton Garrett</td>\n",
       "      <td>37.0</td>\n",
       "      <td>0.135135</td>\n",
       "      <td>0.058859</td>\n",
       "    </tr>\n",
       "    <tr>\n",
       "      <th>13781</th>\n",
       "      <th>2024</th>\n",
       "      <td>Alex Wood</td>\n",
       "      <td>39.1</td>\n",
       "      <td>0.127877</td>\n",
       "      <td>0.066072</td>\n",
       "    </tr>\n",
       "    <tr>\n",
       "      <th>22182</th>\n",
       "      <th>2024</th>\n",
       "      <td>Hunter Greene</td>\n",
       "      <td>150.1</td>\n",
       "      <td>0.126582</td>\n",
       "      <td>0.079649</td>\n",
       "    </tr>\n",
       "    <tr>\n",
       "      <th>23221</th>\n",
       "      <th>2024</th>\n",
       "      <td>Michael Grove</td>\n",
       "      <td>51.0</td>\n",
       "      <td>0.117647</td>\n",
       "      <td>0.041268</td>\n",
       "    </tr>\n",
       "    <tr>\n",
       "      <th>16835</th>\n",
       "      <th>2024</th>\n",
       "      <td>Brennan Bernardino</td>\n",
       "      <td>51.0</td>\n",
       "      <td>0.117647</td>\n",
       "      <td>0.093220</td>\n",
       "    </tr>\n",
       "    <tr>\n",
       "      <th>14975</th>\n",
       "      <th>2024</th>\n",
       "      <td>Chad Kuhl</td>\n",
       "      <td>53.1</td>\n",
       "      <td>0.112994</td>\n",
       "      <td>0.055897</td>\n",
       "    </tr>\n",
       "    <tr>\n",
       "      <th>20423</th>\n",
       "      <th>2024</th>\n",
       "      <td>Ryan Walker</td>\n",
       "      <td>80.0</td>\n",
       "      <td>0.112500</td>\n",
       "      <td>0.074022</td>\n",
       "    </tr>\n",
       "    <tr>\n",
       "      <th>23150</th>\n",
       "      <th>2024</th>\n",
       "      <td>Osvaldo Bido</td>\n",
       "      <td>63.1</td>\n",
       "      <td>0.110935</td>\n",
       "      <td>0.095441</td>\n",
       "    </tr>\n",
       "  </tbody>\n",
       "</table>\n",
       "</div>"
      ],
      "text/plain": [
       "                               Name     IP  HBPperIP  pred_HBPperIP\n",
       "PlayerId Season                                                    \n",
       "26410    2024           Alek Manoah   24.1  0.165975       0.086684\n",
       "26378    2024           Nick Lodolo  115.1  0.156386       0.126331\n",
       "21844    2024       Braxton Garrett   37.0  0.135135       0.058859\n",
       "13781    2024             Alex Wood   39.1  0.127877       0.066072\n",
       "22182    2024         Hunter Greene  150.1  0.126582       0.079649\n",
       "23221    2024         Michael Grove   51.0  0.117647       0.041268\n",
       "16835    2024    Brennan Bernardino   51.0  0.117647       0.093220\n",
       "14975    2024             Chad Kuhl   53.1  0.112994       0.055897\n",
       "20423    2024           Ryan Walker   80.0  0.112500       0.074022\n",
       "23150    2024          Osvaldo Bido   63.1  0.110935       0.095441"
      ]
     },
     "execution_count": 196,
     "metadata": {},
     "output_type": "execute_result"
    }
   ],
   "source": [
    "# Pitchers who hit the most batters in 2024\n",
    "actuals_preds2024.sort_values('HBPperIP', ascending=False).head(10)[['Name','IP', 'HBPperIP', 'pred_HBPperIP']]\n"
   ]
  },
  {
   "cell_type": "code",
   "execution_count": 202,
   "metadata": {},
   "outputs": [
    {
     "data": {
      "text/html": [
       "<div>\n",
       "<style scoped>\n",
       "    .dataframe tbody tr th:only-of-type {\n",
       "        vertical-align: middle;\n",
       "    }\n",
       "\n",
       "    .dataframe tbody tr th {\n",
       "        vertical-align: top;\n",
       "    }\n",
       "\n",
       "    .dataframe thead th {\n",
       "        text-align: right;\n",
       "    }\n",
       "</style>\n",
       "<table border=\"1\" class=\"dataframe\">\n",
       "  <thead>\n",
       "    <tr style=\"text-align: right;\">\n",
       "      <th></th>\n",
       "      <th></th>\n",
       "      <th>Name</th>\n",
       "      <th>pred_IP</th>\n",
       "      <th>HBPperIP</th>\n",
       "      <th>pred_HBPperIP</th>\n",
       "    </tr>\n",
       "    <tr>\n",
       "      <th>PlayerId</th>\n",
       "      <th>Season</th>\n",
       "      <th></th>\n",
       "      <th></th>\n",
       "      <th></th>\n",
       "      <th></th>\n",
       "    </tr>\n",
       "  </thead>\n",
       "  <tbody>\n",
       "    <tr>\n",
       "      <th>26378</th>\n",
       "      <th>2024</th>\n",
       "      <td>Nick Lodolo</td>\n",
       "      <td>129.149429</td>\n",
       "      <td>0.156386</td>\n",
       "      <td>0.126331</td>\n",
       "    </tr>\n",
       "    <tr>\n",
       "      <th>23150</th>\n",
       "      <th>2024</th>\n",
       "      <td>Osvaldo Bido</td>\n",
       "      <td>71.503751</td>\n",
       "      <td>0.110935</td>\n",
       "      <td>0.095441</td>\n",
       "    </tr>\n",
       "    <tr>\n",
       "      <th>16835</th>\n",
       "      <th>2024</th>\n",
       "      <td>Brennan Bernardino</td>\n",
       "      <td>40.414765</td>\n",
       "      <td>0.117647</td>\n",
       "      <td>0.093220</td>\n",
       "    </tr>\n",
       "    <tr>\n",
       "      <th>26410</th>\n",
       "      <th>2024</th>\n",
       "      <td>Alek Manoah</td>\n",
       "      <td>114.993200</td>\n",
       "      <td>0.165975</td>\n",
       "      <td>0.086684</td>\n",
       "    </tr>\n",
       "    <tr>\n",
       "      <th>4676</th>\n",
       "      <th>2024</th>\n",
       "      <td>Charlie Morton</td>\n",
       "      <td>119.193440</td>\n",
       "      <td>0.109025</td>\n",
       "      <td>0.080593</td>\n",
       "    </tr>\n",
       "    <tr>\n",
       "      <th>22182</th>\n",
       "      <th>2024</th>\n",
       "      <td>Hunter Greene</td>\n",
       "      <td>124.341695</td>\n",
       "      <td>0.126582</td>\n",
       "      <td>0.079649</td>\n",
       "    </tr>\n",
       "    <tr>\n",
       "      <th>27451</th>\n",
       "      <th>2024</th>\n",
       "      <td>Alec Marsh</td>\n",
       "      <td>104.555995</td>\n",
       "      <td>0.085271</td>\n",
       "      <td>0.079242</td>\n",
       "    </tr>\n",
       "    <tr>\n",
       "      <th>18674</th>\n",
       "      <th>2024</th>\n",
       "      <td>Jake Woodford</td>\n",
       "      <td>56.598379</td>\n",
       "      <td>0.085714</td>\n",
       "      <td>0.078884</td>\n",
       "    </tr>\n",
       "    <tr>\n",
       "      <th>23429</th>\n",
       "      <th>2024</th>\n",
       "      <td>JP Sears</td>\n",
       "      <td>116.348036</td>\n",
       "      <td>0.077691</td>\n",
       "      <td>0.075485</td>\n",
       "    </tr>\n",
       "    <tr>\n",
       "      <th>19911</th>\n",
       "      <th>2024</th>\n",
       "      <td>José Suarez</td>\n",
       "      <td>67.585819</td>\n",
       "      <td>0.076775</td>\n",
       "      <td>0.074954</td>\n",
       "    </tr>\n",
       "  </tbody>\n",
       "</table>\n",
       "</div>"
      ],
      "text/plain": [
       "                               Name     pred_IP  HBPperIP  pred_HBPperIP\n",
       "PlayerId Season                                                         \n",
       "26378    2024           Nick Lodolo  129.149429  0.156386       0.126331\n",
       "23150    2024          Osvaldo Bido   71.503751  0.110935       0.095441\n",
       "16835    2024    Brennan Bernardino   40.414765  0.117647       0.093220\n",
       "26410    2024           Alek Manoah  114.993200  0.165975       0.086684\n",
       "4676     2024        Charlie Morton  119.193440  0.109025       0.080593\n",
       "22182    2024         Hunter Greene  124.341695  0.126582       0.079649\n",
       "27451    2024            Alec Marsh  104.555995  0.085271       0.079242\n",
       "18674    2024         Jake Woodford   56.598379  0.085714       0.078884\n",
       "23429    2024              JP Sears  116.348036  0.077691       0.075485\n",
       "19911    2024           José Suarez   67.585819  0.076775       0.074954"
      ]
     },
     "execution_count": 202,
     "metadata": {},
     "output_type": "execute_result"
    }
   ],
   "source": [
    "# Pitchers who were predicted to hit the most batters \n",
    "actuals_preds2024.sort_values('pred_HBPperIP', ascending=False).head(10)[['Name','pred_IP', 'HBPperIP', 'pred_HBPperIP']]\n"
   ]
  },
  {
   "cell_type": "markdown",
   "metadata": {},
   "source": [
    "#### HR/IP"
   ]
  },
  {
   "cell_type": "code",
   "execution_count": 204,
   "metadata": {},
   "outputs": [
    {
     "data": {
      "text/html": [
       "<div>\n",
       "<style scoped>\n",
       "    .dataframe tbody tr th:only-of-type {\n",
       "        vertical-align: middle;\n",
       "    }\n",
       "\n",
       "    .dataframe tbody tr th {\n",
       "        vertical-align: top;\n",
       "    }\n",
       "\n",
       "    .dataframe thead th {\n",
       "        text-align: right;\n",
       "    }\n",
       "</style>\n",
       "<table border=\"1\" class=\"dataframe\">\n",
       "  <thead>\n",
       "    <tr style=\"text-align: right;\">\n",
       "      <th></th>\n",
       "      <th></th>\n",
       "      <th>Name</th>\n",
       "      <th>IP</th>\n",
       "      <th>HRperIP</th>\n",
       "      <th>pred_HRperIP</th>\n",
       "    </tr>\n",
       "    <tr>\n",
       "      <th>PlayerId</th>\n",
       "      <th>Season</th>\n",
       "      <th></th>\n",
       "      <th></th>\n",
       "      <th></th>\n",
       "      <th></th>\n",
       "    </tr>\n",
       "  </thead>\n",
       "  <tbody>\n",
       "    <tr>\n",
       "      <th>25385</th>\n",
       "      <th>2024</th>\n",
       "      <td>Drew Rasmussen</td>\n",
       "      <td>28.2</td>\n",
       "      <td>0.000000</td>\n",
       "      <td>0.084385</td>\n",
       "    </tr>\n",
       "    <tr>\n",
       "      <th>14857</th>\n",
       "      <th>2024</th>\n",
       "      <td>Joe Mantiply</td>\n",
       "      <td>59.2</td>\n",
       "      <td>0.016892</td>\n",
       "      <td>0.106752</td>\n",
       "    </tr>\n",
       "    <tr>\n",
       "      <th>16977</th>\n",
       "      <th>2024</th>\n",
       "      <td>Trevor Williams</td>\n",
       "      <td>66.2</td>\n",
       "      <td>0.045317</td>\n",
       "      <td>0.159497</td>\n",
       "    </tr>\n",
       "    <tr>\n",
       "      <th>23150</th>\n",
       "      <th>2024</th>\n",
       "      <td>Osvaldo Bido</td>\n",
       "      <td>63.1</td>\n",
       "      <td>0.047544</td>\n",
       "      <td>0.111783</td>\n",
       "    </tr>\n",
       "    <tr>\n",
       "      <th>10603</th>\n",
       "      <th>2024</th>\n",
       "      <td>Chris Sale</td>\n",
       "      <td>177.2</td>\n",
       "      <td>0.050790</td>\n",
       "      <td>0.131839</td>\n",
       "    </tr>\n",
       "    <tr>\n",
       "      <th>24586</th>\n",
       "      <th>2024</th>\n",
       "      <td>Kyle Bradish</td>\n",
       "      <td>39.1</td>\n",
       "      <td>0.051151</td>\n",
       "      <td>0.109093</td>\n",
       "    </tr>\n",
       "    <tr>\n",
       "      <th>17995</th>\n",
       "      <th>2024</th>\n",
       "      <td>Logan Webb</td>\n",
       "      <td>204.2</td>\n",
       "      <td>0.053869</td>\n",
       "      <td>0.110691</td>\n",
       "    </tr>\n",
       "    <tr>\n",
       "      <th>13543</th>\n",
       "      <th>2024</th>\n",
       "      <td>Blake Snell</td>\n",
       "      <td>104.0</td>\n",
       "      <td>0.057692</td>\n",
       "      <td>0.116911</td>\n",
       "    </tr>\n",
       "    <tr>\n",
       "      <th>27572</th>\n",
       "      <th>2024</th>\n",
       "      <td>Carmen Mlodzinski</td>\n",
       "      <td>50.2</td>\n",
       "      <td>0.059761</td>\n",
       "      <td>0.109011</td>\n",
       "    </tr>\n",
       "    <tr>\n",
       "      <th>20778</th>\n",
       "      <th>2024</th>\n",
       "      <td>Cristopher Sánchez</td>\n",
       "      <td>181.2</td>\n",
       "      <td>0.060706</td>\n",
       "      <td>0.109897</td>\n",
       "    </tr>\n",
       "  </tbody>\n",
       "</table>\n",
       "</div>"
      ],
      "text/plain": [
       "                               Name     IP   HRperIP  pred_HRperIP\n",
       "PlayerId Season                                                   \n",
       "25385    2024        Drew Rasmussen   28.2  0.000000      0.084385\n",
       "14857    2024          Joe Mantiply   59.2  0.016892      0.106752\n",
       "16977    2024       Trevor Williams   66.2  0.045317      0.159497\n",
       "23150    2024          Osvaldo Bido   63.1  0.047544      0.111783\n",
       "10603    2024            Chris Sale  177.2  0.050790      0.131839\n",
       "24586    2024          Kyle Bradish   39.1  0.051151      0.109093\n",
       "17995    2024            Logan Webb  204.2  0.053869      0.110691\n",
       "13543    2024           Blake Snell  104.0  0.057692      0.116911\n",
       "27572    2024     Carmen Mlodzinski   50.2  0.059761      0.109011\n",
       "20778    2024    Cristopher Sánchez  181.2  0.060706      0.109897"
      ]
     },
     "execution_count": 204,
     "metadata": {},
     "output_type": "execute_result"
    }
   ],
   "source": [
    "# Actual HRperIP leaders \n",
    "actuals_preds2024.sort_values('HRperIP', ascending=True).head(10)[['Name','IP', 'HRperIP', 'pred_HRperIP']]"
   ]
  },
  {
   "cell_type": "code",
   "execution_count": 203,
   "metadata": {},
   "outputs": [
    {
     "data": {
      "text/html": [
       "<div>\n",
       "<style scoped>\n",
       "    .dataframe tbody tr th:only-of-type {\n",
       "        vertical-align: middle;\n",
       "    }\n",
       "\n",
       "    .dataframe tbody tr th {\n",
       "        vertical-align: top;\n",
       "    }\n",
       "\n",
       "    .dataframe thead th {\n",
       "        text-align: right;\n",
       "    }\n",
       "</style>\n",
       "<table border=\"1\" class=\"dataframe\">\n",
       "  <thead>\n",
       "    <tr style=\"text-align: right;\">\n",
       "      <th></th>\n",
       "      <th></th>\n",
       "      <th>Name</th>\n",
       "      <th>pred_IP</th>\n",
       "      <th>HRperIP</th>\n",
       "      <th>pred_HRperIP</th>\n",
       "    </tr>\n",
       "    <tr>\n",
       "      <th>PlayerId</th>\n",
       "      <th>Season</th>\n",
       "      <th></th>\n",
       "      <th></th>\n",
       "      <th></th>\n",
       "      <th></th>\n",
       "    </tr>\n",
       "  </thead>\n",
       "  <tbody>\n",
       "    <tr>\n",
       "      <th>25385</th>\n",
       "      <th>2024</th>\n",
       "      <td>Drew Rasmussen</td>\n",
       "      <td>130.918056</td>\n",
       "      <td>0.000000</td>\n",
       "      <td>0.084385</td>\n",
       "    </tr>\n",
       "    <tr>\n",
       "      <th>20423</th>\n",
       "      <th>2024</th>\n",
       "      <td>Ryan Walker</td>\n",
       "      <td>82.448539</td>\n",
       "      <td>0.062500</td>\n",
       "      <td>0.089455</td>\n",
       "    </tr>\n",
       "    <tr>\n",
       "      <th>13743</th>\n",
       "      <th>2024</th>\n",
       "      <td>Max Fried</td>\n",
       "      <td>160.815794</td>\n",
       "      <td>0.074670</td>\n",
       "      <td>0.094405</td>\n",
       "    </tr>\n",
       "    <tr>\n",
       "      <th>16207</th>\n",
       "      <th>2024</th>\n",
       "      <td>Spencer Turnbull</td>\n",
       "      <td>52.919543</td>\n",
       "      <td>0.110906</td>\n",
       "      <td>0.106209</td>\n",
       "    </tr>\n",
       "    <tr>\n",
       "      <th>14857</th>\n",
       "      <th>2024</th>\n",
       "      <td>Joe Mantiply</td>\n",
       "      <td>31.444367</td>\n",
       "      <td>0.016892</td>\n",
       "      <td>0.106752</td>\n",
       "    </tr>\n",
       "    <tr>\n",
       "      <th>16835</th>\n",
       "      <th>2024</th>\n",
       "      <td>Brennan Bernardino</td>\n",
       "      <td>40.414765</td>\n",
       "      <td>0.117647</td>\n",
       "      <td>0.106968</td>\n",
       "    </tr>\n",
       "    <tr>\n",
       "      <th>21846</th>\n",
       "      <th>2024</th>\n",
       "      <td>Cole Ragans</td>\n",
       "      <td>135.073850</td>\n",
       "      <td>0.080602</td>\n",
       "      <td>0.107889</td>\n",
       "    </tr>\n",
       "    <tr>\n",
       "      <th>26378</th>\n",
       "      <th>2024</th>\n",
       "      <td>Nick Lodolo</td>\n",
       "      <td>129.149429</td>\n",
       "      <td>0.112945</td>\n",
       "      <td>0.108212</td>\n",
       "    </tr>\n",
       "    <tr>\n",
       "      <th>21690</th>\n",
       "      <th>2024</th>\n",
       "      <td>Edward Cabrera</td>\n",
       "      <td>76.831187</td>\n",
       "      <td>0.156087</td>\n",
       "      <td>0.108502</td>\n",
       "    </tr>\n",
       "    <tr>\n",
       "      <th>12730</th>\n",
       "      <th>2024</th>\n",
       "      <td>Nick Martinez</td>\n",
       "      <td>91.146082</td>\n",
       "      <td>0.091485</td>\n",
       "      <td>0.108743</td>\n",
       "    </tr>\n",
       "  </tbody>\n",
       "</table>\n",
       "</div>"
      ],
      "text/plain": [
       "                               Name     pred_IP   HRperIP  pred_HRperIP\n",
       "PlayerId Season                                                        \n",
       "25385    2024        Drew Rasmussen  130.918056  0.000000      0.084385\n",
       "20423    2024           Ryan Walker   82.448539  0.062500      0.089455\n",
       "13743    2024             Max Fried  160.815794  0.074670      0.094405\n",
       "16207    2024      Spencer Turnbull   52.919543  0.110906      0.106209\n",
       "14857    2024          Joe Mantiply   31.444367  0.016892      0.106752\n",
       "16835    2024    Brennan Bernardino   40.414765  0.117647      0.106968\n",
       "21846    2024           Cole Ragans  135.073850  0.080602      0.107889\n",
       "26378    2024           Nick Lodolo  129.149429  0.112945      0.108212\n",
       "21690    2024        Edward Cabrera   76.831187  0.156087      0.108502\n",
       "12730    2024         Nick Martinez   91.146082  0.091485      0.108743"
      ]
     },
     "execution_count": 203,
     "metadata": {},
     "output_type": "execute_result"
    }
   ],
   "source": [
    "# Predicted HRperIP leaders \n",
    "actuals_preds2024.sort_values('pred_HRperIP', ascending=True).head(10)[['Name','pred_IP', 'HRperIP', 'pred_HRperIP']]"
   ]
  },
  {
   "cell_type": "code",
   "execution_count": null,
   "metadata": {},
   "outputs": [
    {
     "data": {
      "text/html": [
       "<div>\n",
       "<style scoped>\n",
       "    .dataframe tbody tr th:only-of-type {\n",
       "        vertical-align: middle;\n",
       "    }\n",
       "\n",
       "    .dataframe tbody tr th {\n",
       "        vertical-align: top;\n",
       "    }\n",
       "\n",
       "    .dataframe thead th {\n",
       "        text-align: right;\n",
       "    }\n",
       "</style>\n",
       "<table border=\"1\" class=\"dataframe\">\n",
       "  <thead>\n",
       "    <tr style=\"text-align: right;\">\n",
       "      <th></th>\n",
       "      <th></th>\n",
       "      <th>Name</th>\n",
       "      <th>IP</th>\n",
       "      <th>HRperIP</th>\n",
       "      <th>pred_HRperIP</th>\n",
       "    </tr>\n",
       "    <tr>\n",
       "      <th>PlayerId</th>\n",
       "      <th>Season</th>\n",
       "      <th></th>\n",
       "      <th></th>\n",
       "      <th></th>\n",
       "      <th></th>\n",
       "    </tr>\n",
       "  </thead>\n",
       "  <tbody>\n",
       "    <tr>\n",
       "      <th>27483</th>\n",
       "      <th>2024</th>\n",
       "      <td>Bobby Miller</td>\n",
       "      <td>56.0</td>\n",
       "      <td>0.303571</td>\n",
       "      <td>0.112209</td>\n",
       "    </tr>\n",
       "    <tr>\n",
       "      <th>11836</th>\n",
       "      <th>2024</th>\n",
       "      <td>Taijuan Walker</td>\n",
       "      <td>83.2</td>\n",
       "      <td>0.288462</td>\n",
       "      <td>0.154485</td>\n",
       "    </tr>\n",
       "    <tr>\n",
       "      <th>27691</th>\n",
       "      <th>2024</th>\n",
       "      <td>Louis Varland</td>\n",
       "      <td>49.2</td>\n",
       "      <td>0.243902</td>\n",
       "      <td>0.172448</td>\n",
       "    </tr>\n",
       "    <tr>\n",
       "      <th>14361</th>\n",
       "      <th>2024</th>\n",
       "      <td>Ty Blach</td>\n",
       "      <td>71.1</td>\n",
       "      <td>0.239100</td>\n",
       "      <td>0.146335</td>\n",
       "    </tr>\n",
       "    <tr>\n",
       "      <th>26285</th>\n",
       "      <th>2024</th>\n",
       "      <td>Tommy Henry</td>\n",
       "      <td>38.1</td>\n",
       "      <td>0.236220</td>\n",
       "      <td>0.165584</td>\n",
       "    </tr>\n",
       "    <tr>\n",
       "      <th>16401</th>\n",
       "      <th>2024</th>\n",
       "      <td>Yonny Chirinos</td>\n",
       "      <td>30.0</td>\n",
       "      <td>0.233333</td>\n",
       "      <td>0.147451</td>\n",
       "    </tr>\n",
       "    <tr>\n",
       "      <th>27589</th>\n",
       "      <th>2024</th>\n",
       "      <td>Logan Allen</td>\n",
       "      <td>97.1</td>\n",
       "      <td>0.226571</td>\n",
       "      <td>0.145950</td>\n",
       "    </tr>\n",
       "    <tr>\n",
       "      <th>15734</th>\n",
       "      <th>2024</th>\n",
       "      <td>Brad Keller</td>\n",
       "      <td>41.1</td>\n",
       "      <td>0.218978</td>\n",
       "      <td>0.122053</td>\n",
       "    </tr>\n",
       "    <tr>\n",
       "      <th>17735</th>\n",
       "      <th>2024</th>\n",
       "      <td>Tyler Alexander</td>\n",
       "      <td>107.2</td>\n",
       "      <td>0.214552</td>\n",
       "      <td>0.170386</td>\n",
       "    </tr>\n",
       "    <tr>\n",
       "      <th>20009</th>\n",
       "      <th>2024</th>\n",
       "      <td>Kenny Rosenberg</td>\n",
       "      <td>24.0</td>\n",
       "      <td>0.208333</td>\n",
       "      <td>0.132318</td>\n",
       "    </tr>\n",
       "  </tbody>\n",
       "</table>\n",
       "</div>"
      ],
      "text/plain": [
       "                            Name     IP   HRperIP  pred_HRperIP\n",
       "PlayerId Season                                                \n",
       "27483    2024       Bobby Miller   56.0  0.303571      0.112209\n",
       "11836    2024     Taijuan Walker   83.2  0.288462      0.154485\n",
       "27691    2024      Louis Varland   49.2  0.243902      0.172448\n",
       "14361    2024           Ty Blach   71.1  0.239100      0.146335\n",
       "26285    2024        Tommy Henry   38.1  0.236220      0.165584\n",
       "16401    2024     Yonny Chirinos   30.0  0.233333      0.147451\n",
       "27589    2024        Logan Allen   97.1  0.226571      0.145950\n",
       "15734    2024        Brad Keller   41.1  0.218978      0.122053\n",
       "17735    2024    Tyler Alexander  107.2  0.214552      0.170386\n",
       "20009    2024    Kenny Rosenberg   24.0  0.208333      0.132318"
      ]
     },
     "execution_count": 205,
     "metadata": {},
     "output_type": "execute_result"
    }
   ],
   "source": [
    "# Actual HRperIP leaders (worst)\n",
    "actuals_preds2024.sort_values('HRperIP', ascending=False).head(10)[['Name','IP', 'HRperIP', 'pred_HRperIP']]"
   ]
  },
  {
   "cell_type": "code",
   "execution_count": 207,
   "metadata": {},
   "outputs": [
    {
     "data": {
      "text/html": [
       "<div>\n",
       "<style scoped>\n",
       "    .dataframe tbody tr th:only-of-type {\n",
       "        vertical-align: middle;\n",
       "    }\n",
       "\n",
       "    .dataframe tbody tr th {\n",
       "        vertical-align: top;\n",
       "    }\n",
       "\n",
       "    .dataframe thead th {\n",
       "        text-align: right;\n",
       "    }\n",
       "</style>\n",
       "<table border=\"1\" class=\"dataframe\">\n",
       "  <thead>\n",
       "    <tr style=\"text-align: right;\">\n",
       "      <th></th>\n",
       "      <th></th>\n",
       "      <th>Name</th>\n",
       "      <th>pred_IP</th>\n",
       "      <th>HRperIP</th>\n",
       "      <th>pred_HRperIP</th>\n",
       "    </tr>\n",
       "    <tr>\n",
       "      <th>PlayerId</th>\n",
       "      <th>Season</th>\n",
       "      <th></th>\n",
       "      <th></th>\n",
       "      <th></th>\n",
       "      <th></th>\n",
       "    </tr>\n",
       "  </thead>\n",
       "  <tbody>\n",
       "    <tr>\n",
       "      <th>16269</th>\n",
       "      <th>2024</th>\n",
       "      <td>John Means</td>\n",
       "      <td>71.364114</td>\n",
       "      <td>0.099010</td>\n",
       "      <td>0.199809</td>\n",
       "    </tr>\n",
       "    <tr>\n",
       "      <th>22288</th>\n",
       "      <th>2024</th>\n",
       "      <td>Mason Englert</td>\n",
       "      <td>24.586789</td>\n",
       "      <td>0.188679</td>\n",
       "      <td>0.195549</td>\n",
       "    </tr>\n",
       "    <tr>\n",
       "      <th>14771</th>\n",
       "      <th>2024</th>\n",
       "      <td>Emilio Pagán</td>\n",
       "      <td>51.015085</td>\n",
       "      <td>0.157895</td>\n",
       "      <td>0.194298</td>\n",
       "    </tr>\n",
       "    <tr>\n",
       "      <th>17969</th>\n",
       "      <th>2024</th>\n",
       "      <td>Peter Lambert</td>\n",
       "      <td>51.954165</td>\n",
       "      <td>0.114566</td>\n",
       "      <td>0.186470</td>\n",
       "    </tr>\n",
       "    <tr>\n",
       "      <th>17874</th>\n",
       "      <th>2024</th>\n",
       "      <td>Nestor Cortes</td>\n",
       "      <td>88.416325</td>\n",
       "      <td>0.137852</td>\n",
       "      <td>0.182472</td>\n",
       "    </tr>\n",
       "    <tr>\n",
       "      <th>23429</th>\n",
       "      <th>2024</th>\n",
       "      <td>JP Sears</td>\n",
       "      <td>116.348036</td>\n",
       "      <td>0.155383</td>\n",
       "      <td>0.181190</td>\n",
       "    </tr>\n",
       "    <tr>\n",
       "      <th>21390</th>\n",
       "      <th>2024</th>\n",
       "      <td>Joe Ryan</td>\n",
       "      <td>115.791255</td>\n",
       "      <td>0.140741</td>\n",
       "      <td>0.178700</td>\n",
       "    </tr>\n",
       "    <tr>\n",
       "      <th>19911</th>\n",
       "      <th>2024</th>\n",
       "      <td>José Suarez</td>\n",
       "      <td>67.585819</td>\n",
       "      <td>0.134357</td>\n",
       "      <td>0.177686</td>\n",
       "    </tr>\n",
       "    <tr>\n",
       "      <th>27581</th>\n",
       "      <th>2024</th>\n",
       "      <td>Hayden Wesneski</td>\n",
       "      <td>70.395945</td>\n",
       "      <td>0.178571</td>\n",
       "      <td>0.175576</td>\n",
       "    </tr>\n",
       "    <tr>\n",
       "      <th>16561</th>\n",
       "      <th>2024</th>\n",
       "      <td>Austin Gomber</td>\n",
       "      <td>77.764231</td>\n",
       "      <td>0.181818</td>\n",
       "      <td>0.175181</td>\n",
       "    </tr>\n",
       "  </tbody>\n",
       "</table>\n",
       "</div>"
      ],
      "text/plain": [
       "                            Name     pred_IP   HRperIP  pred_HRperIP\n",
       "PlayerId Season                                                     \n",
       "16269    2024         John Means   71.364114  0.099010      0.199809\n",
       "22288    2024      Mason Englert   24.586789  0.188679      0.195549\n",
       "14771    2024       Emilio Pagán   51.015085  0.157895      0.194298\n",
       "17969    2024      Peter Lambert   51.954165  0.114566      0.186470\n",
       "17874    2024      Nestor Cortes   88.416325  0.137852      0.182472\n",
       "23429    2024           JP Sears  116.348036  0.155383      0.181190\n",
       "21390    2024           Joe Ryan  115.791255  0.140741      0.178700\n",
       "19911    2024        José Suarez   67.585819  0.134357      0.177686\n",
       "27581    2024    Hayden Wesneski   70.395945  0.178571      0.175576\n",
       "16561    2024      Austin Gomber   77.764231  0.181818      0.175181"
      ]
     },
     "execution_count": 207,
     "metadata": {},
     "output_type": "execute_result"
    }
   ],
   "source": [
    "# Predicted HRperIP leaders (worst)\n",
    "actuals_preds2024.sort_values('pred_HRperIP', ascending=False).head(10)[['Name','pred_IP', 'HRperIP', 'pred_HRperIP']]"
   ]
  },
  {
   "cell_type": "markdown",
   "metadata": {},
   "source": [
    "### Export projections"
   ]
  },
  {
   "cell_type": "code",
   "execution_count": 199,
   "metadata": {},
   "outputs": [],
   "source": [
    "predictions2024.to_csv('projections2024.csv', index=True)"
   ]
  }
 ],
 "metadata": {
  "kernelspec": {
   "display_name": "base",
   "language": "python",
   "name": "python3"
  },
  "language_info": {
   "codemirror_mode": {
    "name": "ipython",
    "version": 3
   },
   "file_extension": ".py",
   "mimetype": "text/x-python",
   "name": "python",
   "nbconvert_exporter": "python",
   "pygments_lexer": "ipython3",
   "version": "3.11.5"
  }
 },
 "nbformat": 4,
 "nbformat_minor": 2
}
